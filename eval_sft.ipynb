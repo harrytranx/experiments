{
 "cells": [
  {
   "cell_type": "code",
   "execution_count": 8,
   "metadata": {},
   "outputs": [
    {
     "name": "stdout",
     "output_type": "stream",
     "text": [
      "The autoreload extension is already loaded. To reload it, use:\n",
      "  %reload_ext autoreload\n",
      "Running on host:  submit-0\n"
     ]
    }
   ],
   "source": [
    "\n",
    "# BOILER PLATE, MUST BE RUN ON SUBMIT NODE\n",
    "%load_ext autoreload\n",
    "%autoreload 2\n",
    "import socket\n",
    "print(\"Running on host: \", socket.gethostname())\n",
    "\n",
    "import sys \n",
    "lib_path = '/fsx_0/user/tranx/experiments'\n",
    "if lib_path not in sys.path:\n",
    "    sys.path.append(lib_path)\n",
    "#=================================================\n",
    "    \n",
    "import plotly.express as px\n",
    "import plotly.graph_objects as go\n",
    "import re\n",
    "import time\n",
    "import shutil\n",
    "import json\n",
    "import glob\n",
    "import pandas as pd\n",
    "import os\n",
    "import glob\n",
    "from pprint import pprint\n",
    "from lib import eval_helper\n",
    "from lib import utils\n",
    "from lib import slurm\n",
    "from lib.slurm import run_sbatch_job\n"
   ]
  },
  {
   "cell_type": "markdown",
   "metadata": {},
   "source": [
    "# Create eval config"
   ]
  },
  {
   "cell_type": "code",
   "execution_count": 10,
   "metadata": {},
   "outputs": [
    {
     "data": {
      "text/plain": [
       "{'infographics_w_ocr': {'train_file': '/fsx_0/dataset01/infographicsvqa/processed_val.jsonl',\n",
       "  'validation_file': '/fsx_0/dataset01/infographicsvqa/processed_val.jsonl'},\n",
       " 'infographics': {'train_file': '/fsx_0/dataset01/infographicsvqa/processed_val.jsonl',\n",
       "  'validation_file': '/fsx_0/dataset01/infographicsvqa/processed_val.jsonl'},\n",
       " 'mmbench': {'train_file': '/fsx_0/dataset01/mmbench/processed_dev_20231212.json',\n",
       "  'validation_file': '/fsx_0/dataset01/mmbench/processed_dev_20231212.json'},\n",
       " 'mathvista': {'train_file': '/fsx_0/dataset01/mathvista/test.jsonl',\n",
       "  'validation_file': '/fsx_0/dataset01/mathvista/test.jsonl'},\n",
       " 'ai2d': {'train_file': '/fsx_0/dataset01/ai2d/ai2d_test.jsonl',\n",
       "  'validation_file': '/fsx_0/dataset01/ai2d/ai2d_test.jsonl'},\n",
       " 'docvqa': {'train_file': '/fsx_0/dataset01/docvqa/val.jsonl',\n",
       "  'validation_file': '/fsx_0/dataset01/docvqa/val.jsonl'},\n",
       " 'textvqa': {'train_file': '/fsx_0/dataset01/textvqa/text_vqa_val_set_updated.jsonl',\n",
       "  'validation_file': '/fsx_0/dataset01/textvqa/text_vqa_val_set_updated.jsonl'},\n",
       " 'chartqa': {'train_file': '/fsx_0/dataset01/ChartQA/chartqa_test.jsonl',\n",
       "  'validation_file': '/fsx_0/dataset01/ChartQA/chartqa_test.jsonl'},\n",
       " 'mmmu': {'train_file': '/fsx_0/dataset01/MMMU/mmmu_validation_v3.jsonl',\n",
       "  'validation_file': '/fsx_0/dataset01/MMMU/mmmu_validation_v3.jsonl'},\n",
       " 'vqa': {'train_file': '/fsx_0/dataset01/vqa/VQAv2_train_processed.jsonl',\n",
       "  'validation_file': '/fsx_0/dataset01/vqa/VQAv2_val_multians_20231118.json'}}"
      ]
     },
     "execution_count": 10,
     "metadata": {},
     "output_type": "execute_result"
    }
   ],
   "source": [
    "data_files = {}\n",
    "for f in glob.glob(\"/fsx_0/user/tranx/adel_prod/llm_mm_aligner/experiments/aws_adel/eval_sft_babyLora_emb65/eval_*.json\"):\n",
    "    conf = utils.read_json(f)\n",
    "    bm = f.split(\"/\")[-1].replace(\"eval_\", \"\").replace(\".json\", \"\")\n",
    "    # print(bm)\n",
    "    data_files[bm] = {\n",
    "        \"train_file\": conf[\"eval_args\"][\"train_file\"],\n",
    "        \"validation_file\": conf[\"eval_args\"][\"validation_file\"]\n",
    "    }\n",
    "\n",
    "data_files"
   ]
  },
  {
   "cell_type": "code",
   "execution_count": 14,
   "metadata": {},
   "outputs": [
    {
     "name": "stdout",
     "output_type": "stream",
     "text": [
      "chartqa\n",
      "textvqa\n",
      "mmbench\n",
      "infographics_w_ocr\n",
      "infographics\n",
      "mmmu\n",
      "mathvista\n",
      "ai2d\n",
      "docvqa\n",
      "vqa\n"
     ]
    }
   ],
   "source": [
    "original_dir = \"/fsx_0/user/tranx/experiments/eval/sft_eval_overwrite_fb\"\n",
    "new_dir = \"/fsx_0/user/tranx/rsync/llm_mm_aligner/experiments/aws/mm9_sft/eval_overwrite\"\n",
    "\n",
    "for file in glob.glob(f\"{original_dir}/*.json\"):\n",
    "    benchmark = os.path.basename(file).replace(\".json\", \"\")\n",
    "    config = utils.read_json(file)\n",
    "    \n",
    "    for k in [\"scheduler_type\", \"num_gpus\", \"num_nodes\"]:\n",
    "        config.pop(k)\n",
    "        \n",
    "    config[\"eval_args\"].update({\n",
    "        \"output_dir\": \"OUTPUT_DIR\",\n",
    "        \"resume_from_checkpoint\": \"CHECKPOINT_PATH\",\n",
    "        \"logging_dir\": \"LOGGING_DIR\",\n",
    "        \"tb_logdir\": \"TB_LOGDIR\",\n",
    "        \"eval_ckpt\": \"EVAL_CHECKPOINT\",\n",
    "        \"train_file\": data_files[benchmark][\"train_file\"],\n",
    "        \"validation_file\": data_files[benchmark][\"validation_file\"]\n",
    "    })\n",
    "        \n",
    "    print(benchmark)\n",
    "    new_file = f\"{new_dir}/eval_{benchmark}.json\"\n",
    "    utils.save_json(config, new_file)\n",
    "    \n",
    "    # break"
   ]
  },
  {
   "cell_type": "markdown",
   "metadata": {},
   "source": [
    "# New - Flywheel"
   ]
  },
  {
   "cell_type": "code",
   "execution_count": 64,
   "metadata": {},
   "outputs": [],
   "source": [
    "ALIGNER_RSYNC = \"/fsx_0/user/tranx/rsync\"\n",
    "EVAL_SBATCH = \"/fsx_0/user/tranx/rsync/llm_mm_aligner/experiments/aws/launch_eval_sbash.sh\"\n",
    "EVAL_CONFIG_OVERWRITE = \"/fsx_0/user/tranx/rsync/llm_mm_aligner/experiments/aws/mm9_sft/eval_overwrite\"\n",
    "\n",
    "OUTPUT_SFT8 = \"/fsx_0/checkpoints/tranx/MM9-SFT-70B/MH19_336px_8800_BabyLora_flywheel\"\n",
    "OUTPUT_SFT9 = \"/fsx_0/checkpoints/tranx/MM9-SFT-70B/MH19_336px_8800_BabyLora_r26a_flywheel\"\n",
    "OUTPUT_SFT10 = \"/fsx_0/checkpoints/tranx/MM9-SFT-70B/MH19_336px_8800_BabyLora_flywheel_v5\""
   ]
  },
  {
   "cell_type": "code",
   "execution_count": 16,
   "metadata": {},
   "outputs": [
    {
     "name": "stdout",
     "output_type": "stream",
     "text": [
      "New checkpoints: [100]\n",
      "Start eval for /fsx_0/checkpoints/tranx/MM9-SFT-70B/MH19_336px_8800_BabyLora_flywheel/checkpoint-100\n",
      "eval jobs saved to: /fsx_0/checkpoints/tranx/MM9-SFT-70B/MH19_336px_8800_BabyLora_flywheel/eval_fix/eval_jobs_checkpoint-100.json\n"
     ]
    }
   ],
   "source": [
    "eval_helper.run_eval_sweep(\n",
    "    output_dir=OUTPUT_SFT8,\n",
    "    eval_sbatch=EVAL_SBATCH,\n",
    "    eval_config_dir=EVAL_CONFIG_OVERWRITE,\n",
    "    aligner_parent_dir=ALIGNER_RSYNC,\n",
    "    # benchmarks=[\"mmmu\"],\n",
    "    eval_plan=\"eval_fix\",\n",
    "    checkpoint_interval=100\n",
    ")"
   ]
  },
  {
   "cell_type": "code",
   "execution_count": 66,
   "metadata": {},
   "outputs": [
    {
     "name": "stdout",
     "output_type": "stream",
     "text": [
      "New checkpoints: [100, 200, 300, 400, 500, 600, 700, 800, 900, 1000, 1100, 1200, 1300, 1400, 1500, 1600, 1700, 1800, 1900, 2000, 2100, 2200, 2300, 2400, 2500, 2600, 2700, 2800, 2900, 3000, 3100, 3200, 3300, 3400, 3500, 3600, 3700, 3800, 3900, 4000, 4100, 4200, 4300, 4400, 4500, 4600, 4700, 4800, 4900, 5000, 5100, 5200]\n",
      "Start eval for /fsx_0/checkpoints/tranx/MM9-SFT-70B/MH19_336px_8800_BabyLora_r26a_flywheel/checkpoint-100\n",
      "eval jobs saved to: /fsx_0/checkpoints/tranx/MM9-SFT-70B/MH19_336px_8800_BabyLora_r26a_flywheel/eval_fix/eval_jobs_checkpoint-100.json\n",
      "Start eval for /fsx_0/checkpoints/tranx/MM9-SFT-70B/MH19_336px_8800_BabyLora_r26a_flywheel/checkpoint-200\n",
      "eval jobs saved to: /fsx_0/checkpoints/tranx/MM9-SFT-70B/MH19_336px_8800_BabyLora_r26a_flywheel/eval_fix/eval_jobs_checkpoint-200.json\n",
      "Start eval for /fsx_0/checkpoints/tranx/MM9-SFT-70B/MH19_336px_8800_BabyLora_r26a_flywheel/checkpoint-300\n",
      "eval jobs saved to: /fsx_0/checkpoints/tranx/MM9-SFT-70B/MH19_336px_8800_BabyLora_r26a_flywheel/eval_fix/eval_jobs_checkpoint-300.json\n",
      "Start eval for /fsx_0/checkpoints/tranx/MM9-SFT-70B/MH19_336px_8800_BabyLora_r26a_flywheel/checkpoint-400\n",
      "eval jobs saved to: /fsx_0/checkpoints/tranx/MM9-SFT-70B/MH19_336px_8800_BabyLora_r26a_flywheel/eval_fix/eval_jobs_checkpoint-400.json\n",
      "Start eval for /fsx_0/checkpoints/tranx/MM9-SFT-70B/MH19_336px_8800_BabyLora_r26a_flywheel/checkpoint-500\n",
      "eval jobs saved to: /fsx_0/checkpoints/tranx/MM9-SFT-70B/MH19_336px_8800_BabyLora_r26a_flywheel/eval_fix/eval_jobs_checkpoint-500.json\n",
      "Start eval for /fsx_0/checkpoints/tranx/MM9-SFT-70B/MH19_336px_8800_BabyLora_r26a_flywheel/checkpoint-600\n",
      "eval jobs saved to: /fsx_0/checkpoints/tranx/MM9-SFT-70B/MH19_336px_8800_BabyLora_r26a_flywheel/eval_fix/eval_jobs_checkpoint-600.json\n",
      "Start eval for /fsx_0/checkpoints/tranx/MM9-SFT-70B/MH19_336px_8800_BabyLora_r26a_flywheel/checkpoint-700\n",
      "eval jobs saved to: /fsx_0/checkpoints/tranx/MM9-SFT-70B/MH19_336px_8800_BabyLora_r26a_flywheel/eval_fix/eval_jobs_checkpoint-700.json\n",
      "Start eval for /fsx_0/checkpoints/tranx/MM9-SFT-70B/MH19_336px_8800_BabyLora_r26a_flywheel/checkpoint-800\n",
      "eval jobs saved to: /fsx_0/checkpoints/tranx/MM9-SFT-70B/MH19_336px_8800_BabyLora_r26a_flywheel/eval_fix/eval_jobs_checkpoint-800.json\n",
      "Start eval for /fsx_0/checkpoints/tranx/MM9-SFT-70B/MH19_336px_8800_BabyLora_r26a_flywheel/checkpoint-900\n",
      "eval jobs saved to: /fsx_0/checkpoints/tranx/MM9-SFT-70B/MH19_336px_8800_BabyLora_r26a_flywheel/eval_fix/eval_jobs_checkpoint-900.json\n",
      "Start eval for /fsx_0/checkpoints/tranx/MM9-SFT-70B/MH19_336px_8800_BabyLora_r26a_flywheel/checkpoint-1000\n",
      "eval jobs saved to: /fsx_0/checkpoints/tranx/MM9-SFT-70B/MH19_336px_8800_BabyLora_r26a_flywheel/eval_fix/eval_jobs_checkpoint-1000.json\n",
      "Start eval for /fsx_0/checkpoints/tranx/MM9-SFT-70B/MH19_336px_8800_BabyLora_r26a_flywheel/checkpoint-1100\n",
      "eval jobs saved to: /fsx_0/checkpoints/tranx/MM9-SFT-70B/MH19_336px_8800_BabyLora_r26a_flywheel/eval_fix/eval_jobs_checkpoint-1100.json\n",
      "Start eval for /fsx_0/checkpoints/tranx/MM9-SFT-70B/MH19_336px_8800_BabyLora_r26a_flywheel/checkpoint-1200\n",
      "eval jobs saved to: /fsx_0/checkpoints/tranx/MM9-SFT-70B/MH19_336px_8800_BabyLora_r26a_flywheel/eval_fix/eval_jobs_checkpoint-1200.json\n",
      "Start eval for /fsx_0/checkpoints/tranx/MM9-SFT-70B/MH19_336px_8800_BabyLora_r26a_flywheel/checkpoint-1300\n",
      "eval jobs saved to: /fsx_0/checkpoints/tranx/MM9-SFT-70B/MH19_336px_8800_BabyLora_r26a_flywheel/eval_fix/eval_jobs_checkpoint-1300.json\n",
      "Start eval for /fsx_0/checkpoints/tranx/MM9-SFT-70B/MH19_336px_8800_BabyLora_r26a_flywheel/checkpoint-1400\n",
      "eval jobs saved to: /fsx_0/checkpoints/tranx/MM9-SFT-70B/MH19_336px_8800_BabyLora_r26a_flywheel/eval_fix/eval_jobs_checkpoint-1400.json\n",
      "Start eval for /fsx_0/checkpoints/tranx/MM9-SFT-70B/MH19_336px_8800_BabyLora_r26a_flywheel/checkpoint-1500\n",
      "eval jobs saved to: /fsx_0/checkpoints/tranx/MM9-SFT-70B/MH19_336px_8800_BabyLora_r26a_flywheel/eval_fix/eval_jobs_checkpoint-1500.json\n",
      "Start eval for /fsx_0/checkpoints/tranx/MM9-SFT-70B/MH19_336px_8800_BabyLora_r26a_flywheel/checkpoint-1600\n",
      "eval jobs saved to: /fsx_0/checkpoints/tranx/MM9-SFT-70B/MH19_336px_8800_BabyLora_r26a_flywheel/eval_fix/eval_jobs_checkpoint-1600.json\n",
      "Start eval for /fsx_0/checkpoints/tranx/MM9-SFT-70B/MH19_336px_8800_BabyLora_r26a_flywheel/checkpoint-1700\n",
      "eval jobs saved to: /fsx_0/checkpoints/tranx/MM9-SFT-70B/MH19_336px_8800_BabyLora_r26a_flywheel/eval_fix/eval_jobs_checkpoint-1700.json\n",
      "Start eval for /fsx_0/checkpoints/tranx/MM9-SFT-70B/MH19_336px_8800_BabyLora_r26a_flywheel/checkpoint-1800\n",
      "eval jobs saved to: /fsx_0/checkpoints/tranx/MM9-SFT-70B/MH19_336px_8800_BabyLora_r26a_flywheel/eval_fix/eval_jobs_checkpoint-1800.json\n",
      "Start eval for /fsx_0/checkpoints/tranx/MM9-SFT-70B/MH19_336px_8800_BabyLora_r26a_flywheel/checkpoint-1900\n",
      "eval jobs saved to: /fsx_0/checkpoints/tranx/MM9-SFT-70B/MH19_336px_8800_BabyLora_r26a_flywheel/eval_fix/eval_jobs_checkpoint-1900.json\n",
      "Start eval for /fsx_0/checkpoints/tranx/MM9-SFT-70B/MH19_336px_8800_BabyLora_r26a_flywheel/checkpoint-2000\n",
      "eval jobs saved to: /fsx_0/checkpoints/tranx/MM9-SFT-70B/MH19_336px_8800_BabyLora_r26a_flywheel/eval_fix/eval_jobs_checkpoint-2000.json\n",
      "Start eval for /fsx_0/checkpoints/tranx/MM9-SFT-70B/MH19_336px_8800_BabyLora_r26a_flywheel/checkpoint-2100\n",
      "eval jobs saved to: /fsx_0/checkpoints/tranx/MM9-SFT-70B/MH19_336px_8800_BabyLora_r26a_flywheel/eval_fix/eval_jobs_checkpoint-2100.json\n",
      "Start eval for /fsx_0/checkpoints/tranx/MM9-SFT-70B/MH19_336px_8800_BabyLora_r26a_flywheel/checkpoint-2200\n",
      "eval jobs saved to: /fsx_0/checkpoints/tranx/MM9-SFT-70B/MH19_336px_8800_BabyLora_r26a_flywheel/eval_fix/eval_jobs_checkpoint-2200.json\n",
      "Start eval for /fsx_0/checkpoints/tranx/MM9-SFT-70B/MH19_336px_8800_BabyLora_r26a_flywheel/checkpoint-2300\n",
      "eval jobs saved to: /fsx_0/checkpoints/tranx/MM9-SFT-70B/MH19_336px_8800_BabyLora_r26a_flywheel/eval_fix/eval_jobs_checkpoint-2300.json\n",
      "Start eval for /fsx_0/checkpoints/tranx/MM9-SFT-70B/MH19_336px_8800_BabyLora_r26a_flywheel/checkpoint-2400\n",
      "eval jobs saved to: /fsx_0/checkpoints/tranx/MM9-SFT-70B/MH19_336px_8800_BabyLora_r26a_flywheel/eval_fix/eval_jobs_checkpoint-2400.json\n",
      "Start eval for /fsx_0/checkpoints/tranx/MM9-SFT-70B/MH19_336px_8800_BabyLora_r26a_flywheel/checkpoint-2500\n",
      "eval jobs saved to: /fsx_0/checkpoints/tranx/MM9-SFT-70B/MH19_336px_8800_BabyLora_r26a_flywheel/eval_fix/eval_jobs_checkpoint-2500.json\n",
      "Start eval for /fsx_0/checkpoints/tranx/MM9-SFT-70B/MH19_336px_8800_BabyLora_r26a_flywheel/checkpoint-2600\n",
      "eval jobs saved to: /fsx_0/checkpoints/tranx/MM9-SFT-70B/MH19_336px_8800_BabyLora_r26a_flywheel/eval_fix/eval_jobs_checkpoint-2600.json\n",
      "Start eval for /fsx_0/checkpoints/tranx/MM9-SFT-70B/MH19_336px_8800_BabyLora_r26a_flywheel/checkpoint-2700\n",
      "eval jobs saved to: /fsx_0/checkpoints/tranx/MM9-SFT-70B/MH19_336px_8800_BabyLora_r26a_flywheel/eval_fix/eval_jobs_checkpoint-2700.json\n",
      "Start eval for /fsx_0/checkpoints/tranx/MM9-SFT-70B/MH19_336px_8800_BabyLora_r26a_flywheel/checkpoint-2800\n",
      "eval jobs saved to: /fsx_0/checkpoints/tranx/MM9-SFT-70B/MH19_336px_8800_BabyLora_r26a_flywheel/eval_fix/eval_jobs_checkpoint-2800.json\n",
      "Start eval for /fsx_0/checkpoints/tranx/MM9-SFT-70B/MH19_336px_8800_BabyLora_r26a_flywheel/checkpoint-2900\n",
      "eval jobs saved to: /fsx_0/checkpoints/tranx/MM9-SFT-70B/MH19_336px_8800_BabyLora_r26a_flywheel/eval_fix/eval_jobs_checkpoint-2900.json\n",
      "Start eval for /fsx_0/checkpoints/tranx/MM9-SFT-70B/MH19_336px_8800_BabyLora_r26a_flywheel/checkpoint-3000\n",
      "eval jobs saved to: /fsx_0/checkpoints/tranx/MM9-SFT-70B/MH19_336px_8800_BabyLora_r26a_flywheel/eval_fix/eval_jobs_checkpoint-3000.json\n",
      "Start eval for /fsx_0/checkpoints/tranx/MM9-SFT-70B/MH19_336px_8800_BabyLora_r26a_flywheel/checkpoint-3100\n",
      "eval jobs saved to: /fsx_0/checkpoints/tranx/MM9-SFT-70B/MH19_336px_8800_BabyLora_r26a_flywheel/eval_fix/eval_jobs_checkpoint-3100.json\n",
      "Start eval for /fsx_0/checkpoints/tranx/MM9-SFT-70B/MH19_336px_8800_BabyLora_r26a_flywheel/checkpoint-3200\n",
      "eval jobs saved to: /fsx_0/checkpoints/tranx/MM9-SFT-70B/MH19_336px_8800_BabyLora_r26a_flywheel/eval_fix/eval_jobs_checkpoint-3200.json\n",
      "Start eval for /fsx_0/checkpoints/tranx/MM9-SFT-70B/MH19_336px_8800_BabyLora_r26a_flywheel/checkpoint-3300\n",
      "eval jobs saved to: /fsx_0/checkpoints/tranx/MM9-SFT-70B/MH19_336px_8800_BabyLora_r26a_flywheel/eval_fix/eval_jobs_checkpoint-3300.json\n",
      "Start eval for /fsx_0/checkpoints/tranx/MM9-SFT-70B/MH19_336px_8800_BabyLora_r26a_flywheel/checkpoint-3400\n",
      "eval jobs saved to: /fsx_0/checkpoints/tranx/MM9-SFT-70B/MH19_336px_8800_BabyLora_r26a_flywheel/eval_fix/eval_jobs_checkpoint-3400.json\n",
      "Start eval for /fsx_0/checkpoints/tranx/MM9-SFT-70B/MH19_336px_8800_BabyLora_r26a_flywheel/checkpoint-3500\n",
      "eval jobs saved to: /fsx_0/checkpoints/tranx/MM9-SFT-70B/MH19_336px_8800_BabyLora_r26a_flywheel/eval_fix/eval_jobs_checkpoint-3500.json\n",
      "Start eval for /fsx_0/checkpoints/tranx/MM9-SFT-70B/MH19_336px_8800_BabyLora_r26a_flywheel/checkpoint-3600\n",
      "eval jobs saved to: /fsx_0/checkpoints/tranx/MM9-SFT-70B/MH19_336px_8800_BabyLora_r26a_flywheel/eval_fix/eval_jobs_checkpoint-3600.json\n",
      "Start eval for /fsx_0/checkpoints/tranx/MM9-SFT-70B/MH19_336px_8800_BabyLora_r26a_flywheel/checkpoint-3700\n",
      "eval jobs saved to: /fsx_0/checkpoints/tranx/MM9-SFT-70B/MH19_336px_8800_BabyLora_r26a_flywheel/eval_fix/eval_jobs_checkpoint-3700.json\n",
      "Start eval for /fsx_0/checkpoints/tranx/MM9-SFT-70B/MH19_336px_8800_BabyLora_r26a_flywheel/checkpoint-3800\n",
      "eval jobs saved to: /fsx_0/checkpoints/tranx/MM9-SFT-70B/MH19_336px_8800_BabyLora_r26a_flywheel/eval_fix/eval_jobs_checkpoint-3800.json\n",
      "Start eval for /fsx_0/checkpoints/tranx/MM9-SFT-70B/MH19_336px_8800_BabyLora_r26a_flywheel/checkpoint-3900\n",
      "eval jobs saved to: /fsx_0/checkpoints/tranx/MM9-SFT-70B/MH19_336px_8800_BabyLora_r26a_flywheel/eval_fix/eval_jobs_checkpoint-3900.json\n",
      "Start eval for /fsx_0/checkpoints/tranx/MM9-SFT-70B/MH19_336px_8800_BabyLora_r26a_flywheel/checkpoint-4000\n",
      "eval jobs saved to: /fsx_0/checkpoints/tranx/MM9-SFT-70B/MH19_336px_8800_BabyLora_r26a_flywheel/eval_fix/eval_jobs_checkpoint-4000.json\n",
      "Start eval for /fsx_0/checkpoints/tranx/MM9-SFT-70B/MH19_336px_8800_BabyLora_r26a_flywheel/checkpoint-4100\n",
      "eval jobs saved to: /fsx_0/checkpoints/tranx/MM9-SFT-70B/MH19_336px_8800_BabyLora_r26a_flywheel/eval_fix/eval_jobs_checkpoint-4100.json\n",
      "Start eval for /fsx_0/checkpoints/tranx/MM9-SFT-70B/MH19_336px_8800_BabyLora_r26a_flywheel/checkpoint-4200\n",
      "eval jobs saved to: /fsx_0/checkpoints/tranx/MM9-SFT-70B/MH19_336px_8800_BabyLora_r26a_flywheel/eval_fix/eval_jobs_checkpoint-4200.json\n",
      "Start eval for /fsx_0/checkpoints/tranx/MM9-SFT-70B/MH19_336px_8800_BabyLora_r26a_flywheel/checkpoint-4300\n",
      "eval jobs saved to: /fsx_0/checkpoints/tranx/MM9-SFT-70B/MH19_336px_8800_BabyLora_r26a_flywheel/eval_fix/eval_jobs_checkpoint-4300.json\n",
      "Start eval for /fsx_0/checkpoints/tranx/MM9-SFT-70B/MH19_336px_8800_BabyLora_r26a_flywheel/checkpoint-4400\n",
      "eval jobs saved to: /fsx_0/checkpoints/tranx/MM9-SFT-70B/MH19_336px_8800_BabyLora_r26a_flywheel/eval_fix/eval_jobs_checkpoint-4400.json\n",
      "Start eval for /fsx_0/checkpoints/tranx/MM9-SFT-70B/MH19_336px_8800_BabyLora_r26a_flywheel/checkpoint-4500\n",
      "eval jobs saved to: /fsx_0/checkpoints/tranx/MM9-SFT-70B/MH19_336px_8800_BabyLora_r26a_flywheel/eval_fix/eval_jobs_checkpoint-4500.json\n",
      "Start eval for /fsx_0/checkpoints/tranx/MM9-SFT-70B/MH19_336px_8800_BabyLora_r26a_flywheel/checkpoint-4600\n",
      "eval jobs saved to: /fsx_0/checkpoints/tranx/MM9-SFT-70B/MH19_336px_8800_BabyLora_r26a_flywheel/eval_fix/eval_jobs_checkpoint-4600.json\n",
      "Start eval for /fsx_0/checkpoints/tranx/MM9-SFT-70B/MH19_336px_8800_BabyLora_r26a_flywheel/checkpoint-4700\n",
      "eval jobs saved to: /fsx_0/checkpoints/tranx/MM9-SFT-70B/MH19_336px_8800_BabyLora_r26a_flywheel/eval_fix/eval_jobs_checkpoint-4700.json\n",
      "Start eval for /fsx_0/checkpoints/tranx/MM9-SFT-70B/MH19_336px_8800_BabyLora_r26a_flywheel/checkpoint-4800\n",
      "eval jobs saved to: /fsx_0/checkpoints/tranx/MM9-SFT-70B/MH19_336px_8800_BabyLora_r26a_flywheel/eval_fix/eval_jobs_checkpoint-4800.json\n",
      "Start eval for /fsx_0/checkpoints/tranx/MM9-SFT-70B/MH19_336px_8800_BabyLora_r26a_flywheel/checkpoint-4900\n",
      "eval jobs saved to: /fsx_0/checkpoints/tranx/MM9-SFT-70B/MH19_336px_8800_BabyLora_r26a_flywheel/eval_fix/eval_jobs_checkpoint-4900.json\n",
      "Start eval for /fsx_0/checkpoints/tranx/MM9-SFT-70B/MH19_336px_8800_BabyLora_r26a_flywheel/checkpoint-5000\n",
      "eval jobs saved to: /fsx_0/checkpoints/tranx/MM9-SFT-70B/MH19_336px_8800_BabyLora_r26a_flywheel/eval_fix/eval_jobs_checkpoint-5000.json\n",
      "Start eval for /fsx_0/checkpoints/tranx/MM9-SFT-70B/MH19_336px_8800_BabyLora_r26a_flywheel/checkpoint-5100\n",
      "eval jobs saved to: /fsx_0/checkpoints/tranx/MM9-SFT-70B/MH19_336px_8800_BabyLora_r26a_flywheel/eval_fix/eval_jobs_checkpoint-5100.json\n",
      "Start eval for /fsx_0/checkpoints/tranx/MM9-SFT-70B/MH19_336px_8800_BabyLora_r26a_flywheel/checkpoint-5200\n",
      "eval jobs saved to: /fsx_0/checkpoints/tranx/MM9-SFT-70B/MH19_336px_8800_BabyLora_r26a_flywheel/eval_fix/eval_jobs_checkpoint-5200.json\n"
     ]
    }
   ],
   "source": [
    "eval_helper.run_eval_sweep(\n",
    "    output_dir=OUTPUT_SFT9,\n",
    "    eval_sbatch=EVAL_SBATCH,\n",
    "    eval_config_dir=EVAL_CONFIG_OVERWRITE,\n",
    "    aligner_parent_dir=ALIGNER_RSYNC,\n",
    "    # benchmarks=[\"mmmu\"],\n",
    "    eval_plan=\"eval_fix\",\n",
    "    checkpoint_interval=100\n",
    ")"
   ]
  },
  {
   "cell_type": "code",
   "execution_count": 67,
   "metadata": {},
   "outputs": [
    {
     "name": "stdout",
     "output_type": "stream",
     "text": [
      "New checkpoints: [100]\n",
      "Start eval for /fsx_0/checkpoints/tranx/MM9-SFT-70B/MH19_336px_8800_BabyLora_flywheel_v5/checkpoint-100\n",
      "eval jobs saved to: /fsx_0/checkpoints/tranx/MM9-SFT-70B/MH19_336px_8800_BabyLora_flywheel_v5/eval_fix/eval_jobs_checkpoint-100.json\n"
     ]
    }
   ],
   "source": [
    "eval_helper.run_eval_sweep(\n",
    "    output_dir=OUTPUT_SFT10,\n",
    "    eval_sbatch=EVAL_SBATCH,\n",
    "    eval_config_dir=EVAL_CONFIG_OVERWRITE,\n",
    "    aligner_parent_dir=ALIGNER_RSYNC,\n",
    "    # benchmarks=[\"mmmu\"],\n",
    "    eval_plan=\"eval_fix\",\n",
    "    checkpoint_interval=100\n",
    ")"
   ]
  },
  {
   "cell_type": "code",
   "execution_count": 63,
   "metadata": {},
   "outputs": [
    {
     "data": {
      "text/html": [
       "<div>\n",
       "<style scoped>\n",
       "    .dataframe tbody tr th:only-of-type {\n",
       "        vertical-align: middle;\n",
       "    }\n",
       "\n",
       "    .dataframe tbody tr th {\n",
       "        vertical-align: top;\n",
       "    }\n",
       "\n",
       "    .dataframe thead th {\n",
       "        text-align: right;\n",
       "    }\n",
       "</style>\n",
       "<table border=\"1\" class=\"dataframe\">\n",
       "  <thead>\n",
       "    <tr style=\"text-align: right;\">\n",
       "      <th></th>\n",
       "      <th>mmmu_v2</th>\n",
       "      <th>mmmu_v1</th>\n",
       "      <th>docvqa</th>\n",
       "      <th>mathvista</th>\n",
       "      <th>ai2d</th>\n",
       "      <th>chartqa</th>\n",
       "      <th>vqa</th>\n",
       "      <th>textvqa</th>\n",
       "      <th>infographics_w_ocr</th>\n",
       "      <th>infographics</th>\n",
       "      <th>mmbench</th>\n",
       "    </tr>\n",
       "  </thead>\n",
       "  <tbody>\n",
       "    <tr>\n",
       "      <th>100</th>\n",
       "      <td>NaN</td>\n",
       "      <td>NaN</td>\n",
       "      <td>NaN</td>\n",
       "      <td>0.543</td>\n",
       "      <td>0.7979</td>\n",
       "      <td>0.5912</td>\n",
       "      <td>NaN</td>\n",
       "      <td>0.71948</td>\n",
       "      <td>0.7223</td>\n",
       "      <td>0.6822</td>\n",
       "      <td>0.771</td>\n",
       "    </tr>\n",
       "  </tbody>\n",
       "</table>\n",
       "</div>"
      ],
      "text/plain": [
       "    mmmu_v2 mmmu_v1 docvqa mathvista    ai2d chartqa  vqa  textvqa  \\\n",
       "100     NaN     NaN    NaN     0.543  0.7979  0.5912  NaN  0.71948   \n",
       "\n",
       "    infographics_w_ocr infographics mmbench  \n",
       "100             0.7223       0.6822   0.771  "
      ]
     },
     "execution_count": 63,
     "metadata": {},
     "output_type": "execute_result"
    }
   ],
   "source": [
    "eval_helper.get_eval_scores_all(OUTPUT_SFT8, eval_plan=\"eval_fix\")"
   ]
  },
  {
   "cell_type": "markdown",
   "metadata": {},
   "source": [
    "# Flywheel"
   ]
  },
  {
   "cell_type": "code",
   "execution_count": 4,
   "metadata": {},
   "outputs": [],
   "source": [
    "ALIGNER_ADEL_PROD = '/fsx_0/user/tranx/adel_prod'\n",
    "ALIGNER_ADEL_PROD_FSDP = '/fsx_0/user/tranx/adel_prod_fsdp'\n",
    "EVAL_SBATCH = \"/fsx_0/user/tranx/experiments/eval/sbash_eval.sh\"\n",
    "EVAL_CONFIG_DIR_EMB65 = f\"{ALIGNER_ADEL_PROD}/llm_mm_aligner/experiments/aws_adel/eval_sft_babyLora_emb65\"\n",
    "EVAL_CONFIG_DIR_EMB65_v5 = f\"{ALIGNER_ADEL_PROD}/llm_mm_aligner/experiments/aws_adel/eval_sft_babyLora_emb65_v5\"\n",
    "\n",
    "OUTPUT_SFT8 = \"/fsx_0/checkpoints/tranx/MM9-SFT-70B/MH19_336px_8800_BabyLora_flywheel\"\n",
    "OUTPUT_SFT9 = \"/fsx_0/checkpoints/tranx/MM9-SFT-70B/MH19_336px_8800_BabyLora_r26a_flywheel\"\n",
    "OUTPUT_SFT10 = \"/fsx_0/checkpoints/tranx/MM9-SFT-70B/MH19_336px_8800_BabyLora_flywheel_v5\"\n",
    "\n",
    "# BENCHMARKS = [\"mathvista\", \"vqa\"]\n",
    "BENCHMARKS = [\"mmmu\"]"
   ]
  },
  {
   "cell_type": "code",
   "execution_count": 7,
   "metadata": {},
   "outputs": [
    {
     "name": "stdout",
     "output_type": "stream",
     "text": [
      "New checkpoints: [100]\n",
      "Start eval for /fsx_0/checkpoints/tranx/MM9-SFT-70B/MH19_336px_8800_BabyLora_flywheel/checkpoint-100\n",
      "eval jobs saved to: /fsx_0/checkpoints/tranx/MM9-SFT-70B/MH19_336px_8800_BabyLora_flywheel/eval_v4/eval_jobs_checkpoint-100.json\n"
     ]
    }
   ],
   "source": [
    "# train v4 - eval v4\n",
    "eval_helper.run_eval_sweep(\n",
    "    output_dir=OUTPUT_SFT8,\n",
    "    eval_sbatch=EVAL_SBATCH,\n",
    "    eval_config_dir=EVAL_CONFIG_DIR_EMB65,\n",
    "    aligner_parent_dir=ALIGNER_ADEL_PROD_FSDP,\n",
    "    benchmarks=[\"mmmu\"],\n",
    "    eval_plan=\"eval_v4\",\n",
    "    checkpoint_interval=100\n",
    ")"
   ]
  },
  {
   "cell_type": "code",
   "execution_count": 37,
   "metadata": {},
   "outputs": [
    {
     "data": {
      "text/html": [
       "<div>\n",
       "<style scoped>\n",
       "    .dataframe tbody tr th:only-of-type {\n",
       "        vertical-align: middle;\n",
       "    }\n",
       "\n",
       "    .dataframe tbody tr th {\n",
       "        vertical-align: top;\n",
       "    }\n",
       "\n",
       "    .dataframe thead th {\n",
       "        text-align: right;\n",
       "    }\n",
       "</style>\n",
       "<table border=\"1\" class=\"dataframe\">\n",
       "  <thead>\n",
       "    <tr style=\"text-align: right;\">\n",
       "      <th></th>\n",
       "      <th>mmmu_v2</th>\n",
       "      <th>mmmu_v1</th>\n",
       "      <th>docvqa</th>\n",
       "      <th>mathvista</th>\n",
       "      <th>ai2d</th>\n",
       "      <th>chartqa</th>\n",
       "      <th>vqa</th>\n",
       "      <th>textvqa</th>\n",
       "      <th>infographics_w_ocr</th>\n",
       "      <th>infographics</th>\n",
       "      <th>mmbench</th>\n",
       "    </tr>\n",
       "  </thead>\n",
       "  <tbody>\n",
       "  </tbody>\n",
       "</table>\n",
       "</div>"
      ],
      "text/plain": [
       "Empty DataFrame\n",
       "Columns: [mmmu_v2, mmmu_v1, docvqa, mathvista, ai2d, chartqa, vqa, textvqa, infographics_w_ocr, infographics, mmbench]\n",
       "Index: []"
      ]
     },
     "execution_count": 37,
     "metadata": {},
     "output_type": "execute_result"
    }
   ],
   "source": [
    "eval_helper.get_eval_scores_all(OUTPUT_SFT8, eval_plan=\"eval_v4\")"
   ]
  },
  {
   "cell_type": "code",
   "execution_count": 19,
   "metadata": {},
   "outputs": [
    {
     "name": "stdout",
     "output_type": "stream",
     "text": [
      "New checkpoints: [100]\n",
      "Start eval for /fsx_0/checkpoints/tranx/MM9-SFT-70B/MH19_336px_8800_BabyLora_flywheel/checkpoint-100\n",
      "eval jobs saved to: /fsx_0/checkpoints/tranx/MM9-SFT-70B/MH19_336px_8800_BabyLora_flywheel/eval_v5_2/eval_jobs_checkpoint-100.json\n"
     ]
    }
   ],
   "source": [
    "# train v4 - eval v5\n",
    "eval_helper.run_eval_sweep(\n",
    "    output_dir=OUTPUT_SFT8,\n",
    "    eval_sbatch=EVAL_SBATCH,\n",
    "    eval_config_dir=EVAL_CONFIG_DIR_EMB65_v5,\n",
    "    aligner_parent_dir=ALIGNER_ADEL_PROD_FSDP,\n",
    "    benchmarks=[\"mmmu\"],\n",
    "    eval_plan=\"eval_v5_2\",\n",
    "    checkpoint_interval=100\n",
    ")"
   ]
  },
  {
   "cell_type": "code",
   "execution_count": 36,
   "metadata": {},
   "outputs": [
    {
     "data": {
      "text/html": [
       "<div>\n",
       "<style scoped>\n",
       "    .dataframe tbody tr th:only-of-type {\n",
       "        vertical-align: middle;\n",
       "    }\n",
       "\n",
       "    .dataframe tbody tr th {\n",
       "        vertical-align: top;\n",
       "    }\n",
       "\n",
       "    .dataframe thead th {\n",
       "        text-align: right;\n",
       "    }\n",
       "</style>\n",
       "<table border=\"1\" class=\"dataframe\">\n",
       "  <thead>\n",
       "    <tr style=\"text-align: right;\">\n",
       "      <th></th>\n",
       "      <th>mmmu_v2</th>\n",
       "      <th>mmmu_v1</th>\n",
       "      <th>docvqa</th>\n",
       "      <th>mathvista</th>\n",
       "      <th>ai2d</th>\n",
       "      <th>chartqa</th>\n",
       "      <th>vqa</th>\n",
       "      <th>textvqa</th>\n",
       "      <th>infographics_w_ocr</th>\n",
       "      <th>infographics</th>\n",
       "      <th>mmbench</th>\n",
       "    </tr>\n",
       "  </thead>\n",
       "  <tbody>\n",
       "  </tbody>\n",
       "</table>\n",
       "</div>"
      ],
      "text/plain": [
       "Empty DataFrame\n",
       "Columns: [mmmu_v2, mmmu_v1, docvqa, mathvista, ai2d, chartqa, vqa, textvqa, infographics_w_ocr, infographics, mmbench]\n",
       "Index: []"
      ]
     },
     "execution_count": 36,
     "metadata": {},
     "output_type": "execute_result"
    }
   ],
   "source": [
    "eval_helper.get_eval_scores_all(OUTPUT_SFT9, eval_plan=\"eval_v5\")"
   ]
  },
  {
   "cell_type": "code",
   "execution_count": 8,
   "metadata": {},
   "outputs": [
    {
     "name": "stdout",
     "output_type": "stream",
     "text": [
      "New checkpoints: [100]\n",
      "Start eval for /fsx_0/checkpoints/tranx/MM9-SFT-70B/MH19_336px_8800_BabyLora_flywheel_v5/checkpoint-100\n",
      "eval jobs saved to: /fsx_0/checkpoints/tranx/MM9-SFT-70B/MH19_336px_8800_BabyLora_flywheel_v5/eval_v4/eval_jobs_checkpoint-100.json\n"
     ]
    }
   ],
   "source": [
    "# train v5 - eval v4\n",
    "eval_helper.run_eval_sweep(\n",
    "    output_dir=OUTPUT_SFT10,\n",
    "    eval_sbatch=EVAL_SBATCH,\n",
    "    eval_config_dir=EVAL_CONFIG_DIR_EMB65,\n",
    "    aligner_parent_dir=ALIGNER_ADEL_PROD_FSDP,\n",
    "    benchmarks=[\"mmmu\"],\n",
    "    eval_plan=\"eval_v4\",\n",
    "    checkpoint_interval=100\n",
    ")"
   ]
  },
  {
   "cell_type": "code",
   "execution_count": 24,
   "metadata": {},
   "outputs": [
    {
     "data": {
      "text/plain": [
       "'/fsx_0/checkpoints/tranx/MM9-SFT-70B/MH19_336px_8800_BabyLora_r26a/eval/eval_jobs_checkpoint-100.json'"
      ]
     },
     "execution_count": 24,
     "metadata": {},
     "output_type": "execute_result"
    }
   ],
   "source": [
    "eval_helper.get_eval_jobs_record(\"/fsx_0/checkpoints/tranx/MM9-SFT-70B/MH19_336px_8800_BabyLora_r26a\",\n",
    "                                 100)"
   ]
  },
  {
   "cell_type": "code",
   "execution_count": 27,
   "metadata": {},
   "outputs": [
    {
     "data": {
      "text/plain": [
       "OrderedDict([('mmmu', OrderedDict([('200', 21877)])),\n",
       "             ('docvqa', OrderedDict([('200', 21878)])),\n",
       "             ('mathvista', OrderedDict([('200', 21879)])),\n",
       "             ('ai2d', OrderedDict([('200', 21880)])),\n",
       "             ('chartqa', OrderedDict([('200', 21881)])),\n",
       "             ('vqa', OrderedDict([('200', 21882)])),\n",
       "             ('textvqa', OrderedDict([('200', 21883)])),\n",
       "             ('infographics_w_ocr', OrderedDict([('200', 21884)])),\n",
       "             ('infographics', OrderedDict([('200', 21885)])),\n",
       "             ('mmbench', OrderedDict([('200', 21886)]))])"
      ]
     },
     "execution_count": 27,
     "metadata": {},
     "output_type": "execute_result"
    }
   ],
   "source": [
    "utils.read_json('/fsx_0/checkpoints/tranx/MM9-SFT-70B/MH19_336px_8800_BabyLora_r26a/evals/eval_jobs_checkpoint-200.json')"
   ]
  },
  {
   "cell_type": "code",
   "execution_count": 29,
   "metadata": {},
   "outputs": [
    {
     "data": {
      "text/plain": [
       "OrderedDict([('mmmu', OrderedDict([('200', 14227)])),\n",
       "             ('docvqa', OrderedDict([('200', 14228)])),\n",
       "             ('mathvista', OrderedDict([('200', 14229)])),\n",
       "             ('ai2d', OrderedDict([('200', 14230)])),\n",
       "             ('chartqa', OrderedDict([('200', 14231)])),\n",
       "             ('vqa', OrderedDict([('200', 14232)])),\n",
       "             ('textvqa', OrderedDict([('200', 14233)])),\n",
       "             ('infographics_w_ocr', OrderedDict([('200', 14234)])),\n",
       "             ('infographics', OrderedDict([('200', 14235)])),\n",
       "             ('mmbench', OrderedDict([('200', 14236)]))])"
      ]
     },
     "execution_count": 29,
     "metadata": {},
     "output_type": "execute_result"
    }
   ],
   "source": [
    "utils.read_json(\"/fsx_0/checkpoints/tranx/MM9-Stage2-70B/MH19_336px_128nodes_exp28/evals/eval_jobs_checkpoint-200.json\")"
   ]
  },
  {
   "cell_type": "code",
   "execution_count": 35,
   "metadata": {},
   "outputs": [
    {
     "data": {
      "text/html": [
       "<div>\n",
       "<style scoped>\n",
       "    .dataframe tbody tr th:only-of-type {\n",
       "        vertical-align: middle;\n",
       "    }\n",
       "\n",
       "    .dataframe tbody tr th {\n",
       "        vertical-align: top;\n",
       "    }\n",
       "\n",
       "    .dataframe thead th {\n",
       "        text-align: right;\n",
       "    }\n",
       "</style>\n",
       "<table border=\"1\" class=\"dataframe\">\n",
       "  <thead>\n",
       "    <tr style=\"text-align: right;\">\n",
       "      <th></th>\n",
       "      <th>mmmu_v2</th>\n",
       "      <th>mmmu_v1</th>\n",
       "      <th>docvqa</th>\n",
       "      <th>mathvista</th>\n",
       "      <th>ai2d</th>\n",
       "      <th>chartqa</th>\n",
       "      <th>vqa</th>\n",
       "      <th>textvqa</th>\n",
       "      <th>infographics_w_ocr</th>\n",
       "      <th>infographics</th>\n",
       "      <th>mmbench</th>\n",
       "    </tr>\n",
       "  </thead>\n",
       "  <tbody>\n",
       "    <tr>\n",
       "      <th>100</th>\n",
       "      <td>0.5656</td>\n",
       "      <td>0.5556</td>\n",
       "      <td>NaN</td>\n",
       "      <td>NaN</td>\n",
       "      <td>NaN</td>\n",
       "      <td>NaN</td>\n",
       "      <td>NaN</td>\n",
       "      <td>NaN</td>\n",
       "      <td>NaN</td>\n",
       "      <td>NaN</td>\n",
       "      <td>NaN</td>\n",
       "    </tr>\n",
       "  </tbody>\n",
       "</table>\n",
       "</div>"
      ],
      "text/plain": [
       "    mmmu_v2 mmmu_v1 docvqa mathvista ai2d chartqa  vqa textvqa  \\\n",
       "100  0.5656  0.5556    NaN       NaN  NaN     NaN  NaN     NaN   \n",
       "\n",
       "    infographics_w_ocr infographics mmbench  \n",
       "100                NaN          NaN     NaN  "
      ]
     },
     "execution_count": 35,
     "metadata": {},
     "output_type": "execute_result"
    }
   ],
   "source": [
    "eval_helper.get_eval_scores_all(OUTPUT_SFT10, eval_plan=\"eval_v4\")"
   ]
  },
  {
   "cell_type": "code",
   "execution_count": 31,
   "metadata": {},
   "outputs": [
    {
     "data": {
      "text/plain": [
       "'/fsx_0/user/tranx/adel_prod/llm_mm_aligner/experiments/aws_adel/eval_sft_babyLora_emb65_v5'"
      ]
     },
     "execution_count": 31,
     "metadata": {},
     "output_type": "execute_result"
    }
   ],
   "source": [
    "EVAL_CONFIG_DIR_EMB65_v5"
   ]
  },
  {
   "cell_type": "code",
   "execution_count": 30,
   "metadata": {},
   "outputs": [
    {
     "name": "stdout",
     "output_type": "stream",
     "text": [
      "New checkpoints: [100]\n",
      "Start eval for /fsx_0/checkpoints/tranx/MM9-SFT-70B/MH19_336px_8800_BabyLora_flywheel_v5/checkpoint-100\n",
      "eval jobs saved to: /fsx_0/checkpoints/tranx/MM9-SFT-70B/MH19_336px_8800_BabyLora_flywheel_v5/eval_v5_bz32_ep1_train_bz32/eval_jobs_checkpoint-100.json\n"
     ]
    }
   ],
   "source": [
    "# train v5 - eval v5\n",
    "eval_helper.run_eval_sweep(\n",
    "    output_dir=OUTPUT_SFT10,\n",
    "    eval_sbatch=EVAL_SBATCH,\n",
    "    eval_config_dir=EVAL_CONFIG_DIR_EMB65_v5,\n",
    "    aligner_parent_dir=ALIGNER_ADEL_PROD_FSDP,\n",
    "    benchmarks=[\"mmmu\"],\n",
    "    eval_plan=\"eval_v5_bz32_ep1_train_bz32\",\n",
    "    checkpoint_interval=100\n",
    ")"
   ]
  },
  {
   "cell_type": "code",
   "execution_count": 34,
   "metadata": {},
   "outputs": [
    {
     "data": {
      "text/html": [
       "<div>\n",
       "<style scoped>\n",
       "    .dataframe tbody tr th:only-of-type {\n",
       "        vertical-align: middle;\n",
       "    }\n",
       "\n",
       "    .dataframe tbody tr th {\n",
       "        vertical-align: top;\n",
       "    }\n",
       "\n",
       "    .dataframe thead th {\n",
       "        text-align: right;\n",
       "    }\n",
       "</style>\n",
       "<table border=\"1\" class=\"dataframe\">\n",
       "  <thead>\n",
       "    <tr style=\"text-align: right;\">\n",
       "      <th></th>\n",
       "      <th>mmmu_v2</th>\n",
       "      <th>mmmu_v1</th>\n",
       "      <th>docvqa</th>\n",
       "      <th>mathvista</th>\n",
       "      <th>ai2d</th>\n",
       "      <th>chartqa</th>\n",
       "      <th>vqa</th>\n",
       "      <th>textvqa</th>\n",
       "      <th>infographics_w_ocr</th>\n",
       "      <th>infographics</th>\n",
       "      <th>mmbench</th>\n",
       "    </tr>\n",
       "  </thead>\n",
       "  <tbody>\n",
       "  </tbody>\n",
       "</table>\n",
       "</div>"
      ],
      "text/plain": [
       "Empty DataFrame\n",
       "Columns: [mmmu_v2, mmmu_v1, docvqa, mathvista, ai2d, chartqa, vqa, textvqa, infographics_w_ocr, infographics, mmbench]\n",
       "Index: []"
      ]
     },
     "execution_count": 34,
     "metadata": {},
     "output_type": "execute_result"
    }
   ],
   "source": [
    "eval_helper.get_eval_scores_all(OUTPUT_SFT10, eval_plan=\"eval_v5\")"
   ]
  },
  {
   "cell_type": "markdown",
   "metadata": {},
   "source": [
    "# r26a_flywheel"
   ]
  },
  {
   "cell_type": "code",
   "execution_count": 5,
   "metadata": {},
   "outputs": [
    {
     "name": "stdout",
     "output_type": "stream",
     "text": [
      "New checkpoints: [100, 200, 300, 400]\n",
      "Start eval for /fsx_0/checkpoints/tranx/MM9-SFT-70B/MH19_336px_8800_BabyLora_r26a_flywheel/checkpoint-100\n",
      "eval jobs saved to: /fsx_0/checkpoints/tranx/MM9-SFT-70B/MH19_336px_8800_BabyLora_r26a_flywheel/eval_v4/eval_jobs_checkpoint-100.json\n",
      "Start eval for /fsx_0/checkpoints/tranx/MM9-SFT-70B/MH19_336px_8800_BabyLora_r26a_flywheel/checkpoint-200\n",
      "eval jobs saved to: /fsx_0/checkpoints/tranx/MM9-SFT-70B/MH19_336px_8800_BabyLora_r26a_flywheel/eval_v4/eval_jobs_checkpoint-200.json\n",
      "Start eval for /fsx_0/checkpoints/tranx/MM9-SFT-70B/MH19_336px_8800_BabyLora_r26a_flywheel/checkpoint-300\n",
      "eval jobs saved to: /fsx_0/checkpoints/tranx/MM9-SFT-70B/MH19_336px_8800_BabyLora_r26a_flywheel/eval_v4/eval_jobs_checkpoint-300.json\n",
      "Start eval for /fsx_0/checkpoints/tranx/MM9-SFT-70B/MH19_336px_8800_BabyLora_r26a_flywheel/checkpoint-400\n",
      "eval jobs saved to: /fsx_0/checkpoints/tranx/MM9-SFT-70B/MH19_336px_8800_BabyLora_r26a_flywheel/eval_v4/eval_jobs_checkpoint-400.json\n"
     ]
    }
   ],
   "source": [
    "eval_helper.run_eval_sweep(\n",
    "    output_dir=OUTPUT_SFT9,\n",
    "    eval_sbatch=EVAL_SBATCH,\n",
    "    eval_config_dir=EVAL_CONFIG_DIR_EMB65,\n",
    "    aligner_parent_dir=ALIGNER_ADEL_PROD_FSDP,\n",
    "    benchmarks=[\"mmmu\"],\n",
    "    eval_plan=\"eval_v4\"\n",
    ")"
   ]
  },
  {
   "cell_type": "code",
   "execution_count": 33,
   "metadata": {},
   "outputs": [
    {
     "data": {
      "text/html": [
       "<div>\n",
       "<style scoped>\n",
       "    .dataframe tbody tr th:only-of-type {\n",
       "        vertical-align: middle;\n",
       "    }\n",
       "\n",
       "    .dataframe tbody tr th {\n",
       "        vertical-align: top;\n",
       "    }\n",
       "\n",
       "    .dataframe thead th {\n",
       "        text-align: right;\n",
       "    }\n",
       "</style>\n",
       "<table border=\"1\" class=\"dataframe\">\n",
       "  <thead>\n",
       "    <tr style=\"text-align: right;\">\n",
       "      <th></th>\n",
       "      <th>mmmu_v2</th>\n",
       "      <th>mmmu_v1</th>\n",
       "      <th>docvqa</th>\n",
       "      <th>mathvista</th>\n",
       "      <th>ai2d</th>\n",
       "      <th>chartqa</th>\n",
       "      <th>vqa</th>\n",
       "      <th>textvqa</th>\n",
       "      <th>infographics_w_ocr</th>\n",
       "      <th>infographics</th>\n",
       "      <th>mmbench</th>\n",
       "    </tr>\n",
       "  </thead>\n",
       "  <tbody>\n",
       "  </tbody>\n",
       "</table>\n",
       "</div>"
      ],
      "text/plain": [
       "Empty DataFrame\n",
       "Columns: [mmmu_v2, mmmu_v1, docvqa, mathvista, ai2d, chartqa, vqa, textvqa, infographics_w_ocr, infographics, mmbench]\n",
       "Index: []"
      ]
     },
     "execution_count": 33,
     "metadata": {},
     "output_type": "execute_result"
    }
   ],
   "source": [
    "eval_helper.get_eval_scores_all(OUTPUT_SFT9, eval_plan=\"eval_v4\")"
   ]
  },
  {
   "cell_type": "code",
   "execution_count": 6,
   "metadata": {},
   "outputs": [
    {
     "name": "stdout",
     "output_type": "stream",
     "text": [
      "New checkpoints: [100, 200, 300, 400]\n",
      "Start eval for /fsx_0/checkpoints/tranx/MM9-SFT-70B/MH19_336px_8800_BabyLora_r26a_flywheel/checkpoint-100\n",
      "eval jobs saved to: /fsx_0/checkpoints/tranx/MM9-SFT-70B/MH19_336px_8800_BabyLora_r26a_flywheel/eval_v5/eval_jobs_checkpoint-100.json\n",
      "Start eval for /fsx_0/checkpoints/tranx/MM9-SFT-70B/MH19_336px_8800_BabyLora_r26a_flywheel/checkpoint-200\n",
      "eval jobs saved to: /fsx_0/checkpoints/tranx/MM9-SFT-70B/MH19_336px_8800_BabyLora_r26a_flywheel/eval_v5/eval_jobs_checkpoint-200.json\n",
      "Start eval for /fsx_0/checkpoints/tranx/MM9-SFT-70B/MH19_336px_8800_BabyLora_r26a_flywheel/checkpoint-300\n",
      "eval jobs saved to: /fsx_0/checkpoints/tranx/MM9-SFT-70B/MH19_336px_8800_BabyLora_r26a_flywheel/eval_v5/eval_jobs_checkpoint-300.json\n",
      "Start eval for /fsx_0/checkpoints/tranx/MM9-SFT-70B/MH19_336px_8800_BabyLora_r26a_flywheel/checkpoint-400\n",
      "eval jobs saved to: /fsx_0/checkpoints/tranx/MM9-SFT-70B/MH19_336px_8800_BabyLora_r26a_flywheel/eval_v5/eval_jobs_checkpoint-400.json\n"
     ]
    }
   ],
   "source": [
    "eval_helper.run_eval_sweep(\n",
    "    output_dir=OUTPUT_SFT9,\n",
    "    eval_sbatch=EVAL_SBATCH,\n",
    "    eval_config_dir=EVAL_CONFIG_DIR_EMB65_v5,\n",
    "    aligner_parent_dir=ALIGNER_ADEL_PROD_FSDP,\n",
    "    benchmarks=[\"mmmu\"],\n",
    "    eval_plan=\"eval_v5\"\n",
    ")"
   ]
  },
  {
   "cell_type": "code",
   "execution_count": 32,
   "metadata": {},
   "outputs": [
    {
     "data": {
      "text/html": [
       "<div>\n",
       "<style scoped>\n",
       "    .dataframe tbody tr th:only-of-type {\n",
       "        vertical-align: middle;\n",
       "    }\n",
       "\n",
       "    .dataframe tbody tr th {\n",
       "        vertical-align: top;\n",
       "    }\n",
       "\n",
       "    .dataframe thead th {\n",
       "        text-align: right;\n",
       "    }\n",
       "</style>\n",
       "<table border=\"1\" class=\"dataframe\">\n",
       "  <thead>\n",
       "    <tr style=\"text-align: right;\">\n",
       "      <th></th>\n",
       "      <th>mmmu_v2</th>\n",
       "      <th>mmmu_v1</th>\n",
       "      <th>docvqa</th>\n",
       "      <th>mathvista</th>\n",
       "      <th>ai2d</th>\n",
       "      <th>chartqa</th>\n",
       "      <th>vqa</th>\n",
       "      <th>textvqa</th>\n",
       "      <th>infographics_w_ocr</th>\n",
       "      <th>infographics</th>\n",
       "      <th>mmbench</th>\n",
       "    </tr>\n",
       "  </thead>\n",
       "  <tbody>\n",
       "  </tbody>\n",
       "</table>\n",
       "</div>"
      ],
      "text/plain": [
       "Empty DataFrame\n",
       "Columns: [mmmu_v2, mmmu_v1, docvqa, mathvista, ai2d, chartqa, vqa, textvqa, infographics_w_ocr, infographics, mmbench]\n",
       "Index: []"
      ]
     },
     "execution_count": 32,
     "metadata": {},
     "output_type": "execute_result"
    }
   ],
   "source": [
    "eval_helper.get_eval_scores_all(OUTPUT_SFT9, eval_plan=\"eval_v5\")"
   ]
  }
 ],
 "metadata": {
  "kernelspec": {
   "display_name": "aws",
   "language": "python",
   "name": "python3"
  },
  "language_info": {
   "codemirror_mode": {
    "name": "ipython",
    "version": 3
   },
   "file_extension": ".py",
   "mimetype": "text/x-python",
   "name": "python",
   "nbconvert_exporter": "python",
   "pygments_lexer": "ipython3",
   "version": "3.11.9"
  }
 },
 "nbformat": 4,
 "nbformat_minor": 2
}
