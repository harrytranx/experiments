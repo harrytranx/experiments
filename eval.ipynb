{
 "cells": [
  {
   "cell_type": "code",
   "execution_count": 9,
   "metadata": {},
   "outputs": [
    {
     "name": "stdout",
     "output_type": "stream",
     "text": [
      "The autoreload extension is already loaded. To reload it, use:\n",
      "  %reload_ext autoreload\n",
      "Running on host:  submit-1\n"
     ]
    }
   ],
   "source": [
    "\n",
    "# BOILER PLATE, MUST BE RUN ON SUBMIT NODE\n",
    "%load_ext autoreload\n",
    "%autoreload 2\n",
    "import socket\n",
    "print(\"Running on host: \", socket.gethostname())\n",
    "\n",
    "import sys \n",
    "lib_path = '/fsx_0/user/tranx/experiments'\n",
    "if lib_path not in sys.path:\n",
    "    sys.path.append(lib_path)\n",
    "#=================================================\n",
    "    \n",
    "import plotly.express as px\n",
    "import plotly.graph_objects as go\n",
    "import re\n",
    "import time\n",
    "\n",
    "import json\n",
    "import glob\n",
    "import pandas as pd\n",
    "import os\n",
    "\n",
    "from lib import eval_helper\n",
    "from lib import utils\n",
    "from lib import slurm\n",
    "from lib.slurm import run_sbatch_job\n"
   ]
  },
  {
   "cell_type": "code",
   "execution_count": 6,
   "metadata": {},
   "outputs": [
    {
     "name": "stdout",
     "output_type": "stream",
     "text": [
      "sbatch --parsable --job-name=eval_vqa /fsx_0/user/tranx/experiments/eval/sbash_eval.sh Llama31_336px /fsx_0/user/tranx/eval/llm_mm_aligner/experiments/aws_adel/eval_31/eval_vqa.json /fsx_0/checkpoints/tranx/MM9-Pretrain-70B/Llama31_336px_128nodes_bz32_scratch vqa 2000\n"
     ]
    },
    {
     "data": {
      "text/plain": [
       "9675"
      ]
     },
     "execution_count": 6,
     "metadata": {},
     "output_type": "execute_result"
    }
   ],
   "source": [
    "params = {\n",
    "    \"eval_plan\": \"Llama31_336px\",\n",
    "    \"json_config\": \"/fsx_0/user/tranx/eval/llm_mm_aligner/experiments/aws_adel/eval_31/eval_vqa.json\",\n",
    "    \"checkpoint_dir\": \"/fsx_0/checkpoints/tranx/MM9-Pretrain-70B/Llama31_336px_128nodes_bz32_scratch\",\n",
    "    \"benchmark_name\": \"vqa\",\n",
    "    \"checkpoint_id\": \"2000\"\n",
    "}\n",
    "\n",
    "job = run_job(\n",
    "    sbatch_base_script=\"/fsx_0/user/tranx/experiments/eval/sbash_eval.sh\",\n",
    "    sbatch_overwrite={\n",
    "        \"job-name\": \"eval_\" + params[\"benchmark_name\"]\n",
    "    },\n",
    "    positional_env_vars=list(params.values())\n",
    ")\n",
    "\n",
    "job"
   ]
  },
  {
   "cell_type": "markdown",
   "metadata": {},
   "source": [
    "# Eval plan"
   ]
  },
  {
   "cell_type": "markdown",
   "metadata": {},
   "source": [
    "## Llama31"
   ]
  },
  {
   "cell_type": "code",
   "execution_count": 42,
   "metadata": {},
   "outputs": [
    {
     "name": "stdout",
     "output_type": "stream",
     "text": [
      "sbatch --parsable --job-name=eval_mmmu /fsx_0/user/tranx/experiments/eval/sbash_eval.sh Llama31_336px /fsx_0/user/tranx/eval/llm_mm_aligner/experiments/aws_adel/eval_31/eval_mmmu.json /fsx_0/checkpoints/tranx/MM9-Pretrain-70B/Llama31_336px_128nodes_bz32_scratch mmmu 2000\n",
      "sbatch --parsable --job-name=eval_mmmu /fsx_0/user/tranx/experiments/eval/sbash_eval.sh Llama31_336px /fsx_0/user/tranx/eval/llm_mm_aligner/experiments/aws_adel/eval_31/eval_mmmu.json /fsx_0/checkpoints/tranx/MM9-Pretrain-70B/Llama31_336px_128nodes_bz32_scratch mmmu 3000\n",
      "sbatch --parsable --job-name=eval_mmmu /fsx_0/user/tranx/experiments/eval/sbash_eval.sh Llama31_336px /fsx_0/user/tranx/eval/llm_mm_aligner/experiments/aws_adel/eval_31/eval_mmmu.json /fsx_0/checkpoints/tranx/MM9-Pretrain-70B/Llama31_336px_128nodes_bz32_scratch mmmu 4000\n",
      "sbatch --parsable --job-name=eval_mmmu /fsx_0/user/tranx/experiments/eval/sbash_eval.sh Llama31_336px /fsx_0/user/tranx/eval/llm_mm_aligner/experiments/aws_adel/eval_31/eval_mmmu.json /fsx_0/checkpoints/tranx/MM9-Pretrain-70B/Llama31_336px_128nodes_bz32_scratch mmmu 5000\n",
      "sbatch --parsable --job-name=eval_mmmu /fsx_0/user/tranx/experiments/eval/sbash_eval.sh Llama31_336px /fsx_0/user/tranx/eval/llm_mm_aligner/experiments/aws_adel/eval_31/eval_mmmu.json /fsx_0/checkpoints/tranx/MM9-Pretrain-70B/Llama31_336px_128nodes_bz32_scratch mmmu 6000\n",
      "sbatch --parsable --job-name=eval_mmmu /fsx_0/user/tranx/experiments/eval/sbash_eval.sh Llama31_336px /fsx_0/user/tranx/eval/llm_mm_aligner/experiments/aws_adel/eval_31/eval_mmmu.json /fsx_0/checkpoints/tranx/MM9-Pretrain-70B/Llama31_336px_128nodes_bz32_scratch mmmu 7000\n",
      "sbatch --parsable --job-name=eval_mmmu /fsx_0/user/tranx/experiments/eval/sbash_eval.sh Llama31_336px /fsx_0/user/tranx/eval/llm_mm_aligner/experiments/aws_adel/eval_31/eval_mmmu.json /fsx_0/checkpoints/tranx/MM9-Pretrain-70B/Llama31_336px_128nodes_bz32_scratch mmmu 8000\n",
      "sbatch --parsable --job-name=eval_docvqa /fsx_0/user/tranx/experiments/eval/sbash_eval.sh Llama31_336px /fsx_0/user/tranx/eval/llm_mm_aligner/experiments/aws_adel/eval_31/eval_docvqa.json /fsx_0/checkpoints/tranx/MM9-Pretrain-70B/Llama31_336px_128nodes_bz32_scratch docvqa 2000\n",
      "sbatch --parsable --job-name=eval_docvqa /fsx_0/user/tranx/experiments/eval/sbash_eval.sh Llama31_336px /fsx_0/user/tranx/eval/llm_mm_aligner/experiments/aws_adel/eval_31/eval_docvqa.json /fsx_0/checkpoints/tranx/MM9-Pretrain-70B/Llama31_336px_128nodes_bz32_scratch docvqa 3000\n",
      "sbatch --parsable --job-name=eval_docvqa /fsx_0/user/tranx/experiments/eval/sbash_eval.sh Llama31_336px /fsx_0/user/tranx/eval/llm_mm_aligner/experiments/aws_adel/eval_31/eval_docvqa.json /fsx_0/checkpoints/tranx/MM9-Pretrain-70B/Llama31_336px_128nodes_bz32_scratch docvqa 4000\n",
      "sbatch --parsable --job-name=eval_docvqa /fsx_0/user/tranx/experiments/eval/sbash_eval.sh Llama31_336px /fsx_0/user/tranx/eval/llm_mm_aligner/experiments/aws_adel/eval_31/eval_docvqa.json /fsx_0/checkpoints/tranx/MM9-Pretrain-70B/Llama31_336px_128nodes_bz32_scratch docvqa 5000\n",
      "sbatch --parsable --job-name=eval_docvqa /fsx_0/user/tranx/experiments/eval/sbash_eval.sh Llama31_336px /fsx_0/user/tranx/eval/llm_mm_aligner/experiments/aws_adel/eval_31/eval_docvqa.json /fsx_0/checkpoints/tranx/MM9-Pretrain-70B/Llama31_336px_128nodes_bz32_scratch docvqa 6000\n",
      "sbatch --parsable --job-name=eval_docvqa /fsx_0/user/tranx/experiments/eval/sbash_eval.sh Llama31_336px /fsx_0/user/tranx/eval/llm_mm_aligner/experiments/aws_adel/eval_31/eval_docvqa.json /fsx_0/checkpoints/tranx/MM9-Pretrain-70B/Llama31_336px_128nodes_bz32_scratch docvqa 7000\n",
      "sbatch --parsable --job-name=eval_docvqa /fsx_0/user/tranx/experiments/eval/sbash_eval.sh Llama31_336px /fsx_0/user/tranx/eval/llm_mm_aligner/experiments/aws_adel/eval_31/eval_docvqa.json /fsx_0/checkpoints/tranx/MM9-Pretrain-70B/Llama31_336px_128nodes_bz32_scratch docvqa 8000\n",
      "sbatch --parsable --job-name=eval_mathvista /fsx_0/user/tranx/experiments/eval/sbash_eval.sh Llama31_336px /fsx_0/user/tranx/eval/llm_mm_aligner/experiments/aws_adel/eval_31/eval_mathvista.json /fsx_0/checkpoints/tranx/MM9-Pretrain-70B/Llama31_336px_128nodes_bz32_scratch mathvista 2000\n",
      "sbatch --parsable --job-name=eval_mathvista /fsx_0/user/tranx/experiments/eval/sbash_eval.sh Llama31_336px /fsx_0/user/tranx/eval/llm_mm_aligner/experiments/aws_adel/eval_31/eval_mathvista.json /fsx_0/checkpoints/tranx/MM9-Pretrain-70B/Llama31_336px_128nodes_bz32_scratch mathvista 3000\n",
      "sbatch --parsable --job-name=eval_mathvista /fsx_0/user/tranx/experiments/eval/sbash_eval.sh Llama31_336px /fsx_0/user/tranx/eval/llm_mm_aligner/experiments/aws_adel/eval_31/eval_mathvista.json /fsx_0/checkpoints/tranx/MM9-Pretrain-70B/Llama31_336px_128nodes_bz32_scratch mathvista 4000\n",
      "sbatch --parsable --job-name=eval_mathvista /fsx_0/user/tranx/experiments/eval/sbash_eval.sh Llama31_336px /fsx_0/user/tranx/eval/llm_mm_aligner/experiments/aws_adel/eval_31/eval_mathvista.json /fsx_0/checkpoints/tranx/MM9-Pretrain-70B/Llama31_336px_128nodes_bz32_scratch mathvista 5000\n",
      "sbatch --parsable --job-name=eval_mathvista /fsx_0/user/tranx/experiments/eval/sbash_eval.sh Llama31_336px /fsx_0/user/tranx/eval/llm_mm_aligner/experiments/aws_adel/eval_31/eval_mathvista.json /fsx_0/checkpoints/tranx/MM9-Pretrain-70B/Llama31_336px_128nodes_bz32_scratch mathvista 6000\n",
      "sbatch --parsable --job-name=eval_mathvista /fsx_0/user/tranx/experiments/eval/sbash_eval.sh Llama31_336px /fsx_0/user/tranx/eval/llm_mm_aligner/experiments/aws_adel/eval_31/eval_mathvista.json /fsx_0/checkpoints/tranx/MM9-Pretrain-70B/Llama31_336px_128nodes_bz32_scratch mathvista 7000\n",
      "sbatch --parsable --job-name=eval_mathvista /fsx_0/user/tranx/experiments/eval/sbash_eval.sh Llama31_336px /fsx_0/user/tranx/eval/llm_mm_aligner/experiments/aws_adel/eval_31/eval_mathvista.json /fsx_0/checkpoints/tranx/MM9-Pretrain-70B/Llama31_336px_128nodes_bz32_scratch mathvista 8000\n",
      "sbatch --parsable --job-name=eval_ai2d /fsx_0/user/tranx/experiments/eval/sbash_eval.sh Llama31_336px /fsx_0/user/tranx/eval/llm_mm_aligner/experiments/aws_adel/eval_31/eval_ai2d.json /fsx_0/checkpoints/tranx/MM9-Pretrain-70B/Llama31_336px_128nodes_bz32_scratch ai2d 2000\n",
      "sbatch --parsable --job-name=eval_ai2d /fsx_0/user/tranx/experiments/eval/sbash_eval.sh Llama31_336px /fsx_0/user/tranx/eval/llm_mm_aligner/experiments/aws_adel/eval_31/eval_ai2d.json /fsx_0/checkpoints/tranx/MM9-Pretrain-70B/Llama31_336px_128nodes_bz32_scratch ai2d 3000\n",
      "sbatch --parsable --job-name=eval_ai2d /fsx_0/user/tranx/experiments/eval/sbash_eval.sh Llama31_336px /fsx_0/user/tranx/eval/llm_mm_aligner/experiments/aws_adel/eval_31/eval_ai2d.json /fsx_0/checkpoints/tranx/MM9-Pretrain-70B/Llama31_336px_128nodes_bz32_scratch ai2d 4000\n",
      "sbatch --parsable --job-name=eval_ai2d /fsx_0/user/tranx/experiments/eval/sbash_eval.sh Llama31_336px /fsx_0/user/tranx/eval/llm_mm_aligner/experiments/aws_adel/eval_31/eval_ai2d.json /fsx_0/checkpoints/tranx/MM9-Pretrain-70B/Llama31_336px_128nodes_bz32_scratch ai2d 5000\n",
      "sbatch --parsable --job-name=eval_ai2d /fsx_0/user/tranx/experiments/eval/sbash_eval.sh Llama31_336px /fsx_0/user/tranx/eval/llm_mm_aligner/experiments/aws_adel/eval_31/eval_ai2d.json /fsx_0/checkpoints/tranx/MM9-Pretrain-70B/Llama31_336px_128nodes_bz32_scratch ai2d 6000\n",
      "sbatch --parsable --job-name=eval_ai2d /fsx_0/user/tranx/experiments/eval/sbash_eval.sh Llama31_336px /fsx_0/user/tranx/eval/llm_mm_aligner/experiments/aws_adel/eval_31/eval_ai2d.json /fsx_0/checkpoints/tranx/MM9-Pretrain-70B/Llama31_336px_128nodes_bz32_scratch ai2d 7000\n",
      "sbatch --parsable --job-name=eval_ai2d /fsx_0/user/tranx/experiments/eval/sbash_eval.sh Llama31_336px /fsx_0/user/tranx/eval/llm_mm_aligner/experiments/aws_adel/eval_31/eval_ai2d.json /fsx_0/checkpoints/tranx/MM9-Pretrain-70B/Llama31_336px_128nodes_bz32_scratch ai2d 8000\n",
      "sbatch --parsable --job-name=eval_chartqa /fsx_0/user/tranx/experiments/eval/sbash_eval.sh Llama31_336px /fsx_0/user/tranx/eval/llm_mm_aligner/experiments/aws_adel/eval_31/eval_chartqa.json /fsx_0/checkpoints/tranx/MM9-Pretrain-70B/Llama31_336px_128nodes_bz32_scratch chartqa 2000\n",
      "sbatch --parsable --job-name=eval_chartqa /fsx_0/user/tranx/experiments/eval/sbash_eval.sh Llama31_336px /fsx_0/user/tranx/eval/llm_mm_aligner/experiments/aws_adel/eval_31/eval_chartqa.json /fsx_0/checkpoints/tranx/MM9-Pretrain-70B/Llama31_336px_128nodes_bz32_scratch chartqa 3000\n",
      "sbatch --parsable --job-name=eval_chartqa /fsx_0/user/tranx/experiments/eval/sbash_eval.sh Llama31_336px /fsx_0/user/tranx/eval/llm_mm_aligner/experiments/aws_adel/eval_31/eval_chartqa.json /fsx_0/checkpoints/tranx/MM9-Pretrain-70B/Llama31_336px_128nodes_bz32_scratch chartqa 4000\n",
      "sbatch --parsable --job-name=eval_chartqa /fsx_0/user/tranx/experiments/eval/sbash_eval.sh Llama31_336px /fsx_0/user/tranx/eval/llm_mm_aligner/experiments/aws_adel/eval_31/eval_chartqa.json /fsx_0/checkpoints/tranx/MM9-Pretrain-70B/Llama31_336px_128nodes_bz32_scratch chartqa 5000\n",
      "sbatch --parsable --job-name=eval_chartqa /fsx_0/user/tranx/experiments/eval/sbash_eval.sh Llama31_336px /fsx_0/user/tranx/eval/llm_mm_aligner/experiments/aws_adel/eval_31/eval_chartqa.json /fsx_0/checkpoints/tranx/MM9-Pretrain-70B/Llama31_336px_128nodes_bz32_scratch chartqa 6000\n",
      "sbatch --parsable --job-name=eval_chartqa /fsx_0/user/tranx/experiments/eval/sbash_eval.sh Llama31_336px /fsx_0/user/tranx/eval/llm_mm_aligner/experiments/aws_adel/eval_31/eval_chartqa.json /fsx_0/checkpoints/tranx/MM9-Pretrain-70B/Llama31_336px_128nodes_bz32_scratch chartqa 7000\n",
      "sbatch --parsable --job-name=eval_chartqa /fsx_0/user/tranx/experiments/eval/sbash_eval.sh Llama31_336px /fsx_0/user/tranx/eval/llm_mm_aligner/experiments/aws_adel/eval_31/eval_chartqa.json /fsx_0/checkpoints/tranx/MM9-Pretrain-70B/Llama31_336px_128nodes_bz32_scratch chartqa 8000\n",
      "sbatch --parsable --job-name=eval_vqa /fsx_0/user/tranx/experiments/eval/sbash_eval.sh Llama31_336px /fsx_0/user/tranx/eval/llm_mm_aligner/experiments/aws_adel/eval_31/eval_vqa.json /fsx_0/checkpoints/tranx/MM9-Pretrain-70B/Llama31_336px_128nodes_bz32_scratch vqa 2000\n",
      "sbatch --parsable --job-name=eval_vqa /fsx_0/user/tranx/experiments/eval/sbash_eval.sh Llama31_336px /fsx_0/user/tranx/eval/llm_mm_aligner/experiments/aws_adel/eval_31/eval_vqa.json /fsx_0/checkpoints/tranx/MM9-Pretrain-70B/Llama31_336px_128nodes_bz32_scratch vqa 3000\n",
      "sbatch --parsable --job-name=eval_vqa /fsx_0/user/tranx/experiments/eval/sbash_eval.sh Llama31_336px /fsx_0/user/tranx/eval/llm_mm_aligner/experiments/aws_adel/eval_31/eval_vqa.json /fsx_0/checkpoints/tranx/MM9-Pretrain-70B/Llama31_336px_128nodes_bz32_scratch vqa 4000\n",
      "sbatch --parsable --job-name=eval_vqa /fsx_0/user/tranx/experiments/eval/sbash_eval.sh Llama31_336px /fsx_0/user/tranx/eval/llm_mm_aligner/experiments/aws_adel/eval_31/eval_vqa.json /fsx_0/checkpoints/tranx/MM9-Pretrain-70B/Llama31_336px_128nodes_bz32_scratch vqa 5000\n",
      "sbatch --parsable --job-name=eval_vqa /fsx_0/user/tranx/experiments/eval/sbash_eval.sh Llama31_336px /fsx_0/user/tranx/eval/llm_mm_aligner/experiments/aws_adel/eval_31/eval_vqa.json /fsx_0/checkpoints/tranx/MM9-Pretrain-70B/Llama31_336px_128nodes_bz32_scratch vqa 6000\n",
      "sbatch --parsable --job-name=eval_vqa /fsx_0/user/tranx/experiments/eval/sbash_eval.sh Llama31_336px /fsx_0/user/tranx/eval/llm_mm_aligner/experiments/aws_adel/eval_31/eval_vqa.json /fsx_0/checkpoints/tranx/MM9-Pretrain-70B/Llama31_336px_128nodes_bz32_scratch vqa 7000\n",
      "sbatch --parsable --job-name=eval_vqa /fsx_0/user/tranx/experiments/eval/sbash_eval.sh Llama31_336px /fsx_0/user/tranx/eval/llm_mm_aligner/experiments/aws_adel/eval_31/eval_vqa.json /fsx_0/checkpoints/tranx/MM9-Pretrain-70B/Llama31_336px_128nodes_bz32_scratch vqa 8000\n",
      "sbatch --parsable --job-name=eval_textvqa /fsx_0/user/tranx/experiments/eval/sbash_eval.sh Llama31_336px /fsx_0/user/tranx/eval/llm_mm_aligner/experiments/aws_adel/eval_31/eval_textvqa.json /fsx_0/checkpoints/tranx/MM9-Pretrain-70B/Llama31_336px_128nodes_bz32_scratch textvqa 2000\n",
      "sbatch --parsable --job-name=eval_textvqa /fsx_0/user/tranx/experiments/eval/sbash_eval.sh Llama31_336px /fsx_0/user/tranx/eval/llm_mm_aligner/experiments/aws_adel/eval_31/eval_textvqa.json /fsx_0/checkpoints/tranx/MM9-Pretrain-70B/Llama31_336px_128nodes_bz32_scratch textvqa 3000\n",
      "sbatch --parsable --job-name=eval_textvqa /fsx_0/user/tranx/experiments/eval/sbash_eval.sh Llama31_336px /fsx_0/user/tranx/eval/llm_mm_aligner/experiments/aws_adel/eval_31/eval_textvqa.json /fsx_0/checkpoints/tranx/MM9-Pretrain-70B/Llama31_336px_128nodes_bz32_scratch textvqa 4000\n",
      "sbatch --parsable --job-name=eval_textvqa /fsx_0/user/tranx/experiments/eval/sbash_eval.sh Llama31_336px /fsx_0/user/tranx/eval/llm_mm_aligner/experiments/aws_adel/eval_31/eval_textvqa.json /fsx_0/checkpoints/tranx/MM9-Pretrain-70B/Llama31_336px_128nodes_bz32_scratch textvqa 5000\n",
      "sbatch --parsable --job-name=eval_textvqa /fsx_0/user/tranx/experiments/eval/sbash_eval.sh Llama31_336px /fsx_0/user/tranx/eval/llm_mm_aligner/experiments/aws_adel/eval_31/eval_textvqa.json /fsx_0/checkpoints/tranx/MM9-Pretrain-70B/Llama31_336px_128nodes_bz32_scratch textvqa 6000\n",
      "sbatch --parsable --job-name=eval_textvqa /fsx_0/user/tranx/experiments/eval/sbash_eval.sh Llama31_336px /fsx_0/user/tranx/eval/llm_mm_aligner/experiments/aws_adel/eval_31/eval_textvqa.json /fsx_0/checkpoints/tranx/MM9-Pretrain-70B/Llama31_336px_128nodes_bz32_scratch textvqa 7000\n",
      "sbatch --parsable --job-name=eval_textvqa /fsx_0/user/tranx/experiments/eval/sbash_eval.sh Llama31_336px /fsx_0/user/tranx/eval/llm_mm_aligner/experiments/aws_adel/eval_31/eval_textvqa.json /fsx_0/checkpoints/tranx/MM9-Pretrain-70B/Llama31_336px_128nodes_bz32_scratch textvqa 8000\n",
      "sbatch --parsable --job-name=eval_infographics_w_ocr /fsx_0/user/tranx/experiments/eval/sbash_eval.sh Llama31_336px /fsx_0/user/tranx/eval/llm_mm_aligner/experiments/aws_adel/eval_31/eval_infographics_w_ocr.json /fsx_0/checkpoints/tranx/MM9-Pretrain-70B/Llama31_336px_128nodes_bz32_scratch infographics_w_ocr 2000\n",
      "sbatch --parsable --job-name=eval_infographics_w_ocr /fsx_0/user/tranx/experiments/eval/sbash_eval.sh Llama31_336px /fsx_0/user/tranx/eval/llm_mm_aligner/experiments/aws_adel/eval_31/eval_infographics_w_ocr.json /fsx_0/checkpoints/tranx/MM9-Pretrain-70B/Llama31_336px_128nodes_bz32_scratch infographics_w_ocr 3000\n",
      "sbatch --parsable --job-name=eval_infographics_w_ocr /fsx_0/user/tranx/experiments/eval/sbash_eval.sh Llama31_336px /fsx_0/user/tranx/eval/llm_mm_aligner/experiments/aws_adel/eval_31/eval_infographics_w_ocr.json /fsx_0/checkpoints/tranx/MM9-Pretrain-70B/Llama31_336px_128nodes_bz32_scratch infographics_w_ocr 4000\n",
      "sbatch --parsable --job-name=eval_infographics_w_ocr /fsx_0/user/tranx/experiments/eval/sbash_eval.sh Llama31_336px /fsx_0/user/tranx/eval/llm_mm_aligner/experiments/aws_adel/eval_31/eval_infographics_w_ocr.json /fsx_0/checkpoints/tranx/MM9-Pretrain-70B/Llama31_336px_128nodes_bz32_scratch infographics_w_ocr 5000\n",
      "sbatch --parsable --job-name=eval_infographics_w_ocr /fsx_0/user/tranx/experiments/eval/sbash_eval.sh Llama31_336px /fsx_0/user/tranx/eval/llm_mm_aligner/experiments/aws_adel/eval_31/eval_infographics_w_ocr.json /fsx_0/checkpoints/tranx/MM9-Pretrain-70B/Llama31_336px_128nodes_bz32_scratch infographics_w_ocr 6000\n",
      "sbatch --parsable --job-name=eval_infographics_w_ocr /fsx_0/user/tranx/experiments/eval/sbash_eval.sh Llama31_336px /fsx_0/user/tranx/eval/llm_mm_aligner/experiments/aws_adel/eval_31/eval_infographics_w_ocr.json /fsx_0/checkpoints/tranx/MM9-Pretrain-70B/Llama31_336px_128nodes_bz32_scratch infographics_w_ocr 7000\n",
      "sbatch --parsable --job-name=eval_infographics_w_ocr /fsx_0/user/tranx/experiments/eval/sbash_eval.sh Llama31_336px /fsx_0/user/tranx/eval/llm_mm_aligner/experiments/aws_adel/eval_31/eval_infographics_w_ocr.json /fsx_0/checkpoints/tranx/MM9-Pretrain-70B/Llama31_336px_128nodes_bz32_scratch infographics_w_ocr 8000\n",
      "sbatch --parsable --job-name=eval_infographics /fsx_0/user/tranx/experiments/eval/sbash_eval.sh Llama31_336px /fsx_0/user/tranx/eval/llm_mm_aligner/experiments/aws_adel/eval_31/eval_infographics.json /fsx_0/checkpoints/tranx/MM9-Pretrain-70B/Llama31_336px_128nodes_bz32_scratch infographics 2000\n",
      "sbatch --parsable --job-name=eval_infographics /fsx_0/user/tranx/experiments/eval/sbash_eval.sh Llama31_336px /fsx_0/user/tranx/eval/llm_mm_aligner/experiments/aws_adel/eval_31/eval_infographics.json /fsx_0/checkpoints/tranx/MM9-Pretrain-70B/Llama31_336px_128nodes_bz32_scratch infographics 3000\n",
      "sbatch --parsable --job-name=eval_infographics /fsx_0/user/tranx/experiments/eval/sbash_eval.sh Llama31_336px /fsx_0/user/tranx/eval/llm_mm_aligner/experiments/aws_adel/eval_31/eval_infographics.json /fsx_0/checkpoints/tranx/MM9-Pretrain-70B/Llama31_336px_128nodes_bz32_scratch infographics 4000\n",
      "sbatch --parsable --job-name=eval_infographics /fsx_0/user/tranx/experiments/eval/sbash_eval.sh Llama31_336px /fsx_0/user/tranx/eval/llm_mm_aligner/experiments/aws_adel/eval_31/eval_infographics.json /fsx_0/checkpoints/tranx/MM9-Pretrain-70B/Llama31_336px_128nodes_bz32_scratch infographics 5000\n",
      "sbatch --parsable --job-name=eval_infographics /fsx_0/user/tranx/experiments/eval/sbash_eval.sh Llama31_336px /fsx_0/user/tranx/eval/llm_mm_aligner/experiments/aws_adel/eval_31/eval_infographics.json /fsx_0/checkpoints/tranx/MM9-Pretrain-70B/Llama31_336px_128nodes_bz32_scratch infographics 6000\n",
      "sbatch --parsable --job-name=eval_infographics /fsx_0/user/tranx/experiments/eval/sbash_eval.sh Llama31_336px /fsx_0/user/tranx/eval/llm_mm_aligner/experiments/aws_adel/eval_31/eval_infographics.json /fsx_0/checkpoints/tranx/MM9-Pretrain-70B/Llama31_336px_128nodes_bz32_scratch infographics 7000\n",
      "sbatch --parsable --job-name=eval_infographics /fsx_0/user/tranx/experiments/eval/sbash_eval.sh Llama31_336px /fsx_0/user/tranx/eval/llm_mm_aligner/experiments/aws_adel/eval_31/eval_infographics.json /fsx_0/checkpoints/tranx/MM9-Pretrain-70B/Llama31_336px_128nodes_bz32_scratch infographics 8000\n",
      "sbatch --parsable --job-name=eval_mmbench /fsx_0/user/tranx/experiments/eval/sbash_eval.sh Llama31_336px /fsx_0/user/tranx/eval/llm_mm_aligner/experiments/aws_adel/eval_31/eval_mmbench.json /fsx_0/checkpoints/tranx/MM9-Pretrain-70B/Llama31_336px_128nodes_bz32_scratch mmbench 2000\n",
      "sbatch --parsable --job-name=eval_mmbench /fsx_0/user/tranx/experiments/eval/sbash_eval.sh Llama31_336px /fsx_0/user/tranx/eval/llm_mm_aligner/experiments/aws_adel/eval_31/eval_mmbench.json /fsx_0/checkpoints/tranx/MM9-Pretrain-70B/Llama31_336px_128nodes_bz32_scratch mmbench 3000\n",
      "sbatch --parsable --job-name=eval_mmbench /fsx_0/user/tranx/experiments/eval/sbash_eval.sh Llama31_336px /fsx_0/user/tranx/eval/llm_mm_aligner/experiments/aws_adel/eval_31/eval_mmbench.json /fsx_0/checkpoints/tranx/MM9-Pretrain-70B/Llama31_336px_128nodes_bz32_scratch mmbench 4000\n",
      "sbatch --parsable --job-name=eval_mmbench /fsx_0/user/tranx/experiments/eval/sbash_eval.sh Llama31_336px /fsx_0/user/tranx/eval/llm_mm_aligner/experiments/aws_adel/eval_31/eval_mmbench.json /fsx_0/checkpoints/tranx/MM9-Pretrain-70B/Llama31_336px_128nodes_bz32_scratch mmbench 5000\n",
      "sbatch --parsable --job-name=eval_mmbench /fsx_0/user/tranx/experiments/eval/sbash_eval.sh Llama31_336px /fsx_0/user/tranx/eval/llm_mm_aligner/experiments/aws_adel/eval_31/eval_mmbench.json /fsx_0/checkpoints/tranx/MM9-Pretrain-70B/Llama31_336px_128nodes_bz32_scratch mmbench 6000\n",
      "sbatch --parsable --job-name=eval_mmbench /fsx_0/user/tranx/experiments/eval/sbash_eval.sh Llama31_336px /fsx_0/user/tranx/eval/llm_mm_aligner/experiments/aws_adel/eval_31/eval_mmbench.json /fsx_0/checkpoints/tranx/MM9-Pretrain-70B/Llama31_336px_128nodes_bz32_scratch mmbench 7000\n",
      "sbatch --parsable --job-name=eval_mmbench /fsx_0/user/tranx/experiments/eval/sbash_eval.sh Llama31_336px /fsx_0/user/tranx/eval/llm_mm_aligner/experiments/aws_adel/eval_31/eval_mmbench.json /fsx_0/checkpoints/tranx/MM9-Pretrain-70B/Llama31_336px_128nodes_bz32_scratch mmbench 8000\n"
     ]
    }
   ],
   "source": [
    "# Llama31\n",
    "EVAL_PLAN = \"Llama31_336px\"\n",
    "BASE_SCRIPT = \"/fsx_0/user/tranx/experiments/eval/sbash_eval.sh\"\n",
    "CONFIG_DIR_LLAMA31 = \"/fsx_0/user/tranx/eval/llm_mm_aligner/experiments/aws_adel/eval_31\"\n",
    "CHECKPOINT_DIR_LLAMA31 = \"/fsx_0/checkpoints/tranx/MM9-Pretrain-70B/Llama31_336px_128nodes_bz32_scratch\"\n",
    "\n",
    "all_benchmarks = \"mmmu docvqa mathvista ai2d chartqa vqa textvqa infographics_w_ocr infographics mmbench\"\n",
    "checkpoint_start = 2000\n",
    "checkpoint_end = 8000\n",
    "checkpoint_int = 1000\n",
    "\n",
    "job_dict = {}\n",
    "for benchmark in all_benchmarks.split():\n",
    "    job_dict[benchmark] = {}\n",
    "\n",
    "    for chk in range(checkpoint_start, checkpoint_end + checkpoint_int, checkpoint_int):\n",
    "        params = {\n",
    "            \"eval_plan\": EVAL_PLAN,\n",
    "            \"json_config\": f\"{CONFIG_DIR_LLAMA31}/eval_{benchmark}.json\",\n",
    "            \"checkpoint_dir\": CHECKPOINT_DIR_LLAMA31,\n",
    "            \"benchmark_name\": benchmark,\n",
    "            \"checkpoint_id\": str(chk)\n",
    "        }\n",
    "\n",
    "        assert os.path.exists(params[\"json_config\"])\n",
    "        assert os.path.exists(f\"{params['checkpoint_dir']}/checkpoint-{chk}\")\n",
    "\n",
    "        job_id = run_sbatch_job(\n",
    "            sbatch_base_script=BASE_SCRIPT,\n",
    "            sbatch_overwrite={\n",
    "                \"job-name\": f\"eval_{benchmark}\"\n",
    "            },\n",
    "            positional_env_vars=list(params.values())\n",
    "        )\n",
    "\n",
    "        job_dict[benchmark][chk] = int(job_id)\n",
    "\n",
    "with open(f'job_dict_{EVAL_PLAN}.json', 'w') as f:\n",
    "    json.dump(job_dict, f, indent=4)"
   ]
  },
  {
   "cell_type": "code",
   "execution_count": 113,
   "metadata": {},
   "outputs": [
    {
     "ename": "AssertionError",
     "evalue": "",
     "output_type": "error",
     "traceback": [
      "\u001b[0;31m---------------------------------------------------------------------------\u001b[0m",
      "\u001b[0;31mAssertionError\u001b[0m                            Traceback (most recent call last)",
      "Cell \u001b[0;32mIn[113], line 6\u001b[0m\n\u001b[1;32m      3\u001b[0m checkpoints \u001b[38;5;241m=\u001b[39m [\u001b[38;5;241m8500\u001b[39m, \u001b[38;5;241m9000\u001b[39m, \u001b[38;5;241m9500\u001b[39m]\n\u001b[1;32m      5\u001b[0m job_dict_json \u001b[38;5;241m=\u001b[39m \u001b[38;5;124mf\u001b[39m\u001b[38;5;124m'\u001b[39m\u001b[38;5;124mjob_dict_\u001b[39m\u001b[38;5;132;01m{\u001b[39;00mEVAL_PLAN\u001b[38;5;132;01m}\u001b[39;00m\u001b[38;5;124m.json\u001b[39m\u001b[38;5;124m'\u001b[39m\n\u001b[0;32m----> 6\u001b[0m \u001b[38;5;28;01massert\u001b[39;00m \u001b[38;5;129;01mnot\u001b[39;00m os\u001b[38;5;241m.\u001b[39mpath\u001b[38;5;241m.\u001b[39mexists(job_dict_json)\n\u001b[1;32m      8\u001b[0m BASE_SCRIPT \u001b[38;5;241m=\u001b[39m \u001b[38;5;124m\"\u001b[39m\u001b[38;5;124m/fsx_0/user/tranx/experiments/eval/sbash_eval.sh\u001b[39m\u001b[38;5;124m\"\u001b[39m\n\u001b[1;32m      9\u001b[0m CONFIG_DIR_LLAMA31 \u001b[38;5;241m=\u001b[39m \u001b[38;5;124m\"\u001b[39m\u001b[38;5;124m/fsx_0/user/tranx/eval/llm_mm_aligner/experiments/aws_adel/eval_31\u001b[39m\u001b[38;5;124m\"\u001b[39m\n",
      "\u001b[0;31mAssertionError\u001b[0m: "
     ]
    }
   ],
   "source": [
    "# Llama31\n",
    "EVAL_PLAN = \"Llama31_336px_8500_9500\"\n",
    "checkpoints = [8500, 9000, 9500]\n",
    "\n",
    "job_dict_json = f'job_dict_{EVAL_PLAN}.json'\n",
    "assert not os.path.exists(job_dict_json)\n",
    "\n",
    "BASE_SCRIPT = \"/fsx_0/user/tranx/experiments/eval/sbash_eval.sh\"\n",
    "CONFIG_DIR_LLAMA31 = \"/fsx_0/user/tranx/eval/llm_mm_aligner/experiments/aws_adel/eval_31\"\n",
    "CHECKPOINT_DIR_LLAMA31 = \"/fsx_0/checkpoints/tranx/MM9-Pretrain-70B/Llama31_336px_128nodes_bz32_scratch\"\n",
    "\n",
    "all_benchmarks = \"mmmu docvqa mathvista ai2d chartqa vqa textvqa infographics_w_ocr infographics mmbench\"\n",
    "\n",
    "job_dict = {}\n",
    "for benchmark in all_benchmarks.split():\n",
    "    job_dict[benchmark] = {}\n",
    "\n",
    "    for chk in checkpoints:\n",
    "        params = {\n",
    "            \"eval_plan\": EVAL_PLAN,\n",
    "            \"json_config\": f\"{CONFIG_DIR_LLAMA31}/eval_{benchmark}.json\",\n",
    "            \"checkpoint_dir\": CHECKPOINT_DIR_LLAMA31,\n",
    "            \"benchmark_name\": benchmark,\n",
    "            \"checkpoint_id\": str(chk)\n",
    "        }\n",
    "\n",
    "        assert os.path.exists(params[\"json_config\"])\n",
    "        assert os.path.exists(f\"{params['checkpoint_dir']}/checkpoint-{chk}\")\n",
    "\n",
    "        job_id = run_job(\n",
    "            sbatch_base_script=BASE_SCRIPT,\n",
    "            sbatch_overwrite={\n",
    "                \"job-name\": f\"eval_{benchmark}\"\n",
    "            },\n",
    "            positional_env_vars=list(params.values())\n",
    "        )\n",
    "\n",
    "        job_dict[benchmark][chk] = int(job_id)\n",
    "\n",
    "with open(job_dict_json, 'w') as f:\n",
    "    json.dump(job_dict, f, indent=4)\n",
    "\n",
    "print(f\"Saved job_dict to {job_dict_json}\")"
   ]
  },
  {
   "cell_type": "code",
   "execution_count": 73,
   "metadata": {},
   "outputs": [
    {
     "data": {
      "text/plain": [
       "{'mmmu': {2000: 9759,\n",
       "  3000: 9760,\n",
       "  4000: 9761,\n",
       "  5000: 9762,\n",
       "  6000: 9763,\n",
       "  7000: 9764,\n",
       "  8000: 9765},\n",
       " 'docvqa': {2000: 9766,\n",
       "  3000: 9767,\n",
       "  4000: 9768,\n",
       "  5000: 9769,\n",
       "  6000: 9770,\n",
       "  7000: 9771,\n",
       "  8000: 9772},\n",
       " 'mathvista': {2000: 9773,\n",
       "  3000: 9774,\n",
       "  4000: 9775,\n",
       "  5000: 9776,\n",
       "  6000: 9777,\n",
       "  7000: 9778,\n",
       "  8000: 9779},\n",
       " 'ai2d': {2000: 9780,\n",
       "  3000: 9781,\n",
       "  4000: 9782,\n",
       "  5000: 9783,\n",
       "  6000: 9784,\n",
       "  7000: 9785,\n",
       "  8000: 9786},\n",
       " 'chartqa': {2000: 9787,\n",
       "  3000: 9788,\n",
       "  4000: 9789,\n",
       "  5000: 9790,\n",
       "  6000: 9791,\n",
       "  7000: 9792,\n",
       "  8000: 9793},\n",
       " 'vqa': {2000: 9794,\n",
       "  3000: 9795,\n",
       "  4000: 9796,\n",
       "  5000: 9797,\n",
       "  6000: 9798,\n",
       "  7000: 9799,\n",
       "  8000: 9800},\n",
       " 'textvqa': {2000: 9801,\n",
       "  3000: 9802,\n",
       "  4000: 9803,\n",
       "  5000: 9804,\n",
       "  6000: 9805,\n",
       "  7000: 9806,\n",
       "  8000: 9807},\n",
       " 'infographics_w_ocr': {2000: 9808,\n",
       "  3000: 9809,\n",
       "  4000: 9810,\n",
       "  5000: 9811,\n",
       "  6000: 9812,\n",
       "  7000: 9813,\n",
       "  8000: 9814},\n",
       " 'infographics': {2000: 9815,\n",
       "  3000: 9816,\n",
       "  4000: 9817,\n",
       "  5000: 9818,\n",
       "  6000: 9819,\n",
       "  7000: 9820,\n",
       "  8000: 9821},\n",
       " 'mmbench': {2000: 9822,\n",
       "  3000: 9823,\n",
       "  4000: 9824,\n",
       "  5000: 9825,\n",
       "  6000: 9826,\n",
       "  7000: 9827,\n",
       "  8000: 9828}}"
      ]
     },
     "execution_count": 73,
     "metadata": {},
     "output_type": "execute_result"
    }
   ],
   "source": [
    "job_dict"
   ]
  },
  {
   "cell_type": "markdown",
   "metadata": {},
   "source": [
    "## Llama31 - 10000"
   ]
  },
  {
   "cell_type": "code",
   "execution_count": 3,
   "metadata": {},
   "outputs": [
    {
     "name": "stdout",
     "output_type": "stream",
     "text": [
      "sbatch --parsable --job-name=eval_mmmu /fsx_0/user/tranx/experiments/eval/sbash_eval.sh Llama31_10k /fsx_0/user/tranx/eval/llm_mm_aligner/experiments/aws_adel/eval_31/eval_mmmu.json /fsx_0/checkpoints/tranx/MM9-Pretrain-70B/Llama31_336px_128nodes_bz32_scratch mmmu 10000\n",
      "sbatch --parsable --job-name=eval_docvqa /fsx_0/user/tranx/experiments/eval/sbash_eval.sh Llama31_10k /fsx_0/user/tranx/eval/llm_mm_aligner/experiments/aws_adel/eval_31/eval_docvqa.json /fsx_0/checkpoints/tranx/MM9-Pretrain-70B/Llama31_336px_128nodes_bz32_scratch docvqa 10000\n",
      "sbatch --parsable --job-name=eval_mathvista /fsx_0/user/tranx/experiments/eval/sbash_eval.sh Llama31_10k /fsx_0/user/tranx/eval/llm_mm_aligner/experiments/aws_adel/eval_31/eval_mathvista.json /fsx_0/checkpoints/tranx/MM9-Pretrain-70B/Llama31_336px_128nodes_bz32_scratch mathvista 10000\n",
      "sbatch --parsable --job-name=eval_ai2d /fsx_0/user/tranx/experiments/eval/sbash_eval.sh Llama31_10k /fsx_0/user/tranx/eval/llm_mm_aligner/experiments/aws_adel/eval_31/eval_ai2d.json /fsx_0/checkpoints/tranx/MM9-Pretrain-70B/Llama31_336px_128nodes_bz32_scratch ai2d 10000\n",
      "sbatch --parsable --job-name=eval_chartqa /fsx_0/user/tranx/experiments/eval/sbash_eval.sh Llama31_10k /fsx_0/user/tranx/eval/llm_mm_aligner/experiments/aws_adel/eval_31/eval_chartqa.json /fsx_0/checkpoints/tranx/MM9-Pretrain-70B/Llama31_336px_128nodes_bz32_scratch chartqa 10000\n",
      "sbatch --parsable --job-name=eval_vqa /fsx_0/user/tranx/experiments/eval/sbash_eval.sh Llama31_10k /fsx_0/user/tranx/eval/llm_mm_aligner/experiments/aws_adel/eval_31/eval_vqa.json /fsx_0/checkpoints/tranx/MM9-Pretrain-70B/Llama31_336px_128nodes_bz32_scratch vqa 10000\n",
      "sbatch --parsable --job-name=eval_textvqa /fsx_0/user/tranx/experiments/eval/sbash_eval.sh Llama31_10k /fsx_0/user/tranx/eval/llm_mm_aligner/experiments/aws_adel/eval_31/eval_textvqa.json /fsx_0/checkpoints/tranx/MM9-Pretrain-70B/Llama31_336px_128nodes_bz32_scratch textvqa 10000\n",
      "sbatch --parsable --job-name=eval_infographics_w_ocr /fsx_0/user/tranx/experiments/eval/sbash_eval.sh Llama31_10k /fsx_0/user/tranx/eval/llm_mm_aligner/experiments/aws_adel/eval_31/eval_infographics_w_ocr.json /fsx_0/checkpoints/tranx/MM9-Pretrain-70B/Llama31_336px_128nodes_bz32_scratch infographics_w_ocr 10000\n",
      "sbatch --parsable --job-name=eval_infographics /fsx_0/user/tranx/experiments/eval/sbash_eval.sh Llama31_10k /fsx_0/user/tranx/eval/llm_mm_aligner/experiments/aws_adel/eval_31/eval_infographics.json /fsx_0/checkpoints/tranx/MM9-Pretrain-70B/Llama31_336px_128nodes_bz32_scratch infographics 10000\n",
      "sbatch --parsable --job-name=eval_mmbench /fsx_0/user/tranx/experiments/eval/sbash_eval.sh Llama31_10k /fsx_0/user/tranx/eval/llm_mm_aligner/experiments/aws_adel/eval_31/eval_mmbench.json /fsx_0/checkpoints/tranx/MM9-Pretrain-70B/Llama31_336px_128nodes_bz32_scratch mmbench 10000\n",
      "job_dict saved to job_dict_Llama31_10k.json\n"
     ]
    },
    {
     "data": {
      "text/plain": [
       "{'mmmu': {10000: 10008},\n",
       " 'docvqa': {10000: 10009},\n",
       " 'mathvista': {10000: 10010},\n",
       " 'ai2d': {10000: 10011},\n",
       " 'chartqa': {10000: 10012},\n",
       " 'vqa': {10000: 10013},\n",
       " 'textvqa': {10000: 10014},\n",
       " 'infographics_w_ocr': {10000: 10015},\n",
       " 'infographics': {10000: 10016},\n",
       " 'mmbench': {10000: 10017}}"
      ]
     },
     "execution_count": 3,
     "metadata": {},
     "output_type": "execute_result"
    }
   ],
   "source": [
    "job_dict_lm31_10k = eval_helper.run_eval_plan(\n",
    "    eval_base_sbatch=\"/fsx_0/user/tranx/experiments/eval/sbash_eval.sh\",\n",
    "    eval_plan=\"Llama31_10k\",\n",
    "    eval_config_dir=\"/fsx_0/user/tranx/eval/llm_mm_aligner/experiments/aws_adel/eval_31\",\n",
    "    checkpoint_dir=\"/fsx_0/checkpoints/tranx/MM9-Pretrain-70B/Llama31_336px_128nodes_bz32_scratch\",\n",
    "    checkpoints=[10000],\n",
    "    # benchmarks=[\"mathvista\"]\n",
    ")\n",
    "\n",
    "job_dict_lm31_10k"
   ]
  },
  {
   "cell_type": "markdown",
   "metadata": {},
   "source": [
    "## Llama31 - fb"
   ]
  },
  {
   "cell_type": "code",
   "execution_count": 6,
   "metadata": {},
   "outputs": [
    {
     "name": "stdout",
     "output_type": "stream",
     "text": [
      "sbatch --parsable --job-name=eval_mmmu /fsx_0/user/tranx/experiments/eval/sbash_eval.sh FBL_Llama31 /fsx_0/user/tranx/eval/llm_mm_aligner/experiments/aws_adel/eval_31/eval_mmmu.json /fsx_0/checkpoints/tranx/fb_llama3.1 mmmu 8000\n",
      "sbatch --parsable --job-name=eval_mmmu /fsx_0/user/tranx/experiments/eval/sbash_eval.sh FBL_Llama31 /fsx_0/user/tranx/eval/llm_mm_aligner/experiments/aws_adel/eval_31/eval_mmmu.json /fsx_0/checkpoints/tranx/fb_llama3.1 mmmu 10000\n",
      "sbatch --parsable --job-name=eval_docvqa /fsx_0/user/tranx/experiments/eval/sbash_eval.sh FBL_Llama31 /fsx_0/user/tranx/eval/llm_mm_aligner/experiments/aws_adel/eval_31/eval_docvqa.json /fsx_0/checkpoints/tranx/fb_llama3.1 docvqa 8000\n",
      "sbatch --parsable --job-name=eval_docvqa /fsx_0/user/tranx/experiments/eval/sbash_eval.sh FBL_Llama31 /fsx_0/user/tranx/eval/llm_mm_aligner/experiments/aws_adel/eval_31/eval_docvqa.json /fsx_0/checkpoints/tranx/fb_llama3.1 docvqa 10000\n",
      "sbatch --parsable --job-name=eval_mathvista /fsx_0/user/tranx/experiments/eval/sbash_eval.sh FBL_Llama31 /fsx_0/user/tranx/eval/llm_mm_aligner/experiments/aws_adel/eval_31/eval_mathvista.json /fsx_0/checkpoints/tranx/fb_llama3.1 mathvista 8000\n",
      "sbatch --parsable --job-name=eval_mathvista /fsx_0/user/tranx/experiments/eval/sbash_eval.sh FBL_Llama31 /fsx_0/user/tranx/eval/llm_mm_aligner/experiments/aws_adel/eval_31/eval_mathvista.json /fsx_0/checkpoints/tranx/fb_llama3.1 mathvista 10000\n",
      "sbatch --parsable --job-name=eval_ai2d /fsx_0/user/tranx/experiments/eval/sbash_eval.sh FBL_Llama31 /fsx_0/user/tranx/eval/llm_mm_aligner/experiments/aws_adel/eval_31/eval_ai2d.json /fsx_0/checkpoints/tranx/fb_llama3.1 ai2d 8000\n",
      "sbatch --parsable --job-name=eval_ai2d /fsx_0/user/tranx/experiments/eval/sbash_eval.sh FBL_Llama31 /fsx_0/user/tranx/eval/llm_mm_aligner/experiments/aws_adel/eval_31/eval_ai2d.json /fsx_0/checkpoints/tranx/fb_llama3.1 ai2d 10000\n",
      "sbatch --parsable --job-name=eval_chartqa /fsx_0/user/tranx/experiments/eval/sbash_eval.sh FBL_Llama31 /fsx_0/user/tranx/eval/llm_mm_aligner/experiments/aws_adel/eval_31/eval_chartqa.json /fsx_0/checkpoints/tranx/fb_llama3.1 chartqa 8000\n",
      "sbatch --parsable --job-name=eval_chartqa /fsx_0/user/tranx/experiments/eval/sbash_eval.sh FBL_Llama31 /fsx_0/user/tranx/eval/llm_mm_aligner/experiments/aws_adel/eval_31/eval_chartqa.json /fsx_0/checkpoints/tranx/fb_llama3.1 chartqa 10000\n",
      "sbatch --parsable --job-name=eval_vqa /fsx_0/user/tranx/experiments/eval/sbash_eval.sh FBL_Llama31 /fsx_0/user/tranx/eval/llm_mm_aligner/experiments/aws_adel/eval_31/eval_vqa.json /fsx_0/checkpoints/tranx/fb_llama3.1 vqa 8000\n",
      "sbatch --parsable --job-name=eval_vqa /fsx_0/user/tranx/experiments/eval/sbash_eval.sh FBL_Llama31 /fsx_0/user/tranx/eval/llm_mm_aligner/experiments/aws_adel/eval_31/eval_vqa.json /fsx_0/checkpoints/tranx/fb_llama3.1 vqa 10000\n",
      "sbatch --parsable --job-name=eval_textvqa /fsx_0/user/tranx/experiments/eval/sbash_eval.sh FBL_Llama31 /fsx_0/user/tranx/eval/llm_mm_aligner/experiments/aws_adel/eval_31/eval_textvqa.json /fsx_0/checkpoints/tranx/fb_llama3.1 textvqa 8000\n",
      "sbatch --parsable --job-name=eval_textvqa /fsx_0/user/tranx/experiments/eval/sbash_eval.sh FBL_Llama31 /fsx_0/user/tranx/eval/llm_mm_aligner/experiments/aws_adel/eval_31/eval_textvqa.json /fsx_0/checkpoints/tranx/fb_llama3.1 textvqa 10000\n",
      "sbatch --parsable --job-name=eval_infographics_w_ocr /fsx_0/user/tranx/experiments/eval/sbash_eval.sh FBL_Llama31 /fsx_0/user/tranx/eval/llm_mm_aligner/experiments/aws_adel/eval_31/eval_infographics_w_ocr.json /fsx_0/checkpoints/tranx/fb_llama3.1 infographics_w_ocr 8000\n",
      "sbatch --parsable --job-name=eval_infographics_w_ocr /fsx_0/user/tranx/experiments/eval/sbash_eval.sh FBL_Llama31 /fsx_0/user/tranx/eval/llm_mm_aligner/experiments/aws_adel/eval_31/eval_infographics_w_ocr.json /fsx_0/checkpoints/tranx/fb_llama3.1 infographics_w_ocr 10000\n",
      "sbatch --parsable --job-name=eval_infographics /fsx_0/user/tranx/experiments/eval/sbash_eval.sh FBL_Llama31 /fsx_0/user/tranx/eval/llm_mm_aligner/experiments/aws_adel/eval_31/eval_infographics.json /fsx_0/checkpoints/tranx/fb_llama3.1 infographics 8000\n",
      "sbatch --parsable --job-name=eval_infographics /fsx_0/user/tranx/experiments/eval/sbash_eval.sh FBL_Llama31 /fsx_0/user/tranx/eval/llm_mm_aligner/experiments/aws_adel/eval_31/eval_infographics.json /fsx_0/checkpoints/tranx/fb_llama3.1 infographics 10000\n",
      "sbatch --parsable --job-name=eval_mmbench /fsx_0/user/tranx/experiments/eval/sbash_eval.sh FBL_Llama31 /fsx_0/user/tranx/eval/llm_mm_aligner/experiments/aws_adel/eval_31/eval_mmbench.json /fsx_0/checkpoints/tranx/fb_llama3.1 mmbench 8000\n",
      "sbatch --parsable --job-name=eval_mmbench /fsx_0/user/tranx/experiments/eval/sbash_eval.sh FBL_Llama31 /fsx_0/user/tranx/eval/llm_mm_aligner/experiments/aws_adel/eval_31/eval_mmbench.json /fsx_0/checkpoints/tranx/fb_llama3.1 mmbench 10000\n",
      "job_dict saved to job_dict_FBL_Llama31.json\n"
     ]
    }
   ],
   "source": [
    "job_dict_fb_lm31 = eval_helper.run_eval_plan(\n",
    "    eval_base_sbatch=\"/fsx_0/user/tranx/experiments/eval/sbash_eval.sh\",\n",
    "    eval_plan=\"FBL_Llama31\",\n",
    "    eval_config_dir=\"/fsx_0/user/tranx/eval/llm_mm_aligner/experiments/aws_adel/eval_31\",\n",
    "    checkpoint_dir=\"/fsx_0/checkpoints/tranx/fb_llama3.1\",\n",
    "    checkpoints=[8000, 10000],\n",
    "    # benchmarks=[\"mathvista\"]\n",
    ")"
   ]
  },
  {
   "cell_type": "markdown",
   "metadata": {},
   "source": [
    "## MH19"
   ]
  },
  {
   "cell_type": "code",
   "execution_count": 1,
   "metadata": {},
   "outputs": [
    {
     "data": {
      "text/plain": [
       "[10500, 11500, 12500, 13500, 14500, 15500, 16500, 17500, 18500]"
      ]
     },
     "execution_count": 1,
     "metadata": {},
     "output_type": "execute_result"
    }
   ],
   "source": [
    "checkpoints = [10500 + i*1000 for i in range(9)]\n",
    "checkpoints"
   ]
  },
  {
   "cell_type": "code",
   "execution_count": 3,
   "metadata": {},
   "outputs": [
    {
     "ename": "RuntimeError",
     "evalue": "Found existing job_dict: eval/logs/job_dict_MH19_10500_18500.json",
     "output_type": "error",
     "traceback": [
      "\u001b[0;31m---------------------------------------------------------------------------\u001b[0m",
      "\u001b[0;31mRuntimeError\u001b[0m                              Traceback (most recent call last)",
      "Cell \u001b[0;32mIn[3], line 1\u001b[0m\n\u001b[0;32m----> 1\u001b[0m job_dict_mh19 \u001b[38;5;241m=\u001b[39m \u001b[43meval_helper\u001b[49m\u001b[38;5;241;43m.\u001b[39;49m\u001b[43mrun_eval_plan\u001b[49m\u001b[43m(\u001b[49m\n\u001b[1;32m      2\u001b[0m \u001b[43m    \u001b[49m\u001b[43meval_base_sbatch\u001b[49m\u001b[38;5;241;43m=\u001b[39;49m\u001b[38;5;124;43m\"\u001b[39;49m\u001b[38;5;124;43m/fsx_0/user/tranx/experiments/eval/sbash_eval.sh\u001b[39;49m\u001b[38;5;124;43m\"\u001b[39;49m\u001b[43m,\u001b[49m\n\u001b[1;32m      3\u001b[0m \u001b[43m    \u001b[49m\u001b[43meval_plan\u001b[49m\u001b[38;5;241;43m=\u001b[39;49m\u001b[38;5;124;43m\"\u001b[39;49m\u001b[38;5;124;43mMH19_10500_18500\u001b[39;49m\u001b[38;5;124;43m\"\u001b[39;49m\u001b[43m,\u001b[49m\n\u001b[1;32m      4\u001b[0m \u001b[43m    \u001b[49m\u001b[43meval_config_dir\u001b[49m\u001b[38;5;241;43m=\u001b[39;49m\u001b[38;5;124;43m\"\u001b[39;49m\u001b[38;5;124;43m/fsx_0/user/tranx/eval/llm_mm_aligner/experiments/aws_adel/eval\u001b[39;49m\u001b[38;5;124;43m\"\u001b[39;49m\u001b[43m,\u001b[49m\n\u001b[1;32m      5\u001b[0m \u001b[43m    \u001b[49m\u001b[43mcheckpoint_dir\u001b[49m\u001b[38;5;241;43m=\u001b[39;49m\u001b[38;5;124;43m\"\u001b[39;49m\u001b[38;5;124;43m/fsx_0/checkpoints/tranx/MM9-Pretrain-70B/MH19_336px_128nodes_bz32_resume\u001b[39;49m\u001b[38;5;124;43m\"\u001b[39;49m\u001b[43m,\u001b[49m\n\u001b[1;32m      6\u001b[0m \u001b[43m    \u001b[49m\u001b[43mcheckpoints\u001b[49m\u001b[38;5;241;43m=\u001b[39;49m\u001b[43m[\u001b[49m\u001b[38;5;241;43m10500\u001b[39;49m\u001b[43m \u001b[49m\u001b[38;5;241;43m+\u001b[39;49m\u001b[43m \u001b[49m\u001b[43mi\u001b[49m\u001b[38;5;241;43m*\u001b[39;49m\u001b[38;5;241;43m1000\u001b[39;49m\u001b[43m \u001b[49m\u001b[38;5;28;43;01mfor\u001b[39;49;00m\u001b[43m \u001b[49m\u001b[43mi\u001b[49m\u001b[43m \u001b[49m\u001b[38;5;129;43;01min\u001b[39;49;00m\u001b[43m \u001b[49m\u001b[38;5;28;43mrange\u001b[39;49m\u001b[43m(\u001b[49m\u001b[38;5;241;43m9\u001b[39;49m\u001b[43m)\u001b[49m\u001b[43m]\u001b[49m\u001b[43m,\u001b[49m\n\u001b[1;32m      7\u001b[0m \u001b[43m    \u001b[49m\u001b[38;5;66;43;03m# benchmarks=[\"mathvista\"]\u001b[39;49;00m\n\u001b[1;32m      8\u001b[0m \u001b[43m)\u001b[49m\n",
      "File \u001b[0;32m/opt/hpcaas/.mounts/fs-06bc3d6b93146dddd/user/tranx/experiments/eval_helper.py:41\u001b[0m, in \u001b[0;36mrun_eval_plan\u001b[0;34m(eval_base_sbatch, eval_plan, eval_config_dir, checkpoint_dir, checkpoints, benchmarks, rerun_if_exists)\u001b[0m\n\u001b[1;32m     39\u001b[0m job_dict_json \u001b[38;5;241m=\u001b[39m \u001b[38;5;124mf\u001b[39m\u001b[38;5;124m'\u001b[39m\u001b[38;5;124meval/logs/job_dict_\u001b[39m\u001b[38;5;132;01m{\u001b[39;00meval_plan\u001b[38;5;132;01m}\u001b[39;00m\u001b[38;5;124m.json\u001b[39m\u001b[38;5;124m'\u001b[39m\n\u001b[1;32m     40\u001b[0m \u001b[38;5;28;01mif\u001b[39;00m os\u001b[38;5;241m.\u001b[39mpath\u001b[38;5;241m.\u001b[39mexists(job_dict_json) \u001b[38;5;129;01mand\u001b[39;00m \u001b[38;5;129;01mnot\u001b[39;00m rerun_if_exists:\n\u001b[0;32m---> 41\u001b[0m     \u001b[38;5;28;01mraise\u001b[39;00m \u001b[38;5;167;01mRuntimeError\u001b[39;00m(\u001b[38;5;124mf\u001b[39m\u001b[38;5;124m\"\u001b[39m\u001b[38;5;124mFound existing job_dict: \u001b[39m\u001b[38;5;132;01m{\u001b[39;00mjob_dict_json\u001b[38;5;132;01m}\u001b[39;00m\u001b[38;5;124m\"\u001b[39m)\n\u001b[1;32m     43\u001b[0m \u001b[38;5;28;01mif\u001b[39;00m benchmarks \u001b[38;5;129;01mis\u001b[39;00m \u001b[38;5;28;01mNone\u001b[39;00m:\n\u001b[1;32m     44\u001b[0m     benchmarks \u001b[38;5;241m=\u001b[39m ALL_BENCHMARKS\n",
      "\u001b[0;31mRuntimeError\u001b[0m: Found existing job_dict: eval/logs/job_dict_MH19_10500_18500.json"
     ]
    }
   ],
   "source": [
    "job_dict_mh19 = eval_helper.run_eval_plan(\n",
    "    eval_base_sbatch=\"/fsx_0/user/tranx/experiments/eval/sbash_eval.sh\",\n",
    "    eval_plan=\"MH19_10500_18500\",\n",
    "    eval_config_dir=\"/fsx_0/user/tranx/eval/llm_mm_aligner/experiments/aws_adel/eval\",\n",
    "    checkpoint_dir=\"/fsx_0/checkpoints/tranx/MM9-Pretrain-70B/MH19_336px_128nodes_bz32_resume\",\n",
    "    checkpoints=[10500 + i*1000 for i in range(9)],\n",
    "    # benchmarks=[\"mathvista\"]\n",
    ")"
   ]
  },
  {
   "cell_type": "code",
   "execution_count": 12,
   "metadata": {},
   "outputs": [
    {
     "name": "stdout",
     "output_type": "stream",
     "text": [
      "Got result for mmmu - 10500\n",
      "Got result for mmmu - 11500\n",
      "Got result for mmmu - 12500\n",
      "Got result for mmmu - 13500\n",
      "Got result for mmmu - 14500\n",
      "Got result for mmmu - 15500\n",
      "Got result for mmmu - 16500\n",
      "Got result for mmmu - 17500\n",
      "Got result for mmmu - 18500\n",
      "Got result for docvqa - 10500\n",
      "Got result for docvqa - 11500\n",
      "Got result for docvqa - 12500\n",
      "Got result for docvqa - 13500\n",
      "Got result for docvqa - 14500\n",
      "Got result for docvqa - 15500\n",
      "Got result for docvqa - 16500\n",
      "Got result for docvqa - 17500\n",
      "Got result for docvqa - 18500\n",
      "Got result for mathvista - 10500\n",
      "Got result for mathvista - 11500\n",
      "Got result for mathvista - 12500\n",
      "Got result for mathvista - 13500\n",
      "Got result for mathvista - 14500\n",
      "Got result for mathvista - 15500\n",
      "Got result for mathvista - 16500\n",
      "Got result for mathvista - 17500\n",
      "Got result for mathvista - 18500\n",
      "Got result for ai2d - 10500\n",
      "Got result for ai2d - 11500\n",
      "Got result for ai2d - 12500\n",
      "Got result for ai2d - 13500\n",
      "Got result for ai2d - 14500\n",
      "Got result for ai2d - 15500\n",
      "Got result for ai2d - 16500\n",
      "Got result for ai2d - 17500\n",
      "Got result for ai2d - 18500\n",
      "Got result for chartqa - 10500\n",
      "Got result for chartqa - 11500\n",
      "Got result for chartqa - 12500\n",
      "Got result for chartqa - 13500\n",
      "Got result for chartqa - 14500\n",
      "Got result for chartqa - 15500\n",
      "Got result for chartqa - 16500\n",
      "Got result for chartqa - 17500\n",
      "Got result for chartqa - 18500\n",
      "Got result for vqa - 10500\n",
      "Got result for vqa - 11500\n",
      "Got result for vqa - 12500\n",
      "Got result for vqa - 13500\n",
      "Got result for vqa - 14500\n",
      "Got result for vqa - 15500\n",
      "Got result for vqa - 16500\n",
      "Got result for vqa - 17500\n",
      "Got result for vqa - 18500\n",
      "Got result for textvqa - 10500\n",
      "Got result for textvqa - 11500\n",
      "Got result for textvqa - 12500\n",
      "Got result for textvqa - 13500\n",
      "Got result for textvqa - 14500\n",
      "Got result for textvqa - 15500\n",
      "Got result for textvqa - 16500\n",
      "Got result for textvqa - 17500\n",
      "Got result for textvqa - 18500\n",
      "Got result for infographics_w_ocr - 10500\n",
      "Got result for infographics_w_ocr - 11500\n",
      "Got result for infographics_w_ocr - 12500\n",
      "Got result for infographics_w_ocr - 13500\n",
      "Got result for infographics_w_ocr - 14500\n",
      "Got result for infographics_w_ocr - 15500\n",
      "Got result for infographics_w_ocr - 16500\n",
      "Got result for infographics_w_ocr - 17500\n",
      "Got result for infographics_w_ocr - 18500\n",
      "Got result for infographics - 10500\n",
      "Got result for infographics - 11500\n",
      "Got result for infographics - 12500\n",
      "Got result for infographics - 13500\n",
      "Got result for infographics - 14500\n",
      "Got result for infographics - 15500\n",
      "Got result for infographics - 16500\n",
      "Got result for infographics - 17500\n",
      "Got result for infographics - 18500\n",
      "Got result for mmbench - 10500\n",
      "Got result for mmbench - 11500\n",
      "Got result for mmbench - 12500\n",
      "Got result for mmbench - 13500\n",
      "Got result for mmbench - 14500\n",
      "Got result for mmbench - 15500\n",
      "Got result for mmbench - 16500\n",
      "Got result for mmbench - 17500\n",
      "Got result for mmbench - 18500\n"
     ]
    }
   ],
   "source": [
    "df = eval_helper.get_eval_scores(job_dict_mh19)"
   ]
  },
  {
   "cell_type": "code",
   "execution_count": 13,
   "metadata": {},
   "outputs": [
    {
     "data": {
      "text/plain": [
       "mmmu/accuracy                                    0.5878\n",
       "mmmu/mllm_eval_accuracy                          0.5889\n",
       "docvqa/anls_total_score                          0.6201\n",
       "docvqa/mllm_evaluation_anls_score                0.6216\n",
       "mathvista/accuracy                                0.377\n",
       "ai2d/accuracy                                    0.7704\n",
       "chartqa/accuracy                                 0.4914\n",
       "vqa/accuracy                                     0.7035\n",
       "vqa/mllm_evaluation_accuracy                     0.7256\n",
       "textvqa/accuracy                                 66.898\n",
       "textvqa/mllm_eval_accuracy                       71.578\n",
       "infographics_w_ocr/anls_total_score              0.6256\n",
       "infographics_w_ocr/mllm_evaluation_anls_score    0.5712\n",
       "infographics/anls_total_score                    0.4798\n",
       "infographics/mllm_evaluation_anls_score          0.4177\n",
       "mmbench/overall                                  0.7422\n",
       "Name: 17500, dtype: object"
      ]
     },
     "execution_count": 13,
     "metadata": {},
     "output_type": "execute_result"
    }
   ],
   "source": [
    "df.loc[17500]"
   ]
  },
  {
   "cell_type": "code",
   "execution_count": null,
   "metadata": {},
   "outputs": [],
   "source": []
  },
  {
   "cell_type": "markdown",
   "metadata": {},
   "source": [
    "# Parse results"
   ]
  },
  {
   "cell_type": "code",
   "execution_count": 1,
   "metadata": {},
   "outputs": [
    {
     "ename": "NameError",
     "evalue": "name 'json' is not defined",
     "output_type": "error",
     "traceback": [
      "\u001b[0;31m---------------------------------------------------------------------------\u001b[0m",
      "\u001b[0;31mNameError\u001b[0m                                 Traceback (most recent call last)",
      "Cell \u001b[0;32mIn[1], line 5\u001b[0m\n\u001b[1;32m      2\u001b[0m job_dict_file \u001b[38;5;241m=\u001b[39m \u001b[38;5;124m'\u001b[39m\u001b[38;5;124mjob_dict_Llama31_336px_8500_9500.json\u001b[39m\u001b[38;5;124m'\u001b[39m\n\u001b[1;32m      4\u001b[0m \u001b[38;5;28;01mwith\u001b[39;00m \u001b[38;5;28mopen\u001b[39m(job_dict_file, \u001b[38;5;124m'\u001b[39m\u001b[38;5;124mr\u001b[39m\u001b[38;5;124m'\u001b[39m) \u001b[38;5;28;01mas\u001b[39;00m f:\n\u001b[0;32m----> 5\u001b[0m     job_dict \u001b[38;5;241m=\u001b[39m \u001b[43mjson\u001b[49m\u001b[38;5;241m.\u001b[39mload(f)\n\u001b[1;32m      7\u001b[0m df \u001b[38;5;241m=\u001b[39m eval_helper\u001b[38;5;241m.\u001b[39mget_eval_scores(job_dict)\n\u001b[1;32m      8\u001b[0m df\n",
      "\u001b[0;31mNameError\u001b[0m: name 'json' is not defined"
     ]
    }
   ],
   "source": [
    "# job_dict_file = 'job_dict_Llama31_336px.json'\n",
    "job_dict_file = 'job_dict_Llama31_336px_8500_9500.json'\n",
    "\n",
    "with open(job_dict_file, 'r') as f:\n",
    "    job_dict = json.load(f)\n",
    "\n",
    "df = eval_helper.get_eval_scores(job_dict)\n",
    "df"
   ]
  },
  {
   "cell_type": "code",
   "execution_count": 4,
   "metadata": {},
   "outputs": [
    {
     "name": "stdout",
     "output_type": "stream",
     "text": [
      "Got result for mmmu - 8000\n",
      "Got result for mmmu - 10000\n",
      "Got result for docvqa - 8000\n",
      "Got result for docvqa - 10000\n",
      "Got result for mathvista - 8000\n",
      "Got result for mathvista - 10000\n",
      "Got result for ai2d - 8000\n",
      "Got result for ai2d - 10000\n",
      "Got result for chartqa - 8000\n",
      "Got result for chartqa - 10000\n",
      "Got result for vqa - 8000\n",
      "Got result for vqa - 10000\n",
      "Got result for textvqa - 8000\n",
      "Got result for textvqa - 10000\n",
      "Got result for infographics_w_ocr - 8000\n",
      "Got result for infographics_w_ocr - 10000\n",
      "Got result for infographics - 8000\n",
      "Got result for infographics - 10000\n",
      "Got result for mmbench - 8000\n",
      "Got result for mmbench - 10000\n"
     ]
    },
    {
     "data": {
      "text/html": [
       "<div>\n",
       "<style scoped>\n",
       "    .dataframe tbody tr th:only-of-type {\n",
       "        vertical-align: middle;\n",
       "    }\n",
       "\n",
       "    .dataframe tbody tr th {\n",
       "        vertical-align: top;\n",
       "    }\n",
       "\n",
       "    .dataframe thead th {\n",
       "        text-align: right;\n",
       "    }\n",
       "</style>\n",
       "<table border=\"1\" class=\"dataframe\">\n",
       "  <thead>\n",
       "    <tr style=\"text-align: right;\">\n",
       "      <th></th>\n",
       "      <th>mmmu/accuracy</th>\n",
       "      <th>mmmu/mllm_eval_accuracy</th>\n",
       "      <th>docvqa/anls_total_score</th>\n",
       "      <th>docvqa/mllm_evaluation_anls_score</th>\n",
       "      <th>mathvista/accuracy</th>\n",
       "      <th>ai2d/accuracy</th>\n",
       "      <th>chartqa/accuracy</th>\n",
       "      <th>vqa/accuracy</th>\n",
       "      <th>vqa/mllm_evaluation_accuracy</th>\n",
       "      <th>textvqa/accuracy</th>\n",
       "      <th>textvqa/mllm_eval_accuracy</th>\n",
       "      <th>infographics_w_ocr/anls_total_score</th>\n",
       "      <th>infographics_w_ocr/mllm_evaluation_anls_score</th>\n",
       "      <th>infographics/anls_total_score</th>\n",
       "      <th>infographics/mllm_evaluation_anls_score</th>\n",
       "      <th>mmbench/overall</th>\n",
       "    </tr>\n",
       "  </thead>\n",
       "  <tbody>\n",
       "    <tr>\n",
       "      <th>8000</th>\n",
       "      <td>0.5067</td>\n",
       "      <td>0.5156</td>\n",
       "      <td>0.5386</td>\n",
       "      <td>0.5411</td>\n",
       "      <td>0.344</td>\n",
       "      <td>0.7121</td>\n",
       "      <td>0.4746</td>\n",
       "      <td>0.6831</td>\n",
       "      <td>0.7137</td>\n",
       "      <td>59.028</td>\n",
       "      <td>65.38</td>\n",
       "      <td>0.5902</td>\n",
       "      <td>0.536</td>\n",
       "      <td>0.4384</td>\n",
       "      <td>0.3746</td>\n",
       "      <td>0.6635</td>\n",
       "    </tr>\n",
       "    <tr>\n",
       "      <th>10000</th>\n",
       "      <td>0.4744</td>\n",
       "      <td>0.4822</td>\n",
       "      <td>0.54</td>\n",
       "      <td>0.5432</td>\n",
       "      <td>0.348</td>\n",
       "      <td>0.6953</td>\n",
       "      <td>0.4578</td>\n",
       "      <td>0.6931</td>\n",
       "      <td>0.7224</td>\n",
       "      <td>59.414</td>\n",
       "      <td>65.708</td>\n",
       "      <td>0.592</td>\n",
       "      <td>0.5354</td>\n",
       "      <td>0.4472</td>\n",
       "      <td>0.3785</td>\n",
       "      <td>0.6772</td>\n",
       "    </tr>\n",
       "  </tbody>\n",
       "</table>\n",
       "</div>"
      ],
      "text/plain": [
       "      mmmu/accuracy mmmu/mllm_eval_accuracy docvqa/anls_total_score  \\\n",
       "8000         0.5067                  0.5156                  0.5386   \n",
       "10000        0.4744                  0.4822                    0.54   \n",
       "\n",
       "      docvqa/mllm_evaluation_anls_score mathvista/accuracy ai2d/accuracy  \\\n",
       "8000                             0.5411              0.344        0.7121   \n",
       "10000                            0.5432              0.348        0.6953   \n",
       "\n",
       "      chartqa/accuracy vqa/accuracy vqa/mllm_evaluation_accuracy  \\\n",
       "8000            0.4746       0.6831                       0.7137   \n",
       "10000           0.4578       0.6931                       0.7224   \n",
       "\n",
       "      textvqa/accuracy textvqa/mllm_eval_accuracy  \\\n",
       "8000            59.028                      65.38   \n",
       "10000           59.414                     65.708   \n",
       "\n",
       "      infographics_w_ocr/anls_total_score  \\\n",
       "8000                               0.5902   \n",
       "10000                               0.592   \n",
       "\n",
       "      infographics_w_ocr/mllm_evaluation_anls_score  \\\n",
       "8000                                          0.536   \n",
       "10000                                        0.5354   \n",
       "\n",
       "      infographics/anls_total_score infographics/mllm_evaluation_anls_score  \\\n",
       "8000                         0.4384                                  0.3746   \n",
       "10000                        0.4472                                  0.3785   \n",
       "\n",
       "      mmbench/overall  \n",
       "8000           0.6635  \n",
       "10000          0.6772  "
      ]
     },
     "execution_count": 4,
     "metadata": {},
     "output_type": "execute_result"
    }
   ],
   "source": [
    "job_dict_file = 'job_dict_FBL_Llama31.json'\n",
    "with open(job_dict_file, 'r') as f:\n",
    "    job_dict = json.load(f)\n",
    "\n",
    "df2 = eval_helper.get_eval_scores(job_dict)\n",
    "df2"
   ]
  },
  {
   "cell_type": "markdown",
   "metadata": {},
   "source": [
    "# Stage 2"
   ]
  },
  {
   "cell_type": "code",
   "execution_count": 10,
   "metadata": {},
   "outputs": [
    {
     "name": "stdout",
     "output_type": "stream",
     "text": [
      "checkpoint-1000  checkpoint-1400  checkpoint-400  checkpoint-800  tensorboard\n",
      "checkpoint-1200  checkpoint-200   checkpoint-600  runs\n"
     ]
    }
   ],
   "source": [
    "!ls /fsx_0/checkpoints/tranx/MM9-Stage2-70B/MH19_336px_128nodes_exp28"
   ]
  },
  {
   "cell_type": "code",
   "execution_count": 7,
   "metadata": {},
   "outputs": [
    {
     "data": {
      "text/plain": [
       "[200, 400, 600, 800, 1000]"
      ]
     },
     "execution_count": 7,
     "metadata": {},
     "output_type": "execute_result"
    }
   ],
   "source": [
    "checkpoints = list(range(200, 1000 + 200, 200))\n",
    "# len(checkpoints) * len(eval_helper.ALL_BENCHMARKS)\n",
    "# checkpoints = [4800]\n",
    "checkpoints"
   ]
  },
  {
   "cell_type": "code",
   "execution_count": 13,
   "metadata": {},
   "outputs": [],
   "source": [
    "EVAL_SBATCH = \"/fsx_0/user/tranx/experiments/eval/sbash_eval.sh\"\n",
    "EVAL_CONFIG_DIR = \"/fsx_0/user/tranx/eval/llm_mm_aligner/experiments/aws_adel/eval\""
   ]
  },
  {
   "cell_type": "markdown",
   "metadata": {},
   "source": [
    "## Exp 28"
   ]
  },
  {
   "cell_type": "code",
   "execution_count": 11,
   "metadata": {},
   "outputs": [
    {
     "name": "stdout",
     "output_type": "stream",
     "text": [
      "sbatch --parsable --job-name=eval_mmmu /fsx_0/user/tranx/experiments/eval/sbash_eval.sh stage2_MH19_336px_128nodes_exp28_1200 /fsx_0/user/tranx/eval/llm_mm_aligner/experiments/aws_adel/eval/eval_mmmu.json /fsx_0/checkpoints/tranx/MM9-Stage2-70B/MH19_336px_128nodes_exp28 mmmu 1200\n",
      "sbatch --parsable --job-name=eval_docvqa /fsx_0/user/tranx/experiments/eval/sbash_eval.sh stage2_MH19_336px_128nodes_exp28_1200 /fsx_0/user/tranx/eval/llm_mm_aligner/experiments/aws_adel/eval/eval_docvqa.json /fsx_0/checkpoints/tranx/MM9-Stage2-70B/MH19_336px_128nodes_exp28 docvqa 1200\n",
      "sbatch --parsable --job-name=eval_mathvista /fsx_0/user/tranx/experiments/eval/sbash_eval.sh stage2_MH19_336px_128nodes_exp28_1200 /fsx_0/user/tranx/eval/llm_mm_aligner/experiments/aws_adel/eval/eval_mathvista.json /fsx_0/checkpoints/tranx/MM9-Stage2-70B/MH19_336px_128nodes_exp28 mathvista 1200\n",
      "sbatch --parsable --job-name=eval_ai2d /fsx_0/user/tranx/experiments/eval/sbash_eval.sh stage2_MH19_336px_128nodes_exp28_1200 /fsx_0/user/tranx/eval/llm_mm_aligner/experiments/aws_adel/eval/eval_ai2d.json /fsx_0/checkpoints/tranx/MM9-Stage2-70B/MH19_336px_128nodes_exp28 ai2d 1200\n",
      "sbatch --parsable --job-name=eval_chartqa /fsx_0/user/tranx/experiments/eval/sbash_eval.sh stage2_MH19_336px_128nodes_exp28_1200 /fsx_0/user/tranx/eval/llm_mm_aligner/experiments/aws_adel/eval/eval_chartqa.json /fsx_0/checkpoints/tranx/MM9-Stage2-70B/MH19_336px_128nodes_exp28 chartqa 1200\n",
      "sbatch --parsable --job-name=eval_vqa /fsx_0/user/tranx/experiments/eval/sbash_eval.sh stage2_MH19_336px_128nodes_exp28_1200 /fsx_0/user/tranx/eval/llm_mm_aligner/experiments/aws_adel/eval/eval_vqa.json /fsx_0/checkpoints/tranx/MM9-Stage2-70B/MH19_336px_128nodes_exp28 vqa 1200\n",
      "sbatch --parsable --job-name=eval_textvqa /fsx_0/user/tranx/experiments/eval/sbash_eval.sh stage2_MH19_336px_128nodes_exp28_1200 /fsx_0/user/tranx/eval/llm_mm_aligner/experiments/aws_adel/eval/eval_textvqa.json /fsx_0/checkpoints/tranx/MM9-Stage2-70B/MH19_336px_128nodes_exp28 textvqa 1200\n",
      "sbatch --parsable --job-name=eval_infographics_w_ocr /fsx_0/user/tranx/experiments/eval/sbash_eval.sh stage2_MH19_336px_128nodes_exp28_1200 /fsx_0/user/tranx/eval/llm_mm_aligner/experiments/aws_adel/eval/eval_infographics_w_ocr.json /fsx_0/checkpoints/tranx/MM9-Stage2-70B/MH19_336px_128nodes_exp28 infographics_w_ocr 1200\n",
      "sbatch --parsable --job-name=eval_infographics /fsx_0/user/tranx/experiments/eval/sbash_eval.sh stage2_MH19_336px_128nodes_exp28_1200 /fsx_0/user/tranx/eval/llm_mm_aligner/experiments/aws_adel/eval/eval_infographics.json /fsx_0/checkpoints/tranx/MM9-Stage2-70B/MH19_336px_128nodes_exp28 infographics 1200\n",
      "sbatch --parsable --job-name=eval_mmbench /fsx_0/user/tranx/experiments/eval/sbash_eval.sh stage2_MH19_336px_128nodes_exp28_1200 /fsx_0/user/tranx/eval/llm_mm_aligner/experiments/aws_adel/eval/eval_mmbench.json /fsx_0/checkpoints/tranx/MM9-Stage2-70B/MH19_336px_128nodes_exp28 mmbench 1200\n",
      "job_dict saved to eval/logs/job_dict_stage2_MH19_336px_128nodes_exp28_1200.json\n",
      "sbatch --parsable --job-name=eval_mmmu /fsx_0/user/tranx/experiments/eval/sbash_eval.sh stage2_MH19_336px_128nodes_exp28_1400 /fsx_0/user/tranx/eval/llm_mm_aligner/experiments/aws_adel/eval/eval_mmmu.json /fsx_0/checkpoints/tranx/MM9-Stage2-70B/MH19_336px_128nodes_exp28 mmmu 1400\n",
      "sbatch --parsable --job-name=eval_docvqa /fsx_0/user/tranx/experiments/eval/sbash_eval.sh stage2_MH19_336px_128nodes_exp28_1400 /fsx_0/user/tranx/eval/llm_mm_aligner/experiments/aws_adel/eval/eval_docvqa.json /fsx_0/checkpoints/tranx/MM9-Stage2-70B/MH19_336px_128nodes_exp28 docvqa 1400\n",
      "sbatch --parsable --job-name=eval_mathvista /fsx_0/user/tranx/experiments/eval/sbash_eval.sh stage2_MH19_336px_128nodes_exp28_1400 /fsx_0/user/tranx/eval/llm_mm_aligner/experiments/aws_adel/eval/eval_mathvista.json /fsx_0/checkpoints/tranx/MM9-Stage2-70B/MH19_336px_128nodes_exp28 mathvista 1400\n",
      "sbatch --parsable --job-name=eval_ai2d /fsx_0/user/tranx/experiments/eval/sbash_eval.sh stage2_MH19_336px_128nodes_exp28_1400 /fsx_0/user/tranx/eval/llm_mm_aligner/experiments/aws_adel/eval/eval_ai2d.json /fsx_0/checkpoints/tranx/MM9-Stage2-70B/MH19_336px_128nodes_exp28 ai2d 1400\n",
      "sbatch --parsable --job-name=eval_chartqa /fsx_0/user/tranx/experiments/eval/sbash_eval.sh stage2_MH19_336px_128nodes_exp28_1400 /fsx_0/user/tranx/eval/llm_mm_aligner/experiments/aws_adel/eval/eval_chartqa.json /fsx_0/checkpoints/tranx/MM9-Stage2-70B/MH19_336px_128nodes_exp28 chartqa 1400\n",
      "sbatch --parsable --job-name=eval_vqa /fsx_0/user/tranx/experiments/eval/sbash_eval.sh stage2_MH19_336px_128nodes_exp28_1400 /fsx_0/user/tranx/eval/llm_mm_aligner/experiments/aws_adel/eval/eval_vqa.json /fsx_0/checkpoints/tranx/MM9-Stage2-70B/MH19_336px_128nodes_exp28 vqa 1400\n",
      "sbatch --parsable --job-name=eval_textvqa /fsx_0/user/tranx/experiments/eval/sbash_eval.sh stage2_MH19_336px_128nodes_exp28_1400 /fsx_0/user/tranx/eval/llm_mm_aligner/experiments/aws_adel/eval/eval_textvqa.json /fsx_0/checkpoints/tranx/MM9-Stage2-70B/MH19_336px_128nodes_exp28 textvqa 1400\n",
      "sbatch --parsable --job-name=eval_infographics_w_ocr /fsx_0/user/tranx/experiments/eval/sbash_eval.sh stage2_MH19_336px_128nodes_exp28_1400 /fsx_0/user/tranx/eval/llm_mm_aligner/experiments/aws_adel/eval/eval_infographics_w_ocr.json /fsx_0/checkpoints/tranx/MM9-Stage2-70B/MH19_336px_128nodes_exp28 infographics_w_ocr 1400\n",
      "sbatch --parsable --job-name=eval_infographics /fsx_0/user/tranx/experiments/eval/sbash_eval.sh stage2_MH19_336px_128nodes_exp28_1400 /fsx_0/user/tranx/eval/llm_mm_aligner/experiments/aws_adel/eval/eval_infographics.json /fsx_0/checkpoints/tranx/MM9-Stage2-70B/MH19_336px_128nodes_exp28 infographics 1400\n",
      "sbatch --parsable --job-name=eval_mmbench /fsx_0/user/tranx/experiments/eval/sbash_eval.sh stage2_MH19_336px_128nodes_exp28_1400 /fsx_0/user/tranx/eval/llm_mm_aligner/experiments/aws_adel/eval/eval_mmbench.json /fsx_0/checkpoints/tranx/MM9-Stage2-70B/MH19_336px_128nodes_exp28 mmbench 1400\n",
      "job_dict saved to eval/logs/job_dict_stage2_MH19_336px_128nodes_exp28_1400.json\n"
     ]
    }
   ],
   "source": [
    "checkpoints = [1200, 1400]\n",
    "for c in checkpoints:\n",
    "    plan_dict = eval_helper.run_eval_plan(\n",
    "        eval_base_sbatch=EVAL_SBATCH,\n",
    "        eval_plan=f\"stage2_MH19_336px_128nodes_exp28_{c}\",\n",
    "        eval_config_dir=EVAL_CONFIG_DIR,\n",
    "        checkpoint_dir=\"/fsx_0/checkpoints/tranx/MM9-Stage2-70B/MH19_336px_128nodes_exp28\",\n",
    "        checkpoints=[c]\n",
    "    )\n",
    "\n",
    "# for c in checkpoints:\n",
    "#     plan_dict = eval_helper.run_eval_plan(\n",
    "#         eval_base_sbatch=\"/fsx_0/user/tranx/experiments/eval/sbash_eval.sh\",\n",
    "#         eval_plan=f\"stage2_MH19_336px_128nodes_exp_{c}\",\n",
    "#         eval_config_dir=\"/fsx_0/user/tranx/eval/llm_mm_aligner/experiments/aws_adel/eval\",\n",
    "#         checkpoint_dir=\"/fsx_0/checkpoints/tranx/MM9-Stage2-70B/MH19_336px_128nodes_exp\",\n",
    "#         checkpoints=[c],\n",
    "#         rerun_if_exists=False\n",
    "#     )"
   ]
  },
  {
   "cell_type": "code",
   "execution_count": 17,
   "metadata": {},
   "outputs": [
    {
     "name": "stdout",
     "output_type": "stream",
     "text": [
      "200 eval/logs/job_dict_stage2_MH19_336px_128nodes_exp_200.json\n",
      "Got result for mmmu - 200: [('mmmu/accounting', 0.4), ('mmmu/agriculture', 0.6333333333333333), ('mmmu/architecture_and_engineering', 0.23333333333333334), ('mmmu/art', 0.6666666666666666), ('mmmu/art_theory', 0.9333333333333333), ('mmmu/basic_medical_science', 0.7), ('mmmu/biology', 0.43333333333333335), ('mmmu/chemistry', 0.4), ('mmmu/clinical_medicine', 0.6), ('mmmu/computer_science', 0.6), ('mmmu/design', 0.7666666666666667), ('mmmu/diagnostics_and_laboratory_medicine', 0.36666666666666664), ('mmmu/economics', 0.6666666666666666), ('mmmu/electronics', 0.26666666666666666), ('mmmu/energy_and_power', 0.5333333333333333), ('mmmu/finance', 0.5333333333333333), ('mmmu/geography', 0.5333333333333333), ('mmmu/history', 0.7333333333333333), ('mmmu/literature', 0.8), ('mmmu/manage', 0.5666666666666667), ('mmmu/marketing', 0.43333333333333335), ('mmmu/materials', 0.43333333333333335), ('mmmu/math', 0.3333333333333333), ('mmmu/mechanical_engineering', 0.4), ('mmmu/music', 0.3), ('mmmu/pharmacy', 0.7), ('mmmu/physics', 0.5333333333333333), ('mmmu/psychology', 0.6333333333333333), ('mmmu/public_health', 0.6), ('mmmu/sociology', 0.6), ('mmmu/accuracy', 0.5444444444444444), ('mmmu/mllm_eval_accuracy', 0.5555555555555556)]\n",
      "Got result for docvqa - 200: [('docvqa/anls_total_score', 0.648974586635455), ('docvqa/mllm_evaluation_anls_score', 0.6481197547746367), ('docvqa/mmllm_fixed_anls_score', 0.6838029270024617)]\n",
      "Got result for mathvista - 200: [('mathvista/accuracy', 0.391)]\n",
      "Got result for ai2d - 200: [('ai2d/accuracy', 0.7937176165803109)]\n",
      "Got result for chartqa - 200: [('chartqa/accuracy', 0.49371597896623964)]\n",
      "Got result for vqa - 200: [('vqa/accuracy', 0.7255479999999764), ('vqa/recall', 0.7492599999999743), ('vqa/bleu', 0.020937373861670494), ('vqa/mllm_evaluation_accuracy', 0.7450439999999751)]\n",
      "Got result for textvqa - 200: [('textvqa/accuracy', 68.12600000000033), ('textvqa/mllm_eval_accuracy', 73.26600000000035)]\n",
      "Got result for infographics_w_ocr - 200: [('infographics_w_ocr/anls_total_score', 0.6409916230210374), ('infographics_w_ocr/mllm_evaluation_anls_score', 0.5854567964169172), ('infographics_w_ocr/answer_type_multi_span_score', 0.5338974316374145), ('infographics_w_ocr/answer_type_non_extractive_score', 0.6330233359166454), ('infographics_w_ocr/answer_type_question_span_score', 0.7330070539063752), ('infographics_w_ocr/answer_type_single_span_score', 0.6500951211141338), ('infographics_w_ocr/evidence_type_figure_score', 0.6175575898411356), ('infographics_w_ocr/evidence_type_map_score', 0.5759932724041634), ('infographics_w_ocr/evidence_type_table_list_score', 0.6430477870563691), ('infographics_w_ocr/evidence_type_text_score', 0.6880197894970036), ('infographics_w_ocr/evidence_type_visual_layout_score', 0.5443827499957463), ('infographics_w_ocr/reasoning_type_arithmetic_score', 0.6244129158512719), ('infographics_w_ocr/reasoning_type_comparison_score', 0.5369375807695697), ('infographics_w_ocr/reasoning_type_counting_score', 0.6284965034965034)]\n",
      "Got result for infographics - 200: [('infographics/anls_total_score', 0.5379493460605843), ('infographics/mllm_evaluation_anls_score', 0.47600775196257794), ('infographics/answer_type_multi_span_score', 0.36748425796360557), ('infographics/answer_type_non_extractive_score', 0.5428836383628429), ('infographics/answer_type_question_span_score', 0.7130050505050506), ('infographics/answer_type_single_span_score', 0.5466798770418363), ('infographics/evidence_type_figure_score', 0.5290105259537133), ('infographics/evidence_type_map_score', 0.4711856346711625), ('infographics/evidence_type_table_list_score', 0.4989027652359333), ('infographics/evidence_type_text_score', 0.5788382727884572), ('infographics/evidence_type_visual_layout_score', 0.4924818133769208), ('infographics/reasoning_type_arithmetic_score', 0.49103191329218726), ('infographics/reasoning_type_comparison_score', 0.446195245471771), ('infographics/reasoning_type_counting_score', 0.5816433566433565)]\n",
      "Got result for mmbench - 200: [('mmbench/attribute_comparison', 0.5681818181818182), ('mmbench/attribute_recognition', 0.8591549295774648), ('mmbench/celebrity_recognition', 0.9696969696969697), ('mmbench/function_reasoning', 0.8607594936708861), ('mmbench/future_prediction', 0.575), ('mmbench/image_quality', 0.5853658536585366), ('mmbench/image_scene', 0.9519230769230769), ('mmbench/image_style', 0.8679245283018868), ('mmbench/image_topic', 0.9166666666666666), ('mmbench/nature_relation', 0.8541666666666666), ('mmbench/object_localization', 0.4444444444444444), ('mmbench/ocr', 0.8461538461538461), ('mmbench/physical_property_reasoning', 0.6533333333333333), ('mmbench/physical_relation', 0.25), ('mmbench/spatial_relationship', 0.4), ('mmbench/structuralized_imagetext_understanding', 0.6493506493506493), ('mmbench/overall', 0.7380514196021993)]\n",
      "400 eval/logs/job_dict_stage2_MH19_336px_128nodes_exp_400.json\n",
      "Got result for mmmu - 400: [('mmmu/accounting', 0.6), ('mmmu/agriculture', 0.6), ('mmmu/architecture_and_engineering', 0.43333333333333335), ('mmmu/art', 0.7333333333333333), ('mmmu/art_theory', 0.8666666666666667), ('mmmu/basic_medical_science', 0.6), ('mmmu/biology', 0.43333333333333335), ('mmmu/chemistry', 0.4), ('mmmu/clinical_medicine', 0.6333333333333333), ('mmmu/computer_science', 0.5666666666666667), ('mmmu/design', 0.8), ('mmmu/diagnostics_and_laboratory_medicine', 0.4), ('mmmu/economics', 0.6666666666666666), ('mmmu/electronics', 0.36666666666666664), ('mmmu/energy_and_power', 0.5333333333333333), ('mmmu/finance', 0.43333333333333335), ('mmmu/geography', 0.5666666666666667), ('mmmu/history', 0.7333333333333333), ('mmmu/literature', 0.8666666666666667), ('mmmu/manage', 0.5), ('mmmu/marketing', 0.5666666666666667), ('mmmu/materials', 0.4666666666666667), ('mmmu/math', 0.5), ('mmmu/mechanical_engineering', 0.4), ('mmmu/music', 0.26666666666666666), ('mmmu/pharmacy', 0.7333333333333333), ('mmmu/physics', 0.36666666666666664), ('mmmu/psychology', 0.6333333333333333), ('mmmu/public_health', 0.6333333333333333), ('mmmu/sociology', 0.6666666666666666), ('mmmu/accuracy', 0.5655555555555556), ('mmmu/mllm_eval_accuracy', 0.57)]\n",
      "Got result for docvqa - 400: [('docvqa/anls_total_score', 0.6534120102355975), ('docvqa/mllm_evaluation_anls_score', 0.6513522658103867), ('docvqa/mmllm_fixed_anls_score', 0.6844828999693582)]\n",
      "Got result for mathvista - 400: [('mathvista/accuracy', 0.399)]\n",
      "Got result for ai2d - 400: [('ai2d/accuracy', 0.7895077720207254)]\n",
      "Got result for chartqa - 400: [('chartqa/accuracy', 0.49791647438025527)]\n",
      "Got result for vqa - 400: [('vqa/accuracy', 0.7258479999999763), ('vqa/recall', 0.7517559999999741), ('vqa/bleu', 0.0), ('vqa/mllm_evaluation_accuracy', 0.7470839999999748)]\n",
      "Got result for textvqa - 400: [('textvqa/accuracy', 68.66400000000034), ('textvqa/mllm_eval_accuracy', 73.45800000000037)]\n",
      "Got result for infographics_w_ocr - 400: [('infographics_w_ocr/anls_total_score', 0.6333954609425488), ('infographics_w_ocr/mllm_evaluation_anls_score', 0.5798452893172775), ('infographics_w_ocr/answer_type_multi_span_score', 0.505847540654381), ('infographics_w_ocr/answer_type_non_extractive_score', 0.6253293722552313), ('infographics_w_ocr/answer_type_question_span_score', 0.7112121821115034), ('infographics_w_ocr/answer_type_single_span_score', 0.6460722512370143), ('infographics_w_ocr/evidence_type_figure_score', 0.6117414086165958), ('infographics_w_ocr/evidence_type_map_score', 0.5532590759075908), ('infographics_w_ocr/evidence_type_table_list_score', 0.6334879754404233), ('infographics_w_ocr/evidence_type_text_score', 0.6731628556221999), ('infographics_w_ocr/evidence_type_visual_layout_score', 0.5600575002516679), ('infographics_w_ocr/reasoning_type_arithmetic_score', 0.609271037181996), ('infographics_w_ocr/reasoning_type_comparison_score', 0.5240481182359088), ('infographics_w_ocr/reasoning_type_counting_score', 0.6273310023310023)]\n",
      "Got result for infographics - 400: [('infographics/anls_total_score', 0.5391218184507696), ('infographics/mllm_evaluation_anls_score', 0.47887276038929505), ('infographics/answer_type_multi_span_score', 0.38638430186891565), ('infographics/answer_type_non_extractive_score', 0.5447543866621627), ('infographics/answer_type_question_span_score', 0.6992306304806305), ('infographics/answer_type_single_span_score', 0.546695121686073), ('infographics/evidence_type_figure_score', 0.5284556051924668), ('infographics/evidence_type_map_score', 0.4789636273660133), ('infographics/evidence_type_table_list_score', 0.5067757725482563), ('infographics/evidence_type_text_score', 0.5869814975451305), ('infographics/evidence_type_visual_layout_score', 0.4864893326090637), ('infographics/reasoning_type_arithmetic_score', 0.5110702368407846), ('infographics/reasoning_type_comparison_score', 0.4765089285749754), ('infographics/reasoning_type_counting_score', 0.5652680652680652)]\n",
      "Got result for mmbench - 400: [('mmbench/attribute_comparison', 0.5681818181818182), ('mmbench/attribute_recognition', 0.8732394366197183), ('mmbench/celebrity_recognition', 0.9696969696969697), ('mmbench/function_reasoning', 0.8481012658227848), ('mmbench/future_prediction', 0.6), ('mmbench/image_quality', 0.5365853658536586), ('mmbench/image_scene', 0.9519230769230769), ('mmbench/image_style', 0.8867924528301887), ('mmbench/image_topic', 0.8888888888888888), ('mmbench/nature_relation', 0.8125), ('mmbench/object_localization', 0.48148148148148145), ('mmbench/ocr', 0.7948717948717948), ('mmbench/physical_property_reasoning', 0.68), ('mmbench/physical_relation', 0.2916666666666667), ('mmbench/spatial_relationship', 0.4), ('mmbench/structuralized_imagetext_understanding', 0.6363636363636364), ('mmbench/overall', 0.7352971577832469)]\n",
      "600 eval/logs/job_dict_stage2_MH19_336px_128nodes_exp_600.json\n",
      "Got result for mmmu - 600: [('mmmu/accounting', 0.4666666666666667), ('mmmu/agriculture', 0.5333333333333333), ('mmmu/architecture_and_engineering', 0.3333333333333333), ('mmmu/art', 0.7), ('mmmu/art_theory', 0.8), ('mmmu/basic_medical_science', 0.6333333333333333), ('mmmu/biology', 0.36666666666666664), ('mmmu/chemistry', 0.4), ('mmmu/clinical_medicine', 0.6), ('mmmu/computer_science', 0.5666666666666667), ('mmmu/design', 0.8), ('mmmu/diagnostics_and_laboratory_medicine', 0.4), ('mmmu/economics', 0.6), ('mmmu/electronics', 0.36666666666666664), ('mmmu/energy_and_power', 0.5333333333333333), ('mmmu/finance', 0.5666666666666667), ('mmmu/geography', 0.5), ('mmmu/history', 0.8333333333333334), ('mmmu/literature', 0.8333333333333334), ('mmmu/manage', 0.43333333333333335), ('mmmu/marketing', 0.5666666666666667), ('mmmu/materials', 0.4), ('mmmu/math', 0.5), ('mmmu/mechanical_engineering', 0.4), ('mmmu/music', 0.26666666666666666), ('mmmu/pharmacy', 0.7), ('mmmu/physics', 0.36666666666666664), ('mmmu/psychology', 0.6333333333333333), ('mmmu/public_health', 0.5333333333333333), ('mmmu/sociology', 0.6666666666666666), ('mmmu/accuracy', 0.5433333333333333), ('mmmu/mllm_eval_accuracy', 0.5566666666666666)]\n",
      "Got result for docvqa - 600: [('docvqa/anls_total_score', 0.6575888089569821), ('docvqa/mllm_evaluation_anls_score', 0.657276969036617), ('docvqa/mmllm_fixed_anls_score', 0.6929927830043519)]\n",
      "Got result for mathvista - 600: [('mathvista/accuracy', 0.379)]\n",
      "Got result for ai2d - 600: [('ai2d/accuracy', 0.7946891191709845)]\n",
      "Got result for chartqa - 600: [('chartqa/accuracy', 0.49772606244006784)]\n",
      "Got result for vqa - 600: [('vqa/accuracy', 0.7261719999999774), ('vqa/recall', 0.7539559999999752), ('vqa/bleu', 0.03368200361728668), ('vqa/mllm_evaluation_accuracy', 0.7489759999999759)]\n",
      "Got result for textvqa - 600: [('textvqa/accuracy', 68.3380000000003), ('textvqa/mllm_eval_accuracy', 72.94600000000037)]\n",
      "Got result for infographics_w_ocr - 600: [('infographics_w_ocr/anls_total_score', 0.645120098458749), ('infographics_w_ocr/mllm_evaluation_anls_score', 0.5922845273478874), ('infographics_w_ocr/answer_type_multi_span_score', 0.5371055480168933), ('infographics_w_ocr/answer_type_non_extractive_score', 0.6376241148845129), ('infographics_w_ocr/answer_type_question_span_score', 0.7228597257443411), ('infographics_w_ocr/answer_type_single_span_score', 0.655476301762224), ('infographics_w_ocr/evidence_type_figure_score', 0.6327841762111491), ('infographics_w_ocr/evidence_type_map_score', 0.5816038334602691), ('infographics_w_ocr/evidence_type_table_list_score', 0.6337104729359286), ('infographics_w_ocr/evidence_type_text_score', 0.6790192802343173), ('infographics_w_ocr/evidence_type_visual_layout_score', 0.5583750370514137), ('infographics_w_ocr/reasoning_type_arithmetic_score', 0.6263908751066284), ('infographics_w_ocr/reasoning_type_comparison_score', 0.5450205332919241), ('infographics_w_ocr/reasoning_type_counting_score', 0.631118881118881)]\n",
      "Got result for infographics - 600: [('infographics/anls_total_score', 0.5387890745367289), ('infographics/mllm_evaluation_anls_score', 0.47306837557220427), ('infographics/answer_type_multi_span_score', 0.40358057113388285), ('infographics/answer_type_non_extractive_score', 0.542125535706006), ('infographics/answer_type_question_span_score', 0.6984407953157952), ('infographics/answer_type_single_span_score', 0.5456866014396378), ('infographics/evidence_type_figure_score', 0.5318784259066155), ('infographics/evidence_type_map_score', 0.48573335274703944), ('infographics/evidence_type_table_list_score', 0.5046150246320811), ('infographics/evidence_type_text_score', 0.5690155534867277), ('infographics/evidence_type_visual_layout_score', 0.47527225655468797), ('infographics/reasoning_type_arithmetic_score', 0.4932491595162826), ('infographics/reasoning_type_comparison_score', 0.4520703552380929), ('infographics/reasoning_type_counting_score', 0.5745920745920745)]\n",
      "Got result for mmbench - 600: [('mmbench/attribute_comparison', 0.5909090909090909), ('mmbench/attribute_recognition', 0.8732394366197183), ('mmbench/celebrity_recognition', 0.9595959595959596), ('mmbench/function_reasoning', 0.8734177215189873), ('mmbench/future_prediction', 0.6), ('mmbench/image_quality', 0.5121951219512195), ('mmbench/image_scene', 0.9519230769230769), ('mmbench/image_style', 0.8679245283018868), ('mmbench/image_topic', 0.8888888888888888), ('mmbench/nature_relation', 0.8541666666666666), ('mmbench/object_localization', 0.5061728395061729), ('mmbench/ocr', 0.7948717948717948), ('mmbench/physical_property_reasoning', 0.64), ('mmbench/physical_relation', 0.2916666666666667), ('mmbench/spatial_relationship', 0.4), ('mmbench/structuralized_imagetext_understanding', 0.6493506493506493), ('mmbench/overall', 0.7369986371617516)]\n",
      "800 eval/logs/job_dict_stage2_MH19_336px_128nodes_exp_800.json\n",
      "Got result for mmmu - 800: [('mmmu/accounting', 0.5333333333333333), ('mmmu/agriculture', 0.6333333333333333), ('mmmu/architecture_and_engineering', 0.3333333333333333), ('mmmu/art', 0.6333333333333333), ('mmmu/art_theory', 0.8), ('mmmu/basic_medical_science', 0.7), ('mmmu/biology', 0.3333333333333333), ('mmmu/chemistry', 0.43333333333333335), ('mmmu/clinical_medicine', 0.6333333333333333), ('mmmu/computer_science', 0.5666666666666667), ('mmmu/design', 0.8), ('mmmu/diagnostics_and_laboratory_medicine', 0.43333333333333335), ('mmmu/economics', 0.7), ('mmmu/electronics', 0.43333333333333335), ('mmmu/energy_and_power', 0.5666666666666667), ('mmmu/finance', 0.3333333333333333), ('mmmu/geography', 0.6), ('mmmu/history', 0.8333333333333334), ('mmmu/literature', 0.8666666666666667), ('mmmu/manage', 0.4666666666666667), ('mmmu/marketing', 0.4666666666666667), ('mmmu/materials', 0.4), ('mmmu/math', 0.4666666666666667), ('mmmu/mechanical_engineering', 0.26666666666666666), ('mmmu/music', 0.16666666666666666), ('mmmu/pharmacy', 0.7333333333333333), ('mmmu/physics', 0.4), ('mmmu/psychology', 0.6333333333333333), ('mmmu/public_health', 0.6), ('mmmu/sociology', 0.7), ('mmmu/accuracy', 0.5488888888888889), ('mmmu/mllm_eval_accuracy', 0.5611111111111111)]\n",
      "Got result for docvqa - 800: [('docvqa/anls_total_score', 0.6598517746408802), ('docvqa/mllm_evaluation_anls_score', 0.6596411740658049), ('docvqa/mmllm_fixed_anls_score', 0.6970973203920476)]\n",
      "Got result for mathvista - 800: [('mathvista/accuracy', 0.395)]\n",
      "Got result for ai2d - 800: [('ai2d/accuracy', 0.7927461139896373)]\n",
      "Got result for chartqa - 800: [('chartqa/accuracy', 0.5076906068838234)]\n",
      "Got result for vqa - 800: [('vqa/accuracy', 0.7257759999999764), ('vqa/recall', 0.7534999999999742), ('vqa/bleu', 0.0), ('vqa/mllm_evaluation_accuracy', 0.7489399999999751)]\n",
      "Got result for textvqa - 800: [('textvqa/accuracy', 68.52000000000031), ('textvqa/mllm_eval_accuracy', 72.99000000000035)]\n",
      "Got result for infographics_w_ocr - 800: [('infographics_w_ocr/anls_total_score', 0.6445435365823963), ('infographics_w_ocr/mllm_evaluation_anls_score', 0.5900141947020775), ('infographics_w_ocr/answer_type_multi_span_score', 0.5353955665415381), ('infographics_w_ocr/answer_type_non_extractive_score', 0.6299366095026133), ('infographics_w_ocr/answer_type_question_span_score', 0.7267516671362825), ('infographics_w_ocr/answer_type_single_span_score', 0.6566291909189665), ('infographics_w_ocr/evidence_type_figure_score', 0.6231147215336522), ('infographics_w_ocr/evidence_type_map_score', 0.5740616086495527), ('infographics_w_ocr/evidence_type_table_list_score', 0.6424328819662561), ('infographics_w_ocr/evidence_type_text_score', 0.6940188109814679), ('infographics_w_ocr/evidence_type_visual_layout_score', 0.5824181292761617), ('infographics_w_ocr/reasoning_type_arithmetic_score', 0.6180534648000399), ('infographics_w_ocr/reasoning_type_comparison_score', 0.5441633953434338), ('infographics_w_ocr/reasoning_type_counting_score', 0.627039627039627)]\n",
      "Got result for infographics - 800: [('infographics/anls_total_score', 0.5328541610559883), ('infographics/mllm_evaluation_anls_score', 0.4650522018298892), ('infographics/answer_type_multi_span_score', 0.36184713714583294), ('infographics/answer_type_non_extractive_score', 0.5317363167272753), ('infographics/answer_type_question_span_score', 0.7004871464006079), ('infographics/answer_type_single_span_score', 0.5440594671166084), ('infographics/evidence_type_figure_score', 0.5209085031630779), ('infographics/evidence_type_map_score', 0.5217404974175504), ('infographics/evidence_type_table_list_score', 0.5013750985101113), ('infographics/evidence_type_text_score', 0.5796860036453535), ('infographics/evidence_type_visual_layout_score', 0.48291166621521886), ('infographics/reasoning_type_arithmetic_score', 0.47916729389332124), ('infographics/reasoning_type_comparison_score', 0.44675035604994434), ('infographics/reasoning_type_counting_score', 0.5681818181818181)]\n",
      "Got result for mmbench - 800: [('mmbench/attribute_comparison', 0.5909090909090909), ('mmbench/attribute_recognition', 0.8591549295774648), ('mmbench/celebrity_recognition', 0.9393939393939394), ('mmbench/function_reasoning', 0.8734177215189873), ('mmbench/future_prediction', 0.6), ('mmbench/image_quality', 0.5365853658536586), ('mmbench/image_scene', 0.9519230769230769), ('mmbench/image_style', 0.8867924528301887), ('mmbench/image_topic', 0.8888888888888888), ('mmbench/nature_relation', 0.8333333333333334), ('mmbench/object_localization', 0.4691358024691358), ('mmbench/ocr', 0.7948717948717948), ('mmbench/physical_property_reasoning', 0.6666666666666666), ('mmbench/physical_relation', 0.3333333333333333), ('mmbench/spatial_relationship', 0.4), ('mmbench/structuralized_imagetext_understanding', 0.6753246753246753), ('mmbench/overall', 0.7382690686679246)]\n",
      "1000 eval/logs/job_dict_stage2_MH19_336px_128nodes_exp_1000.json\n",
      "Got result for mmmu - 1000: [('mmmu/accounting', 0.4666666666666667), ('mmmu/agriculture', 0.6666666666666666), ('mmmu/architecture_and_engineering', 0.4), ('mmmu/art', 0.6666666666666666), ('mmmu/art_theory', 0.7666666666666667), ('mmmu/basic_medical_science', 0.6666666666666666), ('mmmu/biology', 0.36666666666666664), ('mmmu/chemistry', 0.4), ('mmmu/clinical_medicine', 0.6333333333333333), ('mmmu/computer_science', 0.5666666666666667), ('mmmu/design', 0.8), ('mmmu/diagnostics_and_laboratory_medicine', 0.36666666666666664), ('mmmu/economics', 0.5666666666666667), ('mmmu/electronics', 0.3333333333333333), ('mmmu/energy_and_power', 0.6), ('mmmu/finance', 0.4666666666666667), ('mmmu/geography', 0.6333333333333333), ('mmmu/history', 0.8333333333333334), ('mmmu/literature', 0.8666666666666667), ('mmmu/manage', 0.5333333333333333), ('mmmu/marketing', 0.6), ('mmmu/materials', 0.4666666666666667), ('mmmu/math', 0.43333333333333335), ('mmmu/mechanical_engineering', 0.36666666666666664), ('mmmu/music', 0.36666666666666664), ('mmmu/pharmacy', 0.6), ('mmmu/physics', 0.4), ('mmmu/psychology', 0.6), ('mmmu/public_health', 0.5666666666666667), ('mmmu/sociology', 0.7333333333333333), ('mmmu/accuracy', 0.5577777777777778), ('mmmu/mllm_eval_accuracy', 0.5688888888888889)]\n",
      "Got result for docvqa - 1000: [('docvqa/anls_total_score', 0.6626788327569612), ('docvqa/mllm_evaluation_anls_score', 0.6615232556374246), ('docvqa/mmllm_fixed_anls_score', 0.6993487452413435)]\n",
      "Got result for mathvista - 1000: [('mathvista/accuracy', 0.383)]\n",
      "Got result for ai2d - 1000: [('ai2d/accuracy', 0.7924222797927462)]\n",
      "Got result for chartqa - 1000: [('chartqa/accuracy', 0.5017039832426011)]\n",
      "Got result for vqa - 1000: [('vqa/accuracy', 0.7264919999999762), ('vqa/recall', 0.7545599999999744), ('vqa/bleu', 0.029344957321882248), ('vqa/mllm_evaluation_accuracy', 0.7494719999999758)]\n",
      "Got result for textvqa - 1000: [('textvqa/accuracy', 68.93200000000031), ('textvqa/mllm_eval_accuracy', 73.36200000000034)]\n",
      "Got result for infographics_w_ocr - 1000: [('infographics_w_ocr/anls_total_score', 0.6428078195415516), ('infographics_w_ocr/mllm_evaluation_anls_score', 0.5899747522516962), ('infographics_w_ocr/answer_type_multi_span_score', 0.5101328029448579), ('infographics_w_ocr/answer_type_non_extractive_score', 0.636401347296465), ('infographics_w_ocr/answer_type_question_span_score', 0.6870668829662042), ('infographics_w_ocr/answer_type_single_span_score', 0.6555376796759395), ('infographics_w_ocr/evidence_type_figure_score', 0.6248988014566664), ('infographics_w_ocr/evidence_type_map_score', 0.5917110941863417), ('infographics_w_ocr/evidence_type_table_list_score', 0.6382050268042964), ('infographics_w_ocr/evidence_type_text_score', 0.6897456629241856), ('infographics_w_ocr/evidence_type_visual_layout_score', 0.5593408726328535), ('infographics_w_ocr/reasoning_type_arithmetic_score', 0.6256733278137385), ('infographics_w_ocr/reasoning_type_comparison_score', 0.5492514506905595), ('infographics_w_ocr/reasoning_type_counting_score', 0.6347902097902097)]\n",
      "Got result for infographics - 1000: [('infographics/anls_total_score', 0.5436879824778507), ('infographics/mllm_evaluation_anls_score', 0.4794233343099127), ('infographics/answer_type_multi_span_score', 0.38382990288306573), ('infographics/answer_type_non_extractive_score', 0.5398995820333978), ('infographics/answer_type_question_span_score', 0.7109181950528104), ('infographics/answer_type_single_span_score', 0.5541220388312582), ('infographics/evidence_type_figure_score', 0.534467132341373), ('infographics/evidence_type_map_score', 0.5536135627137374), ('infographics/evidence_type_table_list_score', 0.5083798323673742), ('infographics/evidence_type_text_score', 0.5900217976882514), ('infographics/evidence_type_visual_layout_score', 0.4897495104685617), ('infographics/reasoning_type_arithmetic_score', 0.4979376787595964), ('infographics/reasoning_type_comparison_score', 0.4700128997539996), ('infographics/reasoning_type_counting_score', 0.5758158508158507)]\n",
      "Got result for mmbench - 1000: [('mmbench/attribute_comparison', 0.5681818181818182), ('mmbench/attribute_recognition', 0.8732394366197183), ('mmbench/celebrity_recognition', 0.9494949494949495), ('mmbench/function_reasoning', 0.8734177215189873), ('mmbench/future_prediction', 0.6), ('mmbench/image_quality', 0.5609756097560976), ('mmbench/image_scene', 0.9423076923076923), ('mmbench/image_style', 0.8867924528301887), ('mmbench/image_topic', 0.8888888888888888), ('mmbench/nature_relation', 0.8333333333333334), ('mmbench/object_localization', 0.5061728395061729), ('mmbench/ocr', 0.8205128205128205), ('mmbench/physical_property_reasoning', 0.64), ('mmbench/physical_relation', 0.25), ('mmbench/spatial_relationship', 0.4), ('mmbench/structuralized_imagetext_understanding', 0.6753246753246753), ('mmbench/overall', 0.73671462698698)]\n",
      "1200 eval/logs/job_dict_stage2_MH19_336px_128nodes_exp_1200.json\n",
      "Got result for mmmu - 1200: [('mmmu/accounting', 0.36666666666666664), ('mmmu/agriculture', 0.6333333333333333), ('mmmu/architecture_and_engineering', 0.3333333333333333), ('mmmu/art', 0.6333333333333333), ('mmmu/art_theory', 0.7666666666666667), ('mmmu/basic_medical_science', 0.6333333333333333), ('mmmu/biology', 0.43333333333333335), ('mmmu/chemistry', 0.4), ('mmmu/clinical_medicine', 0.6), ('mmmu/computer_science', 0.5333333333333333), ('mmmu/design', 0.7333333333333333), ('mmmu/diagnostics_and_laboratory_medicine', 0.36666666666666664), ('mmmu/economics', 0.6666666666666666), ('mmmu/electronics', 0.43333333333333335), ('mmmu/energy_and_power', 0.5), ('mmmu/finance', 0.5333333333333333), ('mmmu/geography', 0.6), ('mmmu/history', 0.8333333333333334), ('mmmu/literature', 0.8666666666666667), ('mmmu/manage', 0.5666666666666667), ('mmmu/marketing', 0.5), ('mmmu/materials', 0.4), ('mmmu/math', 0.5333333333333333), ('mmmu/mechanical_engineering', 0.3), ('mmmu/music', 0.26666666666666666), ('mmmu/pharmacy', 0.7333333333333333), ('mmmu/physics', 0.4666666666666667), ('mmmu/psychology', 0.5666666666666667), ('mmmu/public_health', 0.5666666666666667), ('mmmu/sociology', 0.7), ('mmmu/accuracy', 0.5488888888888889), ('mmmu/mllm_eval_accuracy', 0.5655555555555556)]\n",
      "Got result for docvqa - 1200: [('docvqa/anls_total_score', 0.6629274380818309), ('docvqa/mllm_evaluation_anls_score', 0.662182112007447), ('docvqa/mmllm_fixed_anls_score', 0.6976496603276251)]\n",
      "Got result for mathvista - 1200: [('mathvista/accuracy', 0.392)]\n",
      "Got result for ai2d - 1200: [('ai2d/accuracy', 0.7966321243523317)]\n",
      "Got result for chartqa - 1200: [('chartqa/accuracy', 0.5068953950794084)]\n",
      "Got result for vqa - 1200: [('vqa/accuracy', 0.7272239999999761), ('vqa/recall', 0.755031999999975), ('vqa/bleu', 0.02782451920211315), ('vqa/mllm_evaluation_accuracy', 0.7502479999999758)]\n",
      "Got result for textvqa - 1200: [('textvqa/accuracy', 69.16800000000029), ('textvqa/mllm_eval_accuracy', 73.73400000000032)]\n",
      "Got result for infographics_w_ocr - 1200: [('infographics_w_ocr/anls_total_score', 0.6413342891290088), ('infographics_w_ocr/mllm_evaluation_anls_score', 0.5899308003491897), ('infographics_w_ocr/answer_type_multi_span_score', 0.51782242885038), ('infographics_w_ocr/answer_type_non_extractive_score', 0.6421252045121848), ('infographics_w_ocr/answer_type_question_span_score', 0.7119088710434864), ('infographics_w_ocr/answer_type_single_span_score', 0.6514746282484701), ('infographics_w_ocr/evidence_type_figure_score', 0.6139768947776163), ('infographics_w_ocr/evidence_type_map_score', 0.5949701700939325), ('infographics_w_ocr/evidence_type_table_list_score', 0.6521222364340782), ('infographics_w_ocr/evidence_type_text_score', 0.6806946319443851), ('infographics_w_ocr/evidence_type_visual_layout_score', 0.557286882022525), ('infographics_w_ocr/reasoning_type_arithmetic_score', 0.6334311806914547), ('infographics_w_ocr/reasoning_type_comparison_score', 0.5342892678032553), ('infographics_w_ocr/reasoning_type_counting_score', 0.6392773892773892)]\n",
      "Got result for infographics - 1200: [('infographics/anls_total_score', 0.551818663416955), ('infographics/mllm_evaluation_anls_score', 0.4867009720111691), ('infographics/answer_type_multi_span_score', 0.3631192105105846), ('infographics/answer_type_non_extractive_score', 0.5526869754717857), ('infographics/answer_type_question_span_score', 0.7416416382762536), ('infographics/answer_type_single_span_score', 0.5617841819247219), ('infographics/evidence_type_figure_score', 0.5348629626132572), ('infographics/evidence_type_map_score', 0.49718824823658836), ('infographics/evidence_type_table_list_score', 0.5289978085013757), ('infographics/evidence_type_text_score', 0.5906991781558356), ('infographics/evidence_type_visual_layout_score', 0.5148676435092299), ('infographics/reasoning_type_arithmetic_score', 0.5118809272918861), ('infographics/reasoning_type_comparison_score', 0.4667037317680253), ('infographics/reasoning_type_counting_score', 0.5807692307692307)]\n",
      "Got result for mmbench - 1200: [('mmbench/attribute_comparison', 0.5681818181818182), ('mmbench/attribute_recognition', 0.8591549295774648), ('mmbench/celebrity_recognition', 0.9595959595959596), ('mmbench/function_reasoning', 0.8607594936708861), ('mmbench/future_prediction', 0.6), ('mmbench/image_quality', 0.5365853658536586), ('mmbench/image_scene', 0.9519230769230769), ('mmbench/image_style', 0.8867924528301887), ('mmbench/image_topic', 0.8888888888888888), ('mmbench/nature_relation', 0.8333333333333334), ('mmbench/object_localization', 0.5061728395061729), ('mmbench/ocr', 0.8205128205128205), ('mmbench/physical_property_reasoning', 0.6533333333333333), ('mmbench/physical_relation', 0.375), ('mmbench/spatial_relationship', 0.4), ('mmbench/structuralized_imagetext_understanding', 0.6493506493506493), ('mmbench/overall', 0.7437617631511253)]\n",
      "1400 eval/logs/job_dict_stage2_MH19_336px_128nodes_exp_1400.json\n",
      "Got result for mmmu - 1400: [('mmmu/accounting', 0.43333333333333335), ('mmmu/agriculture', 0.6333333333333333), ('mmmu/architecture_and_engineering', 0.3333333333333333), ('mmmu/art', 0.6333333333333333), ('mmmu/art_theory', 0.7333333333333333), ('mmmu/basic_medical_science', 0.5666666666666667), ('mmmu/biology', 0.43333333333333335), ('mmmu/chemistry', 0.43333333333333335), ('mmmu/clinical_medicine', 0.6), ('mmmu/computer_science', 0.6333333333333333), ('mmmu/design', 0.8), ('mmmu/diagnostics_and_laboratory_medicine', 0.3333333333333333), ('mmmu/economics', 0.6), ('mmmu/electronics', 0.36666666666666664), ('mmmu/energy_and_power', 0.6), ('mmmu/finance', 0.4666666666666667), ('mmmu/geography', 0.4666666666666667), ('mmmu/history', 0.8333333333333334), ('mmmu/literature', 0.9), ('mmmu/manage', 0.5333333333333333), ('mmmu/marketing', 0.5333333333333333), ('mmmu/materials', 0.43333333333333335), ('mmmu/math', 0.5), ('mmmu/mechanical_engineering', 0.4), ('mmmu/music', 0.4666666666666667), ('mmmu/pharmacy', 0.6333333333333333), ('mmmu/physics', 0.5), ('mmmu/psychology', 0.7), ('mmmu/public_health', 0.5666666666666667), ('mmmu/sociology', 0.6666666666666666), ('mmmu/accuracy', 0.5577777777777778), ('mmmu/mllm_eval_accuracy', 0.5633333333333334)]\n",
      "Got result for docvqa - 1400: [('docvqa/anls_total_score', 0.6576122486567785), ('docvqa/mllm_evaluation_anls_score', 0.6566612892873913), ('docvqa/mmllm_fixed_anls_score', 0.6934407806760226)]\n",
      "Got result for mathvista - 1400: [('mathvista/accuracy', 0.39)]\n",
      "Got result for ai2d - 1400: [('ai2d/accuracy', 0.8014896373056994)]\n",
      "Got result for chartqa - 1400: [('chartqa/accuracy', 0.5053164478963773)]\n",
      "Got result for vqa - 1400: [('vqa/accuracy', 0.7249079999999761), ('vqa/recall', 0.7543519999999746), ('vqa/bleu', 0.030893689021468163), ('vqa/mllm_evaluation_accuracy', 0.7496639999999758)]\n",
      "Got result for textvqa - 1400: [('textvqa/accuracy', 68.46800000000027), ('textvqa/mllm_eval_accuracy', 73.00600000000034)]\n",
      "Got result for infographics_w_ocr - 1400: [('infographics_w_ocr/anls_total_score', 0.6369640423630668), ('infographics_w_ocr/mllm_evaluation_anls_score', 0.5829732966226111), ('infographics_w_ocr/answer_type_multi_span_score', 0.532606442211179), ('infographics_w_ocr/answer_type_non_extractive_score', 0.6343472832170846), ('infographics_w_ocr/answer_type_question_span_score', 0.7184717526063681), ('infographics_w_ocr/answer_type_single_span_score', 0.6437379416417038), ('infographics_w_ocr/evidence_type_figure_score', 0.6145073401890329), ('infographics_w_ocr/evidence_type_map_score', 0.5446401370906321), ('infographics_w_ocr/evidence_type_table_list_score', 0.6425165028947857), ('infographics_w_ocr/evidence_type_text_score', 0.6775024510267813), ('infographics_w_ocr/evidence_type_visual_layout_score', 0.5382672591430826), ('infographics_w_ocr/reasoning_type_arithmetic_score', 0.6234955968688843), ('infographics_w_ocr/reasoning_type_comparison_score', 0.5446248559956286), ('infographics_w_ocr/reasoning_type_counting_score', 0.6243006993006992)]\n",
      "Got result for infographics - 1400: [('infographics/anls_total_score', 0.544698776916589), ('infographics/mllm_evaluation_anls_score', 0.4768804440485371), ('infographics/answer_type_multi_span_score', 0.3876663178392642), ('infographics/answer_type_non_extractive_score', 0.537036411448708), ('infographics/answer_type_question_span_score', 0.6925609113109114), ('infographics/answer_type_single_span_score', 0.5579228911168002), ('infographics/evidence_type_figure_score', 0.5337600881331508), ('infographics/evidence_type_map_score', 0.46992766503541117), ('infographics/evidence_type_table_list_score', 0.5152377475690411), ('infographics/evidence_type_text_score', 0.5866106648369201), ('infographics/evidence_type_visual_layout_score', 0.5032870488300436), ('infographics/reasoning_type_arithmetic_score', 0.49987831802900295), ('infographics/reasoning_type_comparison_score', 0.4659806705776409), ('infographics/reasoning_type_counting_score', 0.562062937062937)]\n",
      "Got result for mmbench - 1400: [('mmbench/attribute_comparison', 0.5909090909090909), ('mmbench/attribute_recognition', 0.8732394366197183), ('mmbench/celebrity_recognition', 0.9494949494949495), ('mmbench/function_reasoning', 0.8734177215189873), ('mmbench/future_prediction', 0.6), ('mmbench/image_quality', 0.5365853658536586), ('mmbench/image_scene', 0.9519230769230769), ('mmbench/image_style', 0.8867924528301887), ('mmbench/image_topic', 0.8888888888888888), ('mmbench/nature_relation', 0.8541666666666666), ('mmbench/object_localization', 0.4567901234567901), ('mmbench/ocr', 0.7948717948717948), ('mmbench/physical_property_reasoning', 0.64), ('mmbench/physical_relation', 0.3333333333333333), ('mmbench/spatial_relationship', 0.4), ('mmbench/structuralized_imagetext_understanding', 0.6623376623376623), ('mmbench/overall', 0.7389200432584532)]\n"
     ]
    },
    {
     "data": {
      "text/html": [
       "<div>\n",
       "<style scoped>\n",
       "    .dataframe tbody tr th:only-of-type {\n",
       "        vertical-align: middle;\n",
       "    }\n",
       "\n",
       "    .dataframe tbody tr th {\n",
       "        vertical-align: top;\n",
       "    }\n",
       "\n",
       "    .dataframe thead th {\n",
       "        text-align: right;\n",
       "    }\n",
       "</style>\n",
       "<table border=\"1\" class=\"dataframe\">\n",
       "  <thead>\n",
       "    <tr style=\"text-align: right;\">\n",
       "      <th></th>\n",
       "      <th>mmmu_v2</th>\n",
       "      <th>mmmu_v1</th>\n",
       "      <th>docvqa</th>\n",
       "      <th>mathvista</th>\n",
       "      <th>ai2d</th>\n",
       "      <th>chartqa</th>\n",
       "      <th>vqa</th>\n",
       "      <th>textvqa</th>\n",
       "      <th>infographics_w_ocr</th>\n",
       "      <th>infographics</th>\n",
       "      <th>mmbench</th>\n",
       "    </tr>\n",
       "  </thead>\n",
       "  <tbody>\n",
       "    <tr>\n",
       "      <th>200</th>\n",
       "      <td>0.5556</td>\n",
       "      <td>0.5444</td>\n",
       "      <td>0.649</td>\n",
       "      <td>0.391</td>\n",
       "      <td>0.7937</td>\n",
       "      <td>0.4937</td>\n",
       "      <td>0.7255</td>\n",
       "      <td>0.68126</td>\n",
       "      <td>0.641</td>\n",
       "      <td>0.5379</td>\n",
       "      <td>0.7381</td>\n",
       "    </tr>\n",
       "    <tr>\n",
       "      <th>400</th>\n",
       "      <td>0.57</td>\n",
       "      <td>0.5656</td>\n",
       "      <td>0.6534</td>\n",
       "      <td>0.399</td>\n",
       "      <td>0.7895</td>\n",
       "      <td>0.4979</td>\n",
       "      <td>0.7258</td>\n",
       "      <td>0.68664</td>\n",
       "      <td>0.6334</td>\n",
       "      <td>0.5391</td>\n",
       "      <td>0.7353</td>\n",
       "    </tr>\n",
       "    <tr>\n",
       "      <th>600</th>\n",
       "      <td>0.5567</td>\n",
       "      <td>0.5433</td>\n",
       "      <td>0.6576</td>\n",
       "      <td>0.379</td>\n",
       "      <td>0.7947</td>\n",
       "      <td>0.4977</td>\n",
       "      <td>0.7262</td>\n",
       "      <td>0.68338</td>\n",
       "      <td>0.6451</td>\n",
       "      <td>0.5388</td>\n",
       "      <td>0.737</td>\n",
       "    </tr>\n",
       "    <tr>\n",
       "      <th>800</th>\n",
       "      <td>0.5611</td>\n",
       "      <td>0.5489</td>\n",
       "      <td>0.6599</td>\n",
       "      <td>0.395</td>\n",
       "      <td>0.7927</td>\n",
       "      <td>0.5077</td>\n",
       "      <td>0.7258</td>\n",
       "      <td>0.6852</td>\n",
       "      <td>0.6445</td>\n",
       "      <td>0.5329</td>\n",
       "      <td>0.7383</td>\n",
       "    </tr>\n",
       "    <tr>\n",
       "      <th>1000</th>\n",
       "      <td>0.5689</td>\n",
       "      <td>0.5578</td>\n",
       "      <td>0.6627</td>\n",
       "      <td>0.383</td>\n",
       "      <td>0.7924</td>\n",
       "      <td>0.5017</td>\n",
       "      <td>0.7265</td>\n",
       "      <td>0.68932</td>\n",
       "      <td>0.6428</td>\n",
       "      <td>0.5437</td>\n",
       "      <td>0.7367</td>\n",
       "    </tr>\n",
       "    <tr>\n",
       "      <th>1200</th>\n",
       "      <td>0.5656</td>\n",
       "      <td>0.5489</td>\n",
       "      <td>0.6629</td>\n",
       "      <td>0.392</td>\n",
       "      <td>0.7966</td>\n",
       "      <td>0.5069</td>\n",
       "      <td>0.7272</td>\n",
       "      <td>0.69168</td>\n",
       "      <td>0.6413</td>\n",
       "      <td>0.5518</td>\n",
       "      <td>0.7438</td>\n",
       "    </tr>\n",
       "    <tr>\n",
       "      <th>1400</th>\n",
       "      <td>0.5633</td>\n",
       "      <td>0.5578</td>\n",
       "      <td>0.6576</td>\n",
       "      <td>0.39</td>\n",
       "      <td>0.8015</td>\n",
       "      <td>0.5053</td>\n",
       "      <td>0.7249</td>\n",
       "      <td>0.68468</td>\n",
       "      <td>0.637</td>\n",
       "      <td>0.5447</td>\n",
       "      <td>0.7389</td>\n",
       "    </tr>\n",
       "  </tbody>\n",
       "</table>\n",
       "</div>"
      ],
      "text/plain": [
       "     mmmu_v2 mmmu_v1  docvqa mathvista    ai2d chartqa     vqa  textvqa  \\\n",
       "200   0.5556  0.5444   0.649     0.391  0.7937  0.4937  0.7255  0.68126   \n",
       "400     0.57  0.5656  0.6534     0.399  0.7895  0.4979  0.7258  0.68664   \n",
       "600   0.5567  0.5433  0.6576     0.379  0.7947  0.4977  0.7262  0.68338   \n",
       "800   0.5611  0.5489  0.6599     0.395  0.7927  0.5077  0.7258   0.6852   \n",
       "1000  0.5689  0.5578  0.6627     0.383  0.7924  0.5017  0.7265  0.68932   \n",
       "1200  0.5656  0.5489  0.6629     0.392  0.7966  0.5069  0.7272  0.69168   \n",
       "1400  0.5633  0.5578  0.6576      0.39  0.8015  0.5053  0.7249  0.68468   \n",
       "\n",
       "     infographics_w_ocr infographics mmbench  \n",
       "200               0.641       0.5379  0.7381  \n",
       "400              0.6334       0.5391  0.7353  \n",
       "600              0.6451       0.5388   0.737  \n",
       "800              0.6445       0.5329  0.7383  \n",
       "1000             0.6428       0.5437  0.7367  \n",
       "1200             0.6413       0.5518  0.7438  \n",
       "1400              0.637       0.5447  0.7389  "
      ]
     },
     "execution_count": 17,
     "metadata": {},
     "output_type": "execute_result"
    }
   ],
   "source": [
    "df = pd.DataFrame()\n",
    "checkpoints = range(200, 1600, 200)\n",
    "for c in checkpoints:\n",
    "    job_dict_file = f\"eval/logs/job_dict_stage2_MH19_336px_128nodes_exp_{c}.json\"\n",
    "    with open(job_dict_file, 'r') as f:\n",
    "        job_dict = json.load(f)\n",
    "\n",
    "    print(c, job_dict_file)\n",
    "    df_c = eval_helper.get_eval_scores(job_dict)\n",
    "\n",
    "    df = pd.concat([df, df_c])\n",
    "\n",
    "df"
   ]
  },
  {
   "cell_type": "code",
   "execution_count": 22,
   "metadata": {},
   "outputs": [],
   "source": [
    "df.to_csv('stage2_eval_3200_4600.csv')"
   ]
  },
  {
   "cell_type": "markdown",
   "metadata": {},
   "source": [
    "## 504px exp 29"
   ]
  },
  {
   "cell_type": "code",
   "execution_count": 12,
   "metadata": {},
   "outputs": [
    {
     "name": "stdout",
     "output_type": "stream",
     "text": [
      "checkpoint-1000  checkpoint-200  checkpoint-600  runs\n",
      "checkpoint-1200  checkpoint-400  checkpoint-800\n"
     ]
    }
   ],
   "source": [
    "!ls /fsx_0/checkpoints/tranx/MM9-Stage2-70B/MH19_504px_64nodes_exp29"
   ]
  },
  {
   "cell_type": "code",
   "execution_count": 14,
   "metadata": {},
   "outputs": [
    {
     "name": "stdout",
     "output_type": "stream",
     "text": [
      "sbatch --parsable --job-name=eval_mmmu /fsx_0/user/tranx/experiments/eval/sbash_eval.sh stage2_MH19_504px_64nodes_exp29_200 /fsx_0/user/tranx/eval/llm_mm_aligner/experiments/aws_adel/eval/eval_mmmu.json /fsx_0/checkpoints/tranx/MM9-Stage2-70B/MH19_504px_64nodes_exp29 mmmu 200\n",
      "sbatch --parsable --job-name=eval_docvqa /fsx_0/user/tranx/experiments/eval/sbash_eval.sh stage2_MH19_504px_64nodes_exp29_200 /fsx_0/user/tranx/eval/llm_mm_aligner/experiments/aws_adel/eval/eval_docvqa.json /fsx_0/checkpoints/tranx/MM9-Stage2-70B/MH19_504px_64nodes_exp29 docvqa 200\n",
      "sbatch --parsable --job-name=eval_mathvista /fsx_0/user/tranx/experiments/eval/sbash_eval.sh stage2_MH19_504px_64nodes_exp29_200 /fsx_0/user/tranx/eval/llm_mm_aligner/experiments/aws_adel/eval/eval_mathvista.json /fsx_0/checkpoints/tranx/MM9-Stage2-70B/MH19_504px_64nodes_exp29 mathvista 200\n",
      "sbatch --parsable --job-name=eval_ai2d /fsx_0/user/tranx/experiments/eval/sbash_eval.sh stage2_MH19_504px_64nodes_exp29_200 /fsx_0/user/tranx/eval/llm_mm_aligner/experiments/aws_adel/eval/eval_ai2d.json /fsx_0/checkpoints/tranx/MM9-Stage2-70B/MH19_504px_64nodes_exp29 ai2d 200\n",
      "sbatch --parsable --job-name=eval_chartqa /fsx_0/user/tranx/experiments/eval/sbash_eval.sh stage2_MH19_504px_64nodes_exp29_200 /fsx_0/user/tranx/eval/llm_mm_aligner/experiments/aws_adel/eval/eval_chartqa.json /fsx_0/checkpoints/tranx/MM9-Stage2-70B/MH19_504px_64nodes_exp29 chartqa 200\n",
      "sbatch --parsable --job-name=eval_vqa /fsx_0/user/tranx/experiments/eval/sbash_eval.sh stage2_MH19_504px_64nodes_exp29_200 /fsx_0/user/tranx/eval/llm_mm_aligner/experiments/aws_adel/eval/eval_vqa.json /fsx_0/checkpoints/tranx/MM9-Stage2-70B/MH19_504px_64nodes_exp29 vqa 200\n",
      "sbatch --parsable --job-name=eval_textvqa /fsx_0/user/tranx/experiments/eval/sbash_eval.sh stage2_MH19_504px_64nodes_exp29_200 /fsx_0/user/tranx/eval/llm_mm_aligner/experiments/aws_adel/eval/eval_textvqa.json /fsx_0/checkpoints/tranx/MM9-Stage2-70B/MH19_504px_64nodes_exp29 textvqa 200\n",
      "sbatch --parsable --job-name=eval_infographics_w_ocr /fsx_0/user/tranx/experiments/eval/sbash_eval.sh stage2_MH19_504px_64nodes_exp29_200 /fsx_0/user/tranx/eval/llm_mm_aligner/experiments/aws_adel/eval/eval_infographics_w_ocr.json /fsx_0/checkpoints/tranx/MM9-Stage2-70B/MH19_504px_64nodes_exp29 infographics_w_ocr 200\n",
      "sbatch --parsable --job-name=eval_infographics /fsx_0/user/tranx/experiments/eval/sbash_eval.sh stage2_MH19_504px_64nodes_exp29_200 /fsx_0/user/tranx/eval/llm_mm_aligner/experiments/aws_adel/eval/eval_infographics.json /fsx_0/checkpoints/tranx/MM9-Stage2-70B/MH19_504px_64nodes_exp29 infographics 200\n",
      "sbatch --parsable --job-name=eval_mmbench /fsx_0/user/tranx/experiments/eval/sbash_eval.sh stage2_MH19_504px_64nodes_exp29_200 /fsx_0/user/tranx/eval/llm_mm_aligner/experiments/aws_adel/eval/eval_mmbench.json /fsx_0/checkpoints/tranx/MM9-Stage2-70B/MH19_504px_64nodes_exp29 mmbench 200\n",
      "job_dict saved to eval/logs/job_dict_stage2_MH19_504px_64nodes_exp29_200.json\n",
      "sbatch --parsable --job-name=eval_mmmu /fsx_0/user/tranx/experiments/eval/sbash_eval.sh stage2_MH19_504px_64nodes_exp29_400 /fsx_0/user/tranx/eval/llm_mm_aligner/experiments/aws_adel/eval/eval_mmmu.json /fsx_0/checkpoints/tranx/MM9-Stage2-70B/MH19_504px_64nodes_exp29 mmmu 400\n",
      "sbatch --parsable --job-name=eval_docvqa /fsx_0/user/tranx/experiments/eval/sbash_eval.sh stage2_MH19_504px_64nodes_exp29_400 /fsx_0/user/tranx/eval/llm_mm_aligner/experiments/aws_adel/eval/eval_docvqa.json /fsx_0/checkpoints/tranx/MM9-Stage2-70B/MH19_504px_64nodes_exp29 docvqa 400\n",
      "sbatch --parsable --job-name=eval_mathvista /fsx_0/user/tranx/experiments/eval/sbash_eval.sh stage2_MH19_504px_64nodes_exp29_400 /fsx_0/user/tranx/eval/llm_mm_aligner/experiments/aws_adel/eval/eval_mathvista.json /fsx_0/checkpoints/tranx/MM9-Stage2-70B/MH19_504px_64nodes_exp29 mathvista 400\n",
      "sbatch --parsable --job-name=eval_ai2d /fsx_0/user/tranx/experiments/eval/sbash_eval.sh stage2_MH19_504px_64nodes_exp29_400 /fsx_0/user/tranx/eval/llm_mm_aligner/experiments/aws_adel/eval/eval_ai2d.json /fsx_0/checkpoints/tranx/MM9-Stage2-70B/MH19_504px_64nodes_exp29 ai2d 400\n",
      "sbatch --parsable --job-name=eval_chartqa /fsx_0/user/tranx/experiments/eval/sbash_eval.sh stage2_MH19_504px_64nodes_exp29_400 /fsx_0/user/tranx/eval/llm_mm_aligner/experiments/aws_adel/eval/eval_chartqa.json /fsx_0/checkpoints/tranx/MM9-Stage2-70B/MH19_504px_64nodes_exp29 chartqa 400\n",
      "sbatch --parsable --job-name=eval_vqa /fsx_0/user/tranx/experiments/eval/sbash_eval.sh stage2_MH19_504px_64nodes_exp29_400 /fsx_0/user/tranx/eval/llm_mm_aligner/experiments/aws_adel/eval/eval_vqa.json /fsx_0/checkpoints/tranx/MM9-Stage2-70B/MH19_504px_64nodes_exp29 vqa 400\n",
      "sbatch --parsable --job-name=eval_textvqa /fsx_0/user/tranx/experiments/eval/sbash_eval.sh stage2_MH19_504px_64nodes_exp29_400 /fsx_0/user/tranx/eval/llm_mm_aligner/experiments/aws_adel/eval/eval_textvqa.json /fsx_0/checkpoints/tranx/MM9-Stage2-70B/MH19_504px_64nodes_exp29 textvqa 400\n",
      "sbatch --parsable --job-name=eval_infographics_w_ocr /fsx_0/user/tranx/experiments/eval/sbash_eval.sh stage2_MH19_504px_64nodes_exp29_400 /fsx_0/user/tranx/eval/llm_mm_aligner/experiments/aws_adel/eval/eval_infographics_w_ocr.json /fsx_0/checkpoints/tranx/MM9-Stage2-70B/MH19_504px_64nodes_exp29 infographics_w_ocr 400\n",
      "sbatch --parsable --job-name=eval_infographics /fsx_0/user/tranx/experiments/eval/sbash_eval.sh stage2_MH19_504px_64nodes_exp29_400 /fsx_0/user/tranx/eval/llm_mm_aligner/experiments/aws_adel/eval/eval_infographics.json /fsx_0/checkpoints/tranx/MM9-Stage2-70B/MH19_504px_64nodes_exp29 infographics 400\n",
      "sbatch --parsable --job-name=eval_mmbench /fsx_0/user/tranx/experiments/eval/sbash_eval.sh stage2_MH19_504px_64nodes_exp29_400 /fsx_0/user/tranx/eval/llm_mm_aligner/experiments/aws_adel/eval/eval_mmbench.json /fsx_0/checkpoints/tranx/MM9-Stage2-70B/MH19_504px_64nodes_exp29 mmbench 400\n",
      "job_dict saved to eval/logs/job_dict_stage2_MH19_504px_64nodes_exp29_400.json\n",
      "sbatch --parsable --job-name=eval_mmmu /fsx_0/user/tranx/experiments/eval/sbash_eval.sh stage2_MH19_504px_64nodes_exp29_600 /fsx_0/user/tranx/eval/llm_mm_aligner/experiments/aws_adel/eval/eval_mmmu.json /fsx_0/checkpoints/tranx/MM9-Stage2-70B/MH19_504px_64nodes_exp29 mmmu 600\n",
      "sbatch --parsable --job-name=eval_docvqa /fsx_0/user/tranx/experiments/eval/sbash_eval.sh stage2_MH19_504px_64nodes_exp29_600 /fsx_0/user/tranx/eval/llm_mm_aligner/experiments/aws_adel/eval/eval_docvqa.json /fsx_0/checkpoints/tranx/MM9-Stage2-70B/MH19_504px_64nodes_exp29 docvqa 600\n",
      "sbatch --parsable --job-name=eval_mathvista /fsx_0/user/tranx/experiments/eval/sbash_eval.sh stage2_MH19_504px_64nodes_exp29_600 /fsx_0/user/tranx/eval/llm_mm_aligner/experiments/aws_adel/eval/eval_mathvista.json /fsx_0/checkpoints/tranx/MM9-Stage2-70B/MH19_504px_64nodes_exp29 mathvista 600\n",
      "sbatch --parsable --job-name=eval_ai2d /fsx_0/user/tranx/experiments/eval/sbash_eval.sh stage2_MH19_504px_64nodes_exp29_600 /fsx_0/user/tranx/eval/llm_mm_aligner/experiments/aws_adel/eval/eval_ai2d.json /fsx_0/checkpoints/tranx/MM9-Stage2-70B/MH19_504px_64nodes_exp29 ai2d 600\n",
      "sbatch --parsable --job-name=eval_chartqa /fsx_0/user/tranx/experiments/eval/sbash_eval.sh stage2_MH19_504px_64nodes_exp29_600 /fsx_0/user/tranx/eval/llm_mm_aligner/experiments/aws_adel/eval/eval_chartqa.json /fsx_0/checkpoints/tranx/MM9-Stage2-70B/MH19_504px_64nodes_exp29 chartqa 600\n",
      "sbatch --parsable --job-name=eval_vqa /fsx_0/user/tranx/experiments/eval/sbash_eval.sh stage2_MH19_504px_64nodes_exp29_600 /fsx_0/user/tranx/eval/llm_mm_aligner/experiments/aws_adel/eval/eval_vqa.json /fsx_0/checkpoints/tranx/MM9-Stage2-70B/MH19_504px_64nodes_exp29 vqa 600\n",
      "sbatch --parsable --job-name=eval_textvqa /fsx_0/user/tranx/experiments/eval/sbash_eval.sh stage2_MH19_504px_64nodes_exp29_600 /fsx_0/user/tranx/eval/llm_mm_aligner/experiments/aws_adel/eval/eval_textvqa.json /fsx_0/checkpoints/tranx/MM9-Stage2-70B/MH19_504px_64nodes_exp29 textvqa 600\n",
      "sbatch --parsable --job-name=eval_infographics_w_ocr /fsx_0/user/tranx/experiments/eval/sbash_eval.sh stage2_MH19_504px_64nodes_exp29_600 /fsx_0/user/tranx/eval/llm_mm_aligner/experiments/aws_adel/eval/eval_infographics_w_ocr.json /fsx_0/checkpoints/tranx/MM9-Stage2-70B/MH19_504px_64nodes_exp29 infographics_w_ocr 600\n",
      "sbatch --parsable --job-name=eval_infographics /fsx_0/user/tranx/experiments/eval/sbash_eval.sh stage2_MH19_504px_64nodes_exp29_600 /fsx_0/user/tranx/eval/llm_mm_aligner/experiments/aws_adel/eval/eval_infographics.json /fsx_0/checkpoints/tranx/MM9-Stage2-70B/MH19_504px_64nodes_exp29 infographics 600\n",
      "sbatch --parsable --job-name=eval_mmbench /fsx_0/user/tranx/experiments/eval/sbash_eval.sh stage2_MH19_504px_64nodes_exp29_600 /fsx_0/user/tranx/eval/llm_mm_aligner/experiments/aws_adel/eval/eval_mmbench.json /fsx_0/checkpoints/tranx/MM9-Stage2-70B/MH19_504px_64nodes_exp29 mmbench 600\n",
      "job_dict saved to eval/logs/job_dict_stage2_MH19_504px_64nodes_exp29_600.json\n",
      "sbatch --parsable --job-name=eval_mmmu /fsx_0/user/tranx/experiments/eval/sbash_eval.sh stage2_MH19_504px_64nodes_exp29_800 /fsx_0/user/tranx/eval/llm_mm_aligner/experiments/aws_adel/eval/eval_mmmu.json /fsx_0/checkpoints/tranx/MM9-Stage2-70B/MH19_504px_64nodes_exp29 mmmu 800\n",
      "sbatch --parsable --job-name=eval_docvqa /fsx_0/user/tranx/experiments/eval/sbash_eval.sh stage2_MH19_504px_64nodes_exp29_800 /fsx_0/user/tranx/eval/llm_mm_aligner/experiments/aws_adel/eval/eval_docvqa.json /fsx_0/checkpoints/tranx/MM9-Stage2-70B/MH19_504px_64nodes_exp29 docvqa 800\n",
      "sbatch --parsable --job-name=eval_mathvista /fsx_0/user/tranx/experiments/eval/sbash_eval.sh stage2_MH19_504px_64nodes_exp29_800 /fsx_0/user/tranx/eval/llm_mm_aligner/experiments/aws_adel/eval/eval_mathvista.json /fsx_0/checkpoints/tranx/MM9-Stage2-70B/MH19_504px_64nodes_exp29 mathvista 800\n",
      "sbatch --parsable --job-name=eval_ai2d /fsx_0/user/tranx/experiments/eval/sbash_eval.sh stage2_MH19_504px_64nodes_exp29_800 /fsx_0/user/tranx/eval/llm_mm_aligner/experiments/aws_adel/eval/eval_ai2d.json /fsx_0/checkpoints/tranx/MM9-Stage2-70B/MH19_504px_64nodes_exp29 ai2d 800\n",
      "sbatch --parsable --job-name=eval_chartqa /fsx_0/user/tranx/experiments/eval/sbash_eval.sh stage2_MH19_504px_64nodes_exp29_800 /fsx_0/user/tranx/eval/llm_mm_aligner/experiments/aws_adel/eval/eval_chartqa.json /fsx_0/checkpoints/tranx/MM9-Stage2-70B/MH19_504px_64nodes_exp29 chartqa 800\n",
      "sbatch --parsable --job-name=eval_vqa /fsx_0/user/tranx/experiments/eval/sbash_eval.sh stage2_MH19_504px_64nodes_exp29_800 /fsx_0/user/tranx/eval/llm_mm_aligner/experiments/aws_adel/eval/eval_vqa.json /fsx_0/checkpoints/tranx/MM9-Stage2-70B/MH19_504px_64nodes_exp29 vqa 800\n",
      "sbatch --parsable --job-name=eval_textvqa /fsx_0/user/tranx/experiments/eval/sbash_eval.sh stage2_MH19_504px_64nodes_exp29_800 /fsx_0/user/tranx/eval/llm_mm_aligner/experiments/aws_adel/eval/eval_textvqa.json /fsx_0/checkpoints/tranx/MM9-Stage2-70B/MH19_504px_64nodes_exp29 textvqa 800\n",
      "sbatch --parsable --job-name=eval_infographics_w_ocr /fsx_0/user/tranx/experiments/eval/sbash_eval.sh stage2_MH19_504px_64nodes_exp29_800 /fsx_0/user/tranx/eval/llm_mm_aligner/experiments/aws_adel/eval/eval_infographics_w_ocr.json /fsx_0/checkpoints/tranx/MM9-Stage2-70B/MH19_504px_64nodes_exp29 infographics_w_ocr 800\n",
      "sbatch --parsable --job-name=eval_infographics /fsx_0/user/tranx/experiments/eval/sbash_eval.sh stage2_MH19_504px_64nodes_exp29_800 /fsx_0/user/tranx/eval/llm_mm_aligner/experiments/aws_adel/eval/eval_infographics.json /fsx_0/checkpoints/tranx/MM9-Stage2-70B/MH19_504px_64nodes_exp29 infographics 800\n",
      "sbatch --parsable --job-name=eval_mmbench /fsx_0/user/tranx/experiments/eval/sbash_eval.sh stage2_MH19_504px_64nodes_exp29_800 /fsx_0/user/tranx/eval/llm_mm_aligner/experiments/aws_adel/eval/eval_mmbench.json /fsx_0/checkpoints/tranx/MM9-Stage2-70B/MH19_504px_64nodes_exp29 mmbench 800\n",
      "job_dict saved to eval/logs/job_dict_stage2_MH19_504px_64nodes_exp29_800.json\n",
      "sbatch --parsable --job-name=eval_mmmu /fsx_0/user/tranx/experiments/eval/sbash_eval.sh stage2_MH19_504px_64nodes_exp29_1000 /fsx_0/user/tranx/eval/llm_mm_aligner/experiments/aws_adel/eval/eval_mmmu.json /fsx_0/checkpoints/tranx/MM9-Stage2-70B/MH19_504px_64nodes_exp29 mmmu 1000\n",
      "sbatch --parsable --job-name=eval_docvqa /fsx_0/user/tranx/experiments/eval/sbash_eval.sh stage2_MH19_504px_64nodes_exp29_1000 /fsx_0/user/tranx/eval/llm_mm_aligner/experiments/aws_adel/eval/eval_docvqa.json /fsx_0/checkpoints/tranx/MM9-Stage2-70B/MH19_504px_64nodes_exp29 docvqa 1000\n",
      "sbatch --parsable --job-name=eval_mathvista /fsx_0/user/tranx/experiments/eval/sbash_eval.sh stage2_MH19_504px_64nodes_exp29_1000 /fsx_0/user/tranx/eval/llm_mm_aligner/experiments/aws_adel/eval/eval_mathvista.json /fsx_0/checkpoints/tranx/MM9-Stage2-70B/MH19_504px_64nodes_exp29 mathvista 1000\n",
      "sbatch --parsable --job-name=eval_ai2d /fsx_0/user/tranx/experiments/eval/sbash_eval.sh stage2_MH19_504px_64nodes_exp29_1000 /fsx_0/user/tranx/eval/llm_mm_aligner/experiments/aws_adel/eval/eval_ai2d.json /fsx_0/checkpoints/tranx/MM9-Stage2-70B/MH19_504px_64nodes_exp29 ai2d 1000\n",
      "sbatch --parsable --job-name=eval_chartqa /fsx_0/user/tranx/experiments/eval/sbash_eval.sh stage2_MH19_504px_64nodes_exp29_1000 /fsx_0/user/tranx/eval/llm_mm_aligner/experiments/aws_adel/eval/eval_chartqa.json /fsx_0/checkpoints/tranx/MM9-Stage2-70B/MH19_504px_64nodes_exp29 chartqa 1000\n",
      "sbatch --parsable --job-name=eval_vqa /fsx_0/user/tranx/experiments/eval/sbash_eval.sh stage2_MH19_504px_64nodes_exp29_1000 /fsx_0/user/tranx/eval/llm_mm_aligner/experiments/aws_adel/eval/eval_vqa.json /fsx_0/checkpoints/tranx/MM9-Stage2-70B/MH19_504px_64nodes_exp29 vqa 1000\n",
      "sbatch --parsable --job-name=eval_textvqa /fsx_0/user/tranx/experiments/eval/sbash_eval.sh stage2_MH19_504px_64nodes_exp29_1000 /fsx_0/user/tranx/eval/llm_mm_aligner/experiments/aws_adel/eval/eval_textvqa.json /fsx_0/checkpoints/tranx/MM9-Stage2-70B/MH19_504px_64nodes_exp29 textvqa 1000\n",
      "sbatch --parsable --job-name=eval_infographics_w_ocr /fsx_0/user/tranx/experiments/eval/sbash_eval.sh stage2_MH19_504px_64nodes_exp29_1000 /fsx_0/user/tranx/eval/llm_mm_aligner/experiments/aws_adel/eval/eval_infographics_w_ocr.json /fsx_0/checkpoints/tranx/MM9-Stage2-70B/MH19_504px_64nodes_exp29 infographics_w_ocr 1000\n",
      "sbatch --parsable --job-name=eval_infographics /fsx_0/user/tranx/experiments/eval/sbash_eval.sh stage2_MH19_504px_64nodes_exp29_1000 /fsx_0/user/tranx/eval/llm_mm_aligner/experiments/aws_adel/eval/eval_infographics.json /fsx_0/checkpoints/tranx/MM9-Stage2-70B/MH19_504px_64nodes_exp29 infographics 1000\n",
      "sbatch --parsable --job-name=eval_mmbench /fsx_0/user/tranx/experiments/eval/sbash_eval.sh stage2_MH19_504px_64nodes_exp29_1000 /fsx_0/user/tranx/eval/llm_mm_aligner/experiments/aws_adel/eval/eval_mmbench.json /fsx_0/checkpoints/tranx/MM9-Stage2-70B/MH19_504px_64nodes_exp29 mmbench 1000\n",
      "job_dict saved to eval/logs/job_dict_stage2_MH19_504px_64nodes_exp29_1000.json\n",
      "sbatch --parsable --job-name=eval_mmmu /fsx_0/user/tranx/experiments/eval/sbash_eval.sh stage2_MH19_504px_64nodes_exp29_1200 /fsx_0/user/tranx/eval/llm_mm_aligner/experiments/aws_adel/eval/eval_mmmu.json /fsx_0/checkpoints/tranx/MM9-Stage2-70B/MH19_504px_64nodes_exp29 mmmu 1200\n",
      "sbatch --parsable --job-name=eval_docvqa /fsx_0/user/tranx/experiments/eval/sbash_eval.sh stage2_MH19_504px_64nodes_exp29_1200 /fsx_0/user/tranx/eval/llm_mm_aligner/experiments/aws_adel/eval/eval_docvqa.json /fsx_0/checkpoints/tranx/MM9-Stage2-70B/MH19_504px_64nodes_exp29 docvqa 1200\n",
      "sbatch --parsable --job-name=eval_mathvista /fsx_0/user/tranx/experiments/eval/sbash_eval.sh stage2_MH19_504px_64nodes_exp29_1200 /fsx_0/user/tranx/eval/llm_mm_aligner/experiments/aws_adel/eval/eval_mathvista.json /fsx_0/checkpoints/tranx/MM9-Stage2-70B/MH19_504px_64nodes_exp29 mathvista 1200\n",
      "sbatch --parsable --job-name=eval_ai2d /fsx_0/user/tranx/experiments/eval/sbash_eval.sh stage2_MH19_504px_64nodes_exp29_1200 /fsx_0/user/tranx/eval/llm_mm_aligner/experiments/aws_adel/eval/eval_ai2d.json /fsx_0/checkpoints/tranx/MM9-Stage2-70B/MH19_504px_64nodes_exp29 ai2d 1200\n",
      "sbatch --parsable --job-name=eval_chartqa /fsx_0/user/tranx/experiments/eval/sbash_eval.sh stage2_MH19_504px_64nodes_exp29_1200 /fsx_0/user/tranx/eval/llm_mm_aligner/experiments/aws_adel/eval/eval_chartqa.json /fsx_0/checkpoints/tranx/MM9-Stage2-70B/MH19_504px_64nodes_exp29 chartqa 1200\n",
      "sbatch --parsable --job-name=eval_vqa /fsx_0/user/tranx/experiments/eval/sbash_eval.sh stage2_MH19_504px_64nodes_exp29_1200 /fsx_0/user/tranx/eval/llm_mm_aligner/experiments/aws_adel/eval/eval_vqa.json /fsx_0/checkpoints/tranx/MM9-Stage2-70B/MH19_504px_64nodes_exp29 vqa 1200\n",
      "sbatch --parsable --job-name=eval_textvqa /fsx_0/user/tranx/experiments/eval/sbash_eval.sh stage2_MH19_504px_64nodes_exp29_1200 /fsx_0/user/tranx/eval/llm_mm_aligner/experiments/aws_adel/eval/eval_textvqa.json /fsx_0/checkpoints/tranx/MM9-Stage2-70B/MH19_504px_64nodes_exp29 textvqa 1200\n",
      "sbatch --parsable --job-name=eval_infographics_w_ocr /fsx_0/user/tranx/experiments/eval/sbash_eval.sh stage2_MH19_504px_64nodes_exp29_1200 /fsx_0/user/tranx/eval/llm_mm_aligner/experiments/aws_adel/eval/eval_infographics_w_ocr.json /fsx_0/checkpoints/tranx/MM9-Stage2-70B/MH19_504px_64nodes_exp29 infographics_w_ocr 1200\n",
      "sbatch --parsable --job-name=eval_infographics /fsx_0/user/tranx/experiments/eval/sbash_eval.sh stage2_MH19_504px_64nodes_exp29_1200 /fsx_0/user/tranx/eval/llm_mm_aligner/experiments/aws_adel/eval/eval_infographics.json /fsx_0/checkpoints/tranx/MM9-Stage2-70B/MH19_504px_64nodes_exp29 infographics 1200\n",
      "sbatch --parsable --job-name=eval_mmbench /fsx_0/user/tranx/experiments/eval/sbash_eval.sh stage2_MH19_504px_64nodes_exp29_1200 /fsx_0/user/tranx/eval/llm_mm_aligner/experiments/aws_adel/eval/eval_mmbench.json /fsx_0/checkpoints/tranx/MM9-Stage2-70B/MH19_504px_64nodes_exp29 mmbench 1200\n",
      "job_dict saved to eval/logs/job_dict_stage2_MH19_504px_64nodes_exp29_1200.json\n"
     ]
    }
   ],
   "source": [
    "checkpoints = [200, 400, 600, 800, 1000, 1200]\n",
    "for c in checkpoints:\n",
    "    plan_dict = eval_helper.run_eval_plan(\n",
    "        eval_base_sbatch=EVAL_SBATCH,\n",
    "        eval_plan=f\"stage2_MH19_504px_64nodes_exp29_{c}\",\n",
    "        eval_config_dir=EVAL_CONFIG_DIR,\n",
    "        checkpoint_dir=\"/fsx_0/checkpoints/tranx/MM9-Stage2-70B/MH19_504px_64nodes_exp29\",\n",
    "        checkpoints=[c]\n",
    "    )"
   ]
  },
  {
   "cell_type": "markdown",
   "metadata": {},
   "source": [
    "## 336px i18n"
   ]
  },
  {
   "cell_type": "code",
   "execution_count": 15,
   "metadata": {},
   "outputs": [
    {
     "name": "stdout",
     "output_type": "stream",
     "text": [
      "checkpoint-5000  checkpoint-5200  runs\n"
     ]
    }
   ],
   "source": [
    "!ls /fsx_0/checkpoints/tranx/MM9-Stage2-70B/MH19_336px_64nodes_i18n"
   ]
  },
  {
   "cell_type": "code",
   "execution_count": 16,
   "metadata": {},
   "outputs": [
    {
     "name": "stdout",
     "output_type": "stream",
     "text": [
      "sbatch --parsable --job-name=eval_mmmu /fsx_0/user/tranx/experiments/eval/sbash_eval.sh stage2_MH19_336px_64nodes_i18n_5000 /fsx_0/user/tranx/eval/llm_mm_aligner/experiments/aws_adel/eval/eval_mmmu.json /fsx_0/checkpoints/tranx/MM9-Stage2-70B/MH19_336px_64nodes_i18n mmmu 5000\n",
      "sbatch --parsable --job-name=eval_docvqa /fsx_0/user/tranx/experiments/eval/sbash_eval.sh stage2_MH19_336px_64nodes_i18n_5000 /fsx_0/user/tranx/eval/llm_mm_aligner/experiments/aws_adel/eval/eval_docvqa.json /fsx_0/checkpoints/tranx/MM9-Stage2-70B/MH19_336px_64nodes_i18n docvqa 5000\n",
      "sbatch --parsable --job-name=eval_mathvista /fsx_0/user/tranx/experiments/eval/sbash_eval.sh stage2_MH19_336px_64nodes_i18n_5000 /fsx_0/user/tranx/eval/llm_mm_aligner/experiments/aws_adel/eval/eval_mathvista.json /fsx_0/checkpoints/tranx/MM9-Stage2-70B/MH19_336px_64nodes_i18n mathvista 5000\n",
      "sbatch --parsable --job-name=eval_ai2d /fsx_0/user/tranx/experiments/eval/sbash_eval.sh stage2_MH19_336px_64nodes_i18n_5000 /fsx_0/user/tranx/eval/llm_mm_aligner/experiments/aws_adel/eval/eval_ai2d.json /fsx_0/checkpoints/tranx/MM9-Stage2-70B/MH19_336px_64nodes_i18n ai2d 5000\n",
      "sbatch --parsable --job-name=eval_chartqa /fsx_0/user/tranx/experiments/eval/sbash_eval.sh stage2_MH19_336px_64nodes_i18n_5000 /fsx_0/user/tranx/eval/llm_mm_aligner/experiments/aws_adel/eval/eval_chartqa.json /fsx_0/checkpoints/tranx/MM9-Stage2-70B/MH19_336px_64nodes_i18n chartqa 5000\n",
      "sbatch --parsable --job-name=eval_vqa /fsx_0/user/tranx/experiments/eval/sbash_eval.sh stage2_MH19_336px_64nodes_i18n_5000 /fsx_0/user/tranx/eval/llm_mm_aligner/experiments/aws_adel/eval/eval_vqa.json /fsx_0/checkpoints/tranx/MM9-Stage2-70B/MH19_336px_64nodes_i18n vqa 5000\n",
      "sbatch --parsable --job-name=eval_textvqa /fsx_0/user/tranx/experiments/eval/sbash_eval.sh stage2_MH19_336px_64nodes_i18n_5000 /fsx_0/user/tranx/eval/llm_mm_aligner/experiments/aws_adel/eval/eval_textvqa.json /fsx_0/checkpoints/tranx/MM9-Stage2-70B/MH19_336px_64nodes_i18n textvqa 5000\n",
      "sbatch --parsable --job-name=eval_infographics_w_ocr /fsx_0/user/tranx/experiments/eval/sbash_eval.sh stage2_MH19_336px_64nodes_i18n_5000 /fsx_0/user/tranx/eval/llm_mm_aligner/experiments/aws_adel/eval/eval_infographics_w_ocr.json /fsx_0/checkpoints/tranx/MM9-Stage2-70B/MH19_336px_64nodes_i18n infographics_w_ocr 5000\n",
      "sbatch --parsable --job-name=eval_infographics /fsx_0/user/tranx/experiments/eval/sbash_eval.sh stage2_MH19_336px_64nodes_i18n_5000 /fsx_0/user/tranx/eval/llm_mm_aligner/experiments/aws_adel/eval/eval_infographics.json /fsx_0/checkpoints/tranx/MM9-Stage2-70B/MH19_336px_64nodes_i18n infographics 5000\n",
      "sbatch --parsable --job-name=eval_mmbench /fsx_0/user/tranx/experiments/eval/sbash_eval.sh stage2_MH19_336px_64nodes_i18n_5000 /fsx_0/user/tranx/eval/llm_mm_aligner/experiments/aws_adel/eval/eval_mmbench.json /fsx_0/checkpoints/tranx/MM9-Stage2-70B/MH19_336px_64nodes_i18n mmbench 5000\n",
      "job_dict saved to eval/logs/job_dict_stage2_MH19_336px_64nodes_i18n_5000.json\n",
      "sbatch --parsable --job-name=eval_mmmu /fsx_0/user/tranx/experiments/eval/sbash_eval.sh stage2_MH19_336px_64nodes_i18n_5200 /fsx_0/user/tranx/eval/llm_mm_aligner/experiments/aws_adel/eval/eval_mmmu.json /fsx_0/checkpoints/tranx/MM9-Stage2-70B/MH19_336px_64nodes_i18n mmmu 5200\n",
      "sbatch --parsable --job-name=eval_docvqa /fsx_0/user/tranx/experiments/eval/sbash_eval.sh stage2_MH19_336px_64nodes_i18n_5200 /fsx_0/user/tranx/eval/llm_mm_aligner/experiments/aws_adel/eval/eval_docvqa.json /fsx_0/checkpoints/tranx/MM9-Stage2-70B/MH19_336px_64nodes_i18n docvqa 5200\n",
      "sbatch --parsable --job-name=eval_mathvista /fsx_0/user/tranx/experiments/eval/sbash_eval.sh stage2_MH19_336px_64nodes_i18n_5200 /fsx_0/user/tranx/eval/llm_mm_aligner/experiments/aws_adel/eval/eval_mathvista.json /fsx_0/checkpoints/tranx/MM9-Stage2-70B/MH19_336px_64nodes_i18n mathvista 5200\n",
      "sbatch --parsable --job-name=eval_ai2d /fsx_0/user/tranx/experiments/eval/sbash_eval.sh stage2_MH19_336px_64nodes_i18n_5200 /fsx_0/user/tranx/eval/llm_mm_aligner/experiments/aws_adel/eval/eval_ai2d.json /fsx_0/checkpoints/tranx/MM9-Stage2-70B/MH19_336px_64nodes_i18n ai2d 5200\n",
      "sbatch --parsable --job-name=eval_chartqa /fsx_0/user/tranx/experiments/eval/sbash_eval.sh stage2_MH19_336px_64nodes_i18n_5200 /fsx_0/user/tranx/eval/llm_mm_aligner/experiments/aws_adel/eval/eval_chartqa.json /fsx_0/checkpoints/tranx/MM9-Stage2-70B/MH19_336px_64nodes_i18n chartqa 5200\n",
      "sbatch --parsable --job-name=eval_vqa /fsx_0/user/tranx/experiments/eval/sbash_eval.sh stage2_MH19_336px_64nodes_i18n_5200 /fsx_0/user/tranx/eval/llm_mm_aligner/experiments/aws_adel/eval/eval_vqa.json /fsx_0/checkpoints/tranx/MM9-Stage2-70B/MH19_336px_64nodes_i18n vqa 5200\n",
      "sbatch --parsable --job-name=eval_textvqa /fsx_0/user/tranx/experiments/eval/sbash_eval.sh stage2_MH19_336px_64nodes_i18n_5200 /fsx_0/user/tranx/eval/llm_mm_aligner/experiments/aws_adel/eval/eval_textvqa.json /fsx_0/checkpoints/tranx/MM9-Stage2-70B/MH19_336px_64nodes_i18n textvqa 5200\n",
      "sbatch --parsable --job-name=eval_infographics_w_ocr /fsx_0/user/tranx/experiments/eval/sbash_eval.sh stage2_MH19_336px_64nodes_i18n_5200 /fsx_0/user/tranx/eval/llm_mm_aligner/experiments/aws_adel/eval/eval_infographics_w_ocr.json /fsx_0/checkpoints/tranx/MM9-Stage2-70B/MH19_336px_64nodes_i18n infographics_w_ocr 5200\n",
      "sbatch --parsable --job-name=eval_infographics /fsx_0/user/tranx/experiments/eval/sbash_eval.sh stage2_MH19_336px_64nodes_i18n_5200 /fsx_0/user/tranx/eval/llm_mm_aligner/experiments/aws_adel/eval/eval_infographics.json /fsx_0/checkpoints/tranx/MM9-Stage2-70B/MH19_336px_64nodes_i18n infographics 5200\n",
      "sbatch --parsable --job-name=eval_mmbench /fsx_0/user/tranx/experiments/eval/sbash_eval.sh stage2_MH19_336px_64nodes_i18n_5200 /fsx_0/user/tranx/eval/llm_mm_aligner/experiments/aws_adel/eval/eval_mmbench.json /fsx_0/checkpoints/tranx/MM9-Stage2-70B/MH19_336px_64nodes_i18n mmbench 5200\n",
      "job_dict saved to eval/logs/job_dict_stage2_MH19_336px_64nodes_i18n_5200.json\n"
     ]
    }
   ],
   "source": [
    "checkpoints = [5000, 5200]\n",
    "for c in checkpoints:\n",
    "    plan_dict = eval_helper.run_eval_plan(\n",
    "        eval_base_sbatch=EVAL_SBATCH,\n",
    "        eval_plan=f\"stage2_MH19_336px_64nodes_i18n_{c}\",\n",
    "        eval_config_dir=EVAL_CONFIG_DIR,\n",
    "        checkpoint_dir=\"/fsx_0/checkpoints/tranx/MM9-Stage2-70B/MH19_336px_64nodes_i18n\",\n",
    "        checkpoints=[c]\n",
    "    )"
   ]
  }
 ],
 "metadata": {
  "kernelspec": {
   "display_name": "Python 3 (ipykernel)",
   "language": "python",
   "name": "python3"
  },
  "language_info": {
   "codemirror_mode": {
    "name": "ipython",
    "version": 3
   },
   "file_extension": ".py",
   "mimetype": "text/x-python",
   "name": "python",
   "nbconvert_exporter": "python",
   "pygments_lexer": "ipython3",
   "version": "3.11.9"
  }
 },
 "nbformat": 4,
 "nbformat_minor": 2
}
