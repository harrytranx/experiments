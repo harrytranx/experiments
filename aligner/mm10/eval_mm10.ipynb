{
 "cells": [
  {
   "cell_type": "code",
   "execution_count": null,
   "metadata": {},
   "outputs": [],
   "source": [
    "# BOILER PLATE, MUST BE RUN ON SUBMIT NODE\n",
    "%load_ext autoreload\n",
    "%autoreload 2\n",
    "import socket\n",
    "print(\"Running on host: \", socket.gethostname())\n",
    "\n",
    "import sys \n",
    "lib_path = '/fsx_0/user/tranx/experiments'\n",
    "if lib_path not in sys.path:\n",
    "    sys.path.append(lib_path)\n",
    "#=================================================\n",
    "\n",
    "from lib import eval_helper\n",
    "\n",
    "ev_master = eval_helper.EvalHelper(\n",
    "    code_dir=\"/fsx_0/user/tranx/rsync\",\n",
    "    # code_dir=\"/fsx_0/user/tranx/aws_prod\",\n",
    "    eval_sbatch=\"/fsx_0/user/tranx/rsync/llm_mm_aligner/experiments/aws/launch_eval_sbatch.sh\",\n",
    "    # eval_config_dir=\"/fsx_0/user/tranx/rsync/llm_mm_aligner/experiments/aws/mm9_sft/eval_overwrite\"\n",
    "    eval_config_dir=\"/fsx_0/user/tranx/rsync/llm_mm_aligner/experiments/aws/mm10/stage1/eval_overwrite\"\n",
    ")\n",
    "\n",
    "\n",
    "ev_norm = eval_helper.EvalHelper(\n",
    "    code_dir=\"/fsx_0/user/tranx/rsync_norm\",\n",
    "    # code_dir=\"/fsx_0/user/tranx/aws_prod\",\n",
    "    # eval_sbatch=\"/fsx_0/user/tranx/rsync/llm_mm_aligner/experiments/aws/launch_eval_sbatch.sh\",\n",
    "    eval_sbatch=\"/fsx_0/user/tranx/experiments/eval/sbash_eval.sh\",\n",
    "    eval_config_dir=\"/fsx_0/user/tranx/rsync/llm_mm_aligner/experiments/aws/mm9_sft/eval_overwrite\"\n",
    ")\n",
    "\n",
    "ev_prod = eval_helper.EvalHelper(\n",
    "    # code_dir=\"/fsx_0/user/tranx/rsync\",\n",
    "    code_dir=\"/fsx_0/user/tranx/aws_prod\",\n",
    "    eval_sbatch=\"/fsx_0/user/tranx/experiments/eval/sbash_eval.sh\",\n",
    "    eval_config_dir=\"/fsx_0/user/tranx/rsync/llm_mm_aligner/experiments/aws/mm9_sft/eval_overwrite\"\n",
    ")\n",
    "\n",
    "benchmark_non_mmmu = [b for b in eval_helper.ALL_BENCHMARKS if b != \"mmmu\"]\n",
    "benchmark_non_mmmu"
   ]
  },
  {
   "cell_type": "markdown",
   "metadata": {},
   "source": [
    "# Get Hybrid scores"
   ]
  },
  {
   "cell_type": "code",
   "execution_count": null,
   "metadata": {},
   "outputs": [],
   "source": [
    "eval_helper.get_eval_scores(\n",
    "    \"/fsx_0/checkpoints/mm10/MM10-Stage2-70B/MH21_70B_336px_exp30d_docvqa_unfreeze_lr1_n128\",\n",
    "    checkpoint_id=10300,\n",
    "    report_version=\"hybrid\"\n",
    ")\n"
   ]
  },
  {
   "cell_type": "markdown",
   "metadata": {},
   "source": [
    "# S2"
   ]
  },
  {
   "cell_type": "code",
   "execution_count": 3,
   "metadata": {},
   "outputs": [],
   "source": [
    "OUTPUT_S2 = \"/fsx_0/checkpoints/mm10/MM10-Stage2-70B/MH21_70B_336px_exp32a\"\n",
    "OUTPUT_S2_16 = \"/fsx_0/checkpoints/mm10/MM10-Stage2-70B/MH21_70B_336px_exp32a_bz48\"\n",
    "OUTPUT_S2_unfreeze = \"/fsx_0/checkpoints/mm10/MM10-Stage2-70B/MH21_70B_336px_exp32a_unfreeze\"\n",
    "OUTPUT_S2_30d = \"/fsx_0/checkpoints/mm10/MM10-Stage2-70B/MH21_70B_336px_exp30d_m2c2_036_unfreeze\"\n",
    "\n",
    "ev_s2 = eval_helper.EvalHelper(\n",
    "    code_dir=\"/fsx_0/user/tranx/rsync\",\n",
    "    eval_sbatch=\"/fsx_0/user/tranx/rsync/llm_mm_aligner/experiments/aws/launch_eval_sbatch.sh\",\n",
    "    eval_config_dir=\"/fsx_0/user/tranx/rsync/llm_mm_aligner/experiments/aws/mm10/stage2/eval_overwrite\"\n",
    ")\n",
    "\n",
    "ev_s2_unfreeze = eval_helper.EvalHelper(\n",
    "    code_dir=\"/fsx_0/user/tranx/rsync\",\n",
    "    eval_sbatch=\"/fsx_0/user/tranx/rsync/llm_mm_aligner/experiments/aws/launch_eval_sbatch.sh\",\n",
    "    eval_config_dir=\"/fsx_0/user/tranx/rsync/llm_mm_aligner/experiments/aws/mm10/stage2/eval_overwrite_w_checkpoints_perception\"\n",
    ")\n"
   ]
  },
  {
   "cell_type": "code",
   "execution_count": null,
   "metadata": {},
   "outputs": [],
   "source": [
    "# ev_s2_unfreeze.run_eval_sweep(\n",
    "#     \"/fsx_0/checkpoints/mm10/MM10-Stage2-70B/MH21_70B_336px_exp30d_docvqa_unfreeze_lr1_n128\",\n",
    "#     print_cmd=True,\n",
    "#     # benchmarks=[\"mmmu\"],\n",
    "#     # benchmarks=benchmark_non_mmmu,\n",
    "#     update_if_exists=True,\n",
    "#     checkpoints=[10000]\n",
    "#     # min_checkpoint=9800\n",
    "# )"
   ]
  },
  {
   "cell_type": "code",
   "execution_count": null,
   "metadata": {},
   "outputs": [],
   "source": [
    "eval_helper.get_eval_scores(\n",
    "    \"/fsx_0/checkpoints/mm10/MM10-Stage2-70B/MH21_70B_336px_exp30d_docvqa_metaclip_unfreeze_lr1_n128\",\n",
    "    checkpoint_id=9000,\n",
    "    report_version=\"hybrid\"\n",
    ")"
   ]
  },
  {
   "cell_type": "code",
   "execution_count": null,
   "metadata": {},
   "outputs": [],
   "source": [
    "eval_helper.get_eval_scores(\n",
    "    \"/fsx_0/checkpoints/mm10/MM10-Stage2-70B/MH21_70B_336px_exp30d_docvqa_unfreeze_lr1_n128\",\n",
    "    checkpoint_id=11700,\n",
    "    report_version=\"hybrid\"\n",
    ")"
   ]
  },
  {
   "cell_type": "code",
   "execution_count": null,
   "metadata": {},
   "outputs": [],
   "source": [
    "ev_s2_unfreeze.get_scores(\n",
    "    \"/fsx_0/checkpoints/mm10/MM10-Stage2-70B/MH21_70B_336px_exp30d_docvqa_unfreeze_lr1_n128_adel\",\n",
    "    report_version=\"v1\"\n",
    ")"
   ]
  },
  {
   "cell_type": "code",
   "execution_count": null,
   "metadata": {},
   "outputs": [],
   "source": [
    "ev_s2_unfreeze.get_scores(\n",
    "    \"/fsx_0/checkpoints/mm10/MM10-Stage2-70B/MH21_70B_336px_exp30d_docvqa_plus_unfreeze_lr1_n128\",\n",
    "    report_version=\"v1\"\n",
    ")"
   ]
  },
  {
   "cell_type": "code",
   "execution_count": null,
   "metadata": {},
   "outputs": [],
   "source": [
    "ev_s2_unfreeze.get_scores(\n",
    "    \"/fsx_0/checkpoints/mm10/MM10-Stage2-70B/MH21_70B_336px_exp30d_docvqa_unfreeze_lr1_n128\",\n",
    "    min_checkpoint=13000\n",
    ")"
   ]
  },
  {
   "cell_type": "code",
   "execution_count": null,
   "metadata": {},
   "outputs": [],
   "source": [
    "ev_s2_unfreeze.get_scores(\n",
    "    \"/fsx_0/checkpoints/mm10/MM10-Stage2-70B/MH21_70B_336px_exp30d_docvqa_ocr_unfreeze_lr1_n128\"\n",
    ")"
   ]
  },
  {
   "cell_type": "code",
   "execution_count": null,
   "metadata": {},
   "outputs": [],
   "source": [
    "ev_s2_unfreeze.get_scores(\n",
    "    \"/fsx_0/checkpoints/mm10/MM10-Stage2-70B/MH21_70B_336px_exp32a_lock_ve_n128\"\n",
    ")"
   ]
  },
  {
   "cell_type": "code",
   "execution_count": null,
   "metadata": {},
   "outputs": [],
   "source": [
    "ev_s2_unfreeze.get_scores(\n",
    "    \"/fsx_0/checkpoints/mm10/MM10-Stage2-70B/MH21_70B_336px_exp30d_plus_unfreeze_lr1_n128\"\n",
    ")"
   ]
  },
  {
   "cell_type": "code",
   "execution_count": null,
   "metadata": {},
   "outputs": [],
   "source": [
    "ev_s2_unfreeze.get_scores(\n",
    "    \"/fsx_0/checkpoints/mm10/MM10-Stage2-70B/MH21_70B_336px_exp32a_lr1_n128\"\n",
    ")"
   ]
  },
  {
   "cell_type": "code",
   "execution_count": null,
   "metadata": {},
   "outputs": [],
   "source": [
    "import datetime\n",
    "now = datetime.datetime.now()\n",
    "# str_now = now.strftime(\"%y-%m-%d_%H:%M:%S:%f\")  # \"yy-mm-dd_HH-MM-SS-microseconds\"\n",
    "str_now = now.strftime(\"%y-%m-%d_%H:%M:%S:%f\")[:-3]  # \"yy-mm-dd_HH-MM-SS-milliseconds\"\n",
    "str_now = str_now.replace(\"-\", \"\")\n",
    "str_now = str_now.replace(\":\", \"_\")\n",
    "str_now"
   ]
  },
  {
   "cell_type": "code",
   "execution_count": null,
   "metadata": {},
   "outputs": [],
   "source": [
    "now.strftime(\"%y%m%d_%H_%M_%S_%f\")"
   ]
  },
  {
   "cell_type": "code",
   "execution_count": null,
   "metadata": {},
   "outputs": [],
   "source": [
    "ev_s2_unfreeze.get_scores(\n",
    "    \"/fsx_0/checkpoints/mm10/MM10-Stage2-70B/MH21_70B_336px_exp30d_m2c2_036_unfreeze_lr1_n128\"\n",
    ")"
   ]
  },
  {
   "cell_type": "code",
   "execution_count": null,
   "metadata": {},
   "outputs": [],
   "source": [
    "ev_s2_unfreeze.get_scores(OUTPUT_S2_30d, min_checkpoint=4800)"
   ]
  },
  {
   "cell_type": "code",
   "execution_count": null,
   "metadata": {},
   "outputs": [],
   "source": [
    "ev_s2_unfreeze.get_scores(OUTPUT_S2_30d, min_checkpoint=4800)"
   ]
  },
  {
   "cell_type": "code",
   "execution_count": null,
   "metadata": {},
   "outputs": [],
   "source": [
    "ev_s2_unfreeze.get_scores(\"/fsx_0/checkpoints/mm10/MM10-Stage2-70B/MH21_70B_336px_exp30d_m2c2_036_unfreeze_lr1\")"
   ]
  },
  {
   "cell_type": "code",
   "execution_count": null,
   "metadata": {},
   "outputs": [],
   "source": [
    "ev_s2_unfreeze.get_scores(OUTPUT_S2_unfreeze)"
   ]
  },
  {
   "cell_type": "code",
   "execution_count": null,
   "metadata": {},
   "outputs": [],
   "source": [
    "# ev_s2.run_eval_sweep(\n",
    "#     OUTPUT_S2, \n",
    "#     print_cmd=True,\n",
    "#     benchmarks=[\"mmmu\"],\n",
    "#     update_if_exists=True\n",
    "# )"
   ]
  },
  {
   "cell_type": "code",
   "execution_count": null,
   "metadata": {},
   "outputs": [],
   "source": [
    "ev_s2.get_scores(OUTPUT_S2)"
   ]
  },
  {
   "cell_type": "code",
   "execution_count": null,
   "metadata": {},
   "outputs": [],
   "source": [
    "ev_s2.get_scores(OUTPUT_S2_16)"
   ]
  },
  {
   "cell_type": "code",
   "execution_count": null,
   "metadata": {},
   "outputs": [],
   "source": [
    "2*64*160"
   ]
  },
  {
   "cell_type": "markdown",
   "metadata": {},
   "source": [
    "# S1"
   ]
  },
  {
   "cell_type": "code",
   "execution_count": 53,
   "metadata": {},
   "outputs": [],
   "source": [
    "OUTPUT_S1 = \"/fsx_0/checkpoints/tranx/MM10-Pretrain-70B/MH21_70B_224px_0916\"\n",
    "OUTPUT_S1_norm = \"/fsx_0/checkpoints/mm10/MM10-Stage1-70B/MH21_70B_224px_norm\"\n",
    "# BENCHMARKS = [\"mathvista\", \"vqa\"]\n",
    "BENCHMARKS = [\"mmmu\"]"
   ]
  },
  {
   "cell_type": "code",
   "execution_count": null,
   "metadata": {},
   "outputs": [],
   "source": [
    "# ev.cancel_eval_jobs(OUTPUT_S1, cancel_states=['RUNNING'])"
   ]
  },
  {
   "cell_type": "code",
   "execution_count": null,
   "metadata": {},
   "outputs": [],
   "source": [
    "ev.run_eval_sweep(\n",
    "    checkpoint_dir=OUTPUT_S1,\n",
    "    benchmarks=[\"mmmu\"],\n",
    "    slurm_qos=\"midpri\",\n",
    "    min_checkpoint=900,\n",
    "    update_if_exists=False,\n",
    "    print_cmd=True\n",
    ")"
   ]
  },
  {
   "cell_type": "code",
   "execution_count": null,
   "metadata": {},
   "outputs": [],
   "source": [
    "ev.run_eval_sweep(\n",
    "    checkpoint_dir=OUTPUT_S1,\n",
    "    benchmarks=[b for b in eval_helper.ALL_BENCHMARKS if b != 'mmmu'],\n",
    "    slurm_qos=\"midpri\",\n",
    "    # min_checkpoint=900,\n",
    "    checkpoints=[2800],\n",
    "    update_if_exists=True,\n",
    "    print_cmd=True\n",
    ")"
   ]
  },
  {
   "cell_type": "code",
   "execution_count": null,
   "metadata": {},
   "outputs": [],
   "source": [
    "ev.get_scores(OUTPUT_S1)"
   ]
  },
  {
   "cell_type": "markdown",
   "metadata": {},
   "source": [
    "# S1 norm"
   ]
  },
  {
   "cell_type": "code",
   "execution_count": 7,
   "metadata": {},
   "outputs": [],
   "source": [
    "OUTPUT_S1_norm = \"/fsx_0/checkpoints/mm10/MM10-Stage1-70B/MH21_70B_224px_norm_R2\"\n",
    "# BENCHMARKS = [\"mathvista\", \"vqa\"]\n",
    "BENCHMARKS = [\"mmmu\"]"
   ]
  },
  {
   "cell_type": "code",
   "execution_count": null,
   "metadata": {},
   "outputs": [],
   "source": [
    "# ev.run_eval_sweep(\n",
    "ev_prod.run_eval_sweep(\n",
    "    checkpoint_dir=OUTPUT_S1_norm,\n",
    "    benchmarks=[\"mmmu\"],\n",
    "    slurm_qos=\"midpri\",\n",
    "    update_if_exists=True,\n",
    "    print_cmd=True\n",
    ")"
   ]
  },
  {
   "cell_type": "code",
   "execution_count": null,
   "metadata": {},
   "outputs": [],
   "source": [
    "ev_master.run_eval_sweep(\n",
    "    checkpoint_dir=OUTPUT_S1_norm,\n",
    "    benchmarks=[\"mmmu\"],\n",
    "    slurm_qos=\"midpri\",\n",
    "    checkpoints=[100],\n",
    "    update_if_exists=True,\n",
    "    print_cmd=True\n",
    ")"
   ]
  },
  {
   "cell_type": "code",
   "execution_count": null,
   "metadata": {},
   "outputs": [],
   "source": [
    "ev_master.run_eval_sweep(\n",
    "    checkpoint_dir=OUTPUT_S1_norm,\n",
    "    benchmarks=[\"mmmu\"],\n",
    "    slurm_qos=\"midpri\",\n",
    "    min_checkpoint=5600,\n",
    "    # checkpoints=[3600],\n",
    "    # update_if_exists=True,\n",
    "    print_cmd=True\n",
    ")"
   ]
  },
  {
   "cell_type": "code",
   "execution_count": null,
   "metadata": {},
   "outputs": [],
   "source": [
    "ev_master.get_scores(OUTPUT_S1_norm, min_checkpoint=5000)"
   ]
  },
  {
   "cell_type": "markdown",
   "metadata": {},
   "source": [
    "# Non-mmmu"
   ]
  },
  {
   "cell_type": "code",
   "execution_count": null,
   "metadata": {},
   "outputs": [],
   "source": [
    "# eval for non-mmmu\n",
    "ev_master.run_eval_sweep(\n",
    "    checkpoint_dir=OUTPUT_S1_norm,\n",
    "    # benchmarks=[\"mmmu\"],\n",
    "    benchmarks=benchmark_non_mmmu,\n",
    "    slurm_qos=\"midpri\",\n",
    "    checkpoints=[4100],\n",
    "    update_if_exists=True,\n",
    "    print_cmd=True\n",
    ")"
   ]
  },
  {
   "cell_type": "markdown",
   "metadata": {},
   "source": [
    "# Norm R3"
   ]
  },
  {
   "cell_type": "code",
   "execution_count": 3,
   "metadata": {},
   "outputs": [],
   "source": [
    "OUTPUT_S1_norm_r3 = \"/fsx_0/checkpoints/mm10/MM10-Stage1-70B/MH21_70B_224px_norm_R3\""
   ]
  },
  {
   "cell_type": "code",
   "execution_count": null,
   "metadata": {},
   "outputs": [],
   "source": [
    "ev_master.run_eval_sweep(\n",
    "    checkpoint_dir=OUTPUT_S1_norm_r3,\n",
    "    benchmarks=[\"mmmu\"],\n",
    "    # benchmarks=eval_helper.ALL_BENCHMARKS,\n",
    "    slurm_qos=\"midpri\",\n",
    "    # checkpoints=[100],\n",
    "    update_if_exists=False,\n",
    "    print_cmd=True\n",
    ")"
   ]
  },
  {
   "cell_type": "code",
   "execution_count": null,
   "metadata": {},
   "outputs": [],
   "source": [
    "# eval for non-mmmu\n",
    "ev_master.run_eval_sweep(\n",
    "    checkpoint_dir=OUTPUT_S1_norm_r3,\n",
    "    # benchmarks=[\"mmmu\"],\n",
    "    benchmarks=benchmark_non_mmmu,\n",
    "    slurm_qos=\"midpri\",\n",
    "    checkpoints=[8900],\n",
    "    update_if_exists=True,\n",
    "    print_cmd=True\n",
    ")"
   ]
  },
  {
   "cell_type": "code",
   "execution_count": null,
   "metadata": {},
   "outputs": [],
   "source": [
    "ev_master.get_scores(OUTPUT_S1_norm_r3)"
   ]
  },
  {
   "cell_type": "markdown",
   "metadata": {},
   "source": [
    "# Testing"
   ]
  },
  {
   "cell_type": "code",
   "execution_count": 67,
   "metadata": {},
   "outputs": [],
   "source": [
    "ev_test = eval_helper.EvalHelper(\n",
    "    code_dir=\"/fsx_0/user/tranx/rsync\",\n",
    "    eval_sbatch=\"/fsx_0/user/tranx/rsync/llm_mm_aligner/experiments/aws/launch_eval_sbatch.sh\",\n",
    "    eval_config_dir=\"/fsx_0/user/tranx/rsync/llm_mm_aligner/experiments/aws/mm10/stage1/eval_overwrite_f587797729-watcher-2024-08-02\"\n",
    ")\n",
    "\n",
    "OUTPUT_MAIN_32 = \"/fsx_0/checkpoints/mm10/MM10-Stage1-70B/MH21_70B_224px\""
   ]
  },
  {
   "cell_type": "code",
   "execution_count": null,
   "metadata": {},
   "outputs": [],
   "source": [
    "ev_test.get_scores(OUTPUT_MAIN_32)"
   ]
  },
  {
   "cell_type": "code",
   "execution_count": null,
   "metadata": {},
   "outputs": [],
   "source": [
    "ev_test.run_eval_sweep(\n",
    "    checkpoint_dir=OUTPUT_S1_norm,\n",
    "    # benchmarks=[\"mmmu\"],\n",
    "    benchmarks=benchmark_non_mmmu,\n",
    "    slurm_qos=\"midpri\",\n",
    "    # min_checkpoint=4300,\n",
    "    checkpoints=[5200],\n",
    "    update_if_exists=True,\n",
    "    print_cmd=True\n",
    ")"
   ]
  },
  {
   "cell_type": "code",
   "execution_count": null,
   "metadata": {},
   "outputs": [],
   "source": [
    "ev_test.get_scores(OUTPUT_S1_norm, checkpoints=[5200])"
   ]
  },
  {
   "cell_type": "markdown",
   "metadata": {},
   "source": [
    "# Tiktoken v4"
   ]
  },
  {
   "cell_type": "code",
   "execution_count": 85,
   "metadata": {},
   "outputs": [],
   "source": [
    "OUTPUT_v4 = \"/fsx_0/checkpoints/mm10/MM10-Stage1-70B/MH21_70B_224px_norm_R2_v4\"\n",
    "OUTPUT_v5 = \"/fsx_0/checkpoints/mm10/MM10-Stage1-70B/MH21_70B_224px_norm_R2_v5\""
   ]
  },
  {
   "cell_type": "code",
   "execution_count": null,
   "metadata": {},
   "outputs": [],
   "source": [
    "ev_v4 = eval_helper.EvalHelper(\n",
    "    code_dir=\"/fsx_0/user/tranx/rsync\",\n",
    "    eval_sbatch=\"/fsx_0/user/tranx/rsync/llm_mm_aligner/experiments/aws/launch_eval_sbatch.sh\",\n",
    "    eval_config_dir=\"/fsx_0/user/tranx/rsync/llm_mm_aligner/experiments/aws/mm10/stage1/eval_overwrite_v4\"\n",
    ")\n",
    "\n",
    "ev_v4.run_eval_sweep(\n",
    "    checkpoint_dir=OUTPUT_v4,\n",
    "    benchmarks=[\"mmmu\"],\n",
    "    slurm_qos=\"midpri\",\n",
    "    # checkpoints=[5200],\n",
    "    # eval_plan=\"evals_v4\",\n",
    "    # update_if_exists=True,\n",
    "    print_cmd=True\n",
    ")"
   ]
  },
  {
   "cell_type": "code",
   "execution_count": null,
   "metadata": {},
   "outputs": [],
   "source": [
    "ev_v4.get_scores(OUTPUT_v4)"
   ]
  },
  {
   "cell_type": "markdown",
   "metadata": {},
   "source": [
    "# Tiktoken v5"
   ]
  },
  {
   "cell_type": "code",
   "execution_count": 87,
   "metadata": {},
   "outputs": [],
   "source": [
    "ev_v5 = eval_helper.EvalHelper(\n",
    "    code_dir=\"/fsx_0/user/tranx/rsync\",\n",
    "    eval_sbatch=\"/fsx_0/user/tranx/rsync/llm_mm_aligner/experiments/aws/launch_eval_sbatch.sh\",\n",
    "    eval_config_dir=\"/fsx_0/user/tranx/rsync/llm_mm_aligner/experiments/aws/mm10/stage1/eval_overwrite_v5\"\n",
    ")"
   ]
  },
  {
   "cell_type": "code",
   "execution_count": null,
   "metadata": {},
   "outputs": [],
   "source": [
    "ev_v5.run_eval_sweep(\n",
    "    checkpoint_dir=OUTPUT_v5,\n",
    "    benchmarks=[\"mmmu\"],\n",
    "    slurm_qos=\"midpri\",\n",
    "    # checkpoints=[5200],\n",
    "    # eval_plan=\"evals_v4\",\n",
    "    # update_if_exists=True,\n",
    "    print_cmd=True\n",
    ")"
   ]
  },
  {
   "cell_type": "code",
   "execution_count": null,
   "metadata": {},
   "outputs": [],
   "source": [
    "ev_v5.get_scores(OUTPUT_v5)"
   ]
  },
  {
   "cell_type": "markdown",
   "metadata": {},
   "source": [
    "# Shard count"
   ]
  },
  {
   "cell_type": "code",
   "execution_count": null,
   "metadata": {},
   "outputs": [],
   "source": [
    "utils"
   ]
  },
  {
   "cell_type": "code",
   "execution_count": null,
   "metadata": {},
   "outputs": [],
   "source": [
    "import os \n",
    "import glob \n",
    "\n",
    "dataset_path = \"/fsx_0/dataset01/fair_m2c2/20240921\"\n",
    "shards = os.listdir(dataset_path)\n",
    "print(f\"Number of shards to process: {len(shards)}\")\n",
    "\n",
    "for s in shards:\n",
    "    files = glob.glob(f\"{dataset_path}/{s}/*.tar\")\n",
    "    print(files)"
   ]
  }
 ],
 "metadata": {
  "kernelspec": {
   "display_name": "aws",
   "language": "python",
   "name": "python3"
  },
  "language_info": {
   "codemirror_mode": {
    "name": "ipython",
    "version": 3
   },
   "file_extension": ".py",
   "mimetype": "text/x-python",
   "name": "python",
   "nbconvert_exporter": "python",
   "pygments_lexer": "ipython3",
   "version": "3.11.9"
  }
 },
 "nbformat": 4,
 "nbformat_minor": 2
}
