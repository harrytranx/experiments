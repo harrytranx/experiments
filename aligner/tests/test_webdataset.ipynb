{
 "cells": [
  {
   "cell_type": "code",
   "execution_count": 14,
   "metadata": {},
   "outputs": [],
   "source": [
    "%reload_ext autoreload\n",
    "%autoreload 2\n",
    "\n",
    "# Use aligner_v7 kernel\n",
    "\n",
    "import sys\n",
    "add_paths = [\n",
    "    \"/fsx_0/user/tranx/moe\", # ALIGNER_PARENT_DIR\n",
    "    \"/fsx_0/user/tranx/moe/llm_mm_aligner/replicated\", # ALIGNER_PARENT_DIR/llm_mm_aligner/replicated\n",
    "    # \"/data/home/tranx/conda/envs/aligner_20240822_v2/python-packages\", #CONDA_PREFIX/python-packages\n",
    "    # \"/data/home/kapilk/.conda/envs/aligner_20240822_v2/python-packages\"\n",
    "    \"/fsx_0/shared/conda/aligner_20241030/python-packages\"\n",
    "]\n",
    "\n",
    "for p in add_paths:\n",
    "    if p not in sys.path:\n",
    "        sys.path.append(p)\n",
    "        \n",
    "import json\n",
    "from pprint import pprint\n",
    "import pickle \n",
    "from itertools import chain\n",
    "\n",
    "import torch\n",
    "import webdataset as wds\n",
    "from torch.utils.data import DataLoader, IterableDataset\n",
    "\n",
    "from transformers import HfArgumentParser\n",
    "from llm_mm_aligner.lib.configs import (\n",
    "    DataTrainingArguments,\n",
    "    ModelArguments,\n",
    "    TrainingArguments,\n",
    ")\n",
    "from llm_mm_aligner.lib.datasets.web_dataset import get_wb_dataset\n",
    "from llm_mm_aligner.lib.data_collators import get_collator"
   ]
  },
  {
   "cell_type": "code",
   "execution_count": 7,
   "metadata": {},
   "outputs": [],
   "source": [
    "def print_green(text):\n",
    "    green_color = \"\\033[92m\"  # bright green\n",
    "    reset_color = \"\\033[0m\"  # Reset the color to default terminal color\n",
    "\n",
    "    print(f\"{green_color}{text}{reset_color}\")\n",
    "    \n",
    "    \n",
    "def get_args_list(args):\n",
    "    \"\"\"\n",
    "    Copied from https://fburl.com/code/3pq3dn99\n",
    "    Convert a dict of args to a list of strings for passing to the binary\n",
    "    \"\"\"\n",
    "    return list(\n",
    "        chain.from_iterable(\n",
    "            [f\"--{k}\", str(v)] if v is not None else [f\"--{k}\"] for k, v in args.items()\n",
    "        )\n",
    "    )\n",
    "\n",
    "\n",
    "def get_local_test_artifacts():\n",
    "    \"\"\"\n",
    "    Getting test artifacts from manifold or AWS fsx\n",
    "    \"\"\"\n",
    "\n",
    "    tokenizer_file = (\n",
    "        \"/fsx_0/shared/qa/models/HFMetaFormerTokenizer/HFMetaFormerTokenizer.pkl\"\n",
    "    )\n",
    "    preprocessor_file = (\n",
    "        \"/fsx_0/shared/qa/models/LlavaNextImageProcessor/LlavaNextImageProcessor.pkl\"\n",
    "    )\n",
    "    # params_file = os.path.join(_THIS_DIRECTORY, \"pretrain_llama3_8B.json\")\n",
    "    params_file = \"/fsx_0/user/tranx/experiments/aligner/tests/pretrain_llama3_8B.json\"\n",
    "\n",
    "    with open(params_file, \"r\") as f:\n",
    "        params = json.load(f)\n",
    "\n",
    "    with open(tokenizer_file, \"rb\") as f:\n",
    "        tokenizer = pickle.load(f)\n",
    "\n",
    "    with open(preprocessor_file, \"rb\") as f:\n",
    "        preprocessor = pickle.load(f)\n",
    "\n",
    "    trainer_args = params.get(\"trainer_args\", None)\n",
    "    parser = HfArgumentParser(\n",
    "        (ModelArguments, DataTrainingArguments, TrainingArguments)\n",
    "    )\n",
    "\n",
    "    model_args, data_args, training_args = parser.parse_args_into_dataclasses(\n",
    "        args=get_args_list(trainer_args)\n",
    "    )\n",
    "\n",
    "    print_green(f\"data_path: {data_args.wd_data_path}\")\n",
    "\n",
    "    return model_args, data_args, training_args, tokenizer, preprocessor"
   ]
  },
  {
   "cell_type": "code",
   "execution_count": 29,
   "metadata": {},
   "outputs": [
    {
     "name": "stdout",
     "output_type": "stream",
     "text": [
      "\u001b[92mdata_path: /fsx_0/shared/qa/datasets/sg_mmllm_stage1_m2c2v3_sstk_10x_arxiv_pdf_mix_v6/shards\u001b[0m\n"
     ]
    }
   ],
   "source": [
    "model_args, data_args, training_args, tokenizer, preprocessor = (\n",
    "    get_local_test_artifacts()\n",
    ")\n",
    "\n",
    "train_dataset = get_wb_dataset(\n",
    "    preprocessor=preprocessor,\n",
    "    data_args=data_args,\n",
    "    model_args=model_args,\n",
    "    training_args=training_args,\n",
    ")\n",
    "\n",
    "data_collator = get_collator(data_args, model_args, tokenizer)\n",
    "\n",
    "train_dataloader = DataLoader(\n",
    "    train_dataset,\n",
    "    batch_size=2,  # training_args.per_device_train_batch_size\n",
    "    collate_fn=data_collator,\n",
    "    num_workers=0,\n",
    "    pin_memory=training_args.dataloader_pin_memory,  # False\n",
    ")"
   ]
  },
  {
   "cell_type": "code",
   "execution_count": 24,
   "metadata": {},
   "outputs": [
    {
     "name": "stdout",
     "output_type": "stream",
     "text": [
      "number of batches = len(train_dataloader) = 10000\n"
     ]
    }
   ],
   "source": [
    "print(f\"number of batches = len(train_dataloader) = {len(train_dataloader)}\")"
   ]
  },
  {
   "cell_type": "code",
   "execution_count": 33,
   "metadata": {},
   "outputs": [
    {
     "data": {
      "text/plain": [
       "LlavaNextImageProcessor {\n",
       "  \"crop_size\": {\n",
       "    \"height\": 504,\n",
       "    \"width\": 504\n",
       "  },\n",
       "  \"do_center_crop\": true,\n",
       "  \"do_convert_rgb\": true,\n",
       "  \"do_normalize\": true,\n",
       "  \"do_pad\": true,\n",
       "  \"do_rescale\": true,\n",
       "  \"do_resize\": true,\n",
       "  \"image_grid_pinpoints\": [\n",
       "    [\n",
       "      504,\n",
       "      504\n",
       "    ],\n",
       "    [\n",
       "      504,\n",
       "      1008\n",
       "    ],\n",
       "    [\n",
       "      504,\n",
       "      1512\n",
       "    ],\n",
       "    [\n",
       "      1008,\n",
       "      504\n",
       "    ],\n",
       "    [\n",
       "      1008,\n",
       "      1008\n",
       "    ],\n",
       "    [\n",
       "      1008,\n",
       "      1512\n",
       "    ],\n",
       "    [\n",
       "      1512,\n",
       "      504\n",
       "    ],\n",
       "    [\n",
       "      1512,\n",
       "      1008\n",
       "    ],\n",
       "    [\n",
       "      1512,\n",
       "      1512\n",
       "    ]\n",
       "  ],\n",
       "  \"image_mean\": [\n",
       "    0.48145466,\n",
       "    0.4578275,\n",
       "    0.40821073\n",
       "  ],\n",
       "  \"image_processor_type\": \"LlavaNextImageProcessor\",\n",
       "  \"image_std\": [\n",
       "    0.26862954,\n",
       "    0.26130258,\n",
       "    0.27577711\n",
       "  ],\n",
       "  \"resample\": 3,\n",
       "  \"rescale_factor\": 0.00392156862745098,\n",
       "  \"size\": {\n",
       "    \"shortest_edge\": 504\n",
       "  }\n",
       "}"
      ]
     },
     "execution_count": 33,
     "metadata": {},
     "output_type": "execute_result"
    }
   ],
   "source": [
    "preprocessor"
   ]
  },
  {
   "cell_type": "code",
   "execution_count": 32,
   "metadata": {},
   "outputs": [
    {
     "data": {
      "text/plain": [
       "[(504, 504),\n",
       " (504, 1008),\n",
       " (504, 1512),\n",
       " (1008, 504),\n",
       " (1008, 1008),\n",
       " (1008, 1512),\n",
       " (1512, 504),\n",
       " (1512, 1008),\n",
       " (1512, 1512)]"
      ]
     },
     "execution_count": 32,
     "metadata": {},
     "output_type": "execute_result"
    }
   ],
   "source": [
    "preprocessor.image_grid_pinpoints"
   ]
  },
  {
   "cell_type": "code",
   "execution_count": 30,
   "metadata": {},
   "outputs": [
    {
     "name": "stderr",
     "output_type": "stream",
     "text": [
      "Skipped 1 samples due to max batch size constraints\n"
     ]
    },
    {
     "ename": "AssertionError",
     "evalue": "",
     "output_type": "error",
     "traceback": [
      "\u001b[0;31m---------------------------------------------------------------------------\u001b[0m",
      "\u001b[0;31mAssertionError\u001b[0m                            Traceback (most recent call last)",
      "Cell \u001b[0;32mIn[30], line 1\u001b[0m\n\u001b[0;32m----> 1\u001b[0m batch \u001b[38;5;241m=\u001b[39m \u001b[38;5;28;43mnext\u001b[39;49m\u001b[43m(\u001b[49m\u001b[38;5;28;43miter\u001b[39;49m\u001b[43m(\u001b[49m\u001b[43mtrain_dataloader\u001b[49m\u001b[43m)\u001b[49m\u001b[43m)\u001b[49m\n\u001b[1;32m      2\u001b[0m batch\n",
      "File \u001b[0;32m/opt/hpcaas/.mounts/fs-036153e63d56f4dc2/home/tranx/conda/envs/aligner_v7/lib/python3.10/site-packages/torch/utils/data/dataloader.py:631\u001b[0m, in \u001b[0;36m_BaseDataLoaderIter.__next__\u001b[0;34m(self)\u001b[0m\n\u001b[1;32m    628\u001b[0m \u001b[38;5;28;01mif\u001b[39;00m \u001b[38;5;28mself\u001b[39m\u001b[38;5;241m.\u001b[39m_sampler_iter \u001b[38;5;129;01mis\u001b[39;00m \u001b[38;5;28;01mNone\u001b[39;00m:\n\u001b[1;32m    629\u001b[0m     \u001b[38;5;66;03m# TODO(https://github.com/pytorch/pytorch/issues/76750)\u001b[39;00m\n\u001b[1;32m    630\u001b[0m     \u001b[38;5;28mself\u001b[39m\u001b[38;5;241m.\u001b[39m_reset()  \u001b[38;5;66;03m# type: ignore[call-arg]\u001b[39;00m\n\u001b[0;32m--> 631\u001b[0m data \u001b[38;5;241m=\u001b[39m \u001b[38;5;28;43mself\u001b[39;49m\u001b[38;5;241;43m.\u001b[39;49m\u001b[43m_next_data\u001b[49m\u001b[43m(\u001b[49m\u001b[43m)\u001b[49m\n\u001b[1;32m    632\u001b[0m \u001b[38;5;28mself\u001b[39m\u001b[38;5;241m.\u001b[39m_num_yielded \u001b[38;5;241m+\u001b[39m\u001b[38;5;241m=\u001b[39m \u001b[38;5;241m1\u001b[39m\n\u001b[1;32m    633\u001b[0m \u001b[38;5;28;01mif\u001b[39;00m \u001b[38;5;28mself\u001b[39m\u001b[38;5;241m.\u001b[39m_dataset_kind \u001b[38;5;241m==\u001b[39m _DatasetKind\u001b[38;5;241m.\u001b[39mIterable \u001b[38;5;129;01mand\u001b[39;00m \\\n\u001b[1;32m    634\u001b[0m         \u001b[38;5;28mself\u001b[39m\u001b[38;5;241m.\u001b[39m_IterableDataset_len_called \u001b[38;5;129;01mis\u001b[39;00m \u001b[38;5;129;01mnot\u001b[39;00m \u001b[38;5;28;01mNone\u001b[39;00m \u001b[38;5;129;01mand\u001b[39;00m \\\n\u001b[1;32m    635\u001b[0m         \u001b[38;5;28mself\u001b[39m\u001b[38;5;241m.\u001b[39m_num_yielded \u001b[38;5;241m>\u001b[39m \u001b[38;5;28mself\u001b[39m\u001b[38;5;241m.\u001b[39m_IterableDataset_len_called:\n",
      "File \u001b[0;32m/opt/hpcaas/.mounts/fs-036153e63d56f4dc2/home/tranx/conda/envs/aligner_v7/lib/python3.10/site-packages/torch/utils/data/dataloader.py:675\u001b[0m, in \u001b[0;36m_SingleProcessDataLoaderIter._next_data\u001b[0;34m(self)\u001b[0m\n\u001b[1;32m    673\u001b[0m \u001b[38;5;28;01mdef\u001b[39;00m \u001b[38;5;21m_next_data\u001b[39m(\u001b[38;5;28mself\u001b[39m):\n\u001b[1;32m    674\u001b[0m     index \u001b[38;5;241m=\u001b[39m \u001b[38;5;28mself\u001b[39m\u001b[38;5;241m.\u001b[39m_next_index()  \u001b[38;5;66;03m# may raise StopIteration\u001b[39;00m\n\u001b[0;32m--> 675\u001b[0m     data \u001b[38;5;241m=\u001b[39m \u001b[38;5;28;43mself\u001b[39;49m\u001b[38;5;241;43m.\u001b[39;49m\u001b[43m_dataset_fetcher\u001b[49m\u001b[38;5;241;43m.\u001b[39;49m\u001b[43mfetch\u001b[49m\u001b[43m(\u001b[49m\u001b[43mindex\u001b[49m\u001b[43m)\u001b[49m  \u001b[38;5;66;03m# may raise StopIteration\u001b[39;00m\n\u001b[1;32m    676\u001b[0m     \u001b[38;5;28;01mif\u001b[39;00m \u001b[38;5;28mself\u001b[39m\u001b[38;5;241m.\u001b[39m_pin_memory:\n\u001b[1;32m    677\u001b[0m         data \u001b[38;5;241m=\u001b[39m _utils\u001b[38;5;241m.\u001b[39mpin_memory\u001b[38;5;241m.\u001b[39mpin_memory(data, \u001b[38;5;28mself\u001b[39m\u001b[38;5;241m.\u001b[39m_pin_memory_device)\n",
      "File \u001b[0;32m/opt/hpcaas/.mounts/fs-036153e63d56f4dc2/home/tranx/conda/envs/aligner_v7/lib/python3.10/site-packages/torch/utils/data/_utils/fetch.py:42\u001b[0m, in \u001b[0;36m_IterableDatasetFetcher.fetch\u001b[0;34m(self, possibly_batched_index)\u001b[0m\n\u001b[1;32m     40\u001b[0m \u001b[38;5;28;01melse\u001b[39;00m:\n\u001b[1;32m     41\u001b[0m     data \u001b[38;5;241m=\u001b[39m \u001b[38;5;28mnext\u001b[39m(\u001b[38;5;28mself\u001b[39m\u001b[38;5;241m.\u001b[39mdataset_iter)\n\u001b[0;32m---> 42\u001b[0m \u001b[38;5;28;01mreturn\u001b[39;00m \u001b[38;5;28;43mself\u001b[39;49m\u001b[38;5;241;43m.\u001b[39;49m\u001b[43mcollate_fn\u001b[49m\u001b[43m(\u001b[49m\u001b[43mdata\u001b[49m\u001b[43m)\u001b[49m\n",
      "File \u001b[0;32m/fsx_0/user/tranx/moe/llm_mm_aligner/lib/data_collators.py:466\u001b[0m, in \u001b[0;36mDataCollatorWithPadding.__call__\u001b[0;34m(self, features)\u001b[0m\n\u001b[1;32m    460\u001b[0m     n_prefix_embs \u001b[38;5;241m=\u001b[39m [\n\u001b[1;32m    461\u001b[0m         n \u001b[38;5;241m*\u001b[39m modalities_dict[\u001b[38;5;124m\"\u001b[39m\u001b[38;5;124mperceiver_output_num_frames\u001b[39m\u001b[38;5;124m\"\u001b[39m][idx]\n\u001b[1;32m    462\u001b[0m         \u001b[38;5;28;01mfor\u001b[39;00m idx, n \u001b[38;5;129;01min\u001b[39;00m \u001b[38;5;28menumerate\u001b[39m(n_prefix_embs)\n\u001b[1;32m    463\u001b[0m     ]\n\u001b[1;32m    465\u001b[0m \u001b[38;5;28;01mif\u001b[39;00m \u001b[38;5;28mself\u001b[39m\u001b[38;5;241m.\u001b[39mmodel_args\u001b[38;5;241m.\u001b[39mblock_sparse:\n\u001b[0;32m--> 466\u001b[0m     input_ids, labels \u001b[38;5;241m=\u001b[39m \u001b[38;5;28;43mself\u001b[39;49m\u001b[38;5;241;43m.\u001b[39;49m\u001b[43mpad_for_block_sparse\u001b[49m\u001b[43m(\u001b[49m\n\u001b[1;32m    467\u001b[0m \u001b[43m        \u001b[49m\u001b[43mtext\u001b[49m\u001b[43m,\u001b[49m\n\u001b[1;32m    468\u001b[0m \u001b[43m        \u001b[49m\u001b[43mn_prefix_embs\u001b[49m\u001b[43m,\u001b[49m\n\u001b[1;32m    469\u001b[0m \u001b[43m        \u001b[49m\u001b[38;5;28;43mself\u001b[39;49m\u001b[38;5;241;43m.\u001b[39;49m\u001b[43mtokenizer\u001b[49m\u001b[38;5;241;43m.\u001b[39;49m\u001b[43mpad_token_id\u001b[49m\u001b[43m,\u001b[49m\n\u001b[1;32m    470\u001b[0m \u001b[43m        \u001b[49m\u001b[38;5;28;43mself\u001b[39;49m\u001b[38;5;241;43m.\u001b[39;49m\u001b[43mdata_args\u001b[49m\u001b[38;5;241;43m.\u001b[39;49m\u001b[43mmax_tokens_in_batch_row\u001b[49m\u001b[43m,\u001b[49m\n\u001b[1;32m    471\u001b[0m \u001b[43m    \u001b[49m\u001b[43m)\u001b[49m\n\u001b[1;32m    472\u001b[0m \u001b[38;5;28;01melse\u001b[39;00m:\n\u001b[1;32m    473\u001b[0m     input_ids, labels \u001b[38;5;241m=\u001b[39m \u001b[38;5;28mself\u001b[39m\u001b[38;5;241m.\u001b[39mpadding_captioning_text_decoder(\n\u001b[1;32m    474\u001b[0m         text,\n\u001b[1;32m    475\u001b[0m         n_prefix_embs,\n\u001b[1;32m    476\u001b[0m         \u001b[38;5;28mself\u001b[39m\u001b[38;5;241m.\u001b[39mtokenizer\u001b[38;5;241m.\u001b[39mpad_token_id,\n\u001b[1;32m    477\u001b[0m     )\n",
      "File \u001b[0;32m/fsx_0/user/tranx/moe/llm_mm_aligner/lib/data_collators.py:534\u001b[0m, in \u001b[0;36mDataCollatorWithPadding.pad_for_block_sparse\u001b[0;34m(self, ids, n_prefix_embs, pad_token_id, max_tokens_in_batch_row)\u001b[0m\n\u001b[1;32m    531\u001b[0m     row[\u001b[38;5;124m\"\u001b[39m\u001b[38;5;124minput_ids\u001b[39m\u001b[38;5;124m\"\u001b[39m][\u001b[38;5;241m-\u001b[39m\u001b[38;5;241m1\u001b[39m] \u001b[38;5;241m=\u001b[39m \u001b[38;5;28mself\u001b[39m\u001b[38;5;241m.\u001b[39mtokenizer\u001b[38;5;241m.\u001b[39meos_token_id\n\u001b[1;32m    532\u001b[0m     row[\u001b[38;5;124m\"\u001b[39m\u001b[38;5;124mlabels\u001b[39m\u001b[38;5;124m\"\u001b[39m][\u001b[38;5;241m-\u001b[39m\u001b[38;5;241m1\u001b[39m] \u001b[38;5;241m=\u001b[39m \u001b[38;5;241m-\u001b[39m\u001b[38;5;241m100\u001b[39m\n\u001b[0;32m--> 534\u001b[0m \u001b[38;5;28;01massert\u001b[39;00m row[\u001b[38;5;124m\"\u001b[39m\u001b[38;5;124minput_ids\u001b[39m\u001b[38;5;124m\"\u001b[39m][\u001b[38;5;241m-\u001b[39m\u001b[38;5;241m1\u001b[39m] \u001b[38;5;241m==\u001b[39m \u001b[38;5;28mself\u001b[39m\u001b[38;5;241m.\u001b[39mtokenizer\u001b[38;5;241m.\u001b[39meos_token_id\n\u001b[1;32m    535\u001b[0m \u001b[38;5;28;01mif\u001b[39;00m \u001b[38;5;129;01mnot\u001b[39;00m \u001b[38;5;28mself\u001b[39m\u001b[38;5;241m.\u001b[39mmodel_args\u001b[38;5;241m.\u001b[39madd_eos_token:\n\u001b[1;32m    536\u001b[0m     row[\u001b[38;5;124m\"\u001b[39m\u001b[38;5;124mlabels\u001b[39m\u001b[38;5;124m\"\u001b[39m][\u001b[38;5;241m-\u001b[39m\u001b[38;5;241m1\u001b[39m] \u001b[38;5;241m=\u001b[39m \u001b[38;5;241m-\u001b[39m\u001b[38;5;241m100\u001b[39m\n",
      "\u001b[0;31mAssertionError\u001b[0m: "
     ]
    }
   ],
   "source": [
    "batch = next(iter(train_dataloader))\n",
    "batch"
   ]
  }
 ],
 "metadata": {
  "kernelspec": {
   "display_name": "aligner_v7",
   "language": "python",
   "name": "python3"
  },
  "language_info": {
   "codemirror_mode": {
    "name": "ipython",
    "version": 3
   },
   "file_extension": ".py",
   "mimetype": "text/x-python",
   "name": "python",
   "nbconvert_exporter": "python",
   "pygments_lexer": "ipython3",
   "version": "3.10.14"
  }
 },
 "nbformat": 4,
 "nbformat_minor": 2
}
