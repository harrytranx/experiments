{
 "cells": [
  {
   "cell_type": "code",
   "execution_count": 2,
   "metadata": {},
   "outputs": [],
   "source": [
    "%reload_ext autoreload\n",
    "%autoreload 2\n",
    "\n",
    "# Use aligner_v7 kernel\n",
    "\n",
    "import sys\n",
    "add_paths = [\n",
    "    \"/fsx_0/user/tranx/rsync\", # ALIGNER_PARENT_DIR\n",
    "    \"/fsx_0/user/tranx/rsync/llm_mm_aligner/replicated\", # ALIGNER_PARENT_DIR/llm_mm_aligner/replicated\n",
    "    \"/fsx_0/shared/conda/aligner_20241030/python-packages\"\n",
    "]\n",
    "\n",
    "for p in add_paths:\n",
    "    if p not in sys.path:\n",
    "        sys.path.append(p)\n",
    "        \n",
    "device = \"cuda:0\""
   ]
  },
  {
   "cell_type": "code",
   "execution_count": 3,
   "metadata": {},
   "outputs": [
    {
     "name": "stderr",
     "output_type": "stream",
     "text": [
      "/opt/hpcaas/.mounts/fs-036153e63d56f4dc2/home/tranx/conda/envs/aligner_v7/lib/python3.10/site-packages/tqdm/auto.py:21: TqdmWarning: IProgress not found. Please update jupyter and ipywidgets. See https://ipywidgets.readthedocs.io/en/stable/user_install.html\n",
      "  from .autonotebook import tqdm as notebook_tqdm\n"
     ]
    }
   ],
   "source": [
    "import torch\n",
    "\n",
    "# inference/server\n",
    "from llm_mm_aligner.lib.encoders.metaclip_native_resolution_inference import MetaCLIP_NAVIT as MetaCLIP_NAVIT_INF\n",
    "\n",
    "# training + readout\n",
    "from llm_mm_aligner.lib.encoders.metaclip_navit import MetaCLIP_NAVIT\n",
    "from PIL import Image\n",
    "from torch import nn\n",
    "from torchvision import transforms"
   ]
  },
  {
   "cell_type": "markdown",
   "metadata": {},
   "source": [
    "# Init model"
   ]
  },
  {
   "cell_type": "code",
   "execution_count": 4,
   "metadata": {},
   "outputs": [],
   "source": [
    "MODEL_CHECKPOINT = \"/fsx_0/checkpoints/clip/vev0/vit_h14_336_fair_vev0/fair_vev01.pt\"\n",
    "TEST_IMAGE = \"/fsx_0/dataset01/coco/val2014/COCO_val2014_000000485307.jpg\"\n",
    "\n",
    "# ViT-H\n",
    "metaclip_config = {\n",
    "    \"ckpt_path\": MODEL_CHECKPOINT,\n",
    "    \"image_size\": 336,  # image_size can also be 448, since the position embedding is rope_2d\n",
    "    \"patch_size\": 14,\n",
    "    \"width\": 1408,\n",
    "    \"mlp_ratio\": 4.0,\n",
    "    \"layers\": 34,\n",
    "    \"heads\": 16,\n",
    "    \"load_ckpt\": True,\n",
    "    \"relative_pos_embed_type\": \"rope_2d\",\n",
    "}\n",
    "\n",
    "\n",
    "CLIP_MEAN = (0.4814546, 0.4578275, 0.40821073)\n",
    "CLIP_STD = (0.2686295, 0.2613025, 0.2757711)\n",
    "\n",
    "preprocess = transforms.Compose(\n",
    "    [\n",
    "        transforms.Resize(metaclip_config[\"image_size\"]),\n",
    "        transforms.CenterCrop(metaclip_config[\"image_size\"]),\n",
    "        transforms.ToTensor(),\n",
    "        transforms.Normalize(\n",
    "            mean=(0.4814546, 0.4578275, 0.40821073),\n",
    "            std=(0.2686295, 0.2613025, 0.2757711),\n",
    "        ),\n",
    "    ]\n",
    ")"
   ]
  },
  {
   "cell_type": "code",
   "execution_count": 5,
   "metadata": {},
   "outputs": [],
   "source": [
    "image = Image.open(TEST_IMAGE).convert(\"RGB\")\n",
    "preprocessed_image = preprocess(image).unsqueeze(0).to(device)"
   ]
  },
  {
   "cell_type": "code",
   "execution_count": 6,
   "metadata": {},
   "outputs": [
    {
     "name": "stderr",
     "output_type": "stream",
     "text": [
      "MetaCLIP_NAVIT dropping positional_embedding from checkpoint\n",
      "MetaCLIP_NAVIT Visual Pretrained Model Missing keys: []\n",
      "MetaCLIP_NAVIT Visual Pretrained Model Unexpected keys: []\n"
     ]
    },
    {
     "data": {
      "text/plain": [
       "MetaCLIP_NAVIT(\n",
       "  (conv1): Conv2d(3, 1408, kernel_size=(14, 14), stride=(14, 14), bias=False)\n",
       "  (patch_dropout): Identity()\n",
       "  (ln_pre): LayerNorm((1408,), eps=1e-05, elementwise_affine=True)\n",
       "  (transformer): Transformer(\n",
       "    (resblocks): ModuleList(\n",
       "      (0-33): 34 x ResidualAttentionBlock(\n",
       "        (ln_1): LayerNorm((1408,), eps=1e-05, elementwise_affine=True)\n",
       "        (attn): AttentionXformer4x(\n",
       "          (out_proj): Linear(in_features=1408, out_features=1408, bias=True)\n",
       "        )\n",
       "        (ls_1): Identity()\n",
       "        (ln_2): LayerNorm((1408,), eps=1e-05, elementwise_affine=True)\n",
       "        (mlp): Sequential(\n",
       "          (c_fc): Linear(in_features=1408, out_features=5632, bias=True)\n",
       "          (gelu): QuickGELU()\n",
       "          (c_proj): Linear(in_features=5632, out_features=1408, bias=True)\n",
       "        )\n",
       "        (ls_2): Identity()\n",
       "      )\n",
       "    )\n",
       "  )\n",
       "  (ln_post): LayerNorm((1408,), eps=1e-05, elementwise_affine=True)\n",
       ")"
      ]
     },
     "execution_count": 6,
     "metadata": {},
     "output_type": "execute_result"
    }
   ],
   "source": [
    "model1 = MetaCLIP_NAVIT(**metaclip_config).to(device)\n",
    "model1.eval()"
   ]
  },
  {
   "cell_type": "code",
   "execution_count": 7,
   "metadata": {},
   "outputs": [
    {
     "name": "stderr",
     "output_type": "stream",
     "text": [
      "/fsx_0/user/tranx/rsync/llm_mm_aligner/lib/encoders/metaclip_navit.py:337: UserWarning: To copy construct from a tensor, it is recommended to use sourceTensor.clone().detach() or sourceTensor.clone().detach().requires_grad_(True), rather than torch.tensor(sourceTensor).\n",
      "  condition = torch.tensor(\n"
     ]
    },
    {
     "data": {
      "text/plain": [
       "torch.Size([1, 576, 1408])"
      ]
     },
     "execution_count": 7,
     "metadata": {},
     "output_type": "execute_result"
    }
   ],
   "source": [
    "with torch.no_grad():\n",
    "    output1 = model1(preprocessed_image)\n",
    "\n",
    "output1.shape"
   ]
  },
  {
   "cell_type": "code",
   "execution_count": 8,
   "metadata": {},
   "outputs": [
    {
     "name": "stdout",
     "output_type": "stream",
     "text": [
      "Unexpected keys: []\n"
     ]
    },
    {
     "data": {
      "text/plain": [
       "MetaCLIP_NAVIT(\n",
       "  (conv1): Conv2d(3, 1408, kernel_size=(14, 14), stride=(14, 14), bias=False)\n",
       "  (patch_dropout): Identity()\n",
       "  (ln_pre): LayerNorm((1408,), eps=1e-05, elementwise_affine=True)\n",
       "  (transformer): Transformer(\n",
       "    (resblocks): ModuleList(\n",
       "      (0-33): 34 x ResidualAttentionBlock(\n",
       "        (ln_1): LayerNorm((1408,), eps=1e-05, elementwise_affine=True)\n",
       "        (attn): AttentionXformer4x(\n",
       "          (out_proj): Linear(in_features=1408, out_features=1408, bias=True)\n",
       "        )\n",
       "        (ls_1): Identity()\n",
       "        (ln_2): LayerNorm((1408,), eps=1e-05, elementwise_affine=True)\n",
       "        (mlp): Sequential(\n",
       "          (c_fc): Linear(in_features=1408, out_features=5632, bias=True)\n",
       "          (gelu): QuickGELU()\n",
       "          (c_proj): Linear(in_features=5632, out_features=1408, bias=True)\n",
       "        )\n",
       "        (ls_2): Identity()\n",
       "      )\n",
       "    )\n",
       "  )\n",
       "  (ln_post): LayerNorm((1408,), eps=1e-05, elementwise_affine=True)\n",
       ")"
      ]
     },
     "execution_count": 8,
     "metadata": {},
     "output_type": "execute_result"
    }
   ],
   "source": [
    "model2 = MetaCLIP_NAVIT_INF(**metaclip_config).to(device)\n",
    "model2.eval()"
   ]
  },
  {
   "cell_type": "code",
   "execution_count": 9,
   "metadata": {},
   "outputs": [
    {
     "name": "stderr",
     "output_type": "stream",
     "text": [
      "/fsx_0/user/tranx/rsync/llm_mm_aligner/lib/encoders/metaclip_native_resolution_inference.py:899: UserWarning: To copy construct from a tensor, it is recommended to use sourceTensor.clone().detach() or sourceTensor.clone().detach().requires_grad_(True), rather than torch.tensor(sourceTensor).\n",
      "  condition = torch.tensor(\n"
     ]
    },
    {
     "data": {
      "text/plain": [
       "torch.Size([1, 576, 1408])"
      ]
     },
     "execution_count": 9,
     "metadata": {},
     "output_type": "execute_result"
    }
   ],
   "source": [
    "with torch.no_grad():\n",
    "    output2 = model2(preprocessed_image)\n",
    "\n",
    "output2.shape"
   ]
  },
  {
   "cell_type": "code",
   "execution_count": 10,
   "metadata": {},
   "outputs": [
    {
     "data": {
      "text/plain": [
       "tensor([[[ 2.4852e+00,  8.1081e-01,  6.0595e-01,  ..., -1.9258e+00,\n",
       "          -1.2234e-01,  4.2518e+00],\n",
       "         [ 3.5210e-01,  3.2244e+00, -6.3592e+00,  ..., -3.6949e-01,\n",
       "          -1.1734e+00,  3.9925e+00],\n",
       "         [ 2.7544e+00,  7.4645e-01, -4.8141e+00,  ..., -1.6364e+00,\n",
       "          -5.5741e+00,  6.2823e-03],\n",
       "         ...,\n",
       "         [-1.8769e+00,  2.5796e+00,  2.5895e+00,  ...,  5.2259e+00,\n",
       "          -6.4294e-01,  4.7235e+00],\n",
       "         [ 7.9809e-01,  1.3053e+00, -1.4412e+00,  ..., -1.3024e+00,\n",
       "          -6.2229e+00, -9.8805e-01],\n",
       "         [-2.4709e+00, -3.5142e-01,  5.6059e-02,  ..., -3.4691e+00,\n",
       "          -3.0556e+00,  3.3854e+00]]], device='cuda:0')"
      ]
     },
     "execution_count": 10,
     "metadata": {},
     "output_type": "execute_result"
    }
   ],
   "source": [
    "output1"
   ]
  },
  {
   "cell_type": "code",
   "execution_count": 11,
   "metadata": {},
   "outputs": [
    {
     "data": {
      "text/plain": [
       "tensor([[[ 2.4852e+00,  8.1081e-01,  6.0595e-01,  ..., -1.9258e+00,\n",
       "          -1.2234e-01,  4.2518e+00],\n",
       "         [ 3.5210e-01,  3.2244e+00, -6.3592e+00,  ..., -3.6949e-01,\n",
       "          -1.1734e+00,  3.9925e+00],\n",
       "         [ 2.7544e+00,  7.4645e-01, -4.8141e+00,  ..., -1.6364e+00,\n",
       "          -5.5741e+00,  6.2823e-03],\n",
       "         ...,\n",
       "         [-1.8769e+00,  2.5796e+00,  2.5895e+00,  ...,  5.2259e+00,\n",
       "          -6.4294e-01,  4.7235e+00],\n",
       "         [ 7.9809e-01,  1.3053e+00, -1.4412e+00,  ..., -1.3024e+00,\n",
       "          -6.2229e+00, -9.8805e-01],\n",
       "         [-2.4709e+00, -3.5142e-01,  5.6059e-02,  ..., -3.4691e+00,\n",
       "          -3.0556e+00,  3.3854e+00]]], device='cuda:0')"
      ]
     },
     "execution_count": 11,
     "metadata": {},
     "output_type": "execute_result"
    }
   ],
   "source": [
    "output2"
   ]
  },
  {
   "cell_type": "code",
   "execution_count": 12,
   "metadata": {},
   "outputs": [
    {
     "name": "stdout",
     "output_type": "stream",
     "text": [
      "Norm of the difference: 0.0\n"
     ]
    }
   ],
   "source": [
    "diff = torch.abs(output1 - output2)\n",
    "# Calculate the norm of the difference\n",
    "norm_diff = torch.norm(diff)\n",
    "print(f\"Norm of the difference: {norm_diff}\")"
   ]
  }
 ],
 "metadata": {
  "kernelspec": {
   "display_name": "aligner_v7",
   "language": "python",
   "name": "python3"
  },
  "language_info": {
   "codemirror_mode": {
    "name": "ipython",
    "version": 3
   },
   "file_extension": ".py",
   "mimetype": "text/x-python",
   "name": "python",
   "nbconvert_exporter": "python",
   "pygments_lexer": "ipython3",
   "version": "3.10.14"
  }
 },
 "nbformat": 4,
 "nbformat_minor": 2
}
