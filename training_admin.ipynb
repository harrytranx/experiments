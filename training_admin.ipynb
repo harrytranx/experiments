{
 "cells": [
  {
   "cell_type": "code",
   "execution_count": 2,
   "metadata": {},
   "outputs": [
    {
     "name": "stdout",
     "output_type": "stream",
     "text": [
      "The autoreload extension is already loaded. To reload it, use:\n",
      "  %reload_ext autoreload\n"
     ]
    }
   ],
   "source": [
    "%load_ext autoreload\n",
    "%autoreload 2\n",
    "import sys \n",
    "import plotly.express as px\n",
    "import plotly.graph_objects as go\n",
    "import re\n",
    "import time\n",
    "\n",
    "from lib import utils\n",
    "from lib.slurm import SlurmClient, SlurmPolice\n",
    "\n",
    "sp = SlurmPolice()\n",
    "sl = SlurmClient()"
   ]
  },
  {
   "cell_type": "markdown",
   "metadata": {},
   "source": [
    "# Slurm Queue"
   ]
  },
  {
   "cell_type": "code",
   "execution_count": 2,
   "metadata": {},
   "outputs": [
    {
     "name": "stdout",
     "output_type": "stream",
     "text": [
      "   STATE  NODES                                           NODELIST\n",
      "0    mix     34  cpu-c7i12xlarge-1,h100-st-p548xlarge-[8-10,45-...\n",
      "1   idle      1                                  cpu-c7i12xlarge-0\n",
      "2   drng      1                               h100-st-p548xlarge-0\n",
      "3  alloc    411  h100-st-p548xlarge-[1-7,11-44,47-61,65-66,68-7...\n",
      "Total: 447\n"
     ]
    }
   ],
   "source": [
    "q = sl.get_info()\n",
    "q.NODES = q.NODES.astype(int)\n",
    "print(q)\n",
    "print(\"Total:\", q.NODES.sum())"
   ]
  },
  {
   "cell_type": "code",
   "execution_count": 3,
   "metadata": {},
   "outputs": [
    {
     "name": "stdout",
     "output_type": "stream",
     "text": [
      "Total: 429\n",
      "Total Running:  407\n"
     ]
    },
    {
     "data": {
      "text/html": [
       "<div>\n",
       "<style scoped>\n",
       "    .dataframe tbody tr th:only-of-type {\n",
       "        vertical-align: middle;\n",
       "    }\n",
       "\n",
       "    .dataframe tbody tr th {\n",
       "        vertical-align: top;\n",
       "    }\n",
       "\n",
       "    .dataframe thead th {\n",
       "        text-align: right;\n",
       "    }\n",
       "</style>\n",
       "<table border=\"1\" class=\"dataframe\">\n",
       "  <thead>\n",
       "    <tr style=\"text-align: right;\">\n",
       "      <th></th>\n",
       "      <th>ACCOUNT</th>\n",
       "      <th>ST</th>\n",
       "      <th>NODES</th>\n",
       "    </tr>\n",
       "  </thead>\n",
       "  <tbody>\n",
       "    <tr>\n",
       "      <th>0</th>\n",
       "      <td>ar-ai-hipri</td>\n",
       "      <td>PD</td>\n",
       "      <td>6</td>\n",
       "    </tr>\n",
       "    <tr>\n",
       "      <th>1</th>\n",
       "      <td>ar-ai-hipri</td>\n",
       "      <td>R</td>\n",
       "      <td>260</td>\n",
       "    </tr>\n",
       "    <tr>\n",
       "      <th>2</th>\n",
       "      <td>ar-ai-voice-hipri</td>\n",
       "      <td>R</td>\n",
       "      <td>32</td>\n",
       "    </tr>\n",
       "    <tr>\n",
       "      <th>3</th>\n",
       "      <td>midpri</td>\n",
       "      <td>PD</td>\n",
       "      <td>16</td>\n",
       "    </tr>\n",
       "    <tr>\n",
       "      <th>4</th>\n",
       "      <td>midpri</td>\n",
       "      <td>R</td>\n",
       "      <td>115</td>\n",
       "    </tr>\n",
       "  </tbody>\n",
       "</table>\n",
       "</div>"
      ],
      "text/plain": [
       "             ACCOUNT  ST  NODES\n",
       "0        ar-ai-hipri  PD      6\n",
       "1        ar-ai-hipri   R    260\n",
       "2  ar-ai-voice-hipri   R     32\n",
       "3             midpri  PD     16\n",
       "4             midpri   R    115"
      ]
     },
     "execution_count": 3,
     "metadata": {},
     "output_type": "execute_result"
    }
   ],
   "source": [
    "\n",
    "q = sl.get_queue_summary()\n",
    "\n",
    "print(\"Total:\", q.NODES.sum())\n",
    "print(\"Total Running: \", q[q.ST=='R'].NODES.sum())\n",
    "q"
   ]
  },
  {
   "cell_type": "code",
   "execution_count": 20,
   "metadata": {},
   "outputs": [
    {
     "data": {
      "text/plain": [
       "array(['bash', 'eval_mmmu', 'ckpt_3920_600s',\n",
       "       'pretrain_stage_2_perceiver_V3_70b_stage_2', 'interactive',\n",
       "       'prod_mh19', 'prod_31', 'AGG_CAPTION_20240926_153554',\n",
       "       'eval_ai2d_2000', 'eval_ai2d_1900', 'eval_ai2d_1800',\n",
       "       'eval_ai2d_1700', 'eval_ai2d_1600', 'eval_ai2d_1500',\n",
       "       'eval_ai2d_1400', 'eval_ai2d_1300', 'eval_ai2d_1200',\n",
       "       'eval_ai2d_1100', 'eval_ai2d_1000', 'eval_infographics_1300',\n",
       "       'eval_infographics_w_ocr_1400', 'eval_infographics_w_ocr_1500',\n",
       "       'eval_infographics_w_ocr_1300', 'eval_infographics_w_ocr_1100',\n",
       "       'eval_infographics_w_ocr_1200', 'eval_infographics_w_ocr_2000',\n",
       "       'eval_infographics_w_ocr_1900', 'eval_infographics_w_ocr_1800',\n",
       "       'eval_infographics_w_ocr_1600', 'eval_infographics_w_ocr_1700',\n",
       "       'eval_infographics_w_ocr_1000', 'eval_infographics_1900',\n",
       "       'eval_infographics_1800', 'eval_infographics_1700',\n",
       "       'eval_infographics_1500', 'eval_infographics_1400',\n",
       "       'eval_infographics_1000', 'eval_infographics_1200',\n",
       "       'eval_infographics_1100', 'eval_infographics_2000', 'doc_only',\n",
       "       '6NIcombined', '7NI_chatbotcombined',\n",
       "       'ac_aesth_eval_long_train_can_cancel', 'ac_aesth_package_jit',\n",
       "       'pretrain_70b_perceiverv3MI', 'ACSFT_M10', 'i18n_sft', 'G336_24',\n",
       "       'mm10_unifNorm', 'dev'], dtype=object)"
      ]
     },
     "execution_count": 20,
     "metadata": {},
     "output_type": "execute_result"
    }
   ],
   "source": [
    "q = sl.get_queue()\n",
    "q.NAME.unique()\n",
    "# q"
   ]
  },
  {
   "cell_type": "code",
   "execution_count": 7,
   "metadata": {},
   "outputs": [
    {
     "data": {
      "text/plain": [
       "448"
      ]
     },
     "execution_count": 7,
     "metadata": {},
     "output_type": "execute_result"
    }
   ],
   "source": [
    "q_ar.NODES.sum()"
   ]
  },
  {
   "cell_type": "code",
   "execution_count": 6,
   "metadata": {},
   "outputs": [
    {
     "data": {
      "application/vnd.plotly.v1+json": {
       "config": {
        "plotlyServerURL": "https://plot.ly"
       },
       "data": [
        {
         "domain": {
          "x": [
           0,
           1
          ],
          "y": [
           0,
           1
          ]
         },
         "hovertemplate": "USER=%{label}<br>NODES=%{value}<extra></extra>",
         "labels": [
          "cyprien",
          "patrickhuber",
          "zhaojiang",
          "zhaojiang",
          "kapilk",
          "kapilk",
          "kapilk",
          "kapilk",
          "kapilk",
          "kapilk",
          "kapilk",
          "kapilk",
          "tomfujii",
          "tranx",
          "tranx",
          "tranx",
          "tranx",
          "tranx",
          "tranx",
          "tranx",
          "tranx",
          "tranx",
          "tranx",
          "tranx",
          "marcomonteiro",
          "prakash14",
          "kapilk",
          "tranx",
          "kapilk"
         ],
         "legendgroup": "",
         "name": "",
         "showlegend": true,
         "textinfo": "label+value",
         "type": "pie",
         "values": [
          1,
          1,
          32,
          1,
          1,
          1,
          1,
          1,
          1,
          1,
          1,
          1,
          1,
          1,
          1,
          1,
          1,
          1,
          1,
          1,
          1,
          1,
          1,
          1,
          128,
          8,
          64,
          192,
          1
         ]
        }
       ],
       "layout": {
        "legend": {
         "tracegroupgap": 0
        },
        "margin": {
         "t": 60
        },
        "template": {
         "data": {
          "bar": [
           {
            "error_x": {
             "color": "#2a3f5f"
            },
            "error_y": {
             "color": "#2a3f5f"
            },
            "marker": {
             "line": {
              "color": "#E5ECF6",
              "width": 0.5
             },
             "pattern": {
              "fillmode": "overlay",
              "size": 10,
              "solidity": 0.2
             }
            },
            "type": "bar"
           }
          ],
          "barpolar": [
           {
            "marker": {
             "line": {
              "color": "#E5ECF6",
              "width": 0.5
             },
             "pattern": {
              "fillmode": "overlay",
              "size": 10,
              "solidity": 0.2
             }
            },
            "type": "barpolar"
           }
          ],
          "carpet": [
           {
            "aaxis": {
             "endlinecolor": "#2a3f5f",
             "gridcolor": "white",
             "linecolor": "white",
             "minorgridcolor": "white",
             "startlinecolor": "#2a3f5f"
            },
            "baxis": {
             "endlinecolor": "#2a3f5f",
             "gridcolor": "white",
             "linecolor": "white",
             "minorgridcolor": "white",
             "startlinecolor": "#2a3f5f"
            },
            "type": "carpet"
           }
          ],
          "choropleth": [
           {
            "colorbar": {
             "outlinewidth": 0,
             "ticks": ""
            },
            "type": "choropleth"
           }
          ],
          "contour": [
           {
            "colorbar": {
             "outlinewidth": 0,
             "ticks": ""
            },
            "colorscale": [
             [
              0,
              "#0d0887"
             ],
             [
              0.1111111111111111,
              "#46039f"
             ],
             [
              0.2222222222222222,
              "#7201a8"
             ],
             [
              0.3333333333333333,
              "#9c179e"
             ],
             [
              0.4444444444444444,
              "#bd3786"
             ],
             [
              0.5555555555555556,
              "#d8576b"
             ],
             [
              0.6666666666666666,
              "#ed7953"
             ],
             [
              0.7777777777777778,
              "#fb9f3a"
             ],
             [
              0.8888888888888888,
              "#fdca26"
             ],
             [
              1,
              "#f0f921"
             ]
            ],
            "type": "contour"
           }
          ],
          "contourcarpet": [
           {
            "colorbar": {
             "outlinewidth": 0,
             "ticks": ""
            },
            "type": "contourcarpet"
           }
          ],
          "heatmap": [
           {
            "colorbar": {
             "outlinewidth": 0,
             "ticks": ""
            },
            "colorscale": [
             [
              0,
              "#0d0887"
             ],
             [
              0.1111111111111111,
              "#46039f"
             ],
             [
              0.2222222222222222,
              "#7201a8"
             ],
             [
              0.3333333333333333,
              "#9c179e"
             ],
             [
              0.4444444444444444,
              "#bd3786"
             ],
             [
              0.5555555555555556,
              "#d8576b"
             ],
             [
              0.6666666666666666,
              "#ed7953"
             ],
             [
              0.7777777777777778,
              "#fb9f3a"
             ],
             [
              0.8888888888888888,
              "#fdca26"
             ],
             [
              1,
              "#f0f921"
             ]
            ],
            "type": "heatmap"
           }
          ],
          "heatmapgl": [
           {
            "colorbar": {
             "outlinewidth": 0,
             "ticks": ""
            },
            "colorscale": [
             [
              0,
              "#0d0887"
             ],
             [
              0.1111111111111111,
              "#46039f"
             ],
             [
              0.2222222222222222,
              "#7201a8"
             ],
             [
              0.3333333333333333,
              "#9c179e"
             ],
             [
              0.4444444444444444,
              "#bd3786"
             ],
             [
              0.5555555555555556,
              "#d8576b"
             ],
             [
              0.6666666666666666,
              "#ed7953"
             ],
             [
              0.7777777777777778,
              "#fb9f3a"
             ],
             [
              0.8888888888888888,
              "#fdca26"
             ],
             [
              1,
              "#f0f921"
             ]
            ],
            "type": "heatmapgl"
           }
          ],
          "histogram": [
           {
            "marker": {
             "pattern": {
              "fillmode": "overlay",
              "size": 10,
              "solidity": 0.2
             }
            },
            "type": "histogram"
           }
          ],
          "histogram2d": [
           {
            "colorbar": {
             "outlinewidth": 0,
             "ticks": ""
            },
            "colorscale": [
             [
              0,
              "#0d0887"
             ],
             [
              0.1111111111111111,
              "#46039f"
             ],
             [
              0.2222222222222222,
              "#7201a8"
             ],
             [
              0.3333333333333333,
              "#9c179e"
             ],
             [
              0.4444444444444444,
              "#bd3786"
             ],
             [
              0.5555555555555556,
              "#d8576b"
             ],
             [
              0.6666666666666666,
              "#ed7953"
             ],
             [
              0.7777777777777778,
              "#fb9f3a"
             ],
             [
              0.8888888888888888,
              "#fdca26"
             ],
             [
              1,
              "#f0f921"
             ]
            ],
            "type": "histogram2d"
           }
          ],
          "histogram2dcontour": [
           {
            "colorbar": {
             "outlinewidth": 0,
             "ticks": ""
            },
            "colorscale": [
             [
              0,
              "#0d0887"
             ],
             [
              0.1111111111111111,
              "#46039f"
             ],
             [
              0.2222222222222222,
              "#7201a8"
             ],
             [
              0.3333333333333333,
              "#9c179e"
             ],
             [
              0.4444444444444444,
              "#bd3786"
             ],
             [
              0.5555555555555556,
              "#d8576b"
             ],
             [
              0.6666666666666666,
              "#ed7953"
             ],
             [
              0.7777777777777778,
              "#fb9f3a"
             ],
             [
              0.8888888888888888,
              "#fdca26"
             ],
             [
              1,
              "#f0f921"
             ]
            ],
            "type": "histogram2dcontour"
           }
          ],
          "mesh3d": [
           {
            "colorbar": {
             "outlinewidth": 0,
             "ticks": ""
            },
            "type": "mesh3d"
           }
          ],
          "parcoords": [
           {
            "line": {
             "colorbar": {
              "outlinewidth": 0,
              "ticks": ""
             }
            },
            "type": "parcoords"
           }
          ],
          "pie": [
           {
            "automargin": true,
            "type": "pie"
           }
          ],
          "scatter": [
           {
            "fillpattern": {
             "fillmode": "overlay",
             "size": 10,
             "solidity": 0.2
            },
            "type": "scatter"
           }
          ],
          "scatter3d": [
           {
            "line": {
             "colorbar": {
              "outlinewidth": 0,
              "ticks": ""
             }
            },
            "marker": {
             "colorbar": {
              "outlinewidth": 0,
              "ticks": ""
             }
            },
            "type": "scatter3d"
           }
          ],
          "scattercarpet": [
           {
            "marker": {
             "colorbar": {
              "outlinewidth": 0,
              "ticks": ""
             }
            },
            "type": "scattercarpet"
           }
          ],
          "scattergeo": [
           {
            "marker": {
             "colorbar": {
              "outlinewidth": 0,
              "ticks": ""
             }
            },
            "type": "scattergeo"
           }
          ],
          "scattergl": [
           {
            "marker": {
             "colorbar": {
              "outlinewidth": 0,
              "ticks": ""
             }
            },
            "type": "scattergl"
           }
          ],
          "scattermapbox": [
           {
            "marker": {
             "colorbar": {
              "outlinewidth": 0,
              "ticks": ""
             }
            },
            "type": "scattermapbox"
           }
          ],
          "scatterpolar": [
           {
            "marker": {
             "colorbar": {
              "outlinewidth": 0,
              "ticks": ""
             }
            },
            "type": "scatterpolar"
           }
          ],
          "scatterpolargl": [
           {
            "marker": {
             "colorbar": {
              "outlinewidth": 0,
              "ticks": ""
             }
            },
            "type": "scatterpolargl"
           }
          ],
          "scatterternary": [
           {
            "marker": {
             "colorbar": {
              "outlinewidth": 0,
              "ticks": ""
             }
            },
            "type": "scatterternary"
           }
          ],
          "surface": [
           {
            "colorbar": {
             "outlinewidth": 0,
             "ticks": ""
            },
            "colorscale": [
             [
              0,
              "#0d0887"
             ],
             [
              0.1111111111111111,
              "#46039f"
             ],
             [
              0.2222222222222222,
              "#7201a8"
             ],
             [
              0.3333333333333333,
              "#9c179e"
             ],
             [
              0.4444444444444444,
              "#bd3786"
             ],
             [
              0.5555555555555556,
              "#d8576b"
             ],
             [
              0.6666666666666666,
              "#ed7953"
             ],
             [
              0.7777777777777778,
              "#fb9f3a"
             ],
             [
              0.8888888888888888,
              "#fdca26"
             ],
             [
              1,
              "#f0f921"
             ]
            ],
            "type": "surface"
           }
          ],
          "table": [
           {
            "cells": {
             "fill": {
              "color": "#EBF0F8"
             },
             "line": {
              "color": "white"
             }
            },
            "header": {
             "fill": {
              "color": "#C8D4E3"
             },
             "line": {
              "color": "white"
             }
            },
            "type": "table"
           }
          ]
         },
         "layout": {
          "annotationdefaults": {
           "arrowcolor": "#2a3f5f",
           "arrowhead": 0,
           "arrowwidth": 1
          },
          "autotypenumbers": "strict",
          "coloraxis": {
           "colorbar": {
            "outlinewidth": 0,
            "ticks": ""
           }
          },
          "colorscale": {
           "diverging": [
            [
             0,
             "#8e0152"
            ],
            [
             0.1,
             "#c51b7d"
            ],
            [
             0.2,
             "#de77ae"
            ],
            [
             0.3,
             "#f1b6da"
            ],
            [
             0.4,
             "#fde0ef"
            ],
            [
             0.5,
             "#f7f7f7"
            ],
            [
             0.6,
             "#e6f5d0"
            ],
            [
             0.7,
             "#b8e186"
            ],
            [
             0.8,
             "#7fbc41"
            ],
            [
             0.9,
             "#4d9221"
            ],
            [
             1,
             "#276419"
            ]
           ],
           "sequential": [
            [
             0,
             "#0d0887"
            ],
            [
             0.1111111111111111,
             "#46039f"
            ],
            [
             0.2222222222222222,
             "#7201a8"
            ],
            [
             0.3333333333333333,
             "#9c179e"
            ],
            [
             0.4444444444444444,
             "#bd3786"
            ],
            [
             0.5555555555555556,
             "#d8576b"
            ],
            [
             0.6666666666666666,
             "#ed7953"
            ],
            [
             0.7777777777777778,
             "#fb9f3a"
            ],
            [
             0.8888888888888888,
             "#fdca26"
            ],
            [
             1,
             "#f0f921"
            ]
           ],
           "sequentialminus": [
            [
             0,
             "#0d0887"
            ],
            [
             0.1111111111111111,
             "#46039f"
            ],
            [
             0.2222222222222222,
             "#7201a8"
            ],
            [
             0.3333333333333333,
             "#9c179e"
            ],
            [
             0.4444444444444444,
             "#bd3786"
            ],
            [
             0.5555555555555556,
             "#d8576b"
            ],
            [
             0.6666666666666666,
             "#ed7953"
            ],
            [
             0.7777777777777778,
             "#fb9f3a"
            ],
            [
             0.8888888888888888,
             "#fdca26"
            ],
            [
             1,
             "#f0f921"
            ]
           ]
          },
          "colorway": [
           "#636efa",
           "#EF553B",
           "#00cc96",
           "#ab63fa",
           "#FFA15A",
           "#19d3f3",
           "#FF6692",
           "#B6E880",
           "#FF97FF",
           "#FECB52"
          ],
          "font": {
           "color": "#2a3f5f"
          },
          "geo": {
           "bgcolor": "white",
           "lakecolor": "white",
           "landcolor": "#E5ECF6",
           "showlakes": true,
           "showland": true,
           "subunitcolor": "white"
          },
          "hoverlabel": {
           "align": "left"
          },
          "hovermode": "closest",
          "mapbox": {
           "style": "light"
          },
          "paper_bgcolor": "white",
          "plot_bgcolor": "#E5ECF6",
          "polar": {
           "angularaxis": {
            "gridcolor": "white",
            "linecolor": "white",
            "ticks": ""
           },
           "bgcolor": "#E5ECF6",
           "radialaxis": {
            "gridcolor": "white",
            "linecolor": "white",
            "ticks": ""
           }
          },
          "scene": {
           "xaxis": {
            "backgroundcolor": "#E5ECF6",
            "gridcolor": "white",
            "gridwidth": 2,
            "linecolor": "white",
            "showbackground": true,
            "ticks": "",
            "zerolinecolor": "white"
           },
           "yaxis": {
            "backgroundcolor": "#E5ECF6",
            "gridcolor": "white",
            "gridwidth": 2,
            "linecolor": "white",
            "showbackground": true,
            "ticks": "",
            "zerolinecolor": "white"
           },
           "zaxis": {
            "backgroundcolor": "#E5ECF6",
            "gridcolor": "white",
            "gridwidth": 2,
            "linecolor": "white",
            "showbackground": true,
            "ticks": "",
            "zerolinecolor": "white"
           }
          },
          "shapedefaults": {
           "line": {
            "color": "#2a3f5f"
           }
          },
          "ternary": {
           "aaxis": {
            "gridcolor": "white",
            "linecolor": "white",
            "ticks": ""
           },
           "baxis": {
            "gridcolor": "white",
            "linecolor": "white",
            "ticks": ""
           },
           "bgcolor": "#E5ECF6",
           "caxis": {
            "gridcolor": "white",
            "linecolor": "white",
            "ticks": ""
           }
          },
          "title": {
           "x": 0.05
          },
          "xaxis": {
           "automargin": true,
           "gridcolor": "white",
           "linecolor": "white",
           "ticks": "",
           "title": {
            "standoff": 15
           },
           "zerolinecolor": "white",
           "zerolinewidth": 2
          },
          "yaxis": {
           "automargin": true,
           "gridcolor": "white",
           "linecolor": "white",
           "ticks": "",
           "title": {
            "standoff": 15
           },
           "zerolinecolor": "white",
           "zerolinewidth": 2
          }
         }
        }
       }
      },
      "text/html": [
       "<div>                            <div id=\"54868598-3538-46dc-8c65-4ff5ffec2f1b\" class=\"plotly-graph-div\" style=\"height:525px; width:100%;\"></div>            <script type=\"text/javascript\">                require([\"plotly\"], function(Plotly) {                    window.PLOTLYENV=window.PLOTLYENV || {};                                    if (document.getElementById(\"54868598-3538-46dc-8c65-4ff5ffec2f1b\")) {                    Plotly.newPlot(                        \"54868598-3538-46dc-8c65-4ff5ffec2f1b\",                        [{\"domain\":{\"x\":[0.0,1.0],\"y\":[0.0,1.0]},\"hovertemplate\":\"USER=%{label}\\u003cbr\\u003eNODES=%{value}\\u003cextra\\u003e\\u003c\\u002fextra\\u003e\",\"labels\":[\"cyprien\",\"patrickhuber\",\"zhaojiang\",\"zhaojiang\",\"kapilk\",\"kapilk\",\"kapilk\",\"kapilk\",\"kapilk\",\"kapilk\",\"kapilk\",\"kapilk\",\"tomfujii\",\"tranx\",\"tranx\",\"tranx\",\"tranx\",\"tranx\",\"tranx\",\"tranx\",\"tranx\",\"tranx\",\"tranx\",\"tranx\",\"marcomonteiro\",\"prakash14\",\"kapilk\",\"tranx\",\"kapilk\"],\"legendgroup\":\"\",\"name\":\"\",\"showlegend\":true,\"values\":[1,1,32,1,1,1,1,1,1,1,1,1,1,1,1,1,1,1,1,1,1,1,1,1,128,8,64,192,1],\"type\":\"pie\",\"textinfo\":\"label+value\"}],                        {\"template\":{\"data\":{\"histogram2dcontour\":[{\"type\":\"histogram2dcontour\",\"colorbar\":{\"outlinewidth\":0,\"ticks\":\"\"},\"colorscale\":[[0.0,\"#0d0887\"],[0.1111111111111111,\"#46039f\"],[0.2222222222222222,\"#7201a8\"],[0.3333333333333333,\"#9c179e\"],[0.4444444444444444,\"#bd3786\"],[0.5555555555555556,\"#d8576b\"],[0.6666666666666666,\"#ed7953\"],[0.7777777777777778,\"#fb9f3a\"],[0.8888888888888888,\"#fdca26\"],[1.0,\"#f0f921\"]]}],\"choropleth\":[{\"type\":\"choropleth\",\"colorbar\":{\"outlinewidth\":0,\"ticks\":\"\"}}],\"histogram2d\":[{\"type\":\"histogram2d\",\"colorbar\":{\"outlinewidth\":0,\"ticks\":\"\"},\"colorscale\":[[0.0,\"#0d0887\"],[0.1111111111111111,\"#46039f\"],[0.2222222222222222,\"#7201a8\"],[0.3333333333333333,\"#9c179e\"],[0.4444444444444444,\"#bd3786\"],[0.5555555555555556,\"#d8576b\"],[0.6666666666666666,\"#ed7953\"],[0.7777777777777778,\"#fb9f3a\"],[0.8888888888888888,\"#fdca26\"],[1.0,\"#f0f921\"]]}],\"heatmap\":[{\"type\":\"heatmap\",\"colorbar\":{\"outlinewidth\":0,\"ticks\":\"\"},\"colorscale\":[[0.0,\"#0d0887\"],[0.1111111111111111,\"#46039f\"],[0.2222222222222222,\"#7201a8\"],[0.3333333333333333,\"#9c179e\"],[0.4444444444444444,\"#bd3786\"],[0.5555555555555556,\"#d8576b\"],[0.6666666666666666,\"#ed7953\"],[0.7777777777777778,\"#fb9f3a\"],[0.8888888888888888,\"#fdca26\"],[1.0,\"#f0f921\"]]}],\"heatmapgl\":[{\"type\":\"heatmapgl\",\"colorbar\":{\"outlinewidth\":0,\"ticks\":\"\"},\"colorscale\":[[0.0,\"#0d0887\"],[0.1111111111111111,\"#46039f\"],[0.2222222222222222,\"#7201a8\"],[0.3333333333333333,\"#9c179e\"],[0.4444444444444444,\"#bd3786\"],[0.5555555555555556,\"#d8576b\"],[0.6666666666666666,\"#ed7953\"],[0.7777777777777778,\"#fb9f3a\"],[0.8888888888888888,\"#fdca26\"],[1.0,\"#f0f921\"]]}],\"contourcarpet\":[{\"type\":\"contourcarpet\",\"colorbar\":{\"outlinewidth\":0,\"ticks\":\"\"}}],\"contour\":[{\"type\":\"contour\",\"colorbar\":{\"outlinewidth\":0,\"ticks\":\"\"},\"colorscale\":[[0.0,\"#0d0887\"],[0.1111111111111111,\"#46039f\"],[0.2222222222222222,\"#7201a8\"],[0.3333333333333333,\"#9c179e\"],[0.4444444444444444,\"#bd3786\"],[0.5555555555555556,\"#d8576b\"],[0.6666666666666666,\"#ed7953\"],[0.7777777777777778,\"#fb9f3a\"],[0.8888888888888888,\"#fdca26\"],[1.0,\"#f0f921\"]]}],\"surface\":[{\"type\":\"surface\",\"colorbar\":{\"outlinewidth\":0,\"ticks\":\"\"},\"colorscale\":[[0.0,\"#0d0887\"],[0.1111111111111111,\"#46039f\"],[0.2222222222222222,\"#7201a8\"],[0.3333333333333333,\"#9c179e\"],[0.4444444444444444,\"#bd3786\"],[0.5555555555555556,\"#d8576b\"],[0.6666666666666666,\"#ed7953\"],[0.7777777777777778,\"#fb9f3a\"],[0.8888888888888888,\"#fdca26\"],[1.0,\"#f0f921\"]]}],\"mesh3d\":[{\"type\":\"mesh3d\",\"colorbar\":{\"outlinewidth\":0,\"ticks\":\"\"}}],\"scatter\":[{\"fillpattern\":{\"fillmode\":\"overlay\",\"size\":10,\"solidity\":0.2},\"type\":\"scatter\"}],\"parcoords\":[{\"type\":\"parcoords\",\"line\":{\"colorbar\":{\"outlinewidth\":0,\"ticks\":\"\"}}}],\"scatterpolargl\":[{\"type\":\"scatterpolargl\",\"marker\":{\"colorbar\":{\"outlinewidth\":0,\"ticks\":\"\"}}}],\"bar\":[{\"error_x\":{\"color\":\"#2a3f5f\"},\"error_y\":{\"color\":\"#2a3f5f\"},\"marker\":{\"line\":{\"color\":\"#E5ECF6\",\"width\":0.5},\"pattern\":{\"fillmode\":\"overlay\",\"size\":10,\"solidity\":0.2}},\"type\":\"bar\"}],\"scattergeo\":[{\"type\":\"scattergeo\",\"marker\":{\"colorbar\":{\"outlinewidth\":0,\"ticks\":\"\"}}}],\"scatterpolar\":[{\"type\":\"scatterpolar\",\"marker\":{\"colorbar\":{\"outlinewidth\":0,\"ticks\":\"\"}}}],\"histogram\":[{\"marker\":{\"pattern\":{\"fillmode\":\"overlay\",\"size\":10,\"solidity\":0.2}},\"type\":\"histogram\"}],\"scattergl\":[{\"type\":\"scattergl\",\"marker\":{\"colorbar\":{\"outlinewidth\":0,\"ticks\":\"\"}}}],\"scatter3d\":[{\"type\":\"scatter3d\",\"line\":{\"colorbar\":{\"outlinewidth\":0,\"ticks\":\"\"}},\"marker\":{\"colorbar\":{\"outlinewidth\":0,\"ticks\":\"\"}}}],\"scattermapbox\":[{\"type\":\"scattermapbox\",\"marker\":{\"colorbar\":{\"outlinewidth\":0,\"ticks\":\"\"}}}],\"scatterternary\":[{\"type\":\"scatterternary\",\"marker\":{\"colorbar\":{\"outlinewidth\":0,\"ticks\":\"\"}}}],\"scattercarpet\":[{\"type\":\"scattercarpet\",\"marker\":{\"colorbar\":{\"outlinewidth\":0,\"ticks\":\"\"}}}],\"carpet\":[{\"aaxis\":{\"endlinecolor\":\"#2a3f5f\",\"gridcolor\":\"white\",\"linecolor\":\"white\",\"minorgridcolor\":\"white\",\"startlinecolor\":\"#2a3f5f\"},\"baxis\":{\"endlinecolor\":\"#2a3f5f\",\"gridcolor\":\"white\",\"linecolor\":\"white\",\"minorgridcolor\":\"white\",\"startlinecolor\":\"#2a3f5f\"},\"type\":\"carpet\"}],\"table\":[{\"cells\":{\"fill\":{\"color\":\"#EBF0F8\"},\"line\":{\"color\":\"white\"}},\"header\":{\"fill\":{\"color\":\"#C8D4E3\"},\"line\":{\"color\":\"white\"}},\"type\":\"table\"}],\"barpolar\":[{\"marker\":{\"line\":{\"color\":\"#E5ECF6\",\"width\":0.5},\"pattern\":{\"fillmode\":\"overlay\",\"size\":10,\"solidity\":0.2}},\"type\":\"barpolar\"}],\"pie\":[{\"automargin\":true,\"type\":\"pie\"}]},\"layout\":{\"autotypenumbers\":\"strict\",\"colorway\":[\"#636efa\",\"#EF553B\",\"#00cc96\",\"#ab63fa\",\"#FFA15A\",\"#19d3f3\",\"#FF6692\",\"#B6E880\",\"#FF97FF\",\"#FECB52\"],\"font\":{\"color\":\"#2a3f5f\"},\"hovermode\":\"closest\",\"hoverlabel\":{\"align\":\"left\"},\"paper_bgcolor\":\"white\",\"plot_bgcolor\":\"#E5ECF6\",\"polar\":{\"bgcolor\":\"#E5ECF6\",\"angularaxis\":{\"gridcolor\":\"white\",\"linecolor\":\"white\",\"ticks\":\"\"},\"radialaxis\":{\"gridcolor\":\"white\",\"linecolor\":\"white\",\"ticks\":\"\"}},\"ternary\":{\"bgcolor\":\"#E5ECF6\",\"aaxis\":{\"gridcolor\":\"white\",\"linecolor\":\"white\",\"ticks\":\"\"},\"baxis\":{\"gridcolor\":\"white\",\"linecolor\":\"white\",\"ticks\":\"\"},\"caxis\":{\"gridcolor\":\"white\",\"linecolor\":\"white\",\"ticks\":\"\"}},\"coloraxis\":{\"colorbar\":{\"outlinewidth\":0,\"ticks\":\"\"}},\"colorscale\":{\"sequential\":[[0.0,\"#0d0887\"],[0.1111111111111111,\"#46039f\"],[0.2222222222222222,\"#7201a8\"],[0.3333333333333333,\"#9c179e\"],[0.4444444444444444,\"#bd3786\"],[0.5555555555555556,\"#d8576b\"],[0.6666666666666666,\"#ed7953\"],[0.7777777777777778,\"#fb9f3a\"],[0.8888888888888888,\"#fdca26\"],[1.0,\"#f0f921\"]],\"sequentialminus\":[[0.0,\"#0d0887\"],[0.1111111111111111,\"#46039f\"],[0.2222222222222222,\"#7201a8\"],[0.3333333333333333,\"#9c179e\"],[0.4444444444444444,\"#bd3786\"],[0.5555555555555556,\"#d8576b\"],[0.6666666666666666,\"#ed7953\"],[0.7777777777777778,\"#fb9f3a\"],[0.8888888888888888,\"#fdca26\"],[1.0,\"#f0f921\"]],\"diverging\":[[0,\"#8e0152\"],[0.1,\"#c51b7d\"],[0.2,\"#de77ae\"],[0.3,\"#f1b6da\"],[0.4,\"#fde0ef\"],[0.5,\"#f7f7f7\"],[0.6,\"#e6f5d0\"],[0.7,\"#b8e186\"],[0.8,\"#7fbc41\"],[0.9,\"#4d9221\"],[1,\"#276419\"]]},\"xaxis\":{\"gridcolor\":\"white\",\"linecolor\":\"white\",\"ticks\":\"\",\"title\":{\"standoff\":15},\"zerolinecolor\":\"white\",\"automargin\":true,\"zerolinewidth\":2},\"yaxis\":{\"gridcolor\":\"white\",\"linecolor\":\"white\",\"ticks\":\"\",\"title\":{\"standoff\":15},\"zerolinecolor\":\"white\",\"automargin\":true,\"zerolinewidth\":2},\"scene\":{\"xaxis\":{\"backgroundcolor\":\"#E5ECF6\",\"gridcolor\":\"white\",\"linecolor\":\"white\",\"showbackground\":true,\"ticks\":\"\",\"zerolinecolor\":\"white\",\"gridwidth\":2},\"yaxis\":{\"backgroundcolor\":\"#E5ECF6\",\"gridcolor\":\"white\",\"linecolor\":\"white\",\"showbackground\":true,\"ticks\":\"\",\"zerolinecolor\":\"white\",\"gridwidth\":2},\"zaxis\":{\"backgroundcolor\":\"#E5ECF6\",\"gridcolor\":\"white\",\"linecolor\":\"white\",\"showbackground\":true,\"ticks\":\"\",\"zerolinecolor\":\"white\",\"gridwidth\":2}},\"shapedefaults\":{\"line\":{\"color\":\"#2a3f5f\"}},\"annotationdefaults\":{\"arrowcolor\":\"#2a3f5f\",\"arrowhead\":0,\"arrowwidth\":1},\"geo\":{\"bgcolor\":\"white\",\"landcolor\":\"#E5ECF6\",\"subunitcolor\":\"white\",\"showland\":true,\"showlakes\":true,\"lakecolor\":\"white\"},\"title\":{\"x\":0.05},\"mapbox\":{\"style\":\"light\"}}},\"legend\":{\"tracegroupgap\":0},\"margin\":{\"t\":60}},                        {\"responsive\": true}                    ).then(function(){\n",
       "                            \n",
       "var gd = document.getElementById('54868598-3538-46dc-8c65-4ff5ffec2f1b');\n",
       "var x = new MutationObserver(function (mutations, observer) {{\n",
       "        var display = window.getComputedStyle(gd).display;\n",
       "        if (!display || display === 'none') {{\n",
       "            console.log([gd, 'removed!']);\n",
       "            Plotly.purge(gd);\n",
       "            observer.disconnect();\n",
       "        }}\n",
       "}});\n",
       "\n",
       "// Listen for the removal of the full notebook cells\n",
       "var notebookContainer = gd.closest('#notebook-container');\n",
       "if (notebookContainer) {{\n",
       "    x.observe(notebookContainer, {childList: true});\n",
       "}}\n",
       "\n",
       "// Listen for the clearing of the current output cell\n",
       "var outputEl = gd.closest('.output');\n",
       "if (outputEl) {{\n",
       "    x.observe(outputEl, {childList: true});\n",
       "}}\n",
       "\n",
       "                        })                };                });            </script>        </div>"
      ]
     },
     "metadata": {},
     "output_type": "display_data"
    },
    {
     "name": "stdout",
     "output_type": "stream",
     "text": [
      "    JOBID ST            ACCOUNT           USER  NODES\n",
      "0   83508  R        ar-ai-hipri        cyprien      1\n",
      "47  85060  R  ar-ai-voice-hipri   patrickhuber      1\n",
      "48  83577  R  ar-ai-voice-hipri      zhaojiang     32\n",
      "49  85029  R  ar-ai-voice-hipri      zhaojiang      1\n",
      "50  85045  R             midpri         kapilk      1\n",
      "51  85010  R             midpri         kapilk      1\n",
      "52  85061  R             midpri         kapilk      1\n",
      "53  85047  R             midpri         kapilk      1\n",
      "54  85044  R             midpri         kapilk      1\n",
      "55  85028  R             midpri         kapilk      1\n",
      "56  85016  R             midpri         kapilk      1\n",
      "57  85008  R             midpri         kapilk      1\n",
      "58  85014  R             midpri       tomfujii      1\n",
      "59  84995  R             midpri          tranx      1\n",
      "60  84994  R             midpri          tranx      1\n",
      "61  84993  R             midpri          tranx      1\n",
      "62  84991  R             midpri          tranx      1\n",
      "63  84992  R             midpri          tranx      1\n",
      "64  84989  R             midpri          tranx      1\n",
      "65  84983  R             midpri          tranx      1\n",
      "66  84987  R             midpri          tranx      1\n",
      "67  84969  R             midpri          tranx      1\n",
      "68  84956  R             midpri          tranx      1\n",
      "69  84945  R             midpri          tranx      1\n",
      "70  84112  R        ar-ai-hipri  marcomonteiro    128\n",
      "71  83724  R        ar-ai-hipri      prakash14      8\n",
      "72  84197  R        ar-ai-hipri         kapilk     64\n",
      "73  84931  R        ar-ai-hipri          tranx    192\n",
      "74  85065  R           ar-ai-qa         kapilk      1\n"
     ]
    }
   ],
   "source": [
    "q_ar = sl.get_queue()\n",
    "# q_ar = q_ar[(q_ar.ACCOUNT == 'ar-ai-hipri') & (q_ar.ST == 'R')]\n",
    "q_ar = q_ar[(q_ar.ST == 'R')]\n",
    "# q_ar = q_ar.group_by(['USER']).\n",
    "fig = px.pie(q_ar, values='NODES', names='USER')\n",
    "fig.update_traces(textinfo='label+value')\n",
    "fig.show()\n",
    "print(q_ar[['JOBID', 'ST', 'ACCOUNT', 'USER', 'NODES']])"
   ]
  },
  {
   "cell_type": "markdown",
   "metadata": {},
   "source": [
    "# Evict"
   ]
  },
  {
   "cell_type": "code",
   "execution_count": 8,
   "metadata": {},
   "outputs": [
    {
     "name": "stdout",
     "output_type": "stream",
     "text": [
      "cd fsx_0/user/cyprien/aligner_git/mmai_main/llm_mm_aligner/experiments/aws\n",
      "sbatch --parsable /fsx_0/checkpoints/cyprien/mm9.2/MM9.2_SFT/MM9p2_LLama3.1_70B_ViTH_336px_exp28_plus_v2_1400_pdfa_qa_3m_only/241125_13_53_29_125877/launch_script.sh\n"
     ]
    }
   ],
   "source": [
    "sl.get_job_launch_cmd(97822)"
   ]
  },
  {
   "cell_type": "code",
   "execution_count": 12,
   "metadata": {},
   "outputs": [
    {
     "data": {
      "text/html": [
       "<div>\n",
       "<style scoped>\n",
       "    .dataframe tbody tr th:only-of-type {\n",
       "        vertical-align: middle;\n",
       "    }\n",
       "\n",
       "    .dataframe tbody tr th {\n",
       "        vertical-align: top;\n",
       "    }\n",
       "\n",
       "    .dataframe thead th {\n",
       "        text-align: right;\n",
       "    }\n",
       "</style>\n",
       "<table border=\"1\" class=\"dataframe\">\n",
       "  <thead>\n",
       "    <tr style=\"text-align: right;\">\n",
       "      <th></th>\n",
       "      <th>JOBID</th>\n",
       "      <th>ACCOUNT</th>\n",
       "      <th>NAME</th>\n",
       "      <th>USER</th>\n",
       "      <th>ST</th>\n",
       "      <th>START_TIME</th>\n",
       "      <th>TIME</th>\n",
       "      <th>NODES</th>\n",
       "      <th>TIME_S</th>\n",
       "    </tr>\n",
       "  </thead>\n",
       "  <tbody>\n",
       "    <tr>\n",
       "      <th>0</th>\n",
       "      <td>83508</td>\n",
       "      <td>ar-ai-hipri</td>\n",
       "      <td>jupyter</td>\n",
       "      <td>cyprien</td>\n",
       "      <td>R</td>\n",
       "      <td>2024-11-08T22:42:33</td>\n",
       "      <td>2-13:28:14</td>\n",
       "      <td>1</td>\n",
       "      <td>221294</td>\n",
       "    </tr>\n",
       "    <tr>\n",
       "      <th>1</th>\n",
       "      <td>84279</td>\n",
       "      <td>ar-ai-hipri</td>\n",
       "      <td>VEv0p2_G14_aws_final_128x8x98_next</td>\n",
       "      <td>marcomonteiro</td>\n",
       "      <td>PD</td>\n",
       "      <td>N/A</td>\n",
       "      <td>0:00</td>\n",
       "      <td>128</td>\n",
       "      <td>0</td>\n",
       "    </tr>\n",
       "    <tr>\n",
       "      <th>2</th>\n",
       "      <td>84904</td>\n",
       "      <td>midpri</td>\n",
       "      <td>eval_docvqa_19000</td>\n",
       "      <td>tranx</td>\n",
       "      <td>PD</td>\n",
       "      <td>2024-11-11T12:12:24</td>\n",
       "      <td>0:00</td>\n",
       "      <td>1</td>\n",
       "      <td>0</td>\n",
       "    </tr>\n",
       "    <tr>\n",
       "      <th>3</th>\n",
       "      <td>84906</td>\n",
       "      <td>midpri</td>\n",
       "      <td>eval_infographics_19000</td>\n",
       "      <td>tranx</td>\n",
       "      <td>PD</td>\n",
       "      <td>2024-11-11T12:12:24</td>\n",
       "      <td>0:00</td>\n",
       "      <td>1</td>\n",
       "      <td>0</td>\n",
       "    </tr>\n",
       "    <tr>\n",
       "      <th>4</th>\n",
       "      <td>84908</td>\n",
       "      <td>midpri</td>\n",
       "      <td>eval_ai2d_19000</td>\n",
       "      <td>tranx</td>\n",
       "      <td>PD</td>\n",
       "      <td>2024-11-11T12:12:24</td>\n",
       "      <td>0:00</td>\n",
       "      <td>1</td>\n",
       "      <td>0</td>\n",
       "    </tr>\n",
       "    <tr>\n",
       "      <th>5</th>\n",
       "      <td>84921</td>\n",
       "      <td>midpri</td>\n",
       "      <td>eval_chartqa_19200</td>\n",
       "      <td>tranx</td>\n",
       "      <td>PD</td>\n",
       "      <td>2024-11-11T12:12:24</td>\n",
       "      <td>0:00</td>\n",
       "      <td>1</td>\n",
       "      <td>0</td>\n",
       "    </tr>\n",
       "    <tr>\n",
       "      <th>6</th>\n",
       "      <td>84922</td>\n",
       "      <td>midpri</td>\n",
       "      <td>eval_docvqa_19200</td>\n",
       "      <td>tranx</td>\n",
       "      <td>PD</td>\n",
       "      <td>2024-11-11T12:12:24</td>\n",
       "      <td>0:00</td>\n",
       "      <td>1</td>\n",
       "      <td>0</td>\n",
       "    </tr>\n",
       "    <tr>\n",
       "      <th>7</th>\n",
       "      <td>84924</td>\n",
       "      <td>midpri</td>\n",
       "      <td>eval_infographics_19200</td>\n",
       "      <td>tranx</td>\n",
       "      <td>PD</td>\n",
       "      <td>2024-11-11T12:12:24</td>\n",
       "      <td>0:00</td>\n",
       "      <td>1</td>\n",
       "      <td>0</td>\n",
       "    </tr>\n",
       "    <tr>\n",
       "      <th>8</th>\n",
       "      <td>84902</td>\n",
       "      <td>midpri</td>\n",
       "      <td>eval_vqa_19000</td>\n",
       "      <td>tranx</td>\n",
       "      <td>PD</td>\n",
       "      <td>2024-11-11T12:12:15</td>\n",
       "      <td>0:00</td>\n",
       "      <td>1</td>\n",
       "      <td>0</td>\n",
       "    </tr>\n",
       "    <tr>\n",
       "      <th>9</th>\n",
       "      <td>84903</td>\n",
       "      <td>midpri</td>\n",
       "      <td>eval_chartqa_19000</td>\n",
       "      <td>tranx</td>\n",
       "      <td>PD</td>\n",
       "      <td>2024-11-11T12:12:15</td>\n",
       "      <td>0:00</td>\n",
       "      <td>1</td>\n",
       "      <td>0</td>\n",
       "    </tr>\n",
       "    <tr>\n",
       "      <th>10</th>\n",
       "      <td>84905</td>\n",
       "      <td>midpri</td>\n",
       "      <td>eval_mathvista_19000</td>\n",
       "      <td>tranx</td>\n",
       "      <td>PD</td>\n",
       "      <td>2024-11-11T12:12:15</td>\n",
       "      <td>0:00</td>\n",
       "      <td>1</td>\n",
       "      <td>0</td>\n",
       "    </tr>\n",
       "    <tr>\n",
       "      <th>11</th>\n",
       "      <td>84907</td>\n",
       "      <td>midpri</td>\n",
       "      <td>eval_infographics_w_ocr_19000</td>\n",
       "      <td>tranx</td>\n",
       "      <td>PD</td>\n",
       "      <td>2024-11-11T12:12:15</td>\n",
       "      <td>0:00</td>\n",
       "      <td>1</td>\n",
       "      <td>0</td>\n",
       "    </tr>\n",
       "    <tr>\n",
       "      <th>12</th>\n",
       "      <td>84909</td>\n",
       "      <td>midpri</td>\n",
       "      <td>eval_mmbench_19000</td>\n",
       "      <td>tranx</td>\n",
       "      <td>PD</td>\n",
       "      <td>2024-11-11T12:12:15</td>\n",
       "      <td>0:00</td>\n",
       "      <td>1</td>\n",
       "      <td>0</td>\n",
       "    </tr>\n",
       "    <tr>\n",
       "      <th>13</th>\n",
       "      <td>84919</td>\n",
       "      <td>midpri</td>\n",
       "      <td>eval_textvqa_19200</td>\n",
       "      <td>tranx</td>\n",
       "      <td>PD</td>\n",
       "      <td>2024-11-11T12:12:15</td>\n",
       "      <td>0:00</td>\n",
       "      <td>1</td>\n",
       "      <td>0</td>\n",
       "    </tr>\n",
       "    <tr>\n",
       "      <th>14</th>\n",
       "      <td>84920</td>\n",
       "      <td>midpri</td>\n",
       "      <td>eval_vqa_19200</td>\n",
       "      <td>tranx</td>\n",
       "      <td>PD</td>\n",
       "      <td>2024-11-11T12:12:15</td>\n",
       "      <td>0:00</td>\n",
       "      <td>1</td>\n",
       "      <td>0</td>\n",
       "    </tr>\n",
       "    <tr>\n",
       "      <th>15</th>\n",
       "      <td>84923</td>\n",
       "      <td>midpri</td>\n",
       "      <td>eval_mathvista_19200</td>\n",
       "      <td>tranx</td>\n",
       "      <td>PD</td>\n",
       "      <td>2024-11-11T12:12:15</td>\n",
       "      <td>0:00</td>\n",
       "      <td>1</td>\n",
       "      <td>0</td>\n",
       "    </tr>\n",
       "    <tr>\n",
       "      <th>16</th>\n",
       "      <td>84925</td>\n",
       "      <td>midpri</td>\n",
       "      <td>eval_infographics_w_ocr_19200</td>\n",
       "      <td>tranx</td>\n",
       "      <td>PD</td>\n",
       "      <td>2024-11-11T12:12:15</td>\n",
       "      <td>0:00</td>\n",
       "      <td>1</td>\n",
       "      <td>0</td>\n",
       "    </tr>\n",
       "    <tr>\n",
       "      <th>17</th>\n",
       "      <td>84926</td>\n",
       "      <td>midpri</td>\n",
       "      <td>eval_ai2d_19200</td>\n",
       "      <td>tranx</td>\n",
       "      <td>PD</td>\n",
       "      <td>2024-11-11T12:12:15</td>\n",
       "      <td>0:00</td>\n",
       "      <td>1</td>\n",
       "      <td>0</td>\n",
       "    </tr>\n",
       "    <tr>\n",
       "      <th>18</th>\n",
       "      <td>84927</td>\n",
       "      <td>midpri</td>\n",
       "      <td>eval_mmbench_19200</td>\n",
       "      <td>tranx</td>\n",
       "      <td>PD</td>\n",
       "      <td>2024-11-11T12:12:15</td>\n",
       "      <td>0:00</td>\n",
       "      <td>1</td>\n",
       "      <td>0</td>\n",
       "    </tr>\n",
       "    <tr>\n",
       "      <th>19</th>\n",
       "      <td>84928</td>\n",
       "      <td>midpri</td>\n",
       "      <td>eval_mmmu_19200</td>\n",
       "      <td>tranx</td>\n",
       "      <td>PD</td>\n",
       "      <td>2024-11-11T12:12:15</td>\n",
       "      <td>0:00</td>\n",
       "      <td>1</td>\n",
       "      <td>0</td>\n",
       "    </tr>\n",
       "    <tr>\n",
       "      <th>20</th>\n",
       "      <td>84917</td>\n",
       "      <td>midpri</td>\n",
       "      <td>eval_mvbench_8700</td>\n",
       "      <td>kapilk</td>\n",
       "      <td>PD</td>\n",
       "      <td>2024-11-11T12:12:14</td>\n",
       "      <td>0:00</td>\n",
       "      <td>1</td>\n",
       "      <td>0</td>\n",
       "    </tr>\n",
       "    <tr>\n",
       "      <th>21</th>\n",
       "      <td>84910</td>\n",
       "      <td>midpri</td>\n",
       "      <td>eval_mmmu_19000</td>\n",
       "      <td>tranx</td>\n",
       "      <td>PD</td>\n",
       "      <td>2024-11-11T12:12:05</td>\n",
       "      <td>0:00</td>\n",
       "      <td>1</td>\n",
       "      <td>0</td>\n",
       "    </tr>\n",
       "    <tr>\n",
       "      <th>22</th>\n",
       "      <td>84849</td>\n",
       "      <td>midpri</td>\n",
       "      <td>s2_exp28_plus_v2_SFT_test</td>\n",
       "      <td>peijunxiao</td>\n",
       "      <td>PD</td>\n",
       "      <td>N/A</td>\n",
       "      <td>0:00</td>\n",
       "      <td>4</td>\n",
       "      <td>0</td>\n",
       "    </tr>\n",
       "    <tr>\n",
       "      <th>23</th>\n",
       "      <td>84744</td>\n",
       "      <td>midpri</td>\n",
       "      <td>text_synthesis</td>\n",
       "      <td>lyw</td>\n",
       "      <td>PD</td>\n",
       "      <td>N/A</td>\n",
       "      <td>0:00</td>\n",
       "      <td>8</td>\n",
       "      <td>0</td>\n",
       "    </tr>\n",
       "    <tr>\n",
       "      <th>24</th>\n",
       "      <td>84262</td>\n",
       "      <td>ar-ai-hipri</td>\n",
       "      <td>long_context_sft_n8</td>\n",
       "      <td>sourabhmadur</td>\n",
       "      <td>PD</td>\n",
       "      <td>N/A</td>\n",
       "      <td>0:00</td>\n",
       "      <td>8</td>\n",
       "      <td>0</td>\n",
       "    </tr>\n",
       "    <tr>\n",
       "      <th>25</th>\n",
       "      <td>84630</td>\n",
       "      <td>ar-ai-voice-hipri</td>\n",
       "      <td>bash</td>\n",
       "      <td>patrickhuber</td>\n",
       "      <td>R</td>\n",
       "      <td>2024-11-10T18:39:15</td>\n",
       "      <td>17:31:32</td>\n",
       "      <td>1</td>\n",
       "      <td>63092</td>\n",
       "    </tr>\n",
       "    <tr>\n",
       "      <th>26</th>\n",
       "      <td>83577</td>\n",
       "      <td>ar-ai-voice-hipri</td>\n",
       "      <td>final</td>\n",
       "      <td>zhaojiang</td>\n",
       "      <td>R</td>\n",
       "      <td>2024-11-09T00:06:34</td>\n",
       "      <td>2-12:04:13</td>\n",
       "      <td>32</td>\n",
       "      <td>216253</td>\n",
       "    </tr>\n",
       "    <tr>\n",
       "      <th>27</th>\n",
       "      <td>84914</td>\n",
       "      <td>midpri</td>\n",
       "      <td>eval_mvbench_8600</td>\n",
       "      <td>kapilk</td>\n",
       "      <td>R</td>\n",
       "      <td>2024-11-11T11:30:15</td>\n",
       "      <td>40:32</td>\n",
       "      <td>1</td>\n",
       "      <td>2432</td>\n",
       "    </tr>\n",
       "    <tr>\n",
       "      <th>28</th>\n",
       "      <td>84915</td>\n",
       "      <td>midpri</td>\n",
       "      <td>eval_video_mme_8700</td>\n",
       "      <td>kapilk</td>\n",
       "      <td>R</td>\n",
       "      <td>2024-11-11T11:48:16</td>\n",
       "      <td>22:31</td>\n",
       "      <td>1</td>\n",
       "      <td>1351</td>\n",
       "    </tr>\n",
       "    <tr>\n",
       "      <th>29</th>\n",
       "      <td>84911</td>\n",
       "      <td>midpri</td>\n",
       "      <td>eval_video_mme_8600</td>\n",
       "      <td>kapilk</td>\n",
       "      <td>R</td>\n",
       "      <td>2024-11-11T11:16:45</td>\n",
       "      <td>54:02</td>\n",
       "      <td>1</td>\n",
       "      <td>3242</td>\n",
       "    </tr>\n",
       "    <tr>\n",
       "      <th>30</th>\n",
       "      <td>84900</td>\n",
       "      <td>midpri</td>\n",
       "      <td>eval_mvbench_8500</td>\n",
       "      <td>kapilk</td>\n",
       "      <td>R</td>\n",
       "      <td>2024-11-11T10:57:14</td>\n",
       "      <td>1:13:33</td>\n",
       "      <td>1</td>\n",
       "      <td>4413</td>\n",
       "    </tr>\n",
       "    <tr>\n",
       "      <th>31</th>\n",
       "      <td>84898</td>\n",
       "      <td>midpri</td>\n",
       "      <td>eval_video_mme_8500</td>\n",
       "      <td>kapilk</td>\n",
       "      <td>R</td>\n",
       "      <td>2024-11-11T10:46:44</td>\n",
       "      <td>1:24:03</td>\n",
       "      <td>1</td>\n",
       "      <td>5043</td>\n",
       "    </tr>\n",
       "    <tr>\n",
       "      <th>32</th>\n",
       "      <td>84895</td>\n",
       "      <td>midpri</td>\n",
       "      <td>eval_video_mme_8400</td>\n",
       "      <td>kapilk</td>\n",
       "      <td>R</td>\n",
       "      <td>2024-11-11T10:16:44</td>\n",
       "      <td>1:54:03</td>\n",
       "      <td>1</td>\n",
       "      <td>6843</td>\n",
       "    </tr>\n",
       "    <tr>\n",
       "      <th>33</th>\n",
       "      <td>84894</td>\n",
       "      <td>midpri</td>\n",
       "      <td>eval_mmmu_18800</td>\n",
       "      <td>tranx</td>\n",
       "      <td>R</td>\n",
       "      <td>2024-11-11T11:45:16</td>\n",
       "      <td>25:31</td>\n",
       "      <td>1</td>\n",
       "      <td>1531</td>\n",
       "    </tr>\n",
       "    <tr>\n",
       "      <th>34</th>\n",
       "      <td>84879</td>\n",
       "      <td>midpri</td>\n",
       "      <td>eval_mmmu_18600</td>\n",
       "      <td>tranx</td>\n",
       "      <td>R</td>\n",
       "      <td>2024-11-11T10:45:14</td>\n",
       "      <td>1:25:33</td>\n",
       "      <td>1</td>\n",
       "      <td>5133</td>\n",
       "    </tr>\n",
       "    <tr>\n",
       "      <th>35</th>\n",
       "      <td>84864</td>\n",
       "      <td>midpri</td>\n",
       "      <td>eval_mmmu_18400</td>\n",
       "      <td>tranx</td>\n",
       "      <td>R</td>\n",
       "      <td>2024-11-11T09:33:13</td>\n",
       "      <td>2:37:34</td>\n",
       "      <td>1</td>\n",
       "      <td>9454</td>\n",
       "    </tr>\n",
       "    <tr>\n",
       "      <th>36</th>\n",
       "      <td>84846</td>\n",
       "      <td>midpri</td>\n",
       "      <td>eval_mmmu_18200</td>\n",
       "      <td>tranx</td>\n",
       "      <td>R</td>\n",
       "      <td>2024-11-11T08:15:12</td>\n",
       "      <td>3:55:35</td>\n",
       "      <td>1</td>\n",
       "      <td>14135</td>\n",
       "    </tr>\n",
       "    <tr>\n",
       "      <th>37</th>\n",
       "      <td>84888</td>\n",
       "      <td>midpri</td>\n",
       "      <td>eval_docvqa_18800</td>\n",
       "      <td>tranx</td>\n",
       "      <td>R</td>\n",
       "      <td>2024-11-11T11:13:45</td>\n",
       "      <td>57:02</td>\n",
       "      <td>1</td>\n",
       "      <td>3422</td>\n",
       "    </tr>\n",
       "    <tr>\n",
       "      <th>38</th>\n",
       "      <td>84901</td>\n",
       "      <td>midpri</td>\n",
       "      <td>eval_textvqa_19000</td>\n",
       "      <td>tranx</td>\n",
       "      <td>R</td>\n",
       "      <td>2024-11-11T11:51:16</td>\n",
       "      <td>19:31</td>\n",
       "      <td>1</td>\n",
       "      <td>1171</td>\n",
       "    </tr>\n",
       "    <tr>\n",
       "      <th>39</th>\n",
       "      <td>84786</td>\n",
       "      <td>ar-ai-hipri</td>\n",
       "      <td>bash</td>\n",
       "      <td>xnl</td>\n",
       "      <td>R</td>\n",
       "      <td>2024-11-11T04:10:39</td>\n",
       "      <td>8:00:08</td>\n",
       "      <td>1</td>\n",
       "      <td>28808</td>\n",
       "    </tr>\n",
       "    <tr>\n",
       "      <th>40</th>\n",
       "      <td>84112</td>\n",
       "      <td>ar-ai-hipri</td>\n",
       "      <td>VEv0p2_G14_aws_final_128x8x98_next</td>\n",
       "      <td>marcomonteiro</td>\n",
       "      <td>R</td>\n",
       "      <td>2024-11-09T17:53:03</td>\n",
       "      <td>1-18:17:44</td>\n",
       "      <td>128</td>\n",
       "      <td>152264</td>\n",
       "    </tr>\n",
       "    <tr>\n",
       "      <th>41</th>\n",
       "      <td>83724</td>\n",
       "      <td>ar-ai-hipri</td>\n",
       "      <td>sft_llama3.1_vith_multilingual</td>\n",
       "      <td>prakash14</td>\n",
       "      <td>R</td>\n",
       "      <td>2024-11-09T04:47:07</td>\n",
       "      <td>2-07:23:40</td>\n",
       "      <td>8</td>\n",
       "      <td>199420</td>\n",
       "    </tr>\n",
       "    <tr>\n",
       "      <th>42</th>\n",
       "      <td>84197</td>\n",
       "      <td>ar-ai-hipri</td>\n",
       "      <td>9pt2videomixv11_r6</td>\n",
       "      <td>kapilk</td>\n",
       "      <td>R</td>\n",
       "      <td>2024-11-09T19:33:45</td>\n",
       "      <td>1-16:37:02</td>\n",
       "      <td>64</td>\n",
       "      <td>146222</td>\n",
       "    </tr>\n",
       "    <tr>\n",
       "      <th>43</th>\n",
       "      <td>84918</td>\n",
       "      <td>ar-ai-hipri</td>\n",
       "      <td>Llama3.1_70B_ViTH_336px_exp28_plus_v2_20241111</td>\n",
       "      <td>tranx</td>\n",
       "      <td>R</td>\n",
       "      <td>2024-11-11T12:10:24</td>\n",
       "      <td>0:23</td>\n",
       "      <td>192</td>\n",
       "      <td>23</td>\n",
       "    </tr>\n",
       "    <tr>\n",
       "      <th>44</th>\n",
       "      <td>84590</td>\n",
       "      <td>midpri</td>\n",
       "      <td>bash</td>\n",
       "      <td>cyprien</td>\n",
       "      <td>R</td>\n",
       "      <td>2024-11-10T16:29:36</td>\n",
       "      <td>19:41:11</td>\n",
       "      <td>1</td>\n",
       "      <td>70871</td>\n",
       "    </tr>\n",
       "    <tr>\n",
       "      <th>45</th>\n",
       "      <td>84913</td>\n",
       "      <td>midpri</td>\n",
       "      <td>bash</td>\n",
       "      <td>kapilk</td>\n",
       "      <td>R</td>\n",
       "      <td>2024-11-11T11:27:15</td>\n",
       "      <td>43:32</td>\n",
       "      <td>1</td>\n",
       "      <td>2612</td>\n",
       "    </tr>\n",
       "  </tbody>\n",
       "</table>\n",
       "</div>"
      ],
      "text/plain": [
       "    JOBID            ACCOUNT                                            NAME  \\\n",
       "0   83508        ar-ai-hipri                                         jupyter   \n",
       "1   84279        ar-ai-hipri              VEv0p2_G14_aws_final_128x8x98_next   \n",
       "2   84904             midpri                               eval_docvqa_19000   \n",
       "3   84906             midpri                         eval_infographics_19000   \n",
       "4   84908             midpri                                 eval_ai2d_19000   \n",
       "5   84921             midpri                              eval_chartqa_19200   \n",
       "6   84922             midpri                               eval_docvqa_19200   \n",
       "7   84924             midpri                         eval_infographics_19200   \n",
       "8   84902             midpri                                  eval_vqa_19000   \n",
       "9   84903             midpri                              eval_chartqa_19000   \n",
       "10  84905             midpri                            eval_mathvista_19000   \n",
       "11  84907             midpri                   eval_infographics_w_ocr_19000   \n",
       "12  84909             midpri                              eval_mmbench_19000   \n",
       "13  84919             midpri                              eval_textvqa_19200   \n",
       "14  84920             midpri                                  eval_vqa_19200   \n",
       "15  84923             midpri                            eval_mathvista_19200   \n",
       "16  84925             midpri                   eval_infographics_w_ocr_19200   \n",
       "17  84926             midpri                                 eval_ai2d_19200   \n",
       "18  84927             midpri                              eval_mmbench_19200   \n",
       "19  84928             midpri                                 eval_mmmu_19200   \n",
       "20  84917             midpri                               eval_mvbench_8700   \n",
       "21  84910             midpri                                 eval_mmmu_19000   \n",
       "22  84849             midpri                       s2_exp28_plus_v2_SFT_test   \n",
       "23  84744             midpri                                  text_synthesis   \n",
       "24  84262        ar-ai-hipri                             long_context_sft_n8   \n",
       "25  84630  ar-ai-voice-hipri                                            bash   \n",
       "26  83577  ar-ai-voice-hipri                                           final   \n",
       "27  84914             midpri                               eval_mvbench_8600   \n",
       "28  84915             midpri                             eval_video_mme_8700   \n",
       "29  84911             midpri                             eval_video_mme_8600   \n",
       "30  84900             midpri                               eval_mvbench_8500   \n",
       "31  84898             midpri                             eval_video_mme_8500   \n",
       "32  84895             midpri                             eval_video_mme_8400   \n",
       "33  84894             midpri                                 eval_mmmu_18800   \n",
       "34  84879             midpri                                 eval_mmmu_18600   \n",
       "35  84864             midpri                                 eval_mmmu_18400   \n",
       "36  84846             midpri                                 eval_mmmu_18200   \n",
       "37  84888             midpri                               eval_docvqa_18800   \n",
       "38  84901             midpri                              eval_textvqa_19000   \n",
       "39  84786        ar-ai-hipri                                            bash   \n",
       "40  84112        ar-ai-hipri              VEv0p2_G14_aws_final_128x8x98_next   \n",
       "41  83724        ar-ai-hipri                  sft_llama3.1_vith_multilingual   \n",
       "42  84197        ar-ai-hipri                              9pt2videomixv11_r6   \n",
       "43  84918        ar-ai-hipri  Llama3.1_70B_ViTH_336px_exp28_plus_v2_20241111   \n",
       "44  84590             midpri                                            bash   \n",
       "45  84913             midpri                                            bash   \n",
       "\n",
       "             USER  ST           START_TIME        TIME  NODES  TIME_S  \n",
       "0         cyprien   R  2024-11-08T22:42:33  2-13:28:14      1  221294  \n",
       "1   marcomonteiro  PD                  N/A        0:00    128       0  \n",
       "2           tranx  PD  2024-11-11T12:12:24        0:00      1       0  \n",
       "3           tranx  PD  2024-11-11T12:12:24        0:00      1       0  \n",
       "4           tranx  PD  2024-11-11T12:12:24        0:00      1       0  \n",
       "5           tranx  PD  2024-11-11T12:12:24        0:00      1       0  \n",
       "6           tranx  PD  2024-11-11T12:12:24        0:00      1       0  \n",
       "7           tranx  PD  2024-11-11T12:12:24        0:00      1       0  \n",
       "8           tranx  PD  2024-11-11T12:12:15        0:00      1       0  \n",
       "9           tranx  PD  2024-11-11T12:12:15        0:00      1       0  \n",
       "10          tranx  PD  2024-11-11T12:12:15        0:00      1       0  \n",
       "11          tranx  PD  2024-11-11T12:12:15        0:00      1       0  \n",
       "12          tranx  PD  2024-11-11T12:12:15        0:00      1       0  \n",
       "13          tranx  PD  2024-11-11T12:12:15        0:00      1       0  \n",
       "14          tranx  PD  2024-11-11T12:12:15        0:00      1       0  \n",
       "15          tranx  PD  2024-11-11T12:12:15        0:00      1       0  \n",
       "16          tranx  PD  2024-11-11T12:12:15        0:00      1       0  \n",
       "17          tranx  PD  2024-11-11T12:12:15        0:00      1       0  \n",
       "18          tranx  PD  2024-11-11T12:12:15        0:00      1       0  \n",
       "19          tranx  PD  2024-11-11T12:12:15        0:00      1       0  \n",
       "20         kapilk  PD  2024-11-11T12:12:14        0:00      1       0  \n",
       "21          tranx  PD  2024-11-11T12:12:05        0:00      1       0  \n",
       "22     peijunxiao  PD                  N/A        0:00      4       0  \n",
       "23            lyw  PD                  N/A        0:00      8       0  \n",
       "24   sourabhmadur  PD                  N/A        0:00      8       0  \n",
       "25   patrickhuber   R  2024-11-10T18:39:15    17:31:32      1   63092  \n",
       "26      zhaojiang   R  2024-11-09T00:06:34  2-12:04:13     32  216253  \n",
       "27         kapilk   R  2024-11-11T11:30:15       40:32      1    2432  \n",
       "28         kapilk   R  2024-11-11T11:48:16       22:31      1    1351  \n",
       "29         kapilk   R  2024-11-11T11:16:45       54:02      1    3242  \n",
       "30         kapilk   R  2024-11-11T10:57:14     1:13:33      1    4413  \n",
       "31         kapilk   R  2024-11-11T10:46:44     1:24:03      1    5043  \n",
       "32         kapilk   R  2024-11-11T10:16:44     1:54:03      1    6843  \n",
       "33          tranx   R  2024-11-11T11:45:16       25:31      1    1531  \n",
       "34          tranx   R  2024-11-11T10:45:14     1:25:33      1    5133  \n",
       "35          tranx   R  2024-11-11T09:33:13     2:37:34      1    9454  \n",
       "36          tranx   R  2024-11-11T08:15:12     3:55:35      1   14135  \n",
       "37          tranx   R  2024-11-11T11:13:45       57:02      1    3422  \n",
       "38          tranx   R  2024-11-11T11:51:16       19:31      1    1171  \n",
       "39            xnl   R  2024-11-11T04:10:39     8:00:08      1   28808  \n",
       "40  marcomonteiro   R  2024-11-09T17:53:03  1-18:17:44    128  152264  \n",
       "41      prakash14   R  2024-11-09T04:47:07  2-07:23:40      8  199420  \n",
       "42         kapilk   R  2024-11-09T19:33:45  1-16:37:02     64  146222  \n",
       "43          tranx   R  2024-11-11T12:10:24        0:23    192      23  \n",
       "44        cyprien   R  2024-11-10T16:29:36    19:41:11      1   70871  \n",
       "45         kapilk   R  2024-11-11T11:27:15       43:32      1    2612  "
      ]
     },
     "execution_count": 12,
     "metadata": {},
     "output_type": "execute_result"
    }
   ],
   "source": [
    "sl = SlurmClient()\n",
    "q = sl.get_queue()\n",
    "# q[q.TIME < '5:00']\n",
    "q"
   ]
  },
  {
   "cell_type": "code",
   "execution_count": 15,
   "metadata": {},
   "outputs": [
    {
     "name": "stdout",
     "output_type": "stream",
     "text": [
      "    JOBID  ST            ACCOUNT           USER  NODES\n",
      "0   95413   R             midpri       ahmadyan      1\n",
      "1   95100   R        ar-ai-hipri       tomfujii      1\n",
      "2   97862   R        ar-ai-hipri        cyprien      1\n",
      "3   97970  PD        ar-ai-hipri  marcomonteiro    256\n",
      "4   97969  PD        ar-ai-hipri  marcomonteiro    256\n",
      "5   97968  PD        ar-ai-hipri  marcomonteiro    256\n",
      "6   97346  PD        ar-ai-hipri       ahmadyan     64\n",
      "7   97972  PD             midpri        cyprien      1\n",
      "8   97971  PD             midpri        cyprien      1\n",
      "9   97965  PD             midpri      kgschwind      8\n",
      "10  97964  PD             midpri      kgschwind      8\n",
      "11  97952  PD             midpri        cyprien      1\n",
      "12  97950  PD             midpri        cyprien      1\n",
      "13  97948  PD             midpri        cyprien      1\n",
      "14  97947  PD             midpri        cyprien      1\n",
      "15  97946  PD             midpri        cyprien      1\n",
      "16  97936  PD             midpri        parisah      1\n",
      "17  97935  PD             midpri        parisah      1\n",
      "18  97934  PD             midpri        parisah      1\n",
      "19  97933  PD             midpri        parisah      1\n",
      "20  97932  PD             midpri        parisah      1\n",
      "21  97929  PD             midpri        parisah      1\n",
      "22  97920  PD             midpri        cyprien      1\n",
      "23  97918  PD             midpri        cyprien      1\n",
      "24  97906  PD             midpri       ahmadyan      1\n",
      "25  97892  PD             midpri       tomfujii      1\n",
      "26  97891  PD             midpri       tomfujii      1\n",
      "27  97881  PD             midpri        cyprien      1\n",
      "28  97844  PD             midpri        cyprien      1\n",
      "29  97656  PD             midpri       tomfujii      4\n",
      "30  97655  PD             midpri       tomfujii      4\n",
      "31  97654  PD             midpri       tomfujii      4\n",
      "32  97653  PD             midpri       tomfujii      4\n",
      "33  97989   R  ar-ai-voice-hipri         cszhao      1\n",
      "34  97898   R  ar-ai-voice-hipri   patrickhuber      1\n",
      "35  92581   R             midpri            xnl      1\n",
      "36  96884   R             midpri            xnl      1\n",
      "37  97967   R             midpri  giangnguyen95      1\n",
      "38  97966   R             midpri  giangnguyen95      1\n",
      "39  97931   R             midpri   sourabhmadur      8\n",
      "40  97545   R             midpri            lyw      8\n",
      "41  97893   R             midpri         kapilk      1\n",
      "42  97959   R             midpri       yetian12      1\n",
      "43  97822   R             midpri        cyprien      8\n",
      "44  97938   R             midpri       haoyuren     16\n",
      "45  97955   R             midpri       haoyuren     16\n",
      "46  97961   R        ar-ai-hipri         amoghp      1\n",
      "47  97286   R        ar-ai-hipri          tranx      1\n",
      "48  97675   R        ar-ai-hipri      prakash14     32\n",
      "49  97608   R        ar-ai-hipri          zhenq      2\n",
      "50  97954   R        ar-ai-hipri  marcomonteiro    256\n",
      "51  97960   R        ar-ai-hipri      prakash14      8\n",
      "52  97977   R        ar-ai-hipri      prakash14      8\n",
      "53  97976   R        ar-ai-hipri      prakash14     32\n",
      "total nodes: 1291\n",
      "Triggering release on job 95413\n",
      "Triggering release on job 95100\n",
      "Triggering release on job 97862\n",
      "Triggering release on job 97970\n",
      "Triggering release on job 97969\n",
      "Triggering release on job 97968\n",
      "Triggering release on job 97346\n",
      "Triggering release on job 97972\n",
      "Triggering release on job 97971\n",
      "Triggering release on job 97965\n",
      "Triggering release on job 97964\n",
      "Triggering release on job 97952\n",
      "Triggering release on job 97950\n",
      "Triggering release on job 97948\n",
      "Triggering release on job 97947\n",
      "Triggering release on job 97946\n",
      "Triggering release on job 97936\n",
      "Triggering release on job 97935\n",
      "Triggering release on job 97934\n",
      "Triggering release on job 97933\n",
      "Triggering release on job 97932\n",
      "Triggering release on job 97929\n",
      "Triggering release on job 97920\n",
      "Triggering release on job 97918\n",
      "Triggering release on job 97906\n",
      "Triggering release on job 97892\n",
      "Triggering release on job 97891\n",
      "Triggering release on job 97881\n",
      "Triggering release on job 97844\n",
      "Triggering release on job 97656\n",
      "Triggering release on job 97655\n",
      "Triggering release on job 97654\n",
      "Triggering release on job 97653\n",
      "Triggering release on job 97989\n",
      "Triggering release on job 97898\n",
      "Triggering release on job 92581\n",
      "Triggering release on job 96884\n",
      "Triggering release on job 97967\n",
      "Triggering release on job 97966\n",
      "Triggering release on job 97931\n",
      "Triggering release on job 97545\n",
      "Triggering release on job 97893\n",
      "Triggering release on job 97959\n",
      "Triggering release on job 97822\n",
      "Triggering release on job 97938\n",
      "Triggering release on job 97955\n",
      "Triggering release on job 97961\n",
      "Triggering release on job 97286\n",
      "Triggering release on job 97675\n",
      "Triggering release on job 97608\n",
      "Triggering release on job 97954\n",
      "Triggering release on job 97960\n",
      "Triggering release on job 97977\n",
      "Triggering release on job 97976\n"
     ]
    }
   ],
   "source": [
    "sp = SlurmPolice()\n",
    "sp.cancel(\n",
    "    # users='tomfujii', \n",
    "    # name='eval_',\n",
    "    # status=['PD'],\n",
    "    # action='hold',\n",
    "    action='release',\n",
    "    # action='cancel',\n",
    "    # name='eval_inf',\n",
    "    # run_seconds = 600,\n",
    "    # max_jobs=20\n",
    ")"
   ]
  },
  {
   "cell_type": "code",
   "execution_count": 8,
   "metadata": {},
   "outputs": [
    {
     "name": "stdout",
     "output_type": "stream",
     "text": [
      "    JOBID  ST ACCOUNT   USER  NODES\n",
      "3   71205  PD  midpri  tranx      1\n",
      "4   71204  PD  midpri  tranx      1\n",
      "5   71206  PD  midpri  tranx      1\n",
      "6   71207  PD  midpri  tranx      1\n",
      "7   71208  PD  midpri  tranx      1\n",
      "..    ...  ..     ...    ...    ...\n",
      "70  71277  PD  midpri  tranx      1\n",
      "71  71278  PD  midpri  tranx      1\n",
      "72  71279  PD  midpri  tranx      1\n",
      "73  71280  PD  midpri  tranx      1\n",
      "74  71281  PD  midpri  tranx      1\n",
      "\n",
      "[72 rows x 5 columns]\n",
      "total nodes: 72\n",
      "Triggering scancel on job 71205\n",
      "Triggering scancel on job 71204\n",
      "Triggering scancel on job 71206\n",
      "Triggering scancel on job 71207\n",
      "Triggering scancel on job 71208\n",
      "Triggering scancel on job 71209\n",
      "Triggering scancel on job 71210\n",
      "Triggering scancel on job 71211\n",
      "Triggering scancel on job 71212\n",
      "Triggering scancel on job 71213\n",
      "Triggering scancel on job 71214\n",
      "Triggering scancel on job 71215\n",
      "Triggering scancel on job 71216\n",
      "Triggering scancel on job 71217\n",
      "Triggering scancel on job 71218\n",
      "Triggering scancel on job 71219\n",
      "Triggering scancel on job 71220\n",
      "Triggering scancel on job 71221\n",
      "Triggering scancel on job 71222\n",
      "Triggering scancel on job 71223\n",
      "Triggering scancel on job 71224\n",
      "Triggering scancel on job 71225\n",
      "Triggering scancel on job 71226\n",
      "Triggering scancel on job 71227\n",
      "Triggering scancel on job 71228\n",
      "Triggering scancel on job 71229\n",
      "Triggering scancel on job 71230\n",
      "Triggering scancel on job 71231\n",
      "Triggering scancel on job 71232\n",
      "Triggering scancel on job 71233\n",
      "Triggering scancel on job 71234\n",
      "Triggering scancel on job 71235\n",
      "Triggering scancel on job 71236\n",
      "Triggering scancel on job 71237\n",
      "Triggering scancel on job 71238\n",
      "Triggering scancel on job 71239\n",
      "Triggering scancel on job 71240\n",
      "Triggering scancel on job 71241\n",
      "Triggering scancel on job 71242\n",
      "Triggering scancel on job 71243\n",
      "Triggering scancel on job 71244\n",
      "Triggering scancel on job 71245\n",
      "Triggering scancel on job 71246\n",
      "Triggering scancel on job 71247\n",
      "Triggering scancel on job 71248\n",
      "Triggering scancel on job 71249\n",
      "Triggering scancel on job 71250\n",
      "Triggering scancel on job 71251\n",
      "Triggering scancel on job 71252\n",
      "Triggering scancel on job 71253\n",
      "Triggering scancel on job 71254\n",
      "Triggering scancel on job 71255\n",
      "Triggering scancel on job 71258\n",
      "Triggering scancel on job 71259\n",
      "Triggering scancel on job 71260\n",
      "Triggering scancel on job 71261\n",
      "Triggering scancel on job 71262\n",
      "Triggering scancel on job 71263\n",
      "Triggering scancel on job 71264\n",
      "Triggering scancel on job 71265\n",
      "Triggering scancel on job 71266\n",
      "Triggering scancel on job 71267\n",
      "Triggering scancel on job 71272\n",
      "Triggering scancel on job 71273\n",
      "Triggering scancel on job 71274\n",
      "Triggering scancel on job 71275\n",
      "Triggering scancel on job 71276\n",
      "Triggering scancel on job 71277\n",
      "Triggering scancel on job 71278\n",
      "Triggering scancel on job 71279\n",
      "Triggering scancel on job 71280\n",
      "Triggering scancel on job 71281\n"
     ]
    }
   ],
   "source": [
    "sp.cancel(\n",
    "    users='tranx', \n",
    "    # name='eval_dpo'\n",
    "    status=['PD'],\n",
    "    action='scancel'\n",
    ")"
   ]
  },
  {
   "cell_type": "code",
   "execution_count": 4,
   "metadata": {},
   "outputs": [
    {
     "name": "stdout",
     "output_type": "stream",
     "text": [
      "    JOBID ST ACCOUNT         USER  NODES\n",
      "8   37132  R  midpri  yastashonok      2\n",
      "9   37131  R  midpri  yastashonok      2\n",
      "10  37130  R  midpri  yastashonok      2\n",
      "total nodes: 6\n"
     ]
    },
    {
     "name": "stdout",
     "output_type": "stream",
     "text": [
      "Cancelling job 37132\n",
      "Cancelling job 37131\n",
      "Cancelling job 37130\n"
     ]
    }
   ],
   "source": [
    "sp.cancel(account='midpri', users=[\"yastashonok\", \"billwzhu\"])"
   ]
  },
  {
   "cell_type": "code",
   "execution_count": 75,
   "metadata": {},
   "outputs": [],
   "source": [
    "# sp.cancel(account='midpri', users=['yfzhuang', 'jiuhai', 'imzyc'], test=False)"
   ]
  },
  {
   "cell_type": "code",
   "execution_count": 76,
   "metadata": {},
   "outputs": [],
   "source": [
    "# sp.cancel(account='*', users=[\"yetian12\"], test=False)"
   ]
  },
  {
   "cell_type": "code",
   "execution_count": 77,
   "metadata": {},
   "outputs": [],
   "source": [
    "# sp.cancel(account='midpri', users=[\"prakash14\"], test=False)"
   ]
  },
  {
   "cell_type": "code",
   "execution_count": 24,
   "metadata": {},
   "outputs": [
    {
     "name": "stdout",
     "output_type": "stream",
     "text": [
      "   JOBID ST ACCOUNT      USER  NODES\n",
      "2  36010  R  midpri  billwzhu      1\n",
      "Cancelling job 36010\n"
     ]
    }
   ],
   "source": [
    "# evic interns\n",
    "# while True:\n",
    "interns = ['yfzhuang', 'jiuhai', 'imzyc', 'billwzhu']\n",
    "sl = SlurmClient()\n",
    "q = sl.get_queue()\n",
    "\n",
    "q = q[q.USER.isin(interns)]\n",
    "q = q[~q.ACCOUNT.isin(['ar-ai-research-interns', 'ar-ai-voice-hipri'])]\n",
    "\n",
    "print(q[['JOBID', 'ST', 'ACCOUNT', 'USER', 'NODES']])\n",
    "\n",
    "for j in list(q.JOBID):\n",
    "    print(f\"Cancelling job {j}\")\n",
    "    utils.get_bash_output(f\"scancel {j}\")\n",
    "\n",
    "    # time.sleep(2)"
   ]
  },
  {
   "cell_type": "code",
   "execution_count": 45,
   "metadata": {},
   "outputs": [
    {
     "name": "stdout",
     "output_type": "stream",
     "text": [
      "Empty DataFrame\n",
      "Columns: [JOBID, ST, ACCOUNT, USER, NODES]\n",
      "Index: []\n"
     ]
    }
   ],
   "source": [
    "# # cancel all midpri\n",
    "# q = sl.get_queue()\n",
    "# q = q[(q.ACCOUNT=='midpri') & (q.ST=='R')]\n",
    "\n",
    "# print(q[['JOBID', 'ST', 'ACCOUNT', 'USER', 'NODES']])\n",
    "\n",
    "# for j in list(q.JOBID):\n",
    "#     print(f\"Cancelling job {j}\")\n",
    "#     utils.get_bash_output(f\"scancel {j}\")\n",
    "    "
   ]
  },
  {
   "cell_type": "code",
   "execution_count": 46,
   "metadata": {},
   "outputs": [
    {
     "name": "stdout",
     "output_type": "stream",
     "text": [
      "    JOBID  ST ACCOUNT      USER  NODES\n",
      "9   32809  CG  midpri  yfzhuang      1\n",
      "10  32799  CG  midpri  yfzhuang      1\n",
      "Cancelling job 32809\n",
      "Cancelling job 32799\n"
     ]
    }
   ],
   "source": []
  },
  {
   "cell_type": "code",
   "execution_count": 17,
   "metadata": {},
   "outputs": [
    {
     "name": "stdout",
     "output_type": "stream",
     "text": [
      "   JOBID ST ACCOUNT      USER  NODES\n",
      "4  31408  R  midpri  tomfujii      1\n",
      "5  31407  R  midpri  tomfujii      1\n",
      "Cancelling job 31408\n",
      "Cancelling job 31407\n"
     ]
    }
   ],
   "source": [
    "q = sl.get_queue()\n",
    "q = q[q.ACCOUNT.isin(['ar-ai-midpri', 'ar-ai-lowpri', 'all', 'midpri'])]\n",
    "\n",
    "print(q[['JOBID', 'ST', 'ACCOUNT', 'USER', 'NODES']])\n",
    "for j in list(q.JOBID):\n",
    "    print(f\"Cancelling job {j}\")\n",
    "    utils.get_bash_output(f\"scancel {j}\")"
   ]
  },
  {
   "cell_type": "code",
   "execution_count": 73,
   "metadata": {},
   "outputs": [
    {
     "data": {
      "text/html": [
       "<div>\n",
       "<style scoped>\n",
       "    .dataframe tbody tr th:only-of-type {\n",
       "        vertical-align: middle;\n",
       "    }\n",
       "\n",
       "    .dataframe tbody tr th {\n",
       "        vertical-align: top;\n",
       "    }\n",
       "\n",
       "    .dataframe thead th {\n",
       "        text-align: right;\n",
       "    }\n",
       "</style>\n",
       "<table border=\"1\" class=\"dataframe\">\n",
       "  <thead>\n",
       "    <tr style=\"text-align: right;\">\n",
       "      <th></th>\n",
       "      <th>JOBID</th>\n",
       "      <th>ACCOUNT</th>\n",
       "      <th>NAME</th>\n",
       "      <th>USER</th>\n",
       "      <th>ST</th>\n",
       "      <th>START_TIME</th>\n",
       "      <th>TIME</th>\n",
       "      <th>NODES</th>\n",
       "      <th>TIME_SECS</th>\n",
       "    </tr>\n",
       "  </thead>\n",
       "  <tbody>\n",
       "    <tr>\n",
       "      <th>42</th>\n",
       "      <td>14330</td>\n",
       "      <td>ar-ai-hipri</td>\n",
       "      <td>s2_i18n</td>\n",
       "      <td>tranx</td>\n",
       "      <td>R</td>\n",
       "      <td>2024-08-22T17:49:45</td>\n",
       "      <td>1-00:54:45</td>\n",
       "      <td>64</td>\n",
       "      <td>89685</td>\n",
       "    </tr>\n",
       "    <tr>\n",
       "      <th>41</th>\n",
       "      <td>14332</td>\n",
       "      <td>ar-ai-hipri</td>\n",
       "      <td>s2_exp28</td>\n",
       "      <td>tranx</td>\n",
       "      <td>R</td>\n",
       "      <td>2024-08-22T17:23:50</td>\n",
       "      <td>1-01:20:40</td>\n",
       "      <td>128</td>\n",
       "      <td>91240</td>\n",
       "    </tr>\n",
       "    <tr>\n",
       "      <th>43</th>\n",
       "      <td>14171</td>\n",
       "      <td>ar-ai-hipri</td>\n",
       "      <td>s2_504</td>\n",
       "      <td>tranx</td>\n",
       "      <td>R</td>\n",
       "      <td>2024-08-22T00:59:10</td>\n",
       "      <td>1-17:45:20</td>\n",
       "      <td>64</td>\n",
       "      <td>150320</td>\n",
       "    </tr>\n",
       "    <tr>\n",
       "      <th>44</th>\n",
       "      <td>13932</td>\n",
       "      <td>ar-ai-hipri</td>\n",
       "      <td>bash</td>\n",
       "      <td>tranx</td>\n",
       "      <td>R</td>\n",
       "      <td>2024-08-21T19:21:55</td>\n",
       "      <td>1-23:22:35</td>\n",
       "      <td>1</td>\n",
       "      <td>170555</td>\n",
       "    </tr>\n",
       "  </tbody>\n",
       "</table>\n",
       "</div>"
      ],
      "text/plain": [
       "    JOBID      ACCOUNT      NAME   USER ST           START_TIME        TIME  \\\n",
       "42  14330  ar-ai-hipri   s2_i18n  tranx  R  2024-08-22T17:49:45  1-00:54:45   \n",
       "41  14332  ar-ai-hipri  s2_exp28  tranx  R  2024-08-22T17:23:50  1-01:20:40   \n",
       "43  14171  ar-ai-hipri    s2_504  tranx  R  2024-08-22T00:59:10  1-17:45:20   \n",
       "44  13932  ar-ai-hipri      bash  tranx  R  2024-08-21T19:21:55  1-23:22:35   \n",
       "\n",
       "    NODES  TIME_SECS  \n",
       "42     64      89685  \n",
       "41    128      91240  \n",
       "43     64     150320  \n",
       "44      1     170555  "
      ]
     },
     "execution_count": 73,
     "metadata": {},
     "output_type": "execute_result"
    }
   ],
   "source": [
    "# evic me\n",
    "q = sl.get_recent_queue('ar-ai-hipri')\n",
    "q = q[q.USER == 'tranx']\n",
    "# q = q[q.ST == 'RH']\n",
    "q\n",
    "# for _, job in q.iterrows():\n",
    "# for j in q.JOBID:\n",
    "#     if j != '12811':\n",
    "#         utils.get_bash_output(f\"scancel {j}\")\n",
    "#         print(f\"Cancel {j}\")"
   ]
  },
  {
   "cell_type": "code",
   "execution_count": 54,
   "metadata": {},
   "outputs": [
    {
     "name": "stdout",
     "output_type": "stream",
     "text": [
      "{'all': 17, 'ar-ai-hipri': 274, 'ar-ai-midpri': 2, 'ar-ai-research-interns': 3, 'ar-ai-voice-hipri': 53}\n",
      "all\n",
      "ar-ai-midpri\n"
     ]
    }
   ],
   "source": [
    "q = sl.get_queue_summary()\n",
    "running = {}\n",
    "for _, row in q.iterrows():\n",
    "    if row.ST == 'R':\n",
    "        running[row.ACCOUNT] = row.NODES\n",
    "print(running)\n",
    "\n",
    "quota = {'ar-ai-research-interns': 8,\n",
    "         'ar-ai-voice-hipri': 50, 'ar-ai-hipri': 400}\n",
    "\n",
    "evict_ids = {}\n",
    "for acc in running:\n",
    "    if acc not in quota:  # quota = 0\n",
    "        print(acc)"
   ]
  },
  {
   "cell_type": "code",
   "execution_count": 30,
   "metadata": {},
   "outputs": [
    {
     "data": {
      "text/html": [
       "<div>\n",
       "<style scoped>\n",
       "    .dataframe tbody tr th:only-of-type {\n",
       "        vertical-align: middle;\n",
       "    }\n",
       "\n",
       "    .dataframe tbody tr th {\n",
       "        vertical-align: top;\n",
       "    }\n",
       "\n",
       "    .dataframe thead th {\n",
       "        text-align: right;\n",
       "    }\n",
       "</style>\n",
       "<table border=\"1\" class=\"dataframe\">\n",
       "  <thead>\n",
       "    <tr style=\"text-align: right;\">\n",
       "      <th></th>\n",
       "      <th>ACCOUNT</th>\n",
       "      <th>ST</th>\n",
       "      <th>NODES</th>\n",
       "    </tr>\n",
       "  </thead>\n",
       "  <tbody>\n",
       "    <tr>\n",
       "      <th>0</th>\n",
       "      <td>all</td>\n",
       "      <td>R</td>\n",
       "      <td>17</td>\n",
       "    </tr>\n",
       "    <tr>\n",
       "      <th>1</th>\n",
       "      <td>ar-ai-hipri</td>\n",
       "      <td>R</td>\n",
       "      <td>280</td>\n",
       "    </tr>\n",
       "    <tr>\n",
       "      <th>2</th>\n",
       "      <td>ar-ai-midpri</td>\n",
       "      <td>R</td>\n",
       "      <td>2</td>\n",
       "    </tr>\n",
       "    <tr>\n",
       "      <th>3</th>\n",
       "      <td>ar-ai-research-interns</td>\n",
       "      <td>R</td>\n",
       "      <td>3</td>\n",
       "    </tr>\n",
       "    <tr>\n",
       "      <th>4</th>\n",
       "      <td>ar-ai-voice-hipri</td>\n",
       "      <td>PD</td>\n",
       "      <td>94</td>\n",
       "    </tr>\n",
       "    <tr>\n",
       "      <th>5</th>\n",
       "      <td>ar-ai-voice-hipri</td>\n",
       "      <td>R</td>\n",
       "      <td>53</td>\n",
       "    </tr>\n",
       "  </tbody>\n",
       "</table>\n",
       "</div>"
      ],
      "text/plain": [
       "                  ACCOUNT  ST  NODES\n",
       "0                     all   R     17\n",
       "1             ar-ai-hipri   R    280\n",
       "2            ar-ai-midpri   R      2\n",
       "3  ar-ai-research-interns   R      3\n",
       "4       ar-ai-voice-hipri  PD     94\n",
       "5       ar-ai-voice-hipri   R     53"
      ]
     },
     "execution_count": 30,
     "metadata": {},
     "output_type": "execute_result"
    }
   ],
   "source": [
    "q_summary = q.groupby(['ACCOUNT', 'ST']).aggregate(\n",
    "    {'NODES': 'sum'}).reset_index()\n",
    "q_summary"
   ]
  },
  {
   "cell_type": "markdown",
   "metadata": {},
   "source": [
    "# Pretrain"
   ]
  },
  {
   "cell_type": "code",
   "execution_count": 48,
   "metadata": {},
   "outputs": [
    {
     "name": "stdout",
     "output_type": "stream",
     "text": [
      "sbatch --parsable --job-name=test --nodes=2 --ntasks=2 /fsx_0/user/tranx/experiments/llm_mm_aligner/base_pretrain_MM9_70B_sbatch.sh a b\n",
      "9659\n",
      "\n"
     ]
    }
   ],
   "source": [
    "MM9_CONF_DIR = \"/fsx_0/user/tranx/experiments/llm_mm_aligner/stage1_mm9\"\n",
    "envvar = {\n",
    "    \"NUM\": 7,\n",
    "    \"JSON_CONFIG\": f\"fbl_pretrain_MM9_70B_Llama31_336px_2nodes.json\",\n",
    "    # \"CONDA_ENV\": \"aligner_v7\",\n",
    "}\n",
    "\n",
    "sbatch_base = \"/fsx_0/user/tranx/experiments/llm_mm_aligner/base_pretrain_MM9_70B_sbatch.sh\"\n",
    "sbatch_overwrite = {\n",
    "    \"job-name\": \"test\",\n",
    "    \"nodes\": 2,\n",
    "    \"ntasks\": 2\n",
    "}\n",
    "\n",
    "MM9_CONF_DIR = \"/fsx_0/user/tranx/experiments/llm_mm_aligner/stage1_mm9\"\n",
    "JSON_CONFIG = f\"{MM9_CONF_DIR}/xxxfbl_pretrain_MM9_70B_Llama31_336px_2nodes.json\"\n",
    "ALIGNER_PARENT_DIR = \"/fsx_0/user/tranx\"\n",
    "\n",
    "envvar_string = f\"{JSON_CONFIG} {ALIGNER_PARENT_DIR}\"\n",
    "\n",
    "sbatch_vars_string = []\n",
    "for k, v in sbatch_overwrite.items():\n",
    "    sbatch_vars_string.append(f\"--{k}={v}\")\n",
    "sbatch_vars_string = ' '.join(sbatch_vars_string)\n",
    "\n",
    "# cmd = f'sbatch --parsable {sbatch_vars_string} {sbatch_base} {envvar_string}'\n",
    "cmd = f'sbatch --parsable {sbatch_vars_string} {sbatch_base} a b'\n",
    "print(cmd)\n",
    "\n",
    "job_id = utils.get_bash_output(cmd, print_output=True)\n",
    "job_id = int(job_id)"
   ]
  },
  {
   "cell_type": "code",
   "execution_count": 29,
   "metadata": {},
   "outputs": [
    {
     "name": "stdout",
     "output_type": "stream",
     "text": [
      "/var/spool/slurmd/job09402/slurm_script: line 23: conda: command not found\n",
      "/var/spool/slurmd/job09402/slurm_script: line 24: conda: command not found\n",
      "Using conda environment:\n",
      "Error: CONDA_DEFAULT_ENV is not set to aligner_v7\n",
      "^C\n"
     ]
    }
   ],
   "source": [
    "!tail -f /fsx_0/user/tranx/output/slurm_logs/output_9402.txt"
   ]
  },
  {
   "cell_type": "markdown",
   "metadata": {},
   "source": [
    "# Test trains"
   ]
  },
  {
   "cell_type": "code",
   "execution_count": null,
   "metadata": {},
   "outputs": [],
   "source": []
  },
  {
   "cell_type": "markdown",
   "metadata": {},
   "source": [
    "# Stage 2"
   ]
  }
 ],
 "metadata": {
  "kernelspec": {
   "display_name": "aws",
   "language": "python",
   "name": "python3"
  },
  "language_info": {
   "codemirror_mode": {
    "name": "ipython",
    "version": 3
   },
   "file_extension": ".py",
   "mimetype": "text/x-python",
   "name": "python",
   "nbconvert_exporter": "python",
   "pygments_lexer": "ipython3",
   "version": "3.11.9"
  }
 },
 "nbformat": 4,
 "nbformat_minor": 2
}
