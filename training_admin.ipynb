{
 "cells": [
  {
   "cell_type": "code",
   "execution_count": 6,
   "metadata": {},
   "outputs": [],
   "source": [
    "%load_ext autoreload\n",
    "%autoreload 2\n",
    "import sys \n",
    "import plotly.express as px\n",
    "import plotly.graph_objects as go\n",
    "import re\n",
    "import time\n",
    "\n",
    "import utils\n",
    "from slurm import SlurmClient"
   ]
  },
  {
   "cell_type": "markdown",
   "metadata": {},
   "source": [
    "# Slurm Queue"
   ]
  },
  {
   "cell_type": "code",
   "execution_count": 11,
   "metadata": {},
   "outputs": [
    {
     "name": "stdout",
     "output_type": "stream",
     "text": [
      "PARTITION AVAIL  TIMELIMIT  NODES  STATE NODELIST\n",
      "cpu          up 7-00:00:00      1  down* cpu-c7i12xlarge-1\n",
      "cpu          up 7-00:00:00      1   idle cpu-c7i12xlarge-0\n",
      "q1*          up 7-00:00:00      1  comp* h100-st-p548xlarge-244\n",
      "q1*          up 7-00:00:00      1  idle* h100-st-p548xlarge-285\n",
      "q1*          up 7-00:00:00     23  down* h100-st-p548xlarge-[0,12,52,56-57,164,171-172,198,229-230,233-234,240-241,243,248,251,265,270,297,359,388]\n",
      "q1*          up 7-00:00:00      4   comp h100-st-p548xlarge-[26,231,247,390]\n",
      "q1*          up 7-00:00:00     13  drain h100-st-p548xlarge-[150-161,354]\n",
      "q1*          up 7-00:00:00     33    mix h100-st-p548xlarge-[1,18-22,27-29,35-39,53-55,85-86,99-103,138,144,163,217,263,423-426]\n",
      "q1*          up 7-00:00:00    352  alloc h100-st-p548xlarge-[3-11,13-17,23-25,30-34,40-51,58-84,87-97,104-137,139-143,145-149,162,165-170,173-197,199-215,218-226,228,235-239,245-246,249-250,252-262,264,266-269,271-284,286-296,298-353,355-358,360-387,389,391-422,431-436]\n"
     ]
    }
   ],
   "source": [
    "!sinfo"
   ]
  },
  {
   "cell_type": "code",
   "execution_count": 4,
   "metadata": {},
   "outputs": [
    {
     "data": {
      "text/plain": [
       "0.992"
      ]
     },
     "execution_count": 4,
     "metadata": {},
     "output_type": "execute_result"
    }
   ],
   "source": [
    "round(99.22/100, 3)"
   ]
  },
  {
   "cell_type": "code",
   "execution_count": 18,
   "metadata": {},
   "outputs": [
    {
     "name": "stdout",
     "output_type": "stream",
     "text": [
      "Total: 479\n"
     ]
    },
    {
     "data": {
      "text/html": [
       "<div>\n",
       "<style scoped>\n",
       "    .dataframe tbody tr th:only-of-type {\n",
       "        vertical-align: middle;\n",
       "    }\n",
       "\n",
       "    .dataframe tbody tr th {\n",
       "        vertical-align: top;\n",
       "    }\n",
       "\n",
       "    .dataframe thead th {\n",
       "        text-align: right;\n",
       "    }\n",
       "</style>\n",
       "<table border=\"1\" class=\"dataframe\">\n",
       "  <thead>\n",
       "    <tr style=\"text-align: right;\">\n",
       "      <th></th>\n",
       "      <th>ACCOUNT</th>\n",
       "      <th>ST</th>\n",
       "      <th>NODES</th>\n",
       "    </tr>\n",
       "  </thead>\n",
       "  <tbody>\n",
       "    <tr>\n",
       "      <th>0</th>\n",
       "      <td>ar-ai-hipri</td>\n",
       "      <td>PD</td>\n",
       "      <td>128</td>\n",
       "    </tr>\n",
       "    <tr>\n",
       "      <th>1</th>\n",
       "      <td>ar-ai-hipri</td>\n",
       "      <td>R</td>\n",
       "      <td>296</td>\n",
       "    </tr>\n",
       "    <tr>\n",
       "      <th>2</th>\n",
       "      <td>ar-ai-research-interns</td>\n",
       "      <td>R</td>\n",
       "      <td>4</td>\n",
       "    </tr>\n",
       "    <tr>\n",
       "      <th>3</th>\n",
       "      <td>ar-ai-voice-hipri</td>\n",
       "      <td>R</td>\n",
       "      <td>51</td>\n",
       "    </tr>\n",
       "  </tbody>\n",
       "</table>\n",
       "</div>"
      ],
      "text/plain": [
       "                  ACCOUNT  ST  NODES\n",
       "0             ar-ai-hipri  PD    128\n",
       "1             ar-ai-hipri   R    296\n",
       "2  ar-ai-research-interns   R      4\n",
       "3       ar-ai-voice-hipri   R     51"
      ]
     },
     "execution_count": 18,
     "metadata": {},
     "output_type": "execute_result"
    }
   ],
   "source": [
    "sl = SlurmClient()\n",
    "q = sl.get_queue_summary()\n",
    "\n",
    "print(\"Total:\", q.NODES.sum())\n",
    "q"
   ]
  },
  {
   "cell_type": "code",
   "execution_count": 4,
   "metadata": {},
   "outputs": [
    {
     "data": {
      "text/html": [
       "<div>\n",
       "<style scoped>\n",
       "    .dataframe tbody tr th:only-of-type {\n",
       "        vertical-align: middle;\n",
       "    }\n",
       "\n",
       "    .dataframe tbody tr th {\n",
       "        vertical-align: top;\n",
       "    }\n",
       "\n",
       "    .dataframe thead th {\n",
       "        text-align: right;\n",
       "    }\n",
       "</style>\n",
       "<table border=\"1\" class=\"dataframe\">\n",
       "  <thead>\n",
       "    <tr style=\"text-align: right;\">\n",
       "      <th></th>\n",
       "      <th>JOBID</th>\n",
       "      <th>ACCOUNT</th>\n",
       "      <th>NAME</th>\n",
       "      <th>USER</th>\n",
       "      <th>ST</th>\n",
       "      <th>START_TIME</th>\n",
       "      <th>TIME</th>\n",
       "      <th>NODES</th>\n",
       "      <th>TIME_SECS</th>\n",
       "    </tr>\n",
       "  </thead>\n",
       "  <tbody>\n",
       "  </tbody>\n",
       "</table>\n",
       "</div>"
      ],
      "text/plain": [
       "Empty DataFrame\n",
       "Columns: [JOBID, ACCOUNT, NAME, USER, ST, START_TIME, TIME, NODES, TIME_SECS]\n",
       "Index: []"
      ]
     },
     "execution_count": 4,
     "metadata": {},
     "output_type": "execute_result"
    }
   ],
   "source": [
    "sl.get_recent_queue('all')"
   ]
  },
  {
   "cell_type": "code",
   "execution_count": 42,
   "metadata": {},
   "outputs": [
    {
     "data": {
      "text/html": [
       "<div>\n",
       "<style scoped>\n",
       "    .dataframe tbody tr th:only-of-type {\n",
       "        vertical-align: middle;\n",
       "    }\n",
       "\n",
       "    .dataframe tbody tr th {\n",
       "        vertical-align: top;\n",
       "    }\n",
       "\n",
       "    .dataframe thead th {\n",
       "        text-align: right;\n",
       "    }\n",
       "</style>\n",
       "<table border=\"1\" class=\"dataframe\">\n",
       "  <thead>\n",
       "    <tr style=\"text-align: right;\">\n",
       "      <th></th>\n",
       "      <th>JOBID</th>\n",
       "      <th>ACCOUNT</th>\n",
       "      <th>NAME</th>\n",
       "      <th>USER</th>\n",
       "      <th>ST</th>\n",
       "      <th>START_TIME</th>\n",
       "      <th>TIME</th>\n",
       "      <th>NODES</th>\n",
       "      <th>TIME_SECS</th>\n",
       "    </tr>\n",
       "  </thead>\n",
       "  <tbody>\n",
       "    <tr>\n",
       "      <th>27</th>\n",
       "      <td>9294</td>\n",
       "      <td>ar-ai-research-interns</td>\n",
       "      <td>jupyter</td>\n",
       "      <td>imzyc</td>\n",
       "      <td>R</td>\n",
       "      <td>2024-08-10T08:11:10</td>\n",
       "      <td>2-11:08:28</td>\n",
       "      <td>1</td>\n",
       "      <td>212908</td>\n",
       "    </tr>\n",
       "    <tr>\n",
       "      <th>28</th>\n",
       "      <td>8363</td>\n",
       "      <td>ar-ai-research-interns</td>\n",
       "      <td>bash</td>\n",
       "      <td>yfzhuang</td>\n",
       "      <td>R</td>\n",
       "      <td>2024-08-09T18:21:10</td>\n",
       "      <td>3-00:58:28</td>\n",
       "      <td>1</td>\n",
       "      <td>262708</td>\n",
       "    </tr>\n",
       "    <tr>\n",
       "      <th>29</th>\n",
       "      <td>8364</td>\n",
       "      <td>ar-ai-research-interns</td>\n",
       "      <td>bash</td>\n",
       "      <td>yfzhuang</td>\n",
       "      <td>R</td>\n",
       "      <td>2024-08-09T18:21:10</td>\n",
       "      <td>3-00:58:28</td>\n",
       "      <td>1</td>\n",
       "      <td>262708</td>\n",
       "    </tr>\n",
       "  </tbody>\n",
       "</table>\n",
       "</div>"
      ],
      "text/plain": [
       "   JOBID                 ACCOUNT     NAME      USER ST           START_TIME  \\\n",
       "27  9294  ar-ai-research-interns  jupyter     imzyc  R  2024-08-10T08:11:10   \n",
       "28  8363  ar-ai-research-interns     bash  yfzhuang  R  2024-08-09T18:21:10   \n",
       "29  8364  ar-ai-research-interns     bash  yfzhuang  R  2024-08-09T18:21:10   \n",
       "\n",
       "          TIME  NODES  TIME_SECS  \n",
       "27  2-11:08:28      1     212908  \n",
       "28  3-00:58:28      1     262708  \n",
       "29  3-00:58:28      1     262708  "
      ]
     },
     "execution_count": 42,
     "metadata": {},
     "output_type": "execute_result"
    }
   ],
   "source": [
    "sl.get_recent_queue('ar-ai-research-interns')"
   ]
  },
  {
   "cell_type": "code",
   "execution_count": 5,
   "metadata": {},
   "outputs": [
    {
     "data": {
      "text/html": [
       "<div>\n",
       "<style scoped>\n",
       "    .dataframe tbody tr th:only-of-type {\n",
       "        vertical-align: middle;\n",
       "    }\n",
       "\n",
       "    .dataframe tbody tr th {\n",
       "        vertical-align: top;\n",
       "    }\n",
       "\n",
       "    .dataframe thead th {\n",
       "        text-align: right;\n",
       "    }\n",
       "</style>\n",
       "<table border=\"1\" class=\"dataframe\">\n",
       "  <thead>\n",
       "    <tr style=\"text-align: right;\">\n",
       "      <th></th>\n",
       "      <th>JOBID</th>\n",
       "      <th>ACCOUNT</th>\n",
       "      <th>NAME</th>\n",
       "      <th>USER</th>\n",
       "      <th>ST</th>\n",
       "      <th>START_TIME</th>\n",
       "      <th>TIME</th>\n",
       "      <th>NODES</th>\n",
       "      <th>TIME_SECS</th>\n",
       "    </tr>\n",
       "  </thead>\n",
       "  <tbody>\n",
       "    <tr>\n",
       "      <th>64</th>\n",
       "      <td>12704</td>\n",
       "      <td>ar-ai-voice-hipri</td>\n",
       "      <td>bash</td>\n",
       "      <td>arashe</td>\n",
       "      <td>R</td>\n",
       "      <td>2024-08-19T23:35:13</td>\n",
       "      <td>12:50:54</td>\n",
       "      <td>1</td>\n",
       "      <td>46254</td>\n",
       "    </tr>\n",
       "    <tr>\n",
       "      <th>62</th>\n",
       "      <td>11486</td>\n",
       "      <td>ar-ai-voice-hipri</td>\n",
       "      <td>train2</td>\n",
       "      <td>liuyanga</td>\n",
       "      <td>R</td>\n",
       "      <td>2024-08-17T19:30:59</td>\n",
       "      <td>2-16:55:08</td>\n",
       "      <td>1</td>\n",
       "      <td>233708</td>\n",
       "    </tr>\n",
       "    <tr>\n",
       "      <th>63</th>\n",
       "      <td>11474</td>\n",
       "      <td>ar-ai-voice-hipri</td>\n",
       "      <td>train1</td>\n",
       "      <td>liuyanga</td>\n",
       "      <td>R</td>\n",
       "      <td>2024-08-17T18:50:01</td>\n",
       "      <td>2-17:36:06</td>\n",
       "      <td>1</td>\n",
       "      <td>236166</td>\n",
       "    </tr>\n",
       "  </tbody>\n",
       "</table>\n",
       "</div>"
      ],
      "text/plain": [
       "    JOBID            ACCOUNT    NAME      USER ST           START_TIME  \\\n",
       "64  12704  ar-ai-voice-hipri    bash    arashe  R  2024-08-19T23:35:13   \n",
       "62  11486  ar-ai-voice-hipri  train2  liuyanga  R  2024-08-17T19:30:59   \n",
       "63  11474  ar-ai-voice-hipri  train1  liuyanga  R  2024-08-17T18:50:01   \n",
       "\n",
       "          TIME  NODES  TIME_SECS  \n",
       "64    12:50:54      1      46254  \n",
       "62  2-16:55:08      1     233708  \n",
       "63  2-17:36:06      1     236166  "
      ]
     },
     "execution_count": 5,
     "metadata": {},
     "output_type": "execute_result"
    }
   ],
   "source": [
    "sl.get_recent_queue('ar-ai-voice-hipri')"
   ]
  },
  {
   "cell_type": "code",
   "execution_count": 17,
   "metadata": {},
   "outputs": [
    {
     "data": {
      "text/plain": [
       "''"
      ]
     },
     "execution_count": 17,
     "metadata": {},
     "output_type": "execute_result"
    }
   ],
   "source": [
    "utils.get_bash_output(\"scancel 13008\")"
   ]
  },
  {
   "cell_type": "markdown",
   "metadata": {},
   "source": [
    "# Evict"
   ]
  },
  {
   "cell_type": "code",
   "execution_count": 21,
   "metadata": {},
   "outputs": [
    {
     "name": "stdout",
     "output_type": "stream",
     "text": [
      "    JOBID       ACCOUNT      USER  NODES\n",
      "5   13854  ar-ai-midpri  yfzhuang      4\n",
      "29  13833   ar-ai-hipri     imzyc      4\n",
      "30  13844   ar-ai-hipri     imzyc     12\n",
      "31  13845   ar-ai-hipri     imzyc     32\n",
      "32  13846   ar-ai-hipri     imzyc     16\n"
     ]
    }
   ],
   "source": [
    "# evic interns\n",
    "interns = ['yfzhuang', 'jiuhai', 'imzyc']\n",
    "sl = SlurmClient()\n",
    "q = sl.get_queue()\n",
    "\n",
    "q = q[q.USER.isin(interns)]\n",
    "q = q[~q.ACCOUNT.isin(['ar-ai-research-interns', 'ar-ai-voice-hipri'])]\n",
    "\n",
    "print(q[['JOBID', 'ACCOUNT', 'USER', 'NODES']])"
   ]
  },
  {
   "cell_type": "code",
   "execution_count": 22,
   "metadata": {},
   "outputs": [
    {
     "name": "stdout",
     "output_type": "stream",
     "text": [
      "Cancelling job 13854\n",
      "Cancelling job 13833\n",
      "Cancelling job 13844\n",
      "Cancelling job 13845\n",
      "Cancelling job 13846\n"
     ]
    }
   ],
   "source": [
    "for j in list(q.JOBID):\n",
    "    print(f\"Cancelling job {j}\")\n",
    "    utils.get_bash_output(f\"scancel {j}\")"
   ]
  },
  {
   "cell_type": "code",
   "execution_count": 20,
   "metadata": {},
   "outputs": [
    {
     "name": "stdout",
     "output_type": "stream",
     "text": [
      "Cancel 13233\n",
      "Cancel 13232\n",
      "Cancel 13227\n",
      "Cancel 13230\n",
      "Cancel 13228\n",
      "Cancel 13226\n",
      "Cancel 13229\n",
      "Cancel 13231\n",
      "Cancel 13223\n",
      "Cancel 13222\n",
      "Cancel 13225\n",
      "Cancel 13224\n",
      "Cancel 13221\n",
      "Cancel 13216\n",
      "Cancel 13217\n",
      "Cancel 13218\n",
      "Cancel 13220\n",
      "Cancel 13219\n",
      "Cancel 13215\n"
     ]
    }
   ],
   "source": [
    "# evic me\n",
    "# q = sl.get_recent_queue('ar-ai-hipri')\n",
    "# q = q[q.USER == 'tranx']\n",
    "# for j in q.JOBID:\n",
    "#     if j != '12811':\n",
    "#         utils.get_bash_output(f\"scancel {j}\")\n",
    "#         print(f\"Cancel {j}\")"
   ]
  },
  {
   "cell_type": "code",
   "execution_count": 54,
   "metadata": {},
   "outputs": [
    {
     "name": "stdout",
     "output_type": "stream",
     "text": [
      "{'all': 17, 'ar-ai-hipri': 274, 'ar-ai-midpri': 2, 'ar-ai-research-interns': 3, 'ar-ai-voice-hipri': 53}\n",
      "all\n",
      "ar-ai-midpri\n"
     ]
    }
   ],
   "source": [
    "q = sl.get_queue_summary()\n",
    "running = {}\n",
    "for _, row in q.iterrows():\n",
    "    if row.ST == 'R':\n",
    "        running[row.ACCOUNT] = row.NODES\n",
    "print(running)\n",
    "\n",
    "quota = {'ar-ai-research-interns': 8,\n",
    "         'ar-ai-voice-hipri': 50, 'ar-ai-hipri': 400}\n",
    "\n",
    "evict_ids = {}\n",
    "for acc in running:\n",
    "    if acc not in quota:  # quota = 0\n",
    "        print(acc)"
   ]
  },
  {
   "cell_type": "code",
   "execution_count": 30,
   "metadata": {},
   "outputs": [
    {
     "data": {
      "text/html": [
       "<div>\n",
       "<style scoped>\n",
       "    .dataframe tbody tr th:only-of-type {\n",
       "        vertical-align: middle;\n",
       "    }\n",
       "\n",
       "    .dataframe tbody tr th {\n",
       "        vertical-align: top;\n",
       "    }\n",
       "\n",
       "    .dataframe thead th {\n",
       "        text-align: right;\n",
       "    }\n",
       "</style>\n",
       "<table border=\"1\" class=\"dataframe\">\n",
       "  <thead>\n",
       "    <tr style=\"text-align: right;\">\n",
       "      <th></th>\n",
       "      <th>ACCOUNT</th>\n",
       "      <th>ST</th>\n",
       "      <th>NODES</th>\n",
       "    </tr>\n",
       "  </thead>\n",
       "  <tbody>\n",
       "    <tr>\n",
       "      <th>0</th>\n",
       "      <td>all</td>\n",
       "      <td>R</td>\n",
       "      <td>17</td>\n",
       "    </tr>\n",
       "    <tr>\n",
       "      <th>1</th>\n",
       "      <td>ar-ai-hipri</td>\n",
       "      <td>R</td>\n",
       "      <td>280</td>\n",
       "    </tr>\n",
       "    <tr>\n",
       "      <th>2</th>\n",
       "      <td>ar-ai-midpri</td>\n",
       "      <td>R</td>\n",
       "      <td>2</td>\n",
       "    </tr>\n",
       "    <tr>\n",
       "      <th>3</th>\n",
       "      <td>ar-ai-research-interns</td>\n",
       "      <td>R</td>\n",
       "      <td>3</td>\n",
       "    </tr>\n",
       "    <tr>\n",
       "      <th>4</th>\n",
       "      <td>ar-ai-voice-hipri</td>\n",
       "      <td>PD</td>\n",
       "      <td>94</td>\n",
       "    </tr>\n",
       "    <tr>\n",
       "      <th>5</th>\n",
       "      <td>ar-ai-voice-hipri</td>\n",
       "      <td>R</td>\n",
       "      <td>53</td>\n",
       "    </tr>\n",
       "  </tbody>\n",
       "</table>\n",
       "</div>"
      ],
      "text/plain": [
       "                  ACCOUNT  ST  NODES\n",
       "0                     all   R     17\n",
       "1             ar-ai-hipri   R    280\n",
       "2            ar-ai-midpri   R      2\n",
       "3  ar-ai-research-interns   R      3\n",
       "4       ar-ai-voice-hipri  PD     94\n",
       "5       ar-ai-voice-hipri   R     53"
      ]
     },
     "execution_count": 30,
     "metadata": {},
     "output_type": "execute_result"
    }
   ],
   "source": [
    "q_summary = q.groupby(['ACCOUNT', 'ST']).aggregate(\n",
    "    {'NODES': 'sum'}).reset_index()\n",
    "q_summary"
   ]
  },
  {
   "cell_type": "markdown",
   "metadata": {},
   "source": [
    "# Pretrain"
   ]
  },
  {
   "cell_type": "code",
   "execution_count": 48,
   "metadata": {},
   "outputs": [
    {
     "name": "stdout",
     "output_type": "stream",
     "text": [
      "sbatch --parsable --job-name=test --nodes=2 --ntasks=2 /fsx_0/user/tranx/experiments/llm_mm_aligner/base_pretrain_MM9_70B_sbatch.sh a b\n",
      "9659\n",
      "\n"
     ]
    }
   ],
   "source": [
    "MM9_CONF_DIR = \"/fsx_0/user/tranx/experiments/llm_mm_aligner/stage1_mm9\"\n",
    "envvar = {\n",
    "    \"NUM\": 7,\n",
    "    \"JSON_CONFIG\": f\"fbl_pretrain_MM9_70B_Llama31_336px_2nodes.json\",\n",
    "    # \"CONDA_ENV\": \"aligner_v7\",\n",
    "}\n",
    "\n",
    "sbatch_base = \"/fsx_0/user/tranx/experiments/llm_mm_aligner/base_pretrain_MM9_70B_sbatch.sh\"\n",
    "sbatch_overwrite = {\n",
    "    \"job-name\": \"test\",\n",
    "    \"nodes\": 2,\n",
    "    \"ntasks\": 2\n",
    "}\n",
    "\n",
    "MM9_CONF_DIR = \"/fsx_0/user/tranx/experiments/llm_mm_aligner/stage1_mm9\"\n",
    "JSON_CONFIG = f\"{MM9_CONF_DIR}/xxxfbl_pretrain_MM9_70B_Llama31_336px_2nodes.json\"\n",
    "ALIGNER_PARENT_DIR = \"/fsx_0/user/tranx\"\n",
    "\n",
    "envvar_string = f\"{JSON_CONFIG} {ALIGNER_PARENT_DIR}\"\n",
    "\n",
    "sbatch_vars_string = []\n",
    "for k, v in sbatch_overwrite.items():\n",
    "    sbatch_vars_string.append(f\"--{k}={v}\")\n",
    "sbatch_vars_string = ' '.join(sbatch_vars_string)\n",
    "\n",
    "# cmd = f'sbatch --parsable {sbatch_vars_string} {sbatch_base} {envvar_string}'\n",
    "cmd = f'sbatch --parsable {sbatch_vars_string} {sbatch_base} a b'\n",
    "print(cmd)\n",
    "\n",
    "job_id = utils.get_bash_output(cmd, print_output=True)\n",
    "job_id = int(job_id)"
   ]
  },
  {
   "cell_type": "code",
   "execution_count": 29,
   "metadata": {},
   "outputs": [
    {
     "name": "stdout",
     "output_type": "stream",
     "text": [
      "/var/spool/slurmd/job09402/slurm_script: line 23: conda: command not found\n",
      "/var/spool/slurmd/job09402/slurm_script: line 24: conda: command not found\n",
      "Using conda environment:\n",
      "Error: CONDA_DEFAULT_ENV is not set to aligner_v7\n",
      "^C\n"
     ]
    }
   ],
   "source": [
    "!tail -f /fsx_0/user/tranx/output/slurm_logs/output_9402.txt"
   ]
  },
  {
   "cell_type": "markdown",
   "metadata": {},
   "source": [
    "# Test trains"
   ]
  },
  {
   "cell_type": "code",
   "execution_count": null,
   "metadata": {},
   "outputs": [],
   "source": []
  },
  {
   "cell_type": "markdown",
   "metadata": {},
   "source": [
    "# Stage 2"
   ]
  }
 ],
 "metadata": {
  "kernelspec": {
   "display_name": "aws",
   "language": "python",
   "name": "python3"
  },
  "language_info": {
   "codemirror_mode": {
    "name": "ipython",
    "version": 3
   },
   "file_extension": ".py",
   "mimetype": "text/x-python",
   "name": "python",
   "nbconvert_exporter": "python",
   "pygments_lexer": "ipython3",
   "version": "3.11.9"
  }
 },
 "nbformat": 4,
 "nbformat_minor": 2
}
