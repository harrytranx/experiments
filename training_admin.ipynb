{
 "cells": [
  {
   "cell_type": "code",
   "execution_count": 1,
   "metadata": {},
   "outputs": [],
   "source": [
    "%load_ext autoreload\n",
    "%autoreload 2\n",
    "import sys \n",
    "import plotly.express as px\n",
    "import plotly.graph_objects as go\n",
    "import re\n",
    "import time\n",
    "\n",
    "import utils\n",
    "from slurm import SlurmClient"
   ]
  },
  {
   "cell_type": "markdown",
   "metadata": {},
   "source": [
    "# Slurm Queue"
   ]
  },
  {
   "cell_type": "code",
   "execution_count": 45,
   "metadata": {},
   "outputs": [
    {
     "name": "stdout",
     "output_type": "stream",
     "text": [
      "PARTITION AVAIL  TIMELIMIT  NODES  STATE NODELIST\n",
      "q1*          up 7-00:00:00      1   comp h100-st-p548xlarge-346\n",
      "q1*          up 7-00:00:00      3   plnd h100-st-p548xlarge-[36,194,434]\n",
      "q1*          up 7-00:00:00      9  down* h100-st-p548xlarge-[173,211,317,345,391,413,432,445,448]\n",
      "q1*          up 7-00:00:00      1   drng h100-st-p548xlarge-38\n",
      "q1*          up 7-00:00:00      5    mix h100-st-p548xlarge-[0,43,45,80,175]\n",
      "q1*          up 7-00:00:00    431  alloc h100-st-p548xlarge-[1-35,37,39-42,44,46-79,81-172,174,176-193,195-210,212-316,318-344,347-390,392-412,414-431,433,435-444,446-447,449]\n"
     ]
    }
   ],
   "source": [
    "!sinfo"
   ]
  },
  {
   "cell_type": "code",
   "execution_count": 46,
   "metadata": {},
   "outputs": [
    {
     "data": {
      "text/html": [
       "<div>\n",
       "<style scoped>\n",
       "    .dataframe tbody tr th:only-of-type {\n",
       "        vertical-align: middle;\n",
       "    }\n",
       "\n",
       "    .dataframe tbody tr th {\n",
       "        vertical-align: top;\n",
       "    }\n",
       "\n",
       "    .dataframe thead th {\n",
       "        text-align: right;\n",
       "    }\n",
       "</style>\n",
       "<table border=\"1\" class=\"dataframe\">\n",
       "  <thead>\n",
       "    <tr style=\"text-align: right;\">\n",
       "      <th></th>\n",
       "      <th>ACCOUNT</th>\n",
       "      <th>ST</th>\n",
       "      <th>NODES</th>\n",
       "    </tr>\n",
       "  </thead>\n",
       "  <tbody>\n",
       "    <tr>\n",
       "      <th>0</th>\n",
       "      <td>all</td>\n",
       "      <td>PD</td>\n",
       "      <td>16</td>\n",
       "    </tr>\n",
       "    <tr>\n",
       "      <th>1</th>\n",
       "      <td>ar-ai-hipri</td>\n",
       "      <td>PD</td>\n",
       "      <td>34</td>\n",
       "    </tr>\n",
       "    <tr>\n",
       "      <th>2</th>\n",
       "      <td>ar-ai-hipri</td>\n",
       "      <td>R</td>\n",
       "      <td>433</td>\n",
       "    </tr>\n",
       "    <tr>\n",
       "      <th>3</th>\n",
       "      <td>ar-ai-midpri</td>\n",
       "      <td>R</td>\n",
       "      <td>1</td>\n",
       "    </tr>\n",
       "    <tr>\n",
       "      <th>4</th>\n",
       "      <td>ar-ai-research-interns</td>\n",
       "      <td>CG</td>\n",
       "      <td>1</td>\n",
       "    </tr>\n",
       "    <tr>\n",
       "      <th>5</th>\n",
       "      <td>ar-ai-research-interns</td>\n",
       "      <td>PD</td>\n",
       "      <td>16</td>\n",
       "    </tr>\n",
       "    <tr>\n",
       "      <th>6</th>\n",
       "      <td>ar-ai-research-interns</td>\n",
       "      <td>R</td>\n",
       "      <td>3</td>\n",
       "    </tr>\n",
       "    <tr>\n",
       "      <th>7</th>\n",
       "      <td>ar-ai-voice-hipri</td>\n",
       "      <td>R</td>\n",
       "      <td>1</td>\n",
       "    </tr>\n",
       "  </tbody>\n",
       "</table>\n",
       "</div>"
      ],
      "text/plain": [
       "                  ACCOUNT  ST  NODES\n",
       "0                     all  PD     16\n",
       "1             ar-ai-hipri  PD     34\n",
       "2             ar-ai-hipri   R    433\n",
       "3            ar-ai-midpri   R      1\n",
       "4  ar-ai-research-interns  CG      1\n",
       "5  ar-ai-research-interns  PD     16\n",
       "6  ar-ai-research-interns   R      3\n",
       "7       ar-ai-voice-hipri   R      1"
      ]
     },
     "execution_count": 46,
     "metadata": {},
     "output_type": "execute_result"
    }
   ],
   "source": [
    "sl = SlurmClient()\n",
    "sl.get_queue_summary()"
   ]
  },
  {
   "cell_type": "code",
   "execution_count": 43,
   "metadata": {},
   "outputs": [
    {
     "data": {
      "text/html": [
       "<div>\n",
       "<style scoped>\n",
       "    .dataframe tbody tr th:only-of-type {\n",
       "        vertical-align: middle;\n",
       "    }\n",
       "\n",
       "    .dataframe tbody tr th {\n",
       "        vertical-align: top;\n",
       "    }\n",
       "\n",
       "    .dataframe thead th {\n",
       "        text-align: right;\n",
       "    }\n",
       "</style>\n",
       "<table border=\"1\" class=\"dataframe\">\n",
       "  <thead>\n",
       "    <tr style=\"text-align: right;\">\n",
       "      <th></th>\n",
       "      <th>JOBID</th>\n",
       "      <th>ACCOUNT</th>\n",
       "      <th>NAME</th>\n",
       "      <th>USER</th>\n",
       "      <th>ST</th>\n",
       "      <th>START_TIME</th>\n",
       "      <th>TIME</th>\n",
       "      <th>NODES</th>\n",
       "      <th>TIME_SECS</th>\n",
       "    </tr>\n",
       "  </thead>\n",
       "  <tbody>\n",
       "    <tr>\n",
       "      <th>22</th>\n",
       "      <td>9476_4</td>\n",
       "      <td>all</td>\n",
       "      <td>sft-eval</td>\n",
       "      <td>jiuhai</td>\n",
       "      <td>R</td>\n",
       "      <td>2024-08-12T19:22:15</td>\n",
       "      <td>0:43</td>\n",
       "      <td>16</td>\n",
       "      <td>43</td>\n",
       "    </tr>\n",
       "  </tbody>\n",
       "</table>\n",
       "</div>"
      ],
      "text/plain": [
       "     JOBID ACCOUNT      NAME    USER ST           START_TIME  TIME  NODES  \\\n",
       "22  9476_4     all  sft-eval  jiuhai  R  2024-08-12T19:22:15  0:43     16   \n",
       "\n",
       "    TIME_SECS  \n",
       "22         43  "
      ]
     },
     "execution_count": 43,
     "metadata": {},
     "output_type": "execute_result"
    }
   ],
   "source": [
    "sl.get_recent_queue('all')"
   ]
  },
  {
   "cell_type": "code",
   "execution_count": 42,
   "metadata": {},
   "outputs": [
    {
     "data": {
      "text/html": [
       "<div>\n",
       "<style scoped>\n",
       "    .dataframe tbody tr th:only-of-type {\n",
       "        vertical-align: middle;\n",
       "    }\n",
       "\n",
       "    .dataframe tbody tr th {\n",
       "        vertical-align: top;\n",
       "    }\n",
       "\n",
       "    .dataframe thead th {\n",
       "        text-align: right;\n",
       "    }\n",
       "</style>\n",
       "<table border=\"1\" class=\"dataframe\">\n",
       "  <thead>\n",
       "    <tr style=\"text-align: right;\">\n",
       "      <th></th>\n",
       "      <th>JOBID</th>\n",
       "      <th>ACCOUNT</th>\n",
       "      <th>NAME</th>\n",
       "      <th>USER</th>\n",
       "      <th>ST</th>\n",
       "      <th>START_TIME</th>\n",
       "      <th>TIME</th>\n",
       "      <th>NODES</th>\n",
       "      <th>TIME_SECS</th>\n",
       "    </tr>\n",
       "  </thead>\n",
       "  <tbody>\n",
       "    <tr>\n",
       "      <th>27</th>\n",
       "      <td>9294</td>\n",
       "      <td>ar-ai-research-interns</td>\n",
       "      <td>jupyter</td>\n",
       "      <td>imzyc</td>\n",
       "      <td>R</td>\n",
       "      <td>2024-08-10T08:11:10</td>\n",
       "      <td>2-11:08:28</td>\n",
       "      <td>1</td>\n",
       "      <td>212908</td>\n",
       "    </tr>\n",
       "    <tr>\n",
       "      <th>28</th>\n",
       "      <td>8363</td>\n",
       "      <td>ar-ai-research-interns</td>\n",
       "      <td>bash</td>\n",
       "      <td>yfzhuang</td>\n",
       "      <td>R</td>\n",
       "      <td>2024-08-09T18:21:10</td>\n",
       "      <td>3-00:58:28</td>\n",
       "      <td>1</td>\n",
       "      <td>262708</td>\n",
       "    </tr>\n",
       "    <tr>\n",
       "      <th>29</th>\n",
       "      <td>8364</td>\n",
       "      <td>ar-ai-research-interns</td>\n",
       "      <td>bash</td>\n",
       "      <td>yfzhuang</td>\n",
       "      <td>R</td>\n",
       "      <td>2024-08-09T18:21:10</td>\n",
       "      <td>3-00:58:28</td>\n",
       "      <td>1</td>\n",
       "      <td>262708</td>\n",
       "    </tr>\n",
       "  </tbody>\n",
       "</table>\n",
       "</div>"
      ],
      "text/plain": [
       "   JOBID                 ACCOUNT     NAME      USER ST           START_TIME  \\\n",
       "27  9294  ar-ai-research-interns  jupyter     imzyc  R  2024-08-10T08:11:10   \n",
       "28  8363  ar-ai-research-interns     bash  yfzhuang  R  2024-08-09T18:21:10   \n",
       "29  8364  ar-ai-research-interns     bash  yfzhuang  R  2024-08-09T18:21:10   \n",
       "\n",
       "          TIME  NODES  TIME_SECS  \n",
       "27  2-11:08:28      1     212908  \n",
       "28  3-00:58:28      1     262708  \n",
       "29  3-00:58:28      1     262708  "
      ]
     },
     "execution_count": 42,
     "metadata": {},
     "output_type": "execute_result"
    }
   ],
   "source": [
    "sl.get_recent_queue('ar-ai-research-interns')"
   ]
  },
  {
   "cell_type": "code",
   "execution_count": 6,
   "metadata": {},
   "outputs": [
    {
     "data": {
      "text/html": [
       "<div>\n",
       "<style scoped>\n",
       "    .dataframe tbody tr th:only-of-type {\n",
       "        vertical-align: middle;\n",
       "    }\n",
       "\n",
       "    .dataframe tbody tr th {\n",
       "        vertical-align: top;\n",
       "    }\n",
       "\n",
       "    .dataframe thead th {\n",
       "        text-align: right;\n",
       "    }\n",
       "</style>\n",
       "<table border=\"1\" class=\"dataframe\">\n",
       "  <thead>\n",
       "    <tr style=\"text-align: right;\">\n",
       "      <th></th>\n",
       "      <th>JOBID</th>\n",
       "      <th>ACCOUNT</th>\n",
       "      <th>NAME</th>\n",
       "      <th>USER</th>\n",
       "      <th>ST</th>\n",
       "      <th>START_TIME</th>\n",
       "      <th>TIME</th>\n",
       "      <th>NODES</th>\n",
       "      <th>TIME_SECS</th>\n",
       "    </tr>\n",
       "  </thead>\n",
       "  <tbody>\n",
       "    <tr>\n",
       "      <th>10</th>\n",
       "      <td>7143</td>\n",
       "      <td>ar-ai-voice-hipri</td>\n",
       "      <td>bash</td>\n",
       "      <td>arashe</td>\n",
       "      <td>R</td>\n",
       "      <td>2024-08-05T23:03:47</td>\n",
       "      <td>6-15:46:30</td>\n",
       "      <td>1</td>\n",
       "      <td>575190</td>\n",
       "    </tr>\n",
       "    <tr>\n",
       "      <th>11</th>\n",
       "      <td>7123</td>\n",
       "      <td>ar-ai-voice-hipri</td>\n",
       "      <td>bash</td>\n",
       "      <td>arashe</td>\n",
       "      <td>R</td>\n",
       "      <td>2024-08-05T19:25:54</td>\n",
       "      <td>6-19:24:23</td>\n",
       "      <td>1</td>\n",
       "      <td>588263</td>\n",
       "    </tr>\n",
       "  </tbody>\n",
       "</table>\n",
       "</div>"
      ],
      "text/plain": [
       "   JOBID            ACCOUNT  NAME    USER ST           START_TIME        TIME  \\\n",
       "10  7143  ar-ai-voice-hipri  bash  arashe  R  2024-08-05T23:03:47  6-15:46:30   \n",
       "11  7123  ar-ai-voice-hipri  bash  arashe  R  2024-08-05T19:25:54  6-19:24:23   \n",
       "\n",
       "    NODES  TIME_SECS  \n",
       "10      1     575190  \n",
       "11      1     588263  "
      ]
     },
     "execution_count": 6,
     "metadata": {},
     "output_type": "execute_result"
    }
   ],
   "source": [
    "sl.get_recent_queue('ar-ai-voice-hipri')"
   ]
  },
  {
   "cell_type": "code",
   "execution_count": 54,
   "metadata": {},
   "outputs": [
    {
     "name": "stdout",
     "output_type": "stream",
     "text": [
      "{'all': 17, 'ar-ai-hipri': 274, 'ar-ai-midpri': 2, 'ar-ai-research-interns': 3, 'ar-ai-voice-hipri': 53}\n",
      "all\n",
      "ar-ai-midpri\n"
     ]
    }
   ],
   "source": [
    "q = sl.get_queue_summary()\n",
    "running = {}\n",
    "for _, row in q.iterrows():\n",
    "    if row.ST == 'R':\n",
    "        running[row.ACCOUNT] = row.NODES\n",
    "print(running)\n",
    "\n",
    "quota = {'ar-ai-research-interns': 8,\n",
    "         'ar-ai-voice-hipri': 50, 'ar-ai-hipri': 400}\n",
    "\n",
    "evict_ids = {}\n",
    "for acc in running:\n",
    "    if acc not in quota:  # quota = 0\n",
    "        print(acc)"
   ]
  },
  {
   "cell_type": "code",
   "execution_count": 30,
   "metadata": {},
   "outputs": [
    {
     "data": {
      "text/html": [
       "<div>\n",
       "<style scoped>\n",
       "    .dataframe tbody tr th:only-of-type {\n",
       "        vertical-align: middle;\n",
       "    }\n",
       "\n",
       "    .dataframe tbody tr th {\n",
       "        vertical-align: top;\n",
       "    }\n",
       "\n",
       "    .dataframe thead th {\n",
       "        text-align: right;\n",
       "    }\n",
       "</style>\n",
       "<table border=\"1\" class=\"dataframe\">\n",
       "  <thead>\n",
       "    <tr style=\"text-align: right;\">\n",
       "      <th></th>\n",
       "      <th>ACCOUNT</th>\n",
       "      <th>ST</th>\n",
       "      <th>NODES</th>\n",
       "    </tr>\n",
       "  </thead>\n",
       "  <tbody>\n",
       "    <tr>\n",
       "      <th>0</th>\n",
       "      <td>all</td>\n",
       "      <td>R</td>\n",
       "      <td>17</td>\n",
       "    </tr>\n",
       "    <tr>\n",
       "      <th>1</th>\n",
       "      <td>ar-ai-hipri</td>\n",
       "      <td>R</td>\n",
       "      <td>280</td>\n",
       "    </tr>\n",
       "    <tr>\n",
       "      <th>2</th>\n",
       "      <td>ar-ai-midpri</td>\n",
       "      <td>R</td>\n",
       "      <td>2</td>\n",
       "    </tr>\n",
       "    <tr>\n",
       "      <th>3</th>\n",
       "      <td>ar-ai-research-interns</td>\n",
       "      <td>R</td>\n",
       "      <td>3</td>\n",
       "    </tr>\n",
       "    <tr>\n",
       "      <th>4</th>\n",
       "      <td>ar-ai-voice-hipri</td>\n",
       "      <td>PD</td>\n",
       "      <td>94</td>\n",
       "    </tr>\n",
       "    <tr>\n",
       "      <th>5</th>\n",
       "      <td>ar-ai-voice-hipri</td>\n",
       "      <td>R</td>\n",
       "      <td>53</td>\n",
       "    </tr>\n",
       "  </tbody>\n",
       "</table>\n",
       "</div>"
      ],
      "text/plain": [
       "                  ACCOUNT  ST  NODES\n",
       "0                     all   R     17\n",
       "1             ar-ai-hipri   R    280\n",
       "2            ar-ai-midpri   R      2\n",
       "3  ar-ai-research-interns   R      3\n",
       "4       ar-ai-voice-hipri  PD     94\n",
       "5       ar-ai-voice-hipri   R     53"
      ]
     },
     "execution_count": 30,
     "metadata": {},
     "output_type": "execute_result"
    }
   ],
   "source": [
    "q_summary = q.groupby(['ACCOUNT', 'ST']).aggregate(\n",
    "    {'NODES': 'sum'}).reset_index()\n",
    "q_summary"
   ]
  },
  {
   "cell_type": "markdown",
   "metadata": {},
   "source": [
    "# Pretrain"
   ]
  },
  {
   "cell_type": "code",
   "execution_count": 48,
   "metadata": {},
   "outputs": [
    {
     "name": "stdout",
     "output_type": "stream",
     "text": [
      "sbatch --parsable --job-name=test --nodes=2 --ntasks=2 /fsx_0/user/tranx/experiments/llm_mm_aligner/base_pretrain_MM9_70B_sbatch.sh a b\n",
      "9659\n",
      "\n"
     ]
    }
   ],
   "source": [
    "MM9_CONF_DIR = \"/fsx_0/user/tranx/experiments/llm_mm_aligner/stage1_mm9\"\n",
    "envvar = {\n",
    "    \"NUM\": 7,\n",
    "    \"JSON_CONFIG\": f\"fbl_pretrain_MM9_70B_Llama31_336px_2nodes.json\",\n",
    "    # \"CONDA_ENV\": \"aligner_v7\",\n",
    "}\n",
    "\n",
    "sbatch_base = \"/fsx_0/user/tranx/experiments/llm_mm_aligner/base_pretrain_MM9_70B_sbatch.sh\"\n",
    "sbatch_overwrite = {\n",
    "    \"job-name\": \"test\",\n",
    "    \"nodes\": 2,\n",
    "    \"ntasks\": 2\n",
    "}\n",
    "\n",
    "MM9_CONF_DIR = \"/fsx_0/user/tranx/experiments/llm_mm_aligner/stage1_mm9\"\n",
    "JSON_CONFIG = f\"{MM9_CONF_DIR}/xxxfbl_pretrain_MM9_70B_Llama31_336px_2nodes.json\"\n",
    "ALIGNER_PARENT_DIR = \"/fsx_0/user/tranx\"\n",
    "\n",
    "envvar_string = f\"{JSON_CONFIG} {ALIGNER_PARENT_DIR}\"\n",
    "\n",
    "sbatch_vars_string = []\n",
    "for k, v in sbatch_overwrite.items():\n",
    "    sbatch_vars_string.append(f\"--{k}={v}\")\n",
    "sbatch_vars_string = ' '.join(sbatch_vars_string)\n",
    "\n",
    "# cmd = f'sbatch --parsable {sbatch_vars_string} {sbatch_base} {envvar_string}'\n",
    "cmd = f'sbatch --parsable {sbatch_vars_string} {sbatch_base} a b'\n",
    "print(cmd)\n",
    "\n",
    "job_id = utils.get_bash_output(cmd, print_output=True)\n",
    "job_id = int(job_id)"
   ]
  },
  {
   "cell_type": "code",
   "execution_count": 29,
   "metadata": {},
   "outputs": [
    {
     "name": "stdout",
     "output_type": "stream",
     "text": [
      "/var/spool/slurmd/job09402/slurm_script: line 23: conda: command not found\n",
      "/var/spool/slurmd/job09402/slurm_script: line 24: conda: command not found\n",
      "Using conda environment:\n",
      "Error: CONDA_DEFAULT_ENV is not set to aligner_v7\n",
      "^C\n"
     ]
    }
   ],
   "source": [
    "!tail -f /fsx_0/user/tranx/output/slurm_logs/output_9402.txt"
   ]
  },
  {
   "cell_type": "markdown",
   "metadata": {},
   "source": [
    "# Stage 2"
   ]
  },
  {
   "cell_type": "markdown",
   "metadata": {},
   "source": [
    "# Evals"
   ]
  }
 ],
 "metadata": {
  "kernelspec": {
   "display_name": "aws",
   "language": "python",
   "name": "python3"
  },
  "language_info": {
   "codemirror_mode": {
    "name": "ipython",
    "version": 3
   },
   "file_extension": ".py",
   "mimetype": "text/x-python",
   "name": "python",
   "nbconvert_exporter": "python",
   "pygments_lexer": "ipython3",
   "version": "3.11.9"
  }
 },
 "nbformat": 4,
 "nbformat_minor": 2
}
