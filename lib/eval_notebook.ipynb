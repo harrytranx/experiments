{
 "cells": [
  {
   "cell_type": "code",
   "execution_count": 1,
   "metadata": {},
   "outputs": [
    {
     "ename": "ModuleNotFoundError",
     "evalue": "No module named 'lib'",
     "output_type": "error",
     "traceback": [
      "\u001b[0;31m---------------------------------------------------------------------------\u001b[0m",
      "\u001b[0;31mModuleNotFoundError\u001b[0m                       Traceback (most recent call last)",
      "Cell \u001b[0;32mIn[1], line 1\u001b[0m\n\u001b[0;32m----> 1\u001b[0m \u001b[38;5;28;01mimport\u001b[39;00m \u001b[38;5;21;01meval_helper\u001b[39;00m\n",
      "File \u001b[0;32m/opt/hpcaas/.mounts/fs-06bc3d6b93146dddd/user/tranx/experiments/lib/eval_helper.py:10\u001b[0m\n\u001b[1;32m      7\u001b[0m \u001b[38;5;28;01mimport\u001b[39;00m \u001b[38;5;21;01mglob\u001b[39;00m\n\u001b[1;32m      8\u001b[0m \u001b[38;5;28;01mimport\u001b[39;00m \u001b[38;5;21;01mcopy\u001b[39;00m\n\u001b[0;32m---> 10\u001b[0m \u001b[38;5;28;01mfrom\u001b[39;00m \u001b[38;5;21;01mlib\u001b[39;00m \u001b[38;5;28;01mimport\u001b[39;00m utils\n\u001b[1;32m     11\u001b[0m \u001b[38;5;28;01mfrom\u001b[39;00m \u001b[38;5;21;01mlib\u001b[39;00m\u001b[38;5;21;01m.\u001b[39;00m\u001b[38;5;21;01mslurm\u001b[39;00m \u001b[38;5;28;01mimport\u001b[39;00m run_sbatch_job, get_log_file, SlurmClient\n\u001b[1;32m     13\u001b[0m \u001b[38;5;66;03m# REPORTING_SCORE_METHOD = 1 #1 = old, 2 = new method https://fburl.com/gsheet/r5hn8r1k\u001b[39;00m\n\u001b[1;32m     14\u001b[0m \u001b[38;5;66;03m# REPORT_BENCHMARK_VERSION = \"v2\" # v1, v2, hybrid\u001b[39;00m\n\u001b[1;32m     15\u001b[0m \u001b[38;5;66;03m# REPORT_BENCHMARK_VERSION = \"hybrid\"\u001b[39;00m\n",
      "\u001b[0;31mModuleNotFoundError\u001b[0m: No module named 'lib'"
     ]
    }
   ],
   "source": [
    "import eval_helper"
   ]
  },
  {
   "cell_type": "code",
   "execution_count": 6,
   "metadata": {},
   "outputs": [
    {
     "name": "stdout",
     "output_type": "stream",
     "text": [
      "New checkpoints: []\n"
     ]
    }
   ],
   "source": [
    "ev = eval_helper.EvalHelper(\n",
    "    code_dir=\"/fsx_0/user/tranx/rsync\",\n",
    "    eval_sbatch=\"/fsx_0/user/tranx/rsync/llm_mm_aligner/experiments/aws/launch_eval_sbatch.sh\",\n",
    "    eval_config_dir=\"/fsx_0/user/tranx/rsync/llm_mm_aligner/experiments/aws/mm10/stage2/eval_overwrite\"\n",
    ")\n",
    "\n",
    "ev.run_eval_sweep(\n",
    "    checkpoint_dir=\"/fsx_0/checkpoints/mm10/MM10-Stage2-70B/MH21_70B_336px_exp30d_docvqa_metaclip_unfreeze_lr1_n128\",\n",
    "    benchmarks=eval_helper.ALL_BENCHMARKS,\n",
    "    slurm_qos=\"midpri\",\n",
    "    update_if_exists=False,\n",
    "    print_cmd=True\n",
    ")"
   ]
  },
  {
   "cell_type": "code",
   "execution_count": 1,
   "metadata": {},
   "outputs": [
    {
     "ename": "NameError",
     "evalue": "name 'eval_helper' is not defined",
     "output_type": "error",
     "traceback": [
      "\u001b[0;31m---------------------------------------------------------------------------\u001b[0m",
      "\u001b[0;31mNameError\u001b[0m                                 Traceback (most recent call last)",
      "Cell \u001b[0;32mIn[1], line 1\u001b[0m\n\u001b[0;32m----> 1\u001b[0m \u001b[43meval_helper\u001b[49m\u001b[38;5;241m.\u001b[39mget_eval_scores(\n\u001b[1;32m      2\u001b[0m     \u001b[38;5;124m\"\u001b[39m\u001b[38;5;124m/fsx_0/checkpoints/mm10/MM10-Stage2-70B/MH21_70B_336px_exp30d_docvqa_metaclip_unfreeze_lr1_n128\u001b[39m\u001b[38;5;124m\"\u001b[39m,\n\u001b[1;32m      3\u001b[0m     checkpoint_id\u001b[38;5;241m=\u001b[39m\u001b[38;5;241m9000\u001b[39m,\n\u001b[1;32m      4\u001b[0m     report_version\u001b[38;5;241m=\u001b[39m\u001b[38;5;124m\"\u001b[39m\u001b[38;5;124mhybrid\u001b[39m\u001b[38;5;124m\"\u001b[39m\n\u001b[1;32m      5\u001b[0m )\n",
      "\u001b[0;31mNameError\u001b[0m: name 'eval_helper' is not defined"
     ]
    }
   ],
   "source": [
    "eval_helper.get_eval_scores(\n",
    "    \"/fsx_0/checkpoints/mm10/MM10-Stage2-70B/MH21_70B_336px_exp30d_docvqa_metaclip_unfreeze_lr1_n128\",\n",
    "    checkpoint_id=9000,\n",
    "    report_version=\"hybrid\"\n",
    ")"
   ]
  }
 ],
 "metadata": {
  "kernelspec": {
   "display_name": "aws",
   "language": "python",
   "name": "python3"
  },
  "language_info": {
   "codemirror_mode": {
    "name": "ipython",
    "version": 3
   },
   "file_extension": ".py",
   "mimetype": "text/x-python",
   "name": "python",
   "nbconvert_exporter": "python",
   "pygments_lexer": "ipython3",
   "version": "3.11.9"
  }
 },
 "nbformat": 4,
 "nbformat_minor": 2
}
