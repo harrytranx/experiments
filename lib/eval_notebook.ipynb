{
 "cells": [
  {
   "cell_type": "code",
   "execution_count": 3,
   "metadata": {},
   "outputs": [],
   "source": [
    "import eval_helper"
   ]
  },
  {
   "cell_type": "code",
   "execution_count": 6,
   "metadata": {},
   "outputs": [
    {
     "name": "stdout",
     "output_type": "stream",
     "text": [
      "New checkpoints: []\n"
     ]
    }
   ],
   "source": [
    "ev = eval_helper.EvalHelper(\n",
    "    code_dir=\"/fsx_0/user/tranx/rsync\",\n",
    "    eval_sbatch=\"/fsx_0/user/tranx/rsync/llm_mm_aligner/experiments/aws/launch_eval_sbatch.sh\",\n",
    "    eval_config_dir=\"/fsx_0/user/tranx/rsync/llm_mm_aligner/experiments/aws/mm10/stage2/eval_overwrite\"\n",
    ")\n",
    "\n",
    "ev.run_eval_sweep(\n",
    "    checkpoint_dir=\"/fsx_0/checkpoints/mm10/MM10-Stage2-70B/MH21_70B_336px_exp30d_docvqa_metaclip_unfreeze_lr1_n128\",\n",
    "    benchmarks=eval_helper.ALL_BENCHMARKS,\n",
    "    slurm_qos=\"midpri\",\n",
    "    update_if_exists=False,\n",
    "    print_cmd=True\n",
    ")"
   ]
  },
  {
   "cell_type": "code",
   "execution_count": 2,
   "metadata": {},
   "outputs": [
    {
     "data": {
      "text/html": [
       "<div>\n",
       "<style scoped>\n",
       "    .dataframe tbody tr th:only-of-type {\n",
       "        vertical-align: middle;\n",
       "    }\n",
       "\n",
       "    .dataframe tbody tr th {\n",
       "        vertical-align: top;\n",
       "    }\n",
       "\n",
       "    .dataframe thead th {\n",
       "        text-align: right;\n",
       "    }\n",
       "</style>\n",
       "<table border=\"1\" class=\"dataframe\">\n",
       "  <thead>\n",
       "    <tr style=\"text-align: right;\">\n",
       "      <th></th>\n",
       "      <th>mmmu_v2</th>\n",
       "      <th>mmmu_v1</th>\n",
       "      <th>docvqa</th>\n",
       "      <th>mathvista</th>\n",
       "      <th>ai2d</th>\n",
       "      <th>chartqa</th>\n",
       "      <th>vqa</th>\n",
       "      <th>textvqa</th>\n",
       "      <th>infographics_w_ocr</th>\n",
       "      <th>infographics</th>\n",
       "      <th>mmbench</th>\n",
       "    </tr>\n",
       "  </thead>\n",
       "  <tbody>\n",
       "    <tr>\n",
       "      <th>9000</th>\n",
       "      <td>0.56</td>\n",
       "      <td>0.5433</td>\n",
       "      <td>0.6823 (0.7245 )</td>\n",
       "      <td>0.461</td>\n",
       "      <td>0.7817</td>\n",
       "      <td>0.5561</td>\n",
       "      <td>0.7085 (0.7422 )</td>\n",
       "      <td>0.6515 (0.7037 )</td>\n",
       "      <td>0.6485 (0.6485 )</td>\n",
       "      <td>0.6039 (0.6039 )</td>\n",
       "      <td>0.7142</td>\n",
       "    </tr>\n",
       "  </tbody>\n",
       "</table>\n",
       "</div>"
      ],
      "text/plain": [
       "      mmmu_v2  mmmu_v1            docvqa  mathvista    ai2d  chartqa  \\\n",
       "9000     0.56   0.5433  0.6823 (0.7245 )      0.461  0.7817   0.5561   \n",
       "\n",
       "                   vqa           textvqa infographics_w_ocr      infographics  \\\n",
       "9000  0.7085 (0.7422 )  0.6515 (0.7037 )   0.6485 (0.6485 )  0.6039 (0.6039 )   \n",
       "\n",
       "      mmbench  \n",
       "9000   0.7142  "
      ]
     },
     "execution_count": 2,
     "metadata": {},
     "output_type": "execute_result"
    }
   ],
   "source": [
    "eval_helper.get_eval_scores(\n",
    "    \"/fsx_0/checkpoints/mm10/MM10-Stage2-70B/MH21_70B_336px_exp30d_docvqa_metaclip_unfreeze_lr1_n128\",\n",
    "    checkpoint_id=9000,\n",
    "    report_version=\"hybrid\"\n",
    ")"
   ]
  }
 ],
 "metadata": {
  "kernelspec": {
   "display_name": "aws",
   "language": "python",
   "name": "python3"
  },
  "language_info": {
   "codemirror_mode": {
    "name": "ipython",
    "version": 3
   },
   "file_extension": ".py",
   "mimetype": "text/x-python",
   "name": "python",
   "nbconvert_exporter": "python",
   "pygments_lexer": "ipython3",
   "version": "3.11.9"
  }
 },
 "nbformat": 4,
 "nbformat_minor": 2
}
