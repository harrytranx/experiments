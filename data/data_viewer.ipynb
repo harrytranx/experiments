{
 "cells": [
  {
   "cell_type": "code",
   "execution_count": 1,
   "metadata": {},
   "outputs": [],
   "source": [
    "import json\n",
    "import tarfile\n",
    "import numpy as np\n",
    "import matplotlib.pyplot as plt\n",
    "import random\n",
    "import textwrap\n",
    "from pathlib import Path\n",
    "import pandas as pd\n",
    "from PIL import Image\n",
    "from io import BytesIO\n",
    "from IPython.display import HTML\n",
    "import base64\n",
    "pd.set_option('display.max_colwidth', None)"
   ]
  },
  {
   "cell_type": "code",
   "execution_count": 21,
   "metadata": {},
   "outputs": [
    {
     "name": "stdout",
     "output_type": "stream",
     "text": [
      "[(PosixPath('/fsx_3/bucket/infoseek/infoseekQA/00050/00050_batch_5.tar'), 1)]\n",
      "here: /fsx_3/bucket/infoseek/infoseekQA/00050/00050_batch_5.tar\n",
      "member.name: 00050/infoseek_train_00664941.json\n",
      "key infoseek_train_00664941\n"
     ]
    },
    {
     "ename": "KeyError",
     "evalue": "\"filename 'infoseek_train_00664941.json' not found\"",
     "output_type": "error",
     "traceback": [
      "\u001b[0;31m---------------------------------------------------------------------------\u001b[0m",
      "\u001b[0;31mKeyError\u001b[0m                                  Traceback (most recent call last)",
      "Cell \u001b[0;32mIn[21], line 66\u001b[0m\n\u001b[1;32m     63\u001b[0m \u001b[38;5;66;03m# test_path1 = \"/fsx_3/dataset01/pdfa-eng-wds-converted\"\u001b[39;00m\n\u001b[1;32m     64\u001b[0m \u001b[38;5;66;03m# test_path2 = \"/fsx_3/bucket/qyh/landmark_all\"\u001b[39;00m\n\u001b[1;32m     65\u001b[0m path \u001b[38;5;241m=\u001b[39m \u001b[38;5;124m\"\u001b[39m\u001b[38;5;124m/fsx_3/bucket/infoseek/infoseekQA\u001b[39m\u001b[38;5;124m\"\u001b[39m\n\u001b[0;32m---> 66\u001b[0m df \u001b[38;5;241m=\u001b[39m \u001b[43mshow_sample_examples\u001b[49m\u001b[43m(\u001b[49m\u001b[43mpath\u001b[49m\u001b[43m)\u001b[49m\n\u001b[1;32m     67\u001b[0m HTML(df\u001b[38;5;241m.\u001b[39mto_html(formatters\u001b[38;5;241m=\u001b[39m{\u001b[38;5;124m'\u001b[39m\u001b[38;5;124mimage\u001b[39m\u001b[38;5;124m'\u001b[39m: image_formatter}, escape\u001b[38;5;241m=\u001b[39m\u001b[38;5;28;01mFalse\u001b[39;00m))\n",
      "Cell \u001b[0;32mIn[21], line 40\u001b[0m, in \u001b[0;36mshow_sample_examples\u001b[0;34m(wds_path, num_samples, different_tars)\u001b[0m\n\u001b[1;32m     37\u001b[0m key \u001b[38;5;241m=\u001b[39m key\u001b[38;5;241m.\u001b[39msplit(\u001b[38;5;124m\"\u001b[39m\u001b[38;5;124m/\u001b[39m\u001b[38;5;124m\"\u001b[39m)[\u001b[38;5;241m-\u001b[39m\u001b[38;5;241m1\u001b[39m]\n\u001b[1;32m     38\u001b[0m \u001b[38;5;28mprint\u001b[39m(\u001b[38;5;124m\"\u001b[39m\u001b[38;5;124mkey\u001b[39m\u001b[38;5;124m\"\u001b[39m, key)\n\u001b[0;32m---> 40\u001b[0m example \u001b[38;5;241m=\u001b[39m json\u001b[38;5;241m.\u001b[39mload(\u001b[43mtar\u001b[49m\u001b[38;5;241;43m.\u001b[39;49m\u001b[43mextractfile\u001b[49m\u001b[43m(\u001b[49m\u001b[38;5;124;43mf\u001b[39;49m\u001b[38;5;124;43m\"\u001b[39;49m\u001b[38;5;132;43;01m{\u001b[39;49;00m\u001b[43mkey\u001b[49m\u001b[38;5;132;43;01m}\u001b[39;49;00m\u001b[38;5;124;43m.json\u001b[39;49m\u001b[38;5;124;43m\"\u001b[39;49m\u001b[43m)\u001b[49m)   \n\u001b[1;32m     42\u001b[0m img_fn \u001b[38;5;241m=\u001b[39m \u001b[38;5;28mnext\u001b[39m(\n\u001b[1;32m     43\u001b[0m             (\n\u001b[1;32m     44\u001b[0m                 \u001b[38;5;124mf\u001b[39m\u001b[38;5;124m\"\u001b[39m\u001b[38;5;132;01m{\u001b[39;00mkey\u001b[38;5;132;01m}\u001b[39;00m\u001b[38;5;124m.\u001b[39m\u001b[38;5;132;01m{\u001b[39;00mext\u001b[38;5;132;01m}\u001b[39;00m\u001b[38;5;124m\"\u001b[39m\n\u001b[0;32m   (...)\u001b[0m\n\u001b[1;32m     48\u001b[0m             \u001b[38;5;28;01mNone\u001b[39;00m,\n\u001b[1;32m     49\u001b[0m         )\n\u001b[1;32m     51\u001b[0m img \u001b[38;5;241m=\u001b[39m Image\u001b[38;5;241m.\u001b[39mopen(tar\u001b[38;5;241m.\u001b[39mextractfile(img_fn))\u001b[38;5;241m.\u001b[39mconvert(\u001b[38;5;124m\"\u001b[39m\u001b[38;5;124mRGB\u001b[39m\u001b[38;5;124m\"\u001b[39m)\n",
      "File \u001b[0;32m/opt/hpcaas/.mounts/fs-036153e63d56f4dc2/home/tranx/conda/envs/aws/lib/python3.11/tarfile.py:2365\u001b[0m, in \u001b[0;36mTarFile.extractfile\u001b[0;34m(self, member)\u001b[0m\n\u001b[1;32m   2362\u001b[0m \u001b[38;5;28mself\u001b[39m\u001b[38;5;241m.\u001b[39m_check(\u001b[38;5;124m\"\u001b[39m\u001b[38;5;124mr\u001b[39m\u001b[38;5;124m\"\u001b[39m)\n\u001b[1;32m   2364\u001b[0m \u001b[38;5;28;01mif\u001b[39;00m \u001b[38;5;28misinstance\u001b[39m(member, \u001b[38;5;28mstr\u001b[39m):\n\u001b[0;32m-> 2365\u001b[0m     tarinfo \u001b[38;5;241m=\u001b[39m \u001b[38;5;28;43mself\u001b[39;49m\u001b[38;5;241;43m.\u001b[39;49m\u001b[43mgetmember\u001b[49m\u001b[43m(\u001b[49m\u001b[43mmember\u001b[49m\u001b[43m)\u001b[49m\n\u001b[1;32m   2366\u001b[0m \u001b[38;5;28;01melse\u001b[39;00m:\n\u001b[1;32m   2367\u001b[0m     tarinfo \u001b[38;5;241m=\u001b[39m member\n",
      "File \u001b[0;32m/opt/hpcaas/.mounts/fs-036153e63d56f4dc2/home/tranx/conda/envs/aws/lib/python3.11/tarfile.py:1986\u001b[0m, in \u001b[0;36mTarFile.getmember\u001b[0;34m(self, name)\u001b[0m\n\u001b[1;32m   1984\u001b[0m tarinfo \u001b[38;5;241m=\u001b[39m \u001b[38;5;28mself\u001b[39m\u001b[38;5;241m.\u001b[39m_getmember(name\u001b[38;5;241m.\u001b[39mrstrip(\u001b[38;5;124m'\u001b[39m\u001b[38;5;124m/\u001b[39m\u001b[38;5;124m'\u001b[39m))\n\u001b[1;32m   1985\u001b[0m \u001b[38;5;28;01mif\u001b[39;00m tarinfo \u001b[38;5;129;01mis\u001b[39;00m \u001b[38;5;28;01mNone\u001b[39;00m:\n\u001b[0;32m-> 1986\u001b[0m     \u001b[38;5;28;01mraise\u001b[39;00m \u001b[38;5;167;01mKeyError\u001b[39;00m(\u001b[38;5;124m\"\u001b[39m\u001b[38;5;124mfilename \u001b[39m\u001b[38;5;132;01m%r\u001b[39;00m\u001b[38;5;124m not found\u001b[39m\u001b[38;5;124m\"\u001b[39m \u001b[38;5;241m%\u001b[39m name)\n\u001b[1;32m   1987\u001b[0m \u001b[38;5;28;01mreturn\u001b[39;00m tarinfo\n",
      "\u001b[0;31mKeyError\u001b[0m: \"filename 'infoseek_train_00664941.json' not found\""
     ]
    }
   ],
   "source": [
    "def image_base64(img):\n",
    "    with BytesIO() as buffer:\n",
    "        img.save(buffer, 'jpeg')\n",
    "        return base64.b64encode(buffer.getvalue()).decode()\n",
    "    \n",
    "def image_formatter(img):\n",
    "    return f'<img src=\"data:image/jpeg;base64,{image_base64(img)}\" width=\"500\">'\n",
    "\n",
    "def show_sample_examples(wds_path, num_samples=1, different_tars=False):\n",
    "    IMAGE_EXTENSIONS = {\"JPG\", \"jpg\", \"png\", \"jpeg\", \"bmp\", \"tif\", \"tiff\"}\n",
    "    \n",
    "    all_tarpaths = list(Path(wds_path).glob(\"**/*.tar\"))\n",
    "    \n",
    "    if different_tars:\n",
    "        tarfps = random.sample(all_tarpaths, min(num_samples, len(all_tarpaths)))\n",
    "        tarfps_samples = [(tarfp, 1) for tarfp in tarfps]\n",
    "    else:\n",
    "    \n",
    "        tarfps_samples = [(random.choice(all_tarpaths), num_samples)]\n",
    "        \n",
    "    print(tarfps_samples)\n",
    "    \n",
    "    data = []\n",
    "    \n",
    "    for tarfp, num_samples_for_tar in tarfps_samples:\n",
    "        with tarfile.open(tarfp, 'r') as tar:\n",
    "            sampled_members = random.sample([member for member in tar.getmembers() if member.name.endswith(\".json\")],\n",
    "                                            min(len(tar.getnames())//2, num_samples_for_tar))\n",
    "            \n",
    "            print(\"here:\", tarfp)\n",
    "            \n",
    "            for member in sampled_members:\n",
    "                print(\"member.name:\", member.name)\n",
    "                key, _ = member.name.split(\".\")\n",
    "\n",
    "                \n",
    "                key = key.split(\"/\")[-1]\n",
    "                print(\"key\", key)\n",
    "                \n",
    "                example = json.load(tar.extractfile(f\"{key}.json\"))   \n",
    "                \n",
    "                img_fn = next(\n",
    "                            (\n",
    "                                f\"{key}.{ext}\"\n",
    "                                for ext in IMAGE_EXTENSIONS\n",
    "                                if f\"{key}.{ext}\" in tar.getnames()\n",
    "                            ),\n",
    "                            None,\n",
    "                        )\n",
    "        \n",
    "                img = Image.open(tar.extractfile(img_fn)).convert(\"RGB\")\n",
    "                img.load()\n",
    "                example[\"__tarfile__\"] = tarfp\n",
    "                example[\"__key__\"] = key\n",
    "                example[\"image\"] = img\n",
    "                data.append(example)\n",
    "                \n",
    "    cols = data[0].keys()\n",
    "    data_dict = {col: [sample.get(col, None) for sample in data] for col in cols} \n",
    "    df = pd.DataFrame(data=data_dict)\n",
    "    return df\n",
    "\n",
    "# test_path1 = \"/fsx_3/dataset01/pdfa-eng-wds-converted\"\n",
    "# test_path2 = \"/fsx_3/bucket/qyh/landmark_all\"\n",
    "path = \"/fsx_3/bucket/infoseek/infoseekQA\"\n",
    "df = show_sample_examples(path)\n",
    "HTML(df.to_html(formatters={'image': image_formatter}, escape=False))"
   ]
  },
  {
   "cell_type": "code",
   "execution_count": null,
   "metadata": {},
   "outputs": [
    {
     "name": "stdout",
     "output_type": "stream",
     "text": [
      "[(PosixPath('/fsx_3/bucket/infoseek/infoseekQA/00000/00000_batch_11.tar'), 1)]\n",
      "here\n",
      "key 00000/infoseek_test_00008520\n"
     ]
    },
    {
     "ename": "AttributeError",
     "evalue": "'NoneType' object has no attribute 'isreg'",
     "output_type": "error",
     "traceback": [
      "\u001b[0;31m---------------------------------------------------------------------------\u001b[0m",
      "\u001b[0;31mAttributeError\u001b[0m                            Traceback (most recent call last)",
      "Cell \u001b[0;32mIn[15], line 4\u001b[0m\n\u001b[1;32m      1\u001b[0m \u001b[38;5;66;03m# test_path1 = \"/fsx_3/dataset01/pdfa-eng-wds-converted\"\u001b[39;00m\n\u001b[1;32m      2\u001b[0m \u001b[38;5;66;03m# test_path2 = \"/fsx_3/bucket/qyh/landmark_all\"\u001b[39;00m\n\u001b[1;32m      3\u001b[0m path \u001b[38;5;241m=\u001b[39m \u001b[38;5;124m\"\u001b[39m\u001b[38;5;124m/fsx_3/bucket/infoseek/infoseekQA/00000\u001b[39m\u001b[38;5;124m\"\u001b[39m\n\u001b[0;32m----> 4\u001b[0m df \u001b[38;5;241m=\u001b[39m \u001b[43mshow_sample_examples\u001b[49m\u001b[43m(\u001b[49m\u001b[43mpath\u001b[49m\u001b[43m)\u001b[49m\n\u001b[1;32m      5\u001b[0m HTML(df\u001b[38;5;241m.\u001b[39mto_html(formatters\u001b[38;5;241m=\u001b[39m{\u001b[38;5;124m'\u001b[39m\u001b[38;5;124mimage\u001b[39m\u001b[38;5;124m'\u001b[39m: image_formatter}, escape\u001b[38;5;241m=\u001b[39m\u001b[38;5;28;01mFalse\u001b[39;00m))\n",
      "Cell \u001b[0;32mIn[14], line 49\u001b[0m, in \u001b[0;36mshow_sample_examples\u001b[0;34m(wds_path, num_samples, different_tars)\u001b[0m\n\u001b[1;32m     36\u001b[0m example \u001b[38;5;241m=\u001b[39m json\u001b[38;5;241m.\u001b[39mload(tar\u001b[38;5;241m.\u001b[39mextractfile(\u001b[38;5;124mf\u001b[39m\u001b[38;5;124m\"\u001b[39m\u001b[38;5;132;01m{\u001b[39;00mkey\u001b[38;5;132;01m}\u001b[39;00m\u001b[38;5;124m.json\u001b[39m\u001b[38;5;124m\"\u001b[39m))   \n\u001b[1;32m     40\u001b[0m img_fn \u001b[38;5;241m=\u001b[39m \u001b[38;5;28mnext\u001b[39m(\n\u001b[1;32m     41\u001b[0m             (\n\u001b[1;32m     42\u001b[0m                 \u001b[38;5;124mf\u001b[39m\u001b[38;5;124m\"\u001b[39m\u001b[38;5;132;01m{\u001b[39;00mkey\u001b[38;5;132;01m}\u001b[39;00m\u001b[38;5;124m.\u001b[39m\u001b[38;5;132;01m{\u001b[39;00mext\u001b[38;5;132;01m}\u001b[39;00m\u001b[38;5;124m\"\u001b[39m\n\u001b[0;32m   (...)\u001b[0m\n\u001b[1;32m     46\u001b[0m             \u001b[38;5;28;01mNone\u001b[39;00m,\n\u001b[1;32m     47\u001b[0m         )\n\u001b[0;32m---> 49\u001b[0m img \u001b[38;5;241m=\u001b[39m Image\u001b[38;5;241m.\u001b[39mopen(\u001b[43mtar\u001b[49m\u001b[38;5;241;43m.\u001b[39;49m\u001b[43mextractfile\u001b[49m\u001b[43m(\u001b[49m\u001b[43mimg_fn\u001b[49m\u001b[43m)\u001b[49m)\u001b[38;5;241m.\u001b[39mconvert(\u001b[38;5;124m\"\u001b[39m\u001b[38;5;124mRGB\u001b[39m\u001b[38;5;124m\"\u001b[39m)\n\u001b[1;32m     50\u001b[0m img\u001b[38;5;241m.\u001b[39mload()\n\u001b[1;32m     51\u001b[0m example[\u001b[38;5;124m\"\u001b[39m\u001b[38;5;124m__tarfile__\u001b[39m\u001b[38;5;124m\"\u001b[39m] \u001b[38;5;241m=\u001b[39m tarfp\n",
      "File \u001b[0;32m/opt/hpcaas/.mounts/fs-036153e63d56f4dc2/home/tranx/conda/envs/aws/lib/python3.11/tarfile.py:2369\u001b[0m, in \u001b[0;36mTarFile.extractfile\u001b[0;34m(self, member)\u001b[0m\n\u001b[1;32m   2366\u001b[0m \u001b[38;5;28;01melse\u001b[39;00m:\n\u001b[1;32m   2367\u001b[0m     tarinfo \u001b[38;5;241m=\u001b[39m member\n\u001b[0;32m-> 2369\u001b[0m \u001b[38;5;28;01mif\u001b[39;00m \u001b[43mtarinfo\u001b[49m\u001b[38;5;241;43m.\u001b[39;49m\u001b[43misreg\u001b[49m() \u001b[38;5;129;01mor\u001b[39;00m tarinfo\u001b[38;5;241m.\u001b[39mtype \u001b[38;5;129;01mnot\u001b[39;00m \u001b[38;5;129;01min\u001b[39;00m SUPPORTED_TYPES:\n\u001b[1;32m   2370\u001b[0m     \u001b[38;5;66;03m# Members with unknown types are treated as regular files.\u001b[39;00m\n\u001b[1;32m   2371\u001b[0m     \u001b[38;5;28;01mreturn\u001b[39;00m \u001b[38;5;28mself\u001b[39m\u001b[38;5;241m.\u001b[39mfileobject(\u001b[38;5;28mself\u001b[39m, tarinfo)\n\u001b[1;32m   2373\u001b[0m \u001b[38;5;28;01melif\u001b[39;00m tarinfo\u001b[38;5;241m.\u001b[39mislnk() \u001b[38;5;129;01mor\u001b[39;00m tarinfo\u001b[38;5;241m.\u001b[39missym():\n",
      "\u001b[0;31mAttributeError\u001b[0m: 'NoneType' object has no attribute 'isreg'"
     ]
    }
   ],
   "source": []
  },
  {
   "cell_type": "code",
   "execution_count": null,
   "metadata": {},
   "outputs": [],
   "source": [
    "# captioning\n",
    "sample = {\n",
    "    \"image\": <img>,\n",
    "    \"text\": \"Bobbin lace linen. Flanders, early 18th Century. | Costumes and fashions of the centuries.\"\n",
    "}\n",
    "\n",
    "# instruction_tune\n",
    "sample = {\n",
    "    \"image\": <img>,\n",
    "    \"instruction\": \"Answer the question using a single word or phrase.\",\n",
    "    \"question\": \"What formation of planes is this?\",\n",
    "    \"response\": \"square\"\n",
    "}"
   ]
  }
 ],
 "metadata": {
  "kernelspec": {
   "display_name": "aws",
   "language": "python",
   "name": "python3"
  },
  "language_info": {
   "codemirror_mode": {
    "name": "ipython",
    "version": 3
   },
   "file_extension": ".py",
   "mimetype": "text/x-python",
   "name": "python",
   "nbconvert_exporter": "python",
   "pygments_lexer": "ipython3",
   "version": "3.11.9"
  }
 },
 "nbformat": 4,
 "nbformat_minor": 2
}
