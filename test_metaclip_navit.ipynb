{
 "cells": [
  {
   "cell_type": "code",
   "execution_count": 1,
   "metadata": {},
   "outputs": [],
   "source": [
    "%reload_ext autoreload\n",
    "%autoreload 2\n",
    "\n",
    "# Use aligner_v7 kernel\n",
    "\n",
    "import sys\n",
    "add_paths = [\n",
    "    \"/fsx_0/user/tranx/rsync\", # ALIGNER_PARENT_DIR\n",
    "    \"/fsx_0/user/tranx/rsync/llm_mm_aligner/replicated\", # ALIGNER_PARENT_DIR/llm_mm_aligner/replicated\n",
    "    \"/fsx_0/shared/conda/aligner_20241030/python-packages\"\n",
    "]\n",
    "\n",
    "for p in add_paths:\n",
    "    if p not in sys.path:\n",
    "        sys.path.append(p)\n",
    "        \n",
    "device = \"cuda:0\""
   ]
  },
  {
   "cell_type": "code",
   "execution_count": 3,
   "metadata": {},
   "outputs": [],
   "source": [
    "import torch\n",
    "from llm_mm_aligner.lib.encoders.metaclip_native_resolution_inference import MetaCLIP_NAVIT as MetaCLIP_NAVIT_INF\n",
    "\n",
    "from llm_mm_aligner.lib.encoders.metaclip_navit import MetaCLIP_NAVIT\n",
    "from PIL import Image\n",
    "from torch import nn\n",
    "from torchvision import transforms"
   ]
  },
  {
   "cell_type": "markdown",
   "metadata": {},
   "source": [
    "# Test load state_dict"
   ]
  },
  {
   "cell_type": "code",
   "execution_count": 4,
   "metadata": {},
   "outputs": [],
   "source": [
    "# test loading\n",
    "MODEL_H = \"/fsx_0/checkpoints/clip/vev0/vit_h14_336_fair_vev0/fair_vev01.pt\"\n",
    "MODEL_G = \"/fsx_0/user/marcomonteiro/experiments/G/VEv0p2_G14_aws_final_256x8x98_next/checkpoints/epoch_450.pt\"\n",
    "\n",
    "sd_h = torch.load(MODEL_H, map_location=\"cpu\")\n",
    "sd_g = torch.load(MODEL_G, map_location=\"cpu\")"
   ]
  },
  {
   "cell_type": "code",
   "execution_count": 20,
   "metadata": {},
   "outputs": [
    {
     "data": {
      "text/plain": [
       "dict_keys(['epoch', 'name', 'state_dict', 'optimizer'])"
      ]
     },
     "execution_count": 20,
     "metadata": {},
     "output_type": "execute_result"
    }
   ],
   "source": [
    "_sd.keys()"
   ]
  },
  {
   "cell_type": "code",
   "execution_count": null,
   "metadata": {},
   "outputs": [
    {
     "name": "stdout",
     "output_type": "stream",
     "text": [
      "yes\n",
      "MetaCLIP_NAVIT dropping positional_embedding from checkpoint\n",
      "MetaCLIP_NAVIT dropping mim_token from checkpoint\n",
      "MetaCLIP_NAVIT dropping proj from checkpoint\n",
      "MetaCLIP_NAVIT dropping transformer.resblocks.0.attn.rope.freqs from checkpoint\n",
      "MetaCLIP_NAVIT dropping transformer.resblocks.1.attn.rope.freqs from checkpoint\n",
      "MetaCLIP_NAVIT dropping transformer.resblocks.2.attn.rope.freqs from checkpoint\n",
      "MetaCLIP_NAVIT dropping transformer.resblocks.3.attn.rope.freqs from checkpoint\n",
      "MetaCLIP_NAVIT dropping transformer.resblocks.4.attn.rope.freqs from checkpoint\n",
      "MetaCLIP_NAVIT dropping transformer.resblocks.5.attn.rope.freqs from checkpoint\n",
      "MetaCLIP_NAVIT dropping transformer.resblocks.6.attn.rope.freqs from checkpoint\n",
      "MetaCLIP_NAVIT dropping transformer.resblocks.7.attn.rope.freqs from checkpoint\n",
      "MetaCLIP_NAVIT dropping transformer.resblocks.8.attn.rope.freqs from checkpoint\n",
      "MetaCLIP_NAVIT dropping transformer.resblocks.9.attn.rope.freqs from checkpoint\n",
      "MetaCLIP_NAVIT dropping transformer.resblocks.10.attn.rope.freqs from checkpoint\n",
      "MetaCLIP_NAVIT dropping transformer.resblocks.11.attn.rope.freqs from checkpoint\n",
      "MetaCLIP_NAVIT dropping transformer.resblocks.12.attn.rope.freqs from checkpoint\n",
      "MetaCLIP_NAVIT dropping transformer.resblocks.13.attn.rope.freqs from checkpoint\n",
      "MetaCLIP_NAVIT dropping transformer.resblocks.14.attn.rope.freqs from checkpoint\n",
      "MetaCLIP_NAVIT dropping transformer.resblocks.15.attn.rope.freqs from checkpoint\n",
      "MetaCLIP_NAVIT dropping transformer.resblocks.16.attn.rope.freqs from checkpoint\n",
      "MetaCLIP_NAVIT dropping transformer.resblocks.17.attn.rope.freqs from checkpoint\n",
      "MetaCLIP_NAVIT dropping transformer.resblocks.18.attn.rope.freqs from checkpoint\n",
      "MetaCLIP_NAVIT dropping transformer.resblocks.19.attn.rope.freqs from checkpoint\n",
      "MetaCLIP_NAVIT dropping transformer.resblocks.20.attn.rope.freqs from checkpoint\n",
      "MetaCLIP_NAVIT dropping transformer.resblocks.21.attn.rope.freqs from checkpoint\n",
      "MetaCLIP_NAVIT dropping transformer.resblocks.22.attn.rope.freqs from checkpoint\n",
      "MetaCLIP_NAVIT dropping transformer.resblocks.23.attn.rope.freqs from checkpoint\n",
      "MetaCLIP_NAVIT dropping transformer.resblocks.24.attn.rope.freqs from checkpoint\n",
      "MetaCLIP_NAVIT dropping transformer.resblocks.25.attn.rope.freqs from checkpoint\n",
      "MetaCLIP_NAVIT dropping transformer.resblocks.26.attn.rope.freqs from checkpoint\n",
      "MetaCLIP_NAVIT dropping transformer.resblocks.27.attn.rope.freqs from checkpoint\n",
      "MetaCLIP_NAVIT dropping transformer.resblocks.28.attn.rope.freqs from checkpoint\n",
      "MetaCLIP_NAVIT dropping transformer.resblocks.29.attn.rope.freqs from checkpoint\n",
      "MetaCLIP_NAVIT dropping transformer.resblocks.30.attn.rope.freqs from checkpoint\n",
      "MetaCLIP_NAVIT dropping transformer.resblocks.31.attn.rope.freqs from checkpoint\n",
      "MetaCLIP_NAVIT dropping transformer.resblocks.32.attn.rope.freqs from checkpoint\n",
      "MetaCLIP_NAVIT dropping transformer.resblocks.33.attn.rope.freqs from checkpoint\n",
      "MetaCLIP_NAVIT dropping transformer.resblocks.34.attn.rope.freqs from checkpoint\n",
      "MetaCLIP_NAVIT dropping transformer.resblocks.35.attn.rope.freqs from checkpoint\n",
      "MetaCLIP_NAVIT dropping transformer.resblocks.36.attn.rope.freqs from checkpoint\n",
      "MetaCLIP_NAVIT dropping transformer.resblocks.37.attn.rope.freqs from checkpoint\n",
      "MetaCLIP_NAVIT dropping transformer.resblocks.38.attn.rope.freqs from checkpoint\n",
      "MetaCLIP_NAVIT dropping transformer.resblocks.39.attn.rope.freqs from checkpoint\n",
      "MetaCLIP_NAVIT dropping transformer.resblocks.40.attn.rope.freqs from checkpoint\n",
      "MetaCLIP_NAVIT dropping transformer.resblocks.41.attn.rope.freqs from checkpoint\n",
      "MetaCLIP_NAVIT dropping transformer.resblocks.42.attn.rope.freqs from checkpoint\n",
      "MetaCLIP_NAVIT dropping transformer.resblocks.43.attn.rope.freqs from checkpoint\n",
      "MetaCLIP_NAVIT dropping transformer.resblocks.44.attn.rope.freqs from checkpoint\n",
      "MetaCLIP_NAVIT dropping transformer.resblocks.45.attn.rope.freqs from checkpoint\n",
      "MetaCLIP_NAVIT dropping transformer.resblocks.46.attn.rope.freqs from checkpoint\n",
      "MetaCLIP_NAVIT dropping transformer.resblocks.47.attn.rope.freqs from checkpoint\n",
      "MetaCLIP_NAVIT dropping transformer.resblocks.48.attn.rope.freqs from checkpoint\n",
      "MetaCLIP_NAVIT dropping transformer.resblocks.49.attn.rope.freqs from checkpoint\n",
      "MetaCLIP_NAVIT dropping attn_pool.probe from checkpoint\n",
      "MetaCLIP_NAVIT dropping attn_pool.attn.in_proj_weight from checkpoint\n",
      "MetaCLIP_NAVIT dropping attn_pool.attn.in_proj_bias from checkpoint\n",
      "MetaCLIP_NAVIT dropping attn_pool.attn.out_proj.weight from checkpoint\n",
      "MetaCLIP_NAVIT dropping attn_pool.attn.out_proj.bias from checkpoint\n",
      "MetaCLIP_NAVIT dropping attn_pool.layernorm.weight from checkpoint\n",
      "MetaCLIP_NAVIT dropping attn_pool.layernorm.bias from checkpoint\n",
      "MetaCLIP_NAVIT dropping attn_pool.mlp.c_fc.weight from checkpoint\n",
      "MetaCLIP_NAVIT dropping attn_pool.mlp.c_fc.bias from checkpoint\n",
      "MetaCLIP_NAVIT dropping attn_pool.mlp.c_proj.weight from checkpoint\n",
      "MetaCLIP_NAVIT dropping attn_pool.mlp.c_proj.bias from checkpoint\n"
     ]
    }
   ],
   "source": [
    "\n",
    "_sd = sd_g\n",
    "positional_embedding = None \n",
    "\n",
    "# if the checkpoint contains both visual and text modules, we only take the visual module\n",
    "if 'state_dict' in _sd:\n",
    "    print(\"yes\")\n",
    "    visual_module_prefix = \"module.visual.\"\n",
    "    visual_sd = {}\n",
    "    for k, v in _sd[\"state_dict\"].items():\n",
    "        if k.startswith(visual_module_prefix):\n",
    "            visual_sd[k.replace(visual_module_prefix, \"\")] = v\n",
    "            \n",
    "    if visual_sd:\n",
    "        _sd = visual_sd\n",
    "    else:\n",
    "        _sd = _sd['state_dict']\n",
    "\n",
    "# dropping positional_embedding and other unwanted layers\n",
    "if (\"positional_embedding\" in _sd) and (positional_embedding is None):\n",
    "    # Special case for VEv0.1 and VEv0.2 ckpt. The ckpt has positional embedding, but the model does not.\n",
    "    _sd.pop(\"positional_embedding\")\n",
    "    print(\n",
    "        \"MetaCLIP_NAVIT dropping positional_embedding from checkpoint\"\n",
    "    )\n",
    "\n",
    "drop_layers = [\n",
    "    \"mim_token\",\n",
    "    \"proj\",\n",
    "    \"attn_pool.probe\",\n",
    "    \"attn_pool.attn.in_proj_weight\",\n",
    "    \"attn_pool.attn.in_proj_bias\",\n",
    "    \"attn_pool.attn.out_proj.weight\",\n",
    "    \"attn_pool.attn.out_proj.bias\",\n",
    "    \"attn_pool.layernorm.weight\",\n",
    "    \"attn_pool.layernorm.bias\",\n",
    "    \"attn_pool.mlp.c_fc.weight\",\n",
    "    \"attn_pool.mlp.c_fc.bias\",\n",
    "    \"attn_pool.mlp.c_proj.weight\",\n",
    "    \"attn_pool.mlp.c_proj.bias\",\n",
    "]\n",
    "\n",
    "loaded_layers = list(_sd.keys())\n",
    "for k in loaded_layers:\n",
    "    if k in drop_layers or k.endswith(\"attn.rope.freqs\"):\n",
    "        print(f\"MetaCLIP_NAVIT dropping {k} from checkpoint\")\n",
    "        _sd.pop(k)"
   ]
  },
  {
   "cell_type": "markdown",
   "metadata": {},
   "source": [
    "# Init model"
   ]
  },
  {
   "cell_type": "code",
   "execution_count": 17,
   "metadata": {},
   "outputs": [],
   "source": [
    "MODEL_CHECKPOINT = \"/fsx_0/checkpoints/clip/vev0/vit_h14_336_fair_vev0/fair_vev01.pt\"\n",
    "# MODEL_CHECKPOINT = \"/fsx_0/user/marcomonteiro/experiments/G/VEv0p2_G14_aws_final_256x8x98_next/checkpoints/epoch_450.pt\"\n",
    "TEST_IMAGE = \"/fsx_0/dataset01/coco/val2014/COCO_val2014_000000485307.jpg\"\n",
    "\n",
    "# ViT-H\n",
    "metaclip_config = {\n",
    "    \"ckpt_path\": MODEL_CHECKPOINT,\n",
    "    \"image_size\": 336,  # image_size can also be 448, since the position embedding is rope_2d\n",
    "    \"patch_size\": 14,\n",
    "    \"width\": 1408,\n",
    "    \"mlp_ratio\": 4.0,\n",
    "    \"layers\": 34,\n",
    "    \"heads\": 16,\n",
    "    \"load_ckpt\": True,\n",
    "    \"relative_pos_embed_type\": \"rope_2d\",\n",
    "}\n",
    "\n",
    "# ViT_G\n",
    "# metaclip_config = {\n",
    "#     \"ckpt_path\": MODEL_CHECKPOINT,\n",
    "#     \"image_size\": 392,  # image_size can also be 448, since the position embedding is rope_2d\n",
    "#     \"patch_size\": 14,\n",
    "#     \"width\": 1536,\n",
    "#     \"mlp_ratio\": 5.833333334,\n",
    "#     \"layers\": 50,\n",
    "#     \"heads\": 16,\n",
    "#     \"load_ckpt\": True,\n",
    "#     \"relative_pos_embed_type\": \"rope_2d\",\n",
    "#     \"embed_cls_token\": False\n",
    "# }\n",
    "\n",
    "CLIP_MEAN = (0.4814546, 0.4578275, 0.40821073)\n",
    "CLIP_STD = (0.2686295, 0.2613025, 0.2757711)\n",
    "\n",
    "preprocess = transforms.Compose(\n",
    "    [\n",
    "        transforms.Resize(metaclip_config[\"image_size\"]),\n",
    "        transforms.CenterCrop(metaclip_config[\"image_size\"]),\n",
    "        transforms.ToTensor(),\n",
    "        transforms.Normalize(\n",
    "            mean=(0.4814546, 0.4578275, 0.40821073),\n",
    "            std=(0.2686295, 0.2613025, 0.2757711),\n",
    "        ),\n",
    "    ]\n",
    ")"
   ]
  },
  {
   "cell_type": "code",
   "execution_count": 14,
   "metadata": {},
   "outputs": [],
   "source": [
    "image = Image.open(TEST_IMAGE).convert(\"RGB\")\n",
    "preprocessed_image = preprocess(image).unsqueeze(0).to(device)"
   ]
  },
  {
   "cell_type": "code",
   "execution_count": 18,
   "metadata": {},
   "outputs": [
    {
     "name": "stderr",
     "output_type": "stream",
     "text": [
      "MetaCLIP_NAVIT dropping positional_embedding from checkpoint\n",
      "MetaCLIP_NAVIT Visual Pretrained Model Missing keys: []\n",
      "MetaCLIP_NAVIT Visual Pretrained Model Unexpected keys: []\n"
     ]
    },
    {
     "data": {
      "text/plain": [
       "MetaCLIP_NAVIT(\n",
       "  (conv1): Conv2d(3, 1408, kernel_size=(14, 14), stride=(14, 14), bias=False)\n",
       "  (patch_dropout): Identity()\n",
       "  (ln_pre): LayerNorm((1408,), eps=1e-05, elementwise_affine=True)\n",
       "  (transformer): Transformer(\n",
       "    (resblocks): ModuleList(\n",
       "      (0-33): 34 x ResidualAttentionBlock(\n",
       "        (ln_1): LayerNorm((1408,), eps=1e-05, elementwise_affine=True)\n",
       "        (attn): AttentionXformer4x(\n",
       "          (out_proj): Linear(in_features=1408, out_features=1408, bias=True)\n",
       "        )\n",
       "        (ls_1): Identity()\n",
       "        (ln_2): LayerNorm((1408,), eps=1e-05, elementwise_affine=True)\n",
       "        (mlp): Sequential(\n",
       "          (c_fc): Linear(in_features=1408, out_features=5632, bias=True)\n",
       "          (gelu): QuickGELU()\n",
       "          (c_proj): Linear(in_features=5632, out_features=1408, bias=True)\n",
       "        )\n",
       "        (ls_2): Identity()\n",
       "      )\n",
       "    )\n",
       "  )\n",
       "  (ln_post): LayerNorm((1408,), eps=1e-05, elementwise_affine=True)\n",
       ")"
      ]
     },
     "execution_count": 18,
     "metadata": {},
     "output_type": "execute_result"
    }
   ],
   "source": [
    "model = MetaCLIP_NAVIT(**metaclip_config).to(device)\n",
    "model.eval()"
   ]
  },
  {
   "cell_type": "code",
   "execution_count": null,
   "metadata": {},
   "outputs": [],
   "source": [
    "model2 = MetaCLIP_NAVIT_INF(**metaclip_config).to(device)\n",
    "model2.eval()"
   ]
  },
  {
   "cell_type": "code",
   "execution_count": 22,
   "metadata": {},
   "outputs": [
    {
     "name": "stderr",
     "output_type": "stream",
     "text": [
      "/fsx_0/user/tranx/rsync/llm_mm_aligner/lib/encoders/metaclip_navit.py:337: UserWarning: To copy construct from a tensor, it is recommended to use sourceTensor.clone().detach() or sourceTensor.clone().detach().requires_grad_(True), rather than torch.tensor(sourceTensor).\n",
      "  condition = torch.tensor(\n"
     ]
    },
    {
     "data": {
      "text/plain": [
       "torch.Size([1, 576, 1408])"
      ]
     },
     "execution_count": 22,
     "metadata": {},
     "output_type": "execute_result"
    }
   ],
   "source": [
    "with torch.no_grad():\n",
    "    output = model(preprocessed_image)\n",
    "output.shape"
   ]
  },
  {
   "cell_type": "code",
   "execution_count": null,
   "metadata": {},
   "outputs": [
    {
     "name": "stderr",
     "output_type": "stream",
     "text": [
      "/fsx_0/user/tranx/rsync/llm_mm_aligner/lib/encoders/metaclip_native_resolution_inference.py:899: UserWarning: To copy construct from a tensor, it is recommended to use sourceTensor.clone().detach() or sourceTensor.clone().detach().requires_grad_(True), rather than torch.tensor(sourceTensor).\n",
      "  condition = torch.tensor(\n"
     ]
    },
    {
     "data": {
      "text/plain": [
       "torch.Size([1, 576, 1408])"
      ]
     },
     "execution_count": 21,
     "metadata": {},
     "output_type": "execute_result"
    }
   ],
   "source": [
    "with torch.cuda.amp.autocast(dtype=torch.bfloat16):\n",
    "    output2 = model2(preprocessed_image)\n",
    "output2.shape"
   ]
  },
  {
   "cell_type": "code",
   "execution_count": 26,
   "metadata": {},
   "outputs": [
    {
     "data": {
      "text/plain": [
       "tensor([[[ 2.4852e+00,  8.1081e-01,  6.0595e-01,  ..., -1.9258e+00,\n",
       "          -1.2234e-01,  4.2518e+00],\n",
       "         [ 3.5210e-01,  3.2244e+00, -6.3592e+00,  ..., -3.6949e-01,\n",
       "          -1.1734e+00,  3.9925e+00],\n",
       "         [ 2.7544e+00,  7.4645e-01, -4.8141e+00,  ..., -1.6364e+00,\n",
       "          -5.5741e+00,  6.2823e-03],\n",
       "         ...,\n",
       "         [-1.8769e+00,  2.5796e+00,  2.5895e+00,  ...,  5.2259e+00,\n",
       "          -6.4294e-01,  4.7235e+00],\n",
       "         [ 7.9809e-01,  1.3053e+00, -1.4412e+00,  ..., -1.3024e+00,\n",
       "          -6.2229e+00, -9.8805e-01],\n",
       "         [-2.4709e+00, -3.5142e-01,  5.6059e-02,  ..., -3.4691e+00,\n",
       "          -3.0556e+00,  3.3854e+00]]], device='cuda:0')"
      ]
     },
     "execution_count": 26,
     "metadata": {},
     "output_type": "execute_result"
    }
   ],
   "source": [
    "output"
   ]
  },
  {
   "cell_type": "code",
   "execution_count": 27,
   "metadata": {},
   "outputs": [
    {
     "data": {
      "text/plain": [
       "tensor([[[ 1.1328e+00, -5.7031e-01,  3.9844e-01,  ..., -1.2500e+00,\n",
       "          -3.9062e-03,  4.9375e+00],\n",
       "         [ 3.7109e-01,  3.8594e+00, -6.5312e+00,  ..., -3.2031e-01,\n",
       "          -1.1250e+00,  3.8438e+00],\n",
       "         [ 2.7188e+00,  9.1797e-01, -4.6562e+00,  ..., -1.7344e+00,\n",
       "          -5.4062e+00,  9.3750e-02],\n",
       "         ...,\n",
       "         [-1.0938e+00,  2.2188e+00,  1.5312e+00,  ...,  1.2344e+00,\n",
       "           1.4844e-01,  4.0000e+00],\n",
       "         [-2.1875e+00,  1.4844e+00,  1.8594e+00,  ...,  2.0781e+00,\n",
       "          -1.0781e+00,  3.0625e+00],\n",
       "         [ 1.2344e+00,  3.1406e+00,  4.5312e-01,  ..., -1.3281e+00,\n",
       "          -4.6875e+00,  1.5312e+00]]], device='cuda:0', dtype=torch.bfloat16,\n",
       "       grad_fn=<ViewBackward0>)"
      ]
     },
     "execution_count": 27,
     "metadata": {},
     "output_type": "execute_result"
    }
   ],
   "source": [
    "output2"
   ]
  },
  {
   "cell_type": "code",
   "execution_count": 24,
   "metadata": {},
   "outputs": [
    {
     "data": {
      "text/plain": [
       "tensor(1024.1246, device='cuda:0', grad_fn=<LinalgVectorNormBackward0>)"
      ]
     },
     "execution_count": 24,
     "metadata": {},
     "output_type": "execute_result"
    }
   ],
   "source": [
    "difference = output2 - output\n",
    "\n",
    "\n",
    "# Calculate the norm of the difference\n",
    "norm = torch.norm(difference)\n",
    "norm"
   ]
  },
  {
   "cell_type": "code",
   "execution_count": 35,
   "metadata": {},
   "outputs": [
    {
     "name": "stderr",
     "output_type": "stream",
     "text": [
      "/fsx_0/user/tranx/rsync/llm_mm_aligner/lib/encoders/metaclip_navit.py:337: UserWarning: To copy construct from a tensor, it is recommended to use sourceTensor.clone().detach() or sourceTensor.clone().detach().requires_grad_(True), rather than torch.tensor(sourceTensor).\n",
      "  condition = torch.tensor(\n"
     ]
    }
   ],
   "source": [
    "with torch.cuda.amp.autocast(dtype=torch.bfloat16):\n",
    "    output1 = model(preprocessed_image)"
   ]
  },
  {
   "cell_type": "code",
   "execution_count": 37,
   "metadata": {},
   "outputs": [
    {
     "name": "stdout",
     "output_type": "stream",
     "text": [
      "diff 2: tensor(0., device='cuda:0', dtype=torch.bfloat16,\n",
      "       grad_fn=<LinalgVectorNormBackward0>)\n",
      "diff 3: tensor(1024.1246, device='cuda:0', grad_fn=<LinalgVectorNormBackward0>)\n"
     ]
    }
   ],
   "source": [
    "print(\"diff 2:\", torch.norm(output2 - output1))\n",
    "print(\"diff 3:\", torch.norm(output3 - output1))"
   ]
  },
  {
   "cell_type": "code",
   "execution_count": 32,
   "metadata": {},
   "outputs": [
    {
     "name": "stdout",
     "output_type": "stream",
     "text": [
      "diff 2: tensor(1024.1246, device='cuda:0', grad_fn=<LinalgVectorNormBackward0>)\n",
      "diff 3: tensor(0., device='cuda:0')\n"
     ]
    },
    {
     "name": "stderr",
     "output_type": "stream",
     "text": [
      "/fsx_0/user/tranx/rsync/llm_mm_aligner/lib/encoders/metaclip_native_resolution_inference.py:899: UserWarning: To copy construct from a tensor, it is recommended to use sourceTensor.clone().detach() or sourceTensor.clone().detach().requires_grad_(True), rather than torch.tensor(sourceTensor).\n",
      "  condition = torch.tensor(\n"
     ]
    }
   ],
   "source": [
    "with torch.cuda.amp.autocast(dtype=torch.bfloat16):\n",
    "    output2 = model2(preprocessed_image)\n",
    "print(\"diff 2:\", torch.norm(output2 - output))\n",
    " \n",
    "with torch.no_grad():\n",
    "    output3 = model2(preprocessed_image)\n",
    "print(\"diff 3:\", torch.norm(output3 - output))"
   ]
  },
  {
   "cell_type": "code",
   "execution_count": 30,
   "metadata": {},
   "outputs": [
    {
     "data": {
      "text/plain": [
       "(tensor(0., device='cuda:0'),\n",
       " tensor(1024.1246, device='cuda:0', grad_fn=<LinalgVectorNormBackward0>))"
      ]
     },
     "execution_count": 30,
     "metadata": {},
     "output_type": "execute_result"
    }
   ],
   "source": [
    "torch.norm(output3 - output), torch.norm(output2 - output)"
   ]
  }
 ],
 "metadata": {
  "kernelspec": {
   "display_name": "aligner_v7",
   "language": "python",
   "name": "python3"
  },
  "language_info": {
   "codemirror_mode": {
    "name": "ipython",
    "version": 3
   },
   "file_extension": ".py",
   "mimetype": "text/x-python",
   "name": "python",
   "nbconvert_exporter": "python",
   "pygments_lexer": "ipython3",
   "version": "3.10.14"
  }
 },
 "nbformat": 4,
 "nbformat_minor": 2
}
